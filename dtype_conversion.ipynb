{
 "cells": [
  {
   "cell_type": "markdown",
   "metadata": {},
   "source": [
    "Như đã giới thiệu trong bài học, ngoài việc có thể thay đổi label của một `Series`. Bạn hoàn toàn có thể thay đổi kiểu dữ liệu của một `Series` để phục vụ cho mục đích của mình.<br>\n",
    "Trong bài thực hành này, bạn sẽ học được cách thực hiện 2 việc chuyển đổi thường gặp nhất, đó là :\n",
    "1. Chuỗi số thành số\n",
    "2. Chuỗi ngày tháng thành kiểu dữ liệu thời gian."
   ]
  },
  {
   "cell_type": "markdown",
   "metadata": {},
   "source": [
    "Trước khi bắt đầu, hãy import những thư viện cần thiết nhé!"
   ]
  },
  {
   "cell_type": "code",
   "execution_count": 1,
   "metadata": {},
   "outputs": [],
   "source": [
    "# Đây là ô để import những thư viện cho bài tập\n",
    "\n",
    "\n"
   ]
  },
  {
   "cell_type": "markdown",
   "metadata": {},
   "source": [
    "## Ôn tập"
   ]
  },
  {
   "cell_type": "markdown",
   "metadata": {},
   "source": [
    "`pandas.Series` có hỗ trợ những `dtype` sau :\n",
    "1. Kiểu số : `int`, `float`\n",
    "2. Kiểu thời gian : `datetime64`, `timedelta64`\n",
    "3. Kiểu boolean : `bool`\n",
    "\n",
    "Tuy nhiên, `Series` không dùng kiểu `str` cho chuỗi ký tự mà dùng kiểu `object`."
   ]
  },
  {
   "cell_type": "markdown",
   "metadata": {},
   "source": [
    "## Chuyển đổi từ chuỗi số thành kiểu số"
   ]
  },
  {
   "cell_type": "markdown",
   "metadata": {},
   "source": [
    "**Câu 1** : Tạo một `Series`, đặt tên là `s1` với dữ liệu được lấy từ file `data_1.txt` trong thư mục `Data`, không cần chỉ ra `label`"
   ]
  },
  {
   "cell_type": "code",
   "execution_count": null,
   "metadata": {},
   "outputs": [],
   "source": [
    "# Viết code ở đây : \n",
    "\n",
    "\n"
   ]
  },
  {
   "cell_type": "markdown",
   "metadata": {},
   "source": [
    "**Câu 2** : In ra `dtype` của `s1`"
   ]
  },
  {
   "cell_type": "code",
   "execution_count": null,
   "metadata": {},
   "outputs": [],
   "source": [
    "# Viết code ở đây :\n",
    "\n",
    "\n"
   ]
  },
  {
   "cell_type": "markdown",
   "metadata": {},
   "source": [
    "**Lưu ý**\n",
    "\n",
    "Nếu bạn in ra được `dtype('O')` thì có thể bỏ qua phần này.\n",
    "\n",
    "Nếu không, xin vui lòng chạy câu lệnh sau :\n",
    "```\n",
    "s1[s1.size] = '100'\n",
    "```"
   ]
  },
  {
   "cell_type": "code",
   "execution_count": null,
   "metadata": {},
   "outputs": [],
   "source": [
    "# Ô này dành cho Lưu ý\n"
   ]
  },
  {
   "cell_type": "markdown",
   "metadata": {},
   "source": [
    "Lúc này, `s1` có kiểu dữ liệu là `object`. Tuy nhiên, với kiểu dữ liệu này, bạn không thể dùng được các phương thức thống kê như `.min()`, `.max()`, `.mean()`, ...\n",
    "\n",
    "Vì vậy chúng ta cần phải chuyển đổi kiểu dữ liệu về dạng số và chúng ta có thể thực hiện bằng cách gọi hàm `pandas.to_numeric()`. \n",
    "\n",
    "Cú pháp hàm như sau :\n",
    "```\n",
    "pandas.to_numeric(<args>, errors = 'raise')\n",
    "```\n",
    "Trong đó :\n",
    "- `<arg>` là Series cần chuyển đổi\n",
    "- errors là cách mà `pandas.to_numeric()` hành xử khi gặp giá trị không thể chuyển đổi được. Bao gồm 3 giá trị sau : \n",
    "    * `'raise'` : báo lỗi, đây là giá trị mặc định\n",
    "    * `'coerse'` : giá trị không chuyển đổi được sẽ thành `NaN`\n",
    "    * `'ignore'` : giá trị không chuyển đổi được sẽ giữ nguyên"
   ]
  },
  {
   "cell_type": "markdown",
   "metadata": {},
   "source": [
    "**Câu 3**: Hãy chuyển đổi kiểu dữ liệu của `s1` về kiểu số."
   ]
  },
  {
   "cell_type": "code",
   "execution_count": 2,
   "metadata": {},
   "outputs": [],
   "source": [
    "# Viết code chuyển đổi ở đây :\n",
    "\n",
    "\n"
   ]
  },
  {
   "cell_type": "code",
   "execution_count": 3,
   "metadata": {},
   "outputs": [],
   "source": [
    "# Kiểm tra lại việc chuyển đổi bằng cách in lại kiểu dữ liệu của s1\n",
    "\n",
    "\n"
   ]
  },
  {
   "cell_type": "markdown",
   "metadata": {},
   "source": [
    "## Chuyển đổi từ chuỗi ngày tháng thành kiểu thời gian"
   ]
  },
  {
   "cell_type": "markdown",
   "metadata": {},
   "source": [
    "Tương tự cho việc chuyển đổi thành kiểu số, chuyển đổi thành kiểu thời gian có thể thực hiện thông qua hàm `pandas.to_datetime()` với cú pháp \n",
    "```\n",
    "pandas.to_numeric(<args>, errors = 'raise', format = None)\n",
    "```\n",
    "Trong đó :\n",
    "- `<arg>` là Series cần chuyển đổi\n",
    "- errors là cách mà `pandas.to_datetime()` hành xử khi gặp giá trị không thể chuyển đổi được. Bao gồm 3 giá trị sau :\n",
    "    - `'raise'` : báo lỗi, đây là giá trị mặc định\n",
    "    - `'coerse'` : giá trị không chuyển đổi được sẽ thành `NaT` (Not a Time)\n",
    "    - `'ignore'` : giá trị không chuyển đổi được sẽ giữ nguyên\n",
    "- format là định dạng của chuỗi ngày tháng truyền vào, theo chuẩn <a href = \"http://strftime.org/\">sau</a>. (mặc định None, tức là python sẽ tự xác định định dạng)\n",
    "\n",
    "Ví dụ, định dạng của `2019-05-20` là `%Y-%m-%d`, định dạng của `23:30:15 13/11/2019` là `%H:%M:%S %d/%m/%Y`"
   ]
  },
  {
   "cell_type": "markdown",
   "metadata": {},
   "source": [
    "**Câu 4** : Tạo `Series`, đặt tên là `s2` với dữ liệu từ file `data_2.txt` trong thư mục `Data` và thực hiện việc chuyển đổi"
   ]
  },
  {
   "cell_type": "code",
   "execution_count": null,
   "metadata": {},
   "outputs": [],
   "source": [
    "# Tạo Series ở đây\n",
    "\n",
    "\n"
   ]
  },
  {
   "cell_type": "code",
   "execution_count": null,
   "metadata": {},
   "outputs": [],
   "source": [
    "# In kiểu dữ liệu trước khi chuyển đổi\n"
   ]
  },
  {
   "cell_type": "code",
   "execution_count": 5,
   "metadata": {},
   "outputs": [],
   "source": [
    "# Chuyển đổi tại đây\n",
    "\n"
   ]
  },
  {
   "cell_type": "code",
   "execution_count": null,
   "metadata": {},
   "outputs": [],
   "source": [
    "# In kiểu dữ liệu sau khi chuyển đổi\n"
   ]
  }
 ],
 "metadata": {
  "kernelspec": {
   "display_name": "Python 3",
   "language": "python",
   "name": "python3"
  },
  "language_info": {
   "codemirror_mode": {
    "name": "ipython",
    "version": 3
   },
   "file_extension": ".py",
   "mimetype": "text/x-python",
   "name": "python",
   "nbconvert_exporter": "python",
   "pygments_lexer": "ipython3",
   "version": "3.7.1"
  }
 },
 "nbformat": 4,
 "nbformat_minor": 2
}
