{
  "nbformat": 4,
  "nbformat_minor": 0,
  "metadata": {
    "colab": {
      "name": "IMDB",
      "provenance": [],
      "collapsed_sections": []
    },
    "kernelspec": {
      "name": "python3",
      "display_name": "Python 3"
    }
  },
  "cells": [
    {
      "cell_type": "markdown",
      "metadata": {
        "id": "kNlWJUt_qpkk"
      },
      "source": [
        "# Giới thiệu\r\n",
        "Dữ liệu cho phần thực hành này là bình chọn của người dùng đối với các bộ phim được tổng hợp từ IMDB và được lưu trong file [`imdb.csv`](https://raw.githubusercontent.com/Levytan/MIS.2019/master/Data/imdb.csv). Dữ liệu bao gồm các cột:\r\n",
        "* `tconst`: id của phim.\r\n",
        "* `title_type`: phân loại phim.\r\n",
        "* `title`: tựa phim.\r\n",
        "* `start`: năm bắt đầu phát sóng.\r\n",
        "* `genres`: thể loại phim.\r\n",
        "* `rating`: điểm bình chọn trung bình của người dùng IMDB.\r\n",
        "* `num_votes`: số lượng bình chọn."
      ]
    },
    {
      "cell_type": "code",
      "metadata": {
        "id": "WQr6bD-mqm_q"
      },
      "source": [
        ""
      ],
      "execution_count": null,
      "outputs": []
    },
    {
      "cell_type": "markdown",
      "metadata": {
        "id": "cOuK98GWsEBB"
      },
      "source": [
        "**Câu 1**: Đọc dữ liệu từ vào DataFrame."
      ]
    },
    {
      "cell_type": "code",
      "metadata": {
        "id": "6DRKiYLgsDu_"
      },
      "source": [
        ""
      ],
      "execution_count": null,
      "outputs": []
    },
    {
      "cell_type": "markdown",
      "metadata": {
        "id": "H8QggxYKsoyB"
      },
      "source": [
        "**Câu 2**: Có bao nhiêu bộ phim trong dữ liệu trên."
      ]
    },
    {
      "cell_type": "code",
      "metadata": {
        "id": "YQd5W-Rist6V"
      },
      "source": [
        ""
      ],
      "execution_count": null,
      "outputs": []
    },
    {
      "cell_type": "markdown",
      "metadata": {
        "id": "zaZ1Q2crsual"
      },
      "source": [
        "**Câu 3**: Có bao nhiêu phân loại phim, in các phân loại đó."
      ]
    },
    {
      "cell_type": "code",
      "metadata": {
        "id": "MVphbssEs0V2"
      },
      "source": [
        ""
      ],
      "execution_count": null,
      "outputs": []
    },
    {
      "cell_type": "markdown",
      "metadata": {
        "id": "PI7_etcis1qF"
      },
      "source": [
        "**Câu 4**: Tính điểm trung bình theo phân loại phim."
      ]
    },
    {
      "cell_type": "code",
      "metadata": {
        "id": "9D7fh_fis6li"
      },
      "source": [
        ""
      ],
      "execution_count": null,
      "outputs": []
    },
    {
      "cell_type": "markdown",
      "metadata": {
        "id": "o6-DOWO1s7TG"
      },
      "source": [
        "**Câu 5**: Vẽ boxplot cho điểm bình chọn theo từng phân loại phim."
      ]
    },
    {
      "cell_type": "code",
      "metadata": {
        "id": "SKf9fuk3ukDy"
      },
      "source": [
        ""
      ],
      "execution_count": null,
      "outputs": []
    },
    {
      "cell_type": "markdown",
      "metadata": {
        "id": "79l2cJ38ukwJ"
      },
      "source": [
        "**Câu 6**: Tính hệ số tương quan giữa `rating` và `num_votes`."
      ]
    },
    {
      "cell_type": "code",
      "metadata": {
        "id": "5alkQdTHuvxG"
      },
      "source": [
        ""
      ],
      "execution_count": null,
      "outputs": []
    },
    {
      "cell_type": "markdown",
      "metadata": {
        "id": "wn0ST-hUuwdl"
      },
      "source": [
        "**Câu 7**: Dùng `.explode()` để tách `genres` thành từng dòng riêng biệt."
      ]
    },
    {
      "cell_type": "code",
      "metadata": {
        "id": "qzPTmhKvu69m"
      },
      "source": [
        ""
      ],
      "execution_count": null,
      "outputs": []
    },
    {
      "cell_type": "markdown",
      "metadata": {
        "id": "DIz40Lbgu7mR"
      },
      "source": [
        "**Câu 8**: Có bao nhiêu thể loại phim."
      ]
    },
    {
      "cell_type": "code",
      "metadata": {
        "id": "wuqJR11BvXDy"
      },
      "source": [
        ""
      ],
      "execution_count": null,
      "outputs": []
    },
    {
      "cell_type": "markdown",
      "metadata": {
        "id": "Wru_37dwvXiq"
      },
      "source": [
        "**Câu 9**: Thể loại nào có điểm trung bình cao nhất?"
      ]
    },
    {
      "cell_type": "code",
      "metadata": {
        "id": "P0w8aksbvhB9"
      },
      "source": [
        ""
      ],
      "execution_count": null,
      "outputs": []
    },
    {
      "cell_type": "markdown",
      "metadata": {
        "id": "-lkacBvNvhcY"
      },
      "source": [
        "**Câu 10**: Tính hệ số tương quan giữa điểm trung bình của từng thể loại và số lượng bình chọn trung bình của thể loại tương ứng."
      ]
    },
    {
      "cell_type": "code",
      "metadata": {
        "id": "QKewBUuTwH1o"
      },
      "source": [
        ""
      ],
      "execution_count": null,
      "outputs": []
    }
  ]
}