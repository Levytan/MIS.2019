{
  "nbformat": 4,
  "nbformat_minor": 0,
  "metadata": {
    "colab": {
      "name": "COVID19",
      "provenance": [],
      "collapsed_sections": []
    },
    "kernelspec": {
      "name": "python3",
      "display_name": "Python 3"
    }
  },
  "cells": [
    {
      "cell_type": "markdown",
      "metadata": {
        "id": "9EfFqo2WV0Sb"
      },
      "source": [
        "# Giới thiệu\r\n",
        "Trong bài thực hành này, chúng ta sẽ làm việc với dữ liệu về COVID19.\r\n",
        "Dữ liệu được lưu tại file [`covid_19_data.csv`](https://raw.githubusercontent.com/Levytan/MIS.2019/master/Data/covid_19_data.csv), bao gồm các cột:\r\n",
        "* observation_date: ngày ghi nhận, định dạng yyyy-mm-dd.\r\n",
        "* state: tỉnh, thành phố.\r\n",
        "* country: quốc gia.\r\n",
        "* confirmed: tổng số người được xác định dương tính.\r\n",
        "* deaths: tổng số người tử vong.\r\n",
        "* recovered: số người bình phục."
      ]
    },
    {
      "cell_type": "markdown",
      "metadata": {
        "id": "LRWtGE1VXxnE"
      },
      "source": [
        "# Câu hỏi"
      ]
    },
    {
      "cell_type": "markdown",
      "metadata": {
        "id": "TPorTA-uYYgo"
      },
      "source": [
        "**Câu 1**: Đọc dữ liệu vào DataFrame."
      ]
    },
    {
      "cell_type": "code",
      "metadata": {
        "id": "eOSYmlVVXw3r"
      },
      "source": [
        ""
      ],
      "execution_count": null,
      "outputs": []
    },
    {
      "cell_type": "markdown",
      "metadata": {
        "id": "mE8A96GhaCs_"
      },
      "source": [
        "**Câu 2**: Có bao nhiêu quốc gia có ghi nhận người dương tính?"
      ]
    },
    {
      "cell_type": "code",
      "metadata": {
        "id": "y05mzsDkaME4"
      },
      "source": [
        ""
      ],
      "execution_count": null,
      "outputs": []
    },
    {
      "cell_type": "markdown",
      "metadata": {
        "id": "7iPrnEBOaNOB"
      },
      "source": [
        "**Câu 3**: Quốc gia nào ghi nhận người dương tính muộn nhất?"
      ]
    },
    {
      "cell_type": "code",
      "metadata": {
        "id": "rN3xNkIaaaYR"
      },
      "source": [
        ""
      ],
      "execution_count": null,
      "outputs": []
    },
    {
      "cell_type": "markdown",
      "metadata": {
        "id": "ArDPIavbb5l1"
      },
      "source": [
        "**Câu 4**: Tạo DataFrame `rate` với 3 cột:\r\n",
        "* `date`: ngày ghi nhận.\r\n",
        "* `recovered_rate`: tỷ lệ hồi phục tương ứng với `date`.\r\n",
        "* `death_rate`: tỷ lệ tử vong tương ứng với `date`."
      ]
    },
    {
      "cell_type": "code",
      "metadata": {
        "id": "BT6EO5QUcvVv"
      },
      "source": [
        ""
      ],
      "execution_count": null,
      "outputs": []
    },
    {
      "cell_type": "markdown",
      "metadata": {
        "id": "sioAWynqcwFD"
      },
      "source": [
        "**Câu 5**: Vẽ linechart từ dữ liệu của `rate`."
      ]
    },
    {
      "cell_type": "code",
      "metadata": {
        "id": "bHxmf8Ofc7Hk"
      },
      "source": [
        ""
      ],
      "execution_count": null,
      "outputs": []
    },
    {
      "cell_type": "markdown",
      "metadata": {
        "id": "EV8FFwDLey90"
      },
      "source": [
        "**Câu 6**: Lấy ra dữ liệu có `country` là `'US'`."
      ]
    },
    {
      "cell_type": "code",
      "metadata": {
        "id": "Bml6Dg7efT8w"
      },
      "source": [
        ""
      ],
      "execution_count": null,
      "outputs": []
    },
    {
      "cell_type": "markdown",
      "metadata": {
        "id": "VBjnmqc1fs1f"
      },
      "source": [
        "**Câu 7**: Tạo DataFrame mới từ dữ liệu của câu 6, với 3 cột:\r\n",
        "* `date`: ngày ghi nhận.\r\n",
        "* `new_case`: số ca dương tính mới ghi nhận tương ứng với `date`.\r\n",
        "* `new_deaths`: số ca tử vong mới ghi nhận tương ứng với `date`.\r\n",
        "\r\n",
        "*Gợi ý*: dùng phương thức `.diff()`."
      ]
    },
    {
      "cell_type": "code",
      "metadata": {
        "id": "PnvAy54ShiGb"
      },
      "source": [
        ""
      ],
      "execution_count": null,
      "outputs": []
    },
    {
      "cell_type": "markdown",
      "metadata": {
        "id": "5QKTbdw9hi7p"
      },
      "source": [
        "**Câu 8**: Từ dữ liệu của câu 7, thêm hai cột mới:\r\n",
        "* `new_cases_ma7`: trung bình động (moving average) 7 ngày của số ca ghi nhận dương tính mới.\r\n",
        "* `new_deaths_ma7`: trung bình động (moving average) 7 ngày của số ca ghi nhận tử vong mới.\r\n",
        "\r\n",
        "*Gợi ý*: dùng `.rolling()`."
      ]
    },
    {
      "cell_type": "code",
      "metadata": {
        "id": "bQcF5KgkiLlr"
      },
      "source": [
        ""
      ],
      "execution_count": null,
      "outputs": []
    },
    {
      "cell_type": "markdown",
      "metadata": {
        "id": "3qoZljYpihUa"
      },
      "source": [
        "**Câu 9**: Tính hệ số tương quan giữa `new_cases` và `new_deaths`."
      ]
    },
    {
      "cell_type": "code",
      "metadata": {
        "id": "_23nixVbiter"
      },
      "source": [
        ""
      ],
      "execution_count": null,
      "outputs": []
    },
    {
      "cell_type": "markdown",
      "metadata": {
        "id": "ou7KkEI3izhw"
      },
      "source": [
        "**Câu 10**: Vẽ barplot cho `new_cases` và lineplot cho `new_cases_ma7` trên cùng 1 biểu đồ. Tương tự cho `new_deaths` và `new_deaths_ma7`."
      ]
    },
    {
      "cell_type": "code",
      "metadata": {
        "id": "IR5lGDb6jIG4"
      },
      "source": [
        ""
      ],
      "execution_count": null,
      "outputs": []
    }
  ]
}