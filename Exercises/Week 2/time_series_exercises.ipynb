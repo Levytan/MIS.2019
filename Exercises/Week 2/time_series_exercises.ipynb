{
  "nbformat": 4,
  "nbformat_minor": 0,
  "metadata": {
    "colab": {
      "name": "time_series_exercises",
      "provenance": []
    },
    "kernelspec": {
      "name": "python3",
      "display_name": "Python 3"
    }
  },
  "cells": [
    {
      "cell_type": "code",
      "metadata": {
        "id": "IRxtSDjtNtDB",
        "colab_type": "code",
        "colab": {}
      },
      "source": [
        "# import tại đây\n",
        "\n",
        "# đây là thư viện để vẽ chart\n",
        "import matplotlib.pyplot as plt\n",
        "%matplotlib notebook"
      ],
      "execution_count": 0,
      "outputs": []
    },
    {
      "cell_type": "markdown",
      "metadata": {
        "id": "PmqFq9biKG85",
        "colab_type": "text"
      },
      "source": [
        "**Câu 1** : Tạo một `Time Series`, đặt tên là `vnm` với các yêu cầu sau :\n",
        "- `DatetimeIndex` là các ngày làm việc (tức là chỉ tính các ngày trong tuần) bắt đầu từ 2018-10-01 và kết thúc tại 2018-12-28.\n",
        "- Dữ liệu được lấy từ file `vnm.txt`"
      ]
    },
    {
      "cell_type": "code",
      "metadata": {
        "id": "SJTm4ggWJ9Hi",
        "colab_type": "code",
        "colab": {}
      },
      "source": [
        ""
      ],
      "execution_count": 0,
      "outputs": []
    },
    {
      "cell_type": "markdown",
      "metadata": {
        "id": "Z5wF-wMgNKiH",
        "colab_type": "text"
      },
      "source": [
        "**Câu 2** : Kiểm tra `dtype` của `vnm`. Nếu không phải kiểu số, hãy thực hiện việc chuyển đổi phù hợp."
      ]
    },
    {
      "cell_type": "code",
      "metadata": {
        "id": "AeGGczs1NrU2",
        "colab_type": "code",
        "colab": {}
      },
      "source": [
        ""
      ],
      "execution_count": 0,
      "outputs": []
    },
    {
      "cell_type": "markdown",
      "metadata": {
        "id": "rtAe613aP_uY",
        "colab_type": "text"
      },
      "source": [
        "**Câu 3** : Lấy dữ liệu trong tháng 10 của `vnm` và đặt tên là `vnm_oct`."
      ]
    },
    {
      "cell_type": "code",
      "metadata": {
        "id": "3Yw3hp0PQef9",
        "colab_type": "code",
        "colab": {}
      },
      "source": [
        ""
      ],
      "execution_count": 0,
      "outputs": []
    },
    {
      "cell_type": "markdown",
      "metadata": {
        "id": "2YpxKlj8R_7S",
        "colab_type": "text"
      },
      "source": [
        "**Câu 4** : Lấy dữ liệu trong `vnm_oct` bằng `.asfreq()` tần suất là `'D'`, đặt tên là `vnm_oct_d`."
      ]
    },
    {
      "cell_type": "code",
      "metadata": {
        "id": "ysCckXBYR_SZ",
        "colab_type": "code",
        "colab": {}
      },
      "source": [
        ""
      ],
      "execution_count": 0,
      "outputs": []
    },
    {
      "cell_type": "markdown",
      "metadata": {
        "id": "ux8G-b4pSXN4",
        "colab_type": "text"
      },
      "source": [
        "Các bạn có thể thấy là `vnm_oct_d` có thêm những `label` mới với giá trị là `NaN`.\n",
        "\n",
        "**Câu 5** : Tạo ra :\n",
        "- `vnm_10b` bằng cách dùng giá trị liền sau để điền vào `NaN`.\n",
        "- `vnm_10f` bằng cách dùng giá trị liền trước để điền vào `NaN`.\n",
        "\n",
        "Vẽ `vnm10_10b` và `vnm10_10f` bằng phương thức `.plot()`."
      ]
    },
    {
      "cell_type": "code",
      "metadata": {
        "id": "JCPdx94yQfY1",
        "colab_type": "code",
        "colab": {}
      },
      "source": [
        "Phương thức `.asfred()`"
      ],
      "execution_count": 0,
      "outputs": []
    }
  ]
}