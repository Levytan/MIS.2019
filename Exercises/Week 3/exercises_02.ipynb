{
  "nbformat": 4,
  "nbformat_minor": 0,
  "metadata": {
    "colab": {
      "name": "week_03_exercises_02",
      "provenance": []
    },
    "kernelspec": {
      "name": "python3",
      "display_name": "Python 3"
    }
  },
  "cells": [
    {
      "cell_type": "markdown",
      "metadata": {
        "id": "H-BD9xqiRhd-",
        "colab_type": "text"
      },
      "source": [
        "Cho dữ liệu sau :"
      ]
    },
    {
      "cell_type": "code",
      "metadata": {
        "id": "0lspabe_Ra2k",
        "colab_type": "code",
        "colab": {}
      },
      "source": [
        "raw_data_1 = {\n",
        "        'subject_id': ['1', '2', '3', '4', '5'],\n",
        "        'first_name': ['Alex', 'Amy', 'Allen', 'Alice', 'Ayoung'], \n",
        "        'last_name': ['Anderson', 'Ackerman', 'Ali', 'Aoni', 'Atiches']}\n",
        "\n",
        "raw_data_2 = {\n",
        "        'subject_id': ['4', '5', '6', '7', '8'],\n",
        "        'first_name': ['Billy', 'Brian', 'Bran', 'Bryce', 'Betty'], \n",
        "        'last_name': ['Bonder', 'Black', 'Balwner', 'Brice', 'Btisan']}\n",
        "\n",
        "raw_data_3 = {\n",
        "        'subject_id': ['1', '2', '3', '4', '5', '7', '8', '9', '10', '11'],\n",
        "        'test_id': [51, 15, 15, 61, 16, 14, 15, 1, 61, 16]}"
      ],
      "execution_count": 0,
      "outputs": []
    },
    {
      "cell_type": "markdown",
      "metadata": {
        "id": "bco4Yu_qRk5s",
        "colab_type": "text"
      },
      "source": [
        "**Câu 1** : Tạo 3 `DataFrame` với tên lần lượt là `data_1`, `data_2` và `data_3` với tương ứng với dữ liệu trên"
      ]
    },
    {
      "cell_type": "code",
      "metadata": {
        "id": "IhrnyWy7R-uR",
        "colab_type": "code",
        "colab": {}
      },
      "source": [
        ""
      ],
      "execution_count": 0,
      "outputs": []
    },
    {
      "cell_type": "markdown",
      "metadata": {
        "id": "DIn1Xfe3R_3H",
        "colab_type": "text"
      },
      "source": [
        "**Câu 2** : Dán (concat) `data_1` và `data_2` theo chiều dọc thành 1 `DataFrame` duy nhất, đặt tên là `data`, bỏ qua `index` cũ của từng `DataFrame`."
      ]
    },
    {
      "cell_type": "code",
      "metadata": {
        "id": "OKtbqK9uSeWo",
        "colab_type": "code",
        "colab": {}
      },
      "source": [
        ""
      ],
      "execution_count": 0,
      "outputs": []
    },
    {
      "cell_type": "markdown",
      "metadata": {
        "id": "kcMuX_QASfse",
        "colab_type": "text"
      },
      "source": [
        "**Câu 3** : Thêm cột `full_name` vào `data` theo với giá trị là `first_name` + `last_name` (nhớ thêm khoảng trắng nhé)."
      ]
    },
    {
      "cell_type": "code",
      "metadata": {
        "id": "ALrYa2bMTB4_",
        "colab_type": "code",
        "colab": {}
      },
      "source": [
        ""
      ],
      "execution_count": 0,
      "outputs": []
    },
    {
      "cell_type": "markdown",
      "metadata": {
        "id": "h1GTXrnXTeKI",
        "colab_type": "text"
      },
      "source": [
        "**Câu 4** : Merge `data_1` và `data_3`"
      ]
    },
    {
      "cell_type": "code",
      "metadata": {
        "id": "l2LDgC3LTty_",
        "colab_type": "code",
        "colab": {}
      },
      "source": [
        ""
      ],
      "execution_count": 0,
      "outputs": []
    },
    {
      "cell_type": "markdown",
      "metadata": {
        "id": "YL1axU43T1si",
        "colab_type": "text"
      },
      "source": [
        "**Câu 5** : Dán (concat) theo chiều ngang `data_1` và `data_2` với điều kiện chỉ lấy `subject_id` chung giữa 2 `DataFrame` nói trên."
      ]
    },
    {
      "cell_type": "code",
      "metadata": {
        "id": "u0smVqxnUvmu",
        "colab_type": "code",
        "colab": {}
      },
      "source": [
        ""
      ],
      "execution_count": 0,
      "outputs": []
    }
  ]
}