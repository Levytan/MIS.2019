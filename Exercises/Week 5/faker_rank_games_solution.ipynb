{
  "nbformat": 4,
  "nbformat_minor": 0,
  "metadata": {
    "colab": {
      "name": "faker_rank_games",
      "provenance": [],
      "collapsed_sections": []
    },
    "kernelspec": {
      "name": "python3",
      "display_name": "Python 3"
    }
  },
  "cells": [
    {
      "cell_type": "markdown",
      "metadata": {
        "id": "jbeGBtrzcGMc",
        "colab_type": "text"
      },
      "source": [
        "# Giới thiệu\n",
        "Khi nhắc đến Liên Minh Huyền Thoại thì không thể không nhắc đến Faker, người chơi đường giữa huyền thoại.\n",
        "<img src=\"https://gamepedia.cursecdn.com/lolesports_gamepedia_en/1/1c/SKT_Faker_2019_Split_2.png?version=a243b84e58413a8e9e6ecfb69f897d3d\" width=480/>\n",
        "\n",
        "Trong bài thực hành, chúng ta cùng phân tích về thành tích đánh xếp hạng của Faker trong khoảng thời gian 10/11/2019 - 18/11/2019.\n"
      ]
    },
    {
      "cell_type": "markdown",
      "metadata": {
        "id": "Sp_KU4KQeIdU",
        "colab_type": "text"
      },
      "source": [
        "# Dữ liệu :\n",
        "Dữ liệu của bạn được thu thập từ trang [op.gg](https://www.op.gg/summoner/userName=Hide+on+bush) và bao gồm các cột sau :\n",
        "- `champion` : tướng mà Faker đã chơi.\n",
        "- `status` : kết quả trận đấu (`'Victory'` là chiến thắng, `'Defeat'` là thất bại). \n",
        "- `date` : ngày chơi.\n",
        "- `kill` : số lần hạ gục.\n",
        "- `death` : số lần bị hạ gục.\n",
        "- `assist` : số lần hỗ trợ hạ gục.\n",
        "- `cs` : số lính tiêu diệt trong trận.\n",
        "- `duration` : thời gian trận đấu, được ghi dưới dạng `mm:ss`."
      ]
    },
    {
      "cell_type": "markdown",
      "metadata": {
        "id": "qECWh9TWgaXA",
        "colab_type": "text"
      },
      "source": [
        "# Bài tập"
      ]
    },
    {
      "cell_type": "code",
      "metadata": {
        "id": "yrlrUZirpMwl",
        "colab_type": "code",
        "colab": {}
      },
      "source": [
        "import pandas as pd"
      ],
      "execution_count": 0,
      "outputs": []
    },
    {
      "cell_type": "markdown",
      "metadata": {
        "id": "eqOsBxtWgc09",
        "colab_type": "text"
      },
      "source": [
        "**Câu 1** : Đọc dữ liệu vào `DataFrame`."
      ]
    },
    {
      "cell_type": "code",
      "metadata": {
        "id": "qpgS8o6hb-Jk",
        "colab_type": "code",
        "colab": {
          "base_uri": "https://localhost:8080/",
          "height": 204
        },
        "outputId": "50b18abb-2733-416b-fb46-087c10d75b00"
      },
      "source": [
        "faker = pd.read_csv('https://raw.githubusercontent.com/Levytan/MIS.2019/master/Data/faker.csv')\n",
        "faker.head()"
      ],
      "execution_count": 2,
      "outputs": [
        {
          "output_type": "execute_result",
          "data": {
            "text/html": [
              "<div>\n",
              "<style scoped>\n",
              "    .dataframe tbody tr th:only-of-type {\n",
              "        vertical-align: middle;\n",
              "    }\n",
              "\n",
              "    .dataframe tbody tr th {\n",
              "        vertical-align: top;\n",
              "    }\n",
              "\n",
              "    .dataframe thead th {\n",
              "        text-align: right;\n",
              "    }\n",
              "</style>\n",
              "<table border=\"1\" class=\"dataframe\">\n",
              "  <thead>\n",
              "    <tr style=\"text-align: right;\">\n",
              "      <th></th>\n",
              "      <th>champion</th>\n",
              "      <th>status</th>\n",
              "      <th>date</th>\n",
              "      <th>kill</th>\n",
              "      <th>death</th>\n",
              "      <th>assist</th>\n",
              "      <th>cs</th>\n",
              "      <th>duration</th>\n",
              "    </tr>\n",
              "  </thead>\n",
              "  <tbody>\n",
              "    <tr>\n",
              "      <th>0</th>\n",
              "      <td>Irelia</td>\n",
              "      <td>Defeat</td>\n",
              "      <td>2019-11-18</td>\n",
              "      <td>5</td>\n",
              "      <td>5</td>\n",
              "      <td>2</td>\n",
              "      <td>237</td>\n",
              "      <td>25:39</td>\n",
              "    </tr>\n",
              "    <tr>\n",
              "      <th>1</th>\n",
              "      <td>Fizz</td>\n",
              "      <td>Victory</td>\n",
              "      <td>2019-11-18</td>\n",
              "      <td>5</td>\n",
              "      <td>3</td>\n",
              "      <td>16</td>\n",
              "      <td>175</td>\n",
              "      <td>23:02</td>\n",
              "    </tr>\n",
              "    <tr>\n",
              "      <th>2</th>\n",
              "      <td>Ryze</td>\n",
              "      <td>Victory</td>\n",
              "      <td>2019-11-18</td>\n",
              "      <td>6</td>\n",
              "      <td>3</td>\n",
              "      <td>9</td>\n",
              "      <td>269</td>\n",
              "      <td>27:53</td>\n",
              "    </tr>\n",
              "    <tr>\n",
              "      <th>3</th>\n",
              "      <td>Ryze</td>\n",
              "      <td>Victory</td>\n",
              "      <td>2019-11-18</td>\n",
              "      <td>6</td>\n",
              "      <td>2</td>\n",
              "      <td>2</td>\n",
              "      <td>231</td>\n",
              "      <td>22:23</td>\n",
              "    </tr>\n",
              "    <tr>\n",
              "      <th>4</th>\n",
              "      <td>Nocturne</td>\n",
              "      <td>Defeat</td>\n",
              "      <td>2019-11-18</td>\n",
              "      <td>4</td>\n",
              "      <td>3</td>\n",
              "      <td>0</td>\n",
              "      <td>152</td>\n",
              "      <td>20:38</td>\n",
              "    </tr>\n",
              "  </tbody>\n",
              "</table>\n",
              "</div>"
            ],
            "text/plain": [
              "   champion   status        date  kill  death  assist   cs duration\n",
              "0    Irelia   Defeat  2019-11-18     5      5       2  237    25:39\n",
              "1      Fizz  Victory  2019-11-18     5      3      16  175    23:02\n",
              "2      Ryze  Victory  2019-11-18     6      3       9  269    27:53\n",
              "3      Ryze  Victory  2019-11-18     6      2       2  231    22:23\n",
              "4  Nocturne   Defeat  2019-11-18     4      3       0  152    20:38"
            ]
          },
          "metadata": {
            "tags": []
          },
          "execution_count": 2
        }
      ]
    },
    {
      "cell_type": "markdown",
      "metadata": {
        "id": "BhxNqSCUgvzO",
        "colab_type": "text"
      },
      "source": [
        "**Câu 2** : Chuyển đổi kiểu dữ liệu cho cột `date`."
      ]
    },
    {
      "cell_type": "code",
      "metadata": {
        "id": "LNJOPW7Xg-Jj",
        "colab_type": "code",
        "colab": {}
      },
      "source": [
        "faker = faker.assign(date = pd.to_datetime(faker.date))"
      ],
      "execution_count": 0,
      "outputs": []
    },
    {
      "cell_type": "markdown",
      "metadata": {
        "id": "wFxsFTakg_d_",
        "colab_type": "text"
      },
      "source": [
        "**Câu 3 (1 điểm)** : Quy đổi dữ liệu của cột `duration` về đơn vị phút (tức là `18:30` sẽ thành `18.5`)."
      ]
    },
    {
      "cell_type": "code",
      "metadata": {
        "id": "mhmWRD94hqQt",
        "colab_type": "code",
        "colab": {
          "base_uri": "https://localhost:8080/",
          "height": 204
        },
        "outputId": "b5dcf40a-1d44-4a87-f0ce-e670e4ce3d6d"
      },
      "source": [
        "def convert_to_min(x) :\n",
        "    m, s = x.split(':')\n",
        "    return int(m) + int(s) / 60\n",
        "\n",
        "faker = faker.assign(duration = faker.duration.apply(convert_to_min))\n",
        "faker.head() "
      ],
      "execution_count": 4,
      "outputs": [
        {
          "output_type": "execute_result",
          "data": {
            "text/html": [
              "<div>\n",
              "<style scoped>\n",
              "    .dataframe tbody tr th:only-of-type {\n",
              "        vertical-align: middle;\n",
              "    }\n",
              "\n",
              "    .dataframe tbody tr th {\n",
              "        vertical-align: top;\n",
              "    }\n",
              "\n",
              "    .dataframe thead th {\n",
              "        text-align: right;\n",
              "    }\n",
              "</style>\n",
              "<table border=\"1\" class=\"dataframe\">\n",
              "  <thead>\n",
              "    <tr style=\"text-align: right;\">\n",
              "      <th></th>\n",
              "      <th>champion</th>\n",
              "      <th>status</th>\n",
              "      <th>date</th>\n",
              "      <th>kill</th>\n",
              "      <th>death</th>\n",
              "      <th>assist</th>\n",
              "      <th>cs</th>\n",
              "      <th>duration</th>\n",
              "    </tr>\n",
              "  </thead>\n",
              "  <tbody>\n",
              "    <tr>\n",
              "      <th>0</th>\n",
              "      <td>Irelia</td>\n",
              "      <td>Defeat</td>\n",
              "      <td>2019-11-18</td>\n",
              "      <td>5</td>\n",
              "      <td>5</td>\n",
              "      <td>2</td>\n",
              "      <td>237</td>\n",
              "      <td>25.650000</td>\n",
              "    </tr>\n",
              "    <tr>\n",
              "      <th>1</th>\n",
              "      <td>Fizz</td>\n",
              "      <td>Victory</td>\n",
              "      <td>2019-11-18</td>\n",
              "      <td>5</td>\n",
              "      <td>3</td>\n",
              "      <td>16</td>\n",
              "      <td>175</td>\n",
              "      <td>23.033333</td>\n",
              "    </tr>\n",
              "    <tr>\n",
              "      <th>2</th>\n",
              "      <td>Ryze</td>\n",
              "      <td>Victory</td>\n",
              "      <td>2019-11-18</td>\n",
              "      <td>6</td>\n",
              "      <td>3</td>\n",
              "      <td>9</td>\n",
              "      <td>269</td>\n",
              "      <td>27.883333</td>\n",
              "    </tr>\n",
              "    <tr>\n",
              "      <th>3</th>\n",
              "      <td>Ryze</td>\n",
              "      <td>Victory</td>\n",
              "      <td>2019-11-18</td>\n",
              "      <td>6</td>\n",
              "      <td>2</td>\n",
              "      <td>2</td>\n",
              "      <td>231</td>\n",
              "      <td>22.383333</td>\n",
              "    </tr>\n",
              "    <tr>\n",
              "      <th>4</th>\n",
              "      <td>Nocturne</td>\n",
              "      <td>Defeat</td>\n",
              "      <td>2019-11-18</td>\n",
              "      <td>4</td>\n",
              "      <td>3</td>\n",
              "      <td>0</td>\n",
              "      <td>152</td>\n",
              "      <td>20.633333</td>\n",
              "    </tr>\n",
              "  </tbody>\n",
              "</table>\n",
              "</div>"
            ],
            "text/plain": [
              "   champion   status       date  kill  death  assist   cs   duration\n",
              "0    Irelia   Defeat 2019-11-18     5      5       2  237  25.650000\n",
              "1      Fizz  Victory 2019-11-18     5      3      16  175  23.033333\n",
              "2      Ryze  Victory 2019-11-18     6      3       9  269  27.883333\n",
              "3      Ryze  Victory 2019-11-18     6      2       2  231  22.383333\n",
              "4  Nocturne   Defeat 2019-11-18     4      3       0  152  20.633333"
            ]
          },
          "metadata": {
            "tags": []
          },
          "execution_count": 4
        }
      ]
    },
    {
      "cell_type": "markdown",
      "metadata": {
        "id": "UOu5lKWvsP72",
        "colab_type": "text"
      },
      "source": [
        "**Câu 4** : Tính thời gian trung bình một trận."
      ]
    },
    {
      "cell_type": "code",
      "metadata": {
        "id": "qpwwlceksQUe",
        "colab_type": "code",
        "colab": {
          "base_uri": "https://localhost:8080/",
          "height": 34
        },
        "outputId": "41a06fbd-d2df-44cc-cb39-bf708d991600"
      },
      "source": [
        "faker.duration.mean()"
      ],
      "execution_count": 5,
      "outputs": [
        {
          "output_type": "execute_result",
          "data": {
            "text/plain": [
              "26.05859106529209"
            ]
          },
          "metadata": {
            "tags": []
          },
          "execution_count": 5
        }
      ]
    },
    {
      "cell_type": "markdown",
      "metadata": {
        "id": "Rd3CKFydiQCK",
        "colab_type": "text"
      },
      "source": [
        "**Câu 4** : Trung bình mỗi ngày Faker đã chơi bao nhiêu trận?"
      ]
    },
    {
      "cell_type": "code",
      "metadata": {
        "id": "vcCFO5cfjSHK",
        "colab_type": "code",
        "colab": {
          "base_uri": "https://localhost:8080/",
          "height": 34
        },
        "outputId": "3c8bb9fa-f046-4327-d7f8-286500847227"
      },
      "source": [
        "faker.shape[0] / faker.date.nunique()"
      ],
      "execution_count": 6,
      "outputs": [
        {
          "output_type": "execute_result",
          "data": {
            "text/plain": [
              "10.777777777777779"
            ]
          },
          "metadata": {
            "tags": []
          },
          "execution_count": 6
        }
      ]
    },
    {
      "cell_type": "markdown",
      "metadata": {
        "id": "n0xZch_4jT6_",
        "colab_type": "text"
      },
      "source": [
        "**Câu 5** : Faker đã chơi bao nhiêu vị tướng khác nhau, in ra những tướng đó."
      ]
    },
    {
      "cell_type": "code",
      "metadata": {
        "id": "pGG4xmPPjZe1",
        "colab_type": "code",
        "colab": {
          "base_uri": "https://localhost:8080/",
          "height": 136
        },
        "outputId": "f282312a-3ffd-4513-d336-1310e23d67ec"
      },
      "source": [
        "print('Số tướng khác nhau ', faker.champion.nunique())\n",
        "print('Các tướng đó là ', faker.champion.unique())"
      ],
      "execution_count": 7,
      "outputs": [
        {
          "output_type": "stream",
          "text": [
            "Số tướng khác nhau  41\n",
            "Các tướng đó là  ['Irelia' 'Fizz' 'Ryze' 'Nocturne' 'Nautilus' 'Rakan' 'LeBlanc' 'Akali'\n",
            " 'Neeko' 'Veigar' 'Jayce' 'Qiyana' 'Twisted Fate' 'Zoe' 'Sion' 'Yasuo'\n",
            " 'Lee Sin' 'Ezreal' \"Rek'Sai\" 'Gangplank' 'Rumble' 'Gragas' 'Renekton'\n",
            " 'Lucian' 'Kled' 'Viktor' 'Tristana' 'Annie' 'Zed' 'Alistar' 'Kassadin'\n",
            " 'Kennen' 'Kayle' 'Diana' 'Orianna' 'Ahri' 'Ornn' 'Azir' 'Warwick' 'Ivern'\n",
            " 'Singed']\n"
          ],
          "name": "stdout"
        }
      ]
    },
    {
      "cell_type": "markdown",
      "metadata": {
        "id": "Lnu9BKFxjehv",
        "colab_type": "text"
      },
      "source": [
        "$KDA$ là một chỉ số thường thấy khi phân tích về một tuyển thủ nào đó, $KDA$ được tính như sau.\n",
        "\n",
        "Gọi $K$ là số lần hạ gục, $D$ là số lần bị hạ gục và $A$ là số lần hỗ trợ hạ gục thì :\n",
        "\n",
        "$KDA = \n",
        "\\left\\{\\begin{matrix}\n",
        "K + A &\\text{khi} &D = 0 \\\\ \n",
        "(K + A)/D &\\text{khi} &D > 0\n",
        "\\end{matrix}\\right.\n",
        "$\n",
        "\n",
        "Trong trường hợp $D = 0$, người ta gọi là `Perfect KDA`. "
      ]
    },
    {
      "cell_type": "markdown",
      "metadata": {
        "id": "nLzPzfFsnT-h",
        "colab_type": "text"
      },
      "source": [
        "**Câu 6** : In ra những trận đấu Faker có `Perfect KDA`."
      ]
    },
    {
      "cell_type": "code",
      "metadata": {
        "id": "nf7nD7C5msnX",
        "colab_type": "code",
        "colab": {
          "base_uri": "https://localhost:8080/",
          "height": 235
        },
        "outputId": "dc770337-45e7-453e-b1bf-791c39014164"
      },
      "source": [
        "faker[faker.death == 0]"
      ],
      "execution_count": 8,
      "outputs": [
        {
          "output_type": "execute_result",
          "data": {
            "text/html": [
              "<div>\n",
              "<style scoped>\n",
              "    .dataframe tbody tr th:only-of-type {\n",
              "        vertical-align: middle;\n",
              "    }\n",
              "\n",
              "    .dataframe tbody tr th {\n",
              "        vertical-align: top;\n",
              "    }\n",
              "\n",
              "    .dataframe thead th {\n",
              "        text-align: right;\n",
              "    }\n",
              "</style>\n",
              "<table border=\"1\" class=\"dataframe\">\n",
              "  <thead>\n",
              "    <tr style=\"text-align: right;\">\n",
              "      <th></th>\n",
              "      <th>champion</th>\n",
              "      <th>status</th>\n",
              "      <th>date</th>\n",
              "      <th>kill</th>\n",
              "      <th>death</th>\n",
              "      <th>assist</th>\n",
              "      <th>cs</th>\n",
              "      <th>duration</th>\n",
              "    </tr>\n",
              "  </thead>\n",
              "  <tbody>\n",
              "    <tr>\n",
              "      <th>14</th>\n",
              "      <td>Veigar</td>\n",
              "      <td>Victory</td>\n",
              "      <td>2019-11-17</td>\n",
              "      <td>1</td>\n",
              "      <td>0</td>\n",
              "      <td>1</td>\n",
              "      <td>151</td>\n",
              "      <td>15.766667</td>\n",
              "    </tr>\n",
              "    <tr>\n",
              "      <th>34</th>\n",
              "      <td>Twisted Fate</td>\n",
              "      <td>Defeat</td>\n",
              "      <td>2019-11-15</td>\n",
              "      <td>1</td>\n",
              "      <td>0</td>\n",
              "      <td>6</td>\n",
              "      <td>228</td>\n",
              "      <td>23.216667</td>\n",
              "    </tr>\n",
              "    <tr>\n",
              "      <th>50</th>\n",
              "      <td>Gragas</td>\n",
              "      <td>Victory</td>\n",
              "      <td>2019-11-13</td>\n",
              "      <td>2</td>\n",
              "      <td>0</td>\n",
              "      <td>8</td>\n",
              "      <td>209</td>\n",
              "      <td>23.583333</td>\n",
              "    </tr>\n",
              "    <tr>\n",
              "      <th>64</th>\n",
              "      <td>Akali</td>\n",
              "      <td>Victory</td>\n",
              "      <td>2019-11-12</td>\n",
              "      <td>3</td>\n",
              "      <td>0</td>\n",
              "      <td>2</td>\n",
              "      <td>174</td>\n",
              "      <td>16.816667</td>\n",
              "    </tr>\n",
              "    <tr>\n",
              "      <th>68</th>\n",
              "      <td>Kled</td>\n",
              "      <td>Victory</td>\n",
              "      <td>2019-11-12</td>\n",
              "      <td>1</td>\n",
              "      <td>0</td>\n",
              "      <td>6</td>\n",
              "      <td>73</td>\n",
              "      <td>13.550000</td>\n",
              "    </tr>\n",
              "    <tr>\n",
              "      <th>86</th>\n",
              "      <td>Nocturne</td>\n",
              "      <td>Victory</td>\n",
              "      <td>2019-11-11</td>\n",
              "      <td>5</td>\n",
              "      <td>0</td>\n",
              "      <td>4</td>\n",
              "      <td>180</td>\n",
              "      <td>20.500000</td>\n",
              "    </tr>\n",
              "  </tbody>\n",
              "</table>\n",
              "</div>"
            ],
            "text/plain": [
              "        champion   status       date  kill  death  assist   cs   duration\n",
              "14        Veigar  Victory 2019-11-17     1      0       1  151  15.766667\n",
              "34  Twisted Fate   Defeat 2019-11-15     1      0       6  228  23.216667\n",
              "50        Gragas  Victory 2019-11-13     2      0       8  209  23.583333\n",
              "64         Akali  Victory 2019-11-12     3      0       2  174  16.816667\n",
              "68          Kled  Victory 2019-11-12     1      0       6   73  13.550000\n",
              "86      Nocturne  Victory 2019-11-11     5      0       4  180  20.500000"
            ]
          },
          "metadata": {
            "tags": []
          },
          "execution_count": 8
        }
      ]
    },
    {
      "cell_type": "markdown",
      "metadata": {
        "id": "Ql6zbsinndua",
        "colab_type": "text"
      },
      "source": [
        "**Câu 7** : Trong những trận không đạt được `Perfect KDA`, in ra 5 trận có $KDA$ cao nhất."
      ]
    },
    {
      "cell_type": "code",
      "metadata": {
        "id": "GK77IiUMrEQe",
        "colab_type": "code",
        "colab": {
          "base_uri": "https://localhost:8080/",
          "height": 204
        },
        "outputId": "7bf346f8-54a2-4d6e-8558-9626a649148d"
      },
      "source": [
        "faker[faker.death != 0].assign(\n",
        "    kda = (faker.kill + faker.assist) / faker.death\n",
        ").sort_values('kda', ascending = False).head(5)"
      ],
      "execution_count": 9,
      "outputs": [
        {
          "output_type": "execute_result",
          "data": {
            "text/html": [
              "<div>\n",
              "<style scoped>\n",
              "    .dataframe tbody tr th:only-of-type {\n",
              "        vertical-align: middle;\n",
              "    }\n",
              "\n",
              "    .dataframe tbody tr th {\n",
              "        vertical-align: top;\n",
              "    }\n",
              "\n",
              "    .dataframe thead th {\n",
              "        text-align: right;\n",
              "    }\n",
              "</style>\n",
              "<table border=\"1\" class=\"dataframe\">\n",
              "  <thead>\n",
              "    <tr style=\"text-align: right;\">\n",
              "      <th></th>\n",
              "      <th>champion</th>\n",
              "      <th>status</th>\n",
              "      <th>date</th>\n",
              "      <th>kill</th>\n",
              "      <th>death</th>\n",
              "      <th>assist</th>\n",
              "      <th>cs</th>\n",
              "      <th>duration</th>\n",
              "      <th>kda</th>\n",
              "    </tr>\n",
              "  </thead>\n",
              "  <tbody>\n",
              "    <tr>\n",
              "      <th>19</th>\n",
              "      <td>Twisted Fate</td>\n",
              "      <td>Victory</td>\n",
              "      <td>2019-11-16</td>\n",
              "      <td>8</td>\n",
              "      <td>1</td>\n",
              "      <td>10</td>\n",
              "      <td>154</td>\n",
              "      <td>20.583333</td>\n",
              "      <td>18.0</td>\n",
              "    </tr>\n",
              "    <tr>\n",
              "      <th>36</th>\n",
              "      <td>Gangplank</td>\n",
              "      <td>Victory</td>\n",
              "      <td>2019-11-14</td>\n",
              "      <td>7</td>\n",
              "      <td>1</td>\n",
              "      <td>11</td>\n",
              "      <td>199</td>\n",
              "      <td>22.166667</td>\n",
              "      <td>18.0</td>\n",
              "    </tr>\n",
              "    <tr>\n",
              "      <th>23</th>\n",
              "      <td>Akali</td>\n",
              "      <td>Victory</td>\n",
              "      <td>2019-11-16</td>\n",
              "      <td>9</td>\n",
              "      <td>1</td>\n",
              "      <td>2</td>\n",
              "      <td>192</td>\n",
              "      <td>22.666667</td>\n",
              "      <td>11.0</td>\n",
              "    </tr>\n",
              "    <tr>\n",
              "      <th>60</th>\n",
              "      <td>Rumble</td>\n",
              "      <td>Victory</td>\n",
              "      <td>2019-11-12</td>\n",
              "      <td>3</td>\n",
              "      <td>1</td>\n",
              "      <td>8</td>\n",
              "      <td>200</td>\n",
              "      <td>27.166667</td>\n",
              "      <td>11.0</td>\n",
              "    </tr>\n",
              "    <tr>\n",
              "      <th>43</th>\n",
              "      <td>Nocturne</td>\n",
              "      <td>Victory</td>\n",
              "      <td>2019-11-13</td>\n",
              "      <td>10</td>\n",
              "      <td>2</td>\n",
              "      <td>7</td>\n",
              "      <td>228</td>\n",
              "      <td>24.383333</td>\n",
              "      <td>8.5</td>\n",
              "    </tr>\n",
              "  </tbody>\n",
              "</table>\n",
              "</div>"
            ],
            "text/plain": [
              "        champion   status       date  kill  death  assist   cs   duration   kda\n",
              "19  Twisted Fate  Victory 2019-11-16     8      1      10  154  20.583333  18.0\n",
              "36     Gangplank  Victory 2019-11-14     7      1      11  199  22.166667  18.0\n",
              "23         Akali  Victory 2019-11-16     9      1       2  192  22.666667  11.0\n",
              "60        Rumble  Victory 2019-11-12     3      1       8  200  27.166667  11.0\n",
              "43      Nocturne  Victory 2019-11-13    10      2       7  228  24.383333   8.5"
            ]
          },
          "metadata": {
            "tags": []
          },
          "execution_count": 9
        }
      ]
    },
    {
      "cell_type": "markdown",
      "metadata": {
        "id": "HSc4iSxlrnpy",
        "colab_type": "text"
      },
      "source": [
        "**Câu 8** : Tính số lính tiêu diệt trung bình mỗi phút trong một trận đấu và để trong cột `cs_per_min`."
      ]
    },
    {
      "cell_type": "code",
      "metadata": {
        "id": "XxhBLZnzr1XJ",
        "colab_type": "code",
        "colab": {
          "base_uri": "https://localhost:8080/",
          "height": 204
        },
        "outputId": "39eda9ec-973d-4598-f5bf-01e2a7038539"
      },
      "source": [
        "faker = faker.assign(cs_per_min = faker.cs / faker.duration)\n",
        "faker.head()"
      ],
      "execution_count": 11,
      "outputs": [
        {
          "output_type": "execute_result",
          "data": {
            "text/html": [
              "<div>\n",
              "<style scoped>\n",
              "    .dataframe tbody tr th:only-of-type {\n",
              "        vertical-align: middle;\n",
              "    }\n",
              "\n",
              "    .dataframe tbody tr th {\n",
              "        vertical-align: top;\n",
              "    }\n",
              "\n",
              "    .dataframe thead th {\n",
              "        text-align: right;\n",
              "    }\n",
              "</style>\n",
              "<table border=\"1\" class=\"dataframe\">\n",
              "  <thead>\n",
              "    <tr style=\"text-align: right;\">\n",
              "      <th></th>\n",
              "      <th>champion</th>\n",
              "      <th>status</th>\n",
              "      <th>date</th>\n",
              "      <th>kill</th>\n",
              "      <th>death</th>\n",
              "      <th>assist</th>\n",
              "      <th>cs</th>\n",
              "      <th>duration</th>\n",
              "      <th>cs_per_min</th>\n",
              "    </tr>\n",
              "  </thead>\n",
              "  <tbody>\n",
              "    <tr>\n",
              "      <th>0</th>\n",
              "      <td>Irelia</td>\n",
              "      <td>Defeat</td>\n",
              "      <td>2019-11-18</td>\n",
              "      <td>5</td>\n",
              "      <td>5</td>\n",
              "      <td>2</td>\n",
              "      <td>237</td>\n",
              "      <td>25.650000</td>\n",
              "      <td>9.239766</td>\n",
              "    </tr>\n",
              "    <tr>\n",
              "      <th>1</th>\n",
              "      <td>Fizz</td>\n",
              "      <td>Victory</td>\n",
              "      <td>2019-11-18</td>\n",
              "      <td>5</td>\n",
              "      <td>3</td>\n",
              "      <td>16</td>\n",
              "      <td>175</td>\n",
              "      <td>23.033333</td>\n",
              "      <td>7.597685</td>\n",
              "    </tr>\n",
              "    <tr>\n",
              "      <th>2</th>\n",
              "      <td>Ryze</td>\n",
              "      <td>Victory</td>\n",
              "      <td>2019-11-18</td>\n",
              "      <td>6</td>\n",
              "      <td>3</td>\n",
              "      <td>9</td>\n",
              "      <td>269</td>\n",
              "      <td>27.883333</td>\n",
              "      <td>9.647340</td>\n",
              "    </tr>\n",
              "    <tr>\n",
              "      <th>3</th>\n",
              "      <td>Ryze</td>\n",
              "      <td>Victory</td>\n",
              "      <td>2019-11-18</td>\n",
              "      <td>6</td>\n",
              "      <td>2</td>\n",
              "      <td>2</td>\n",
              "      <td>231</td>\n",
              "      <td>22.383333</td>\n",
              "      <td>10.320179</td>\n",
              "    </tr>\n",
              "    <tr>\n",
              "      <th>4</th>\n",
              "      <td>Nocturne</td>\n",
              "      <td>Defeat</td>\n",
              "      <td>2019-11-18</td>\n",
              "      <td>4</td>\n",
              "      <td>3</td>\n",
              "      <td>0</td>\n",
              "      <td>152</td>\n",
              "      <td>20.633333</td>\n",
              "      <td>7.366721</td>\n",
              "    </tr>\n",
              "  </tbody>\n",
              "</table>\n",
              "</div>"
            ],
            "text/plain": [
              "   champion   status       date  kill  ...  assist   cs   duration  cs_per_min\n",
              "0    Irelia   Defeat 2019-11-18     5  ...       2  237  25.650000    9.239766\n",
              "1      Fizz  Victory 2019-11-18     5  ...      16  175  23.033333    7.597685\n",
              "2      Ryze  Victory 2019-11-18     6  ...       9  269  27.883333    9.647340\n",
              "3      Ryze  Victory 2019-11-18     6  ...       2  231  22.383333   10.320179\n",
              "4  Nocturne   Defeat 2019-11-18     4  ...       0  152  20.633333    7.366721\n",
              "\n",
              "[5 rows x 9 columns]"
            ]
          },
          "metadata": {
            "tags": []
          },
          "execution_count": 11
        }
      ]
    },
    {
      "cell_type": "markdown",
      "metadata": {
        "id": "l4nHYNKRr5am",
        "colab_type": "text"
      },
      "source": [
        "**Câu 9** : Tính thời gian thi đấu trung bình của các trận được `Perfect KDA` và các trận **không** được `Perfect KDA`."
      ]
    },
    {
      "cell_type": "code",
      "metadata": {
        "id": "Y4IsFnfPsLCN",
        "colab_type": "code",
        "colab": {
          "base_uri": "https://localhost:8080/",
          "height": 51
        },
        "outputId": "87870c57-41b0-4ab5-e4da-2bcee855052b"
      },
      "source": [
        "print('Thời gian chơi trung bình khi được Perfect KDA', faker[faker.death == 0].duration.mean())\n",
        "print('Thời gian chơi trung bình khi không được Perfect KDA', faker[faker.death != 0].duration.mean())"
      ],
      "execution_count": 13,
      "outputs": [
        {
          "output_type": "stream",
          "text": [
            "Thời gian chơi trung bình khi được Perfect KDA 18.905555555555555\n",
            "Thời gian chơi trung bình khi không được Perfect KDA 26.530219780219774\n"
          ],
          "name": "stdout"
        }
      ]
    },
    {
      "cell_type": "markdown",
      "metadata": {
        "id": "N7XlydLps3l_",
        "colab_type": "text"
      },
      "source": [
        "**Câu 10** : Tính tỷ lệ thắng của Faker."
      ]
    },
    {
      "cell_type": "code",
      "metadata": {
        "id": "S10RP_DZs8pP",
        "colab_type": "code",
        "colab": {
          "base_uri": "https://localhost:8080/",
          "height": 34
        },
        "outputId": "fe49466e-2c7a-45ad-9279-147f9d835855"
      },
      "source": [
        "faker[faker.status == 'Victory'].size / faker.size"
      ],
      "execution_count": 14,
      "outputs": [
        {
          "output_type": "execute_result",
          "data": {
            "text/plain": [
              "0.4639175257731959"
            ]
          },
          "metadata": {
            "tags": []
          },
          "execution_count": 14
        }
      ]
    },
    {
      "cell_type": "markdown",
      "metadata": {
        "id": "7fYOCfH5ch87",
        "colab_type": "text"
      },
      "source": [
        "**Câu 11** : Tính tổng thời gian chơi mỗi ngày."
      ]
    },
    {
      "cell_type": "code",
      "metadata": {
        "id": "zhssSxqzcrnF",
        "colab_type": "code",
        "colab": {
          "base_uri": "https://localhost:8080/",
          "height": 204
        },
        "outputId": "4264f206-e015-4505-cd51-1881b2998987"
      },
      "source": [
        "faker.groupby('date').duration.sum()"
      ],
      "execution_count": 15,
      "outputs": [
        {
          "output_type": "execute_result",
          "data": {
            "text/plain": [
              "date\n",
              "2019-11-10    151.316667\n",
              "2019-11-11    409.683333\n",
              "2019-11-12    450.650000\n",
              "2019-11-13    466.700000\n",
              "2019-11-14    176.583333\n",
              "2019-11-15    234.516667\n",
              "2019-11-16    235.433333\n",
              "2019-11-17    267.450000\n",
              "2019-11-18    135.350000\n",
              "Name: duration, dtype: float64"
            ]
          },
          "metadata": {
            "tags": []
          },
          "execution_count": 15
        }
      ]
    },
    {
      "cell_type": "markdown",
      "metadata": {
        "id": "vCavGNbKctzq",
        "colab_type": "text"
      },
      "source": [
        "**Câu 12 (1 điểm)** : Tính $KDA$ tương ứng mỗi tướng."
      ]
    },
    {
      "cell_type": "code",
      "metadata": {
        "id": "FYBdN1Mlcy8g",
        "colab_type": "code",
        "colab": {
          "base_uri": "https://localhost:8080/",
          "height": 748
        },
        "outputId": "14a992e3-4304-4c0a-bc0b-e2115871f603"
      },
      "source": [
        "def calculate_kda(x) :\n",
        "    return (x.kill.sum() + x.assist.sum()) / x.death.sum()\n",
        "\n",
        "faker.groupby('champion').apply(calculate_kda)"
      ],
      "execution_count": 16,
      "outputs": [
        {
          "output_type": "execute_result",
          "data": {
            "text/plain": [
              "champion\n",
              "Ahri             2.666667\n",
              "Akali            2.382353\n",
              "Alistar          3.000000\n",
              "Annie            3.400000\n",
              "Azir             4.000000\n",
              "Diana            1.076923\n",
              "Ezreal           3.000000\n",
              "Fizz             7.000000\n",
              "Gangplank       18.000000\n",
              "Gragas           3.600000\n",
              "Irelia           1.400000\n",
              "Ivern            3.833333\n",
              "Jayce            3.181818\n",
              "Kassadin         4.000000\n",
              "Kayle            1.285714\n",
              "Kennen           1.000000\n",
              "Kled             5.333333\n",
              "LeBlanc          2.923077\n",
              "Lee Sin          5.500000\n",
              "Lucian           2.000000\n",
              "Nautilus         1.400000\n",
              "Neeko            1.333333\n",
              "Nocturne         2.609756\n",
              "Orianna          5.500000\n",
              "Ornn             1.000000\n",
              "Qiyana           3.000000\n",
              "Rakan            1.625000\n",
              "Rek'Sai          0.200000\n",
              "Renekton         3.090909\n",
              "Rumble           5.875000\n",
              "Ryze             2.490909\n",
              "Singed           3.500000\n",
              "Sion             3.166667\n",
              "Tristana         2.818182\n",
              "Twisted Fate    25.000000\n",
              "Veigar           2.250000\n",
              "Viktor           7.000000\n",
              "Warwick          5.500000\n",
              "Yasuo            2.333333\n",
              "Zed              0.500000\n",
              "Zoe              2.625000\n",
              "dtype: float64"
            ]
          },
          "metadata": {
            "tags": []
          },
          "execution_count": 16
        }
      ]
    },
    {
      "cell_type": "markdown",
      "metadata": {
        "id": "nhH5yxXVc0mL",
        "colab_type": "text"
      },
      "source": [
        "**Câu 13 (1 điểm)** : In ra 3 tướng có tỷ lệ thắng cao nhất."
      ]
    },
    {
      "cell_type": "code",
      "metadata": {
        "id": "Siso4OCVc5f7",
        "colab_type": "code",
        "colab": {
          "base_uri": "https://localhost:8080/",
          "height": 748
        },
        "outputId": "7ae82d49-7002-4c0b-e04d-ee2f40c2468c"
      },
      "source": [
        "def calculate_winrate(x) :\n",
        "    return x[x.status == 'Victory'].size / x.size\n",
        "\n",
        "faker.groupby('champion').apply(calculate_winrate).sort_values(ascending = False)"
      ],
      "execution_count": 19,
      "outputs": [
        {
          "output_type": "execute_result",
          "data": {
            "text/plain": [
              "champion\n",
              "Annie           1.000000\n",
              "Lee Sin         1.000000\n",
              "Ezreal          1.000000\n",
              "Azir            1.000000\n",
              "Ivern           1.000000\n",
              "Alistar         1.000000\n",
              "Fizz            1.000000\n",
              "Rumble          1.000000\n",
              "Singed          1.000000\n",
              "Gangplank       1.000000\n",
              "Viktor          1.000000\n",
              "Warwick         1.000000\n",
              "Yasuo           1.000000\n",
              "Orianna         1.000000\n",
              "Nocturne        0.500000\n",
              "LeBlanc         0.500000\n",
              "Kled            0.500000\n",
              "Gragas          0.500000\n",
              "Zoe             0.500000\n",
              "Renekton        0.500000\n",
              "Tristana        0.500000\n",
              "Twisted Fate    0.500000\n",
              "Veigar          0.500000\n",
              "Jayce           0.500000\n",
              "Ryze            0.466667\n",
              "Akali           0.363636\n",
              "Lucian          0.333333\n",
              "Diana           0.000000\n",
              "Irelia          0.000000\n",
              "Nautilus        0.000000\n",
              "Kassadin        0.000000\n",
              "Kayle           0.000000\n",
              "Kennen          0.000000\n",
              "Zed             0.000000\n",
              "Neeko           0.000000\n",
              "Ornn            0.000000\n",
              "Qiyana          0.000000\n",
              "Rakan           0.000000\n",
              "Rek'Sai         0.000000\n",
              "Sion            0.000000\n",
              "Ahri            0.000000\n",
              "dtype: float64"
            ]
          },
          "metadata": {
            "tags": []
          },
          "execution_count": 19
        }
      ]
    },
    {
      "cell_type": "markdown",
      "metadata": {
        "id": "qtMg8mK4c7NG",
        "colab_type": "text"
      },
      "source": [
        "**Câu 14 (1 điểm)** : In ra 3 tướng có $KDA$ thấp nhất."
      ]
    },
    {
      "cell_type": "code",
      "metadata": {
        "id": "QGeRXDArdAZX",
        "colab_type": "code",
        "colab": {
          "base_uri": "https://localhost:8080/",
          "height": 102
        },
        "outputId": "b133dfcc-21d7-4990-c65d-d069844e4601"
      },
      "source": [
        "faker.groupby('champion').apply(calculate_kda).sort_values().head(3)"
      ],
      "execution_count": 18,
      "outputs": [
        {
          "output_type": "execute_result",
          "data": {
            "text/plain": [
              "champion\n",
              "Rek'Sai    0.2\n",
              "Zed        0.5\n",
              "Ornn       1.0\n",
              "dtype: float64"
            ]
          },
          "metadata": {
            "tags": []
          },
          "execution_count": 18
        }
      ]
    },
    {
      "cell_type": "code",
      "metadata": {
        "id": "teV07OzxuwHw",
        "colab_type": "code",
        "colab": {}
      },
      "source": [
        ""
      ],
      "execution_count": 0,
      "outputs": []
    }
  ]
}