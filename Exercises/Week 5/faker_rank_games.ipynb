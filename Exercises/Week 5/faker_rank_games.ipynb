{
  "nbformat": 4,
  "nbformat_minor": 0,
  "metadata": {
    "colab": {
      "name": "faker_rank_games",
      "provenance": [],
      "collapsed_sections": []
    },
    "kernelspec": {
      "name": "python3",
      "display_name": "Python 3"
    }
  },
  "cells": [
    {
      "cell_type": "markdown",
      "metadata": {
        "id": "jbeGBtrzcGMc",
        "colab_type": "text"
      },
      "source": [
        "# Giới thiệu\n",
        "Khi nhắc đến Liên Minh Huyền Thoại thì không thể không nhắc đến Faker, người chơi đường giữa huyền thoại.\n",
        "<img src=\"https://gamepedia.cursecdn.com/lolesports_gamepedia_en/1/1c/SKT_Faker_2019_Split_2.png?version=a243b84e58413a8e9e6ecfb69f897d3d\" width=480/>\n",
        "\n",
        "Trong bài thực hành, chúng ta cùng phân tích về thành tích đánh xếp hạng của Faker trong khoảng thời gian 10/11/2019 - 18/11/2019.\n"
      ]
    },
    {
      "cell_type": "markdown",
      "metadata": {
        "id": "Sp_KU4KQeIdU",
        "colab_type": "text"
      },
      "source": [
        "# Dữ liệu :\n",
        "Dữ liệu của bạn được thu thập từ trang [op.gg](https://www.op.gg/summoner/userName=Hide+on+bush) và bao gồm các cột sau :\n",
        "- `champion` : tướng mà Faker đã chơi.\n",
        "- `status` : kết quả trận đấu (`'Victory'` là chiến thắng, `'Defeat'` là thất bại). \n",
        "- `date` : ngày chơi.\n",
        "- `kill` : số lần hạ gục.\n",
        "- `death` : số lần bị hạ gục.\n",
        "- `assist` : số lần hỗ trợ hạ gục.\n",
        "- `cs` : số lính tiêu diệt trong trận.\n",
        "- `duration` : thời gian trận đấu, được ghi dưới dạng `mm:ss`."
      ]
    },
    {
      "cell_type": "markdown",
      "metadata": {
        "id": "qECWh9TWgaXA",
        "colab_type": "text"
      },
      "source": [
        "# Bài tập"
      ]
    },
    {
      "cell_type": "markdown",
      "metadata": {
        "id": "eqOsBxtWgc09",
        "colab_type": "text"
      },
      "source": [
        "**Câu 1** : Đọc dữ liệu vào `DataFrame`."
      ]
    },
    {
      "cell_type": "code",
      "metadata": {
        "id": "qpgS8o6hb-Jk",
        "colab_type": "code",
        "colab": {}
      },
      "source": [
        ""
      ],
      "execution_count": 0,
      "outputs": []
    },
    {
      "cell_type": "markdown",
      "metadata": {
        "id": "BhxNqSCUgvzO",
        "colab_type": "text"
      },
      "source": [
        "**Câu 2** : Chuyển đổi kiểu dữ liệu cho cột `date`."
      ]
    },
    {
      "cell_type": "code",
      "metadata": {
        "id": "LNJOPW7Xg-Jj",
        "colab_type": "code",
        "colab": {}
      },
      "source": [
        ""
      ],
      "execution_count": 0,
      "outputs": []
    },
    {
      "cell_type": "markdown",
      "metadata": {
        "id": "wFxsFTakg_d_",
        "colab_type": "text"
      },
      "source": [
        "**Câu 3 (1 điểm)** : Quy đổi dữ liệu của cột `duration` về đơn vị phút (tức là `18:30` sẽ thành `18.5`).\n",
        "\n",
        "---\n",
        "_Gợi ý_ : dùng `.str.split(':')` để tách dữ liệu trong cột `duration`."
      ]
    },
    {
      "cell_type": "code",
      "metadata": {
        "id": "mhmWRD94hqQt",
        "colab_type": "code",
        "colab": {}
      },
      "source": [
        ""
      ],
      "execution_count": 0,
      "outputs": []
    },
    {
      "cell_type": "markdown",
      "metadata": {
        "id": "UOu5lKWvsP72",
        "colab_type": "text"
      },
      "source": [
        "**Câu 4** : Tính thời gian trung bình một trận."
      ]
    },
    {
      "cell_type": "code",
      "metadata": {
        "id": "qpwwlceksQUe",
        "colab_type": "code",
        "colab": {}
      },
      "source": [
        ""
      ],
      "execution_count": 0,
      "outputs": []
    },
    {
      "cell_type": "markdown",
      "metadata": {
        "id": "Rd3CKFydiQCK",
        "colab_type": "text"
      },
      "source": [
        "**Câu 4** : Trung bình mỗi ngày Faker đã chơi bao nhiêu trận?"
      ]
    },
    {
      "cell_type": "code",
      "metadata": {
        "id": "vcCFO5cfjSHK",
        "colab_type": "code",
        "colab": {}
      },
      "source": [
        ""
      ],
      "execution_count": 0,
      "outputs": []
    },
    {
      "cell_type": "markdown",
      "metadata": {
        "id": "n0xZch_4jT6_",
        "colab_type": "text"
      },
      "source": [
        "**Câu 5** : Faker đã chơi bao nhiêu vị tướng khác nhau, in ra những tướng đó."
      ]
    },
    {
      "cell_type": "code",
      "metadata": {
        "id": "pGG4xmPPjZe1",
        "colab_type": "code",
        "colab": {}
      },
      "source": [
        ""
      ],
      "execution_count": 0,
      "outputs": []
    },
    {
      "cell_type": "markdown",
      "metadata": {
        "id": "Lnu9BKFxjehv",
        "colab_type": "text"
      },
      "source": [
        "$KDA$ là một chỉ số thường thấy khi phân tích về một tuyển thủ nào đó, $KDA$ được tính như sau.\n",
        "\n",
        "Gọi $K$ là số lần hạ gục, $D$ là số lần bị hạ gục và $A$ là số lần hỗ trợ hạ gục thì :\n",
        "\n",
        "$KDA = \n",
        "\\left\\{\\begin{matrix}\n",
        "K + A &\\text{khi} &D = 0 \\\\ \n",
        "(K + A)/D &\\text{khi} &D > 0\n",
        "\\end{matrix}\\right.\n",
        "$\n",
        "\n",
        "Trong trường hợp $D = 0$, người ta gọi là `Perfect KDA`. "
      ]
    },
    {
      "cell_type": "markdown",
      "metadata": {
        "id": "nLzPzfFsnT-h",
        "colab_type": "text"
      },
      "source": [
        "**Câu 6** : In ra những trận đấu Faker có `Perfect KDA`."
      ]
    },
    {
      "cell_type": "code",
      "metadata": {
        "id": "nf7nD7C5msnX",
        "colab_type": "code",
        "colab": {}
      },
      "source": [
        ""
      ],
      "execution_count": 0,
      "outputs": []
    },
    {
      "cell_type": "markdown",
      "metadata": {
        "id": "Ql6zbsinndua",
        "colab_type": "text"
      },
      "source": [
        "**Câu 7** : Trong những trận không đạt được `Perfect KDA`, in ra 5 trận có $KDA$ cao nhất."
      ]
    },
    {
      "cell_type": "code",
      "metadata": {
        "id": "GK77IiUMrEQe",
        "colab_type": "code",
        "colab": {}
      },
      "source": [
        ""
      ],
      "execution_count": 0,
      "outputs": []
    },
    {
      "cell_type": "markdown",
      "metadata": {
        "id": "HSc4iSxlrnpy",
        "colab_type": "text"
      },
      "source": [
        "**Câu 8** : Tính số lính tiêu diệt trung bình mỗi phút trong một trận đấu và để trong cột `cs_per_min`."
      ]
    },
    {
      "cell_type": "code",
      "metadata": {
        "id": "XxhBLZnzr1XJ",
        "colab_type": "code",
        "colab": {}
      },
      "source": [
        ""
      ],
      "execution_count": 0,
      "outputs": []
    },
    {
      "cell_type": "markdown",
      "metadata": {
        "id": "l4nHYNKRr5am",
        "colab_type": "text"
      },
      "source": [
        "**Câu 9** : Tính thời gian thi đấu trung bình của các trận được `Perfect KDA` và các trận **không** được `Perfect KDA`."
      ]
    },
    {
      "cell_type": "code",
      "metadata": {
        "id": "Y4IsFnfPsLCN",
        "colab_type": "code",
        "colab": {}
      },
      "source": [
        ""
      ],
      "execution_count": 0,
      "outputs": []
    },
    {
      "cell_type": "markdown",
      "metadata": {
        "id": "N7XlydLps3l_",
        "colab_type": "text"
      },
      "source": [
        "**Câu 10** : Tính tỷ lệ thắng của Faker."
      ]
    },
    {
      "cell_type": "code",
      "metadata": {
        "id": "S10RP_DZs8pP",
        "colab_type": "code",
        "colab": {}
      },
      "source": [
        ""
      ],
      "execution_count": 0,
      "outputs": []
    },
    {
      "cell_type": "markdown",
      "metadata": {
        "id": "7fYOCfH5ch87",
        "colab_type": "text"
      },
      "source": [
        "**Câu 11** : Tính tổng thời gian chơi mỗi ngày."
      ]
    },
    {
      "cell_type": "code",
      "metadata": {
        "id": "zhssSxqzcrnF",
        "colab_type": "code",
        "colab": {}
      },
      "source": [
        ""
      ],
      "execution_count": 0,
      "outputs": []
    },
    {
      "cell_type": "markdown",
      "metadata": {
        "id": "vCavGNbKctzq",
        "colab_type": "text"
      },
      "source": [
        "**Câu 12 (1 điểm)** : Tính $KDA$ tương ứng mỗi tướng."
      ]
    },
    {
      "cell_type": "code",
      "metadata": {
        "id": "FYBdN1Mlcy8g",
        "colab_type": "code",
        "colab": {}
      },
      "source": [
        ""
      ],
      "execution_count": 0,
      "outputs": []
    },
    {
      "cell_type": "markdown",
      "metadata": {
        "id": "nhH5yxXVc0mL",
        "colab_type": "text"
      },
      "source": [
        "**Câu 13 (1 điểm)** : In ra 3 tướng có tỷ lệ thắng cao nhất."
      ]
    },
    {
      "cell_type": "code",
      "metadata": {
        "id": "Siso4OCVc5f7",
        "colab_type": "code",
        "colab": {}
      },
      "source": [
        ""
      ],
      "execution_count": 0,
      "outputs": []
    },
    {
      "cell_type": "markdown",
      "metadata": {
        "id": "qtMg8mK4c7NG",
        "colab_type": "text"
      },
      "source": [
        "**Câu 14 (1 điểm)** : In ra 3 tướng có $KDA$ thấp nhất."
      ]
    },
    {
      "cell_type": "code",
      "metadata": {
        "id": "QGeRXDArdAZX",
        "colab_type": "code",
        "colab": {}
      },
      "source": [
        ""
      ],
      "execution_count": 0,
      "outputs": []
    }
  ]
}