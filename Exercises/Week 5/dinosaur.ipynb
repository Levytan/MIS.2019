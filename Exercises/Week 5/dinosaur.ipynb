{
  "nbformat": 4,
  "nbformat_minor": 0,
  "metadata": {
    "colab": {
      "name": "dinosaur",
      "provenance": [],
      "collapsed_sections": []
    },
    "kernelspec": {
      "name": "python3",
      "display_name": "Python 3"
    }
  },
  "cells": [
    {
      "cell_type": "markdown",
      "metadata": {
        "id": "AT6yrv42MuHM",
        "colab_type": "text"
      },
      "source": [
        "# Giới thiệu\n",
        "Vào một buổi chiều đẹp trời, lớp MIS khóa 2018 được yêu cầu chơi trò Khủng long. Hôm nay, trong bài thực hành này, chúng ta cùng phân tích kết quả đạt được."
      ]
    },
    {
      "cell_type": "markdown",
      "metadata": {
        "id": "WNeE1x2DNMWn",
        "colab_type": "text"
      },
      "source": [
        "# Dữ liệu\n",
        "Dữ liệu được lưu trữ trong file `dinosaur.csv` với các cột :\n",
        "- `name` : họ và tên.\n",
        "- `gender` : giới tính (`M` là nam, `F` là nữ).\n",
        "- `t1`, `t2`, ..., `t10` : điểm lần chơi thứ nhất, thứ 2, ..., thứ 10."
      ]
    },
    {
      "cell_type": "markdown",
      "metadata": {
        "id": "wn7rBOMANqBy",
        "colab_type": "text"
      },
      "source": [
        "# Lời cảm ơn\n",
        "Cảm ơn các bạn đã giúp tôi có được dữ liệu cho bài thực hành này. ❤❤❤\n",
        "\n",
        "Những bạn có tên trong danh sách sau sẽ được cộng $0.5$ điểm cho bài thực hành :\n",
        "- Lê Đình Doanh\n",
        "- Huỳnh Ngọc Trinh\n",
        "- Cao Duy Hiếu\n",
        "- Thuận Thị Thảo Vân\n",
        "- Nguyễn Hoài Nam\n",
        "- Nguyễn Thành Luân\n",
        "- Vũ Thị Thanh Nga\n",
        "- Nguyễn Dĩ Khan\n",
        "- Lương Thế Nam\n",
        "- Nguyễn Quốc Đăng Khoa\n",
        "- Nguyễn Duy Tuấn\n",
        "- Phan Hoàng Kim\n",
        "- Nguyễn Phong Phú\n",
        "- Nguyễn Khắc Tưởng\n",
        "- Nguyễn Duy Nam\n",
        "- Võ Thị Diễm Quyên\n",
        "- Lâm Quang Tĩnh\n",
        "- Nguyễn Hoàng Tuấn\n",
        "- Phạm Văn Thọ\n",
        "- Phạm Thị Kim Ngân"
      ]
    },
    {
      "cell_type": "markdown",
      "metadata": {
        "id": "ijQ2f657OVaL",
        "colab_type": "text"
      },
      "source": [
        "# Bài tập"
      ]
    },
    {
      "cell_type": "markdown",
      "metadata": {
        "id": "4vLV3GVGOX3w",
        "colab_type": "text"
      },
      "source": [
        "**Câu 1** : Đọc dữ liệu vào `DataFrame`."
      ]
    },
    {
      "cell_type": "code",
      "metadata": {
        "id": "mtyFCOviMmVY",
        "colab_type": "code",
        "colab": {}
      },
      "source": [
        ""
      ],
      "execution_count": 0,
      "outputs": []
    },
    {
      "cell_type": "markdown",
      "metadata": {
        "id": "EoZeWAD7OdyB",
        "colab_type": "text"
      },
      "source": [
        "**Câu 2** : Trong dữ liệu trên, có bao nhiêu nam, bao nhiêu nữ."
      ]
    },
    {
      "cell_type": "code",
      "metadata": {
        "id": "1G3GWp9tOnU6",
        "colab_type": "code",
        "colab": {}
      },
      "source": [
        ""
      ],
      "execution_count": 0,
      "outputs": []
    },
    {
      "cell_type": "markdown",
      "metadata": {
        "id": "BnrKClPhOoAp",
        "colab_type": "text"
      },
      "source": [
        "**Câu 3** : In ra dữ liệu của chính bạn, nếu không có thì in ra dữ liệu của một bạn bất kỳ mà bạn thích."
      ]
    },
    {
      "cell_type": "code",
      "metadata": {
        "id": "wtSrMrAtO3d5",
        "colab_type": "code",
        "colab": {}
      },
      "source": [
        ""
      ],
      "execution_count": 0,
      "outputs": []
    },
    {
      "cell_type": "markdown",
      "metadata": {
        "id": "IEYh4JrwO4eM",
        "colab_type": "text"
      },
      "source": [
        "**Câu 4 (1 điểm)** : In ra dữ liệu của những bạn có **tên** bắt đầu bằng chữ `N`. Quy ước : tên một người là từ cuối cùng trong họ và tên đầy đủ của người đó. Ví dụ `Huỳnh Ngọc Trinh` có tên là `Trinh`, `Nguyễn Quốc Đăng Khoa` có tên là `Khoa`.\n",
        "\n",
        "---\n",
        "_Gợi ý_ : dùng `.str.split()` để tách tên."
      ]
    },
    {
      "cell_type": "code",
      "metadata": {
        "id": "uJ6hfac9Pnv0",
        "colab_type": "code",
        "colab": {}
      },
      "source": [
        ""
      ],
      "execution_count": 0,
      "outputs": []
    },
    {
      "cell_type": "markdown",
      "metadata": {
        "id": "cM_fh8bsPx40",
        "colab_type": "text"
      },
      "source": [
        "**Câu 5** : In ra số điểm lớn nhất từng lần chơi."
      ]
    },
    {
      "cell_type": "code",
      "metadata": {
        "id": "wz51zwIbP3eB",
        "colab_type": "code",
        "colab": {}
      },
      "source": [
        ""
      ],
      "execution_count": 0,
      "outputs": []
    },
    {
      "cell_type": "markdown",
      "metadata": {
        "id": "Q6EuaVg3P4TS",
        "colab_type": "text"
      },
      "source": [
        "**Câu 6** : In ra thống kê mô tả về điểm số của chính bạn, nếu không có thì làm tương tự **Câu 3**."
      ]
    },
    {
      "cell_type": "code",
      "metadata": {
        "id": "JB-SAFRMQRU8",
        "colab_type": "code",
        "colab": {}
      },
      "source": [
        ""
      ],
      "execution_count": 0,
      "outputs": []
    },
    {
      "cell_type": "markdown",
      "metadata": {
        "id": "ylmJkQbyQSAV",
        "colab_type": "text"
      },
      "source": [
        "**Câu 7** : Tạo cột `avg` để lưu điểm trung bình từng người."
      ]
    },
    {
      "cell_type": "code",
      "metadata": {
        "id": "KCvaS7ENQhzl",
        "colab_type": "code",
        "colab": {}
      },
      "source": [
        ""
      ],
      "execution_count": 0,
      "outputs": []
    },
    {
      "cell_type": "markdown",
      "metadata": {
        "id": "bGR9wjKXRJ40",
        "colab_type": "text"
      },
      "source": [
        "**Câu 8** : Tính điểm trung bình toàn bộ lớp.\n",
        "\n",
        "---\n",
        "_Gợi ý_ : Điểm trung bình cả lớp chính là trung bình cộng của điểm trung bình của từng người."
      ]
    },
    {
      "cell_type": "code",
      "metadata": {
        "id": "oK-ylLpQRhro",
        "colab_type": "code",
        "colab": {}
      },
      "source": [
        ""
      ],
      "execution_count": 0,
      "outputs": []
    },
    {
      "cell_type": "markdown",
      "metadata": {
        "id": "XNrT1QzqRjRl",
        "colab_type": "text"
      },
      "source": [
        "**Câu 9** : In ra những bạn có điểm trung bình cao hơn điểm trung bình cả lớp."
      ]
    },
    {
      "cell_type": "code",
      "metadata": {
        "id": "QgB4Q3EHSCO9",
        "colab_type": "code",
        "colab": {}
      },
      "source": [
        ""
      ],
      "execution_count": 0,
      "outputs": []
    },
    {
      "cell_type": "markdown",
      "metadata": {
        "id": "KOeeJUMhSDgx",
        "colab_type": "text"
      },
      "source": [
        "**Câu 10** : Tính điểm trung bình các bạn nam và các bạn nữ."
      ]
    },
    {
      "cell_type": "code",
      "metadata": {
        "id": "flpgdv_KSKwx",
        "colab_type": "code",
        "colab": {}
      },
      "source": [
        ""
      ],
      "execution_count": 0,
      "outputs": []
    },
    {
      "cell_type": "markdown",
      "metadata": {
        "id": "wHoIDYX9UOU7",
        "colab_type": "text"
      },
      "source": [
        "Trong phần này, chúng ta dùng công thức sau đây để xếp hạng mọi người \n",
        "\n",
        "$\n",
        "score = \\frac{\\ln\\overline{s}}{1 + \\sigma}\n",
        "$\n",
        "\n",
        "Trong đó :\n",
        "- $score$ là điểm số dùng để xếp hạng.\n",
        "- $\\ln(x)$ là logarit tự nhiên.\n",
        "- $\\overline{s}$ là điểm trung bình của người chơi.\n",
        "- $\\sigma$ là độ lệch chuẩn của dữ liệu.\n",
        "\n",
        "Lưu ý : Công thức này được tạo ra để thực hành."
      ]
    },
    {
      "cell_type": "markdown",
      "metadata": {
        "id": "oMP84AEcW0Vk",
        "colab_type": "text"
      },
      "source": [
        "**Câu 11** : Tính $\\ln{\\overline{s}}$ từ cột `avg`.\n",
        "\n",
        "---\n",
        "_Gợi ý_ : dùng `.apply()` và `math.log()` (`import math`)."
      ]
    },
    {
      "cell_type": "code",
      "metadata": {
        "id": "i2rzuGeFWyyS",
        "colab_type": "code",
        "colab": {}
      },
      "source": [
        ""
      ],
      "execution_count": 0,
      "outputs": []
    },
    {
      "cell_type": "markdown",
      "metadata": {
        "id": "2aT5BozPXgea",
        "colab_type": "text"
      },
      "source": [
        "**Câu 12** : Tính độ lệch chuẩn trong dữ liệu của từng người."
      ]
    },
    {
      "cell_type": "code",
      "metadata": {
        "id": "tP7GgdsvXqgb",
        "colab_type": "code",
        "colab": {}
      },
      "source": [
        ""
      ],
      "execution_count": 0,
      "outputs": []
    },
    {
      "cell_type": "markdown",
      "metadata": {
        "id": "Wp-Wt1e1XrML",
        "colab_type": "text"
      },
      "source": [
        "**Câu 13** : Tạo cột `score` với giá trị được cho bởi công thức trên."
      ]
    },
    {
      "cell_type": "code",
      "metadata": {
        "id": "4HhaK0-nYk2r",
        "colab_type": "code",
        "colab": {}
      },
      "source": [
        ""
      ],
      "execution_count": 0,
      "outputs": []
    },
    {
      "cell_type": "markdown",
      "metadata": {
        "id": "tW7tegqhYll5",
        "colab_type": "text"
      },
      "source": [
        "**Câu 14** : In ra 3 người có `score` lớn nhất."
      ]
    },
    {
      "cell_type": "code",
      "metadata": {
        "id": "XkzZZzZ-YqOV",
        "colab_type": "code",
        "colab": {}
      },
      "source": [
        ""
      ],
      "execution_count": 0,
      "outputs": []
    },
    {
      "cell_type": "markdown",
      "metadata": {
        "id": "VvmZqEfoY2vd",
        "colab_type": "text"
      },
      "source": [
        "**Câu 15 (1 điểm)** : Tạo một `DataFrame` mới với các cột sau :\n",
        "- `trial` : gồm các giá trị từ $1, 2, \\cdots, 10$.\n",
        "- `name` : tên người chơi đạt điểm cao nhất trong lần chơi tương ứng với `trial`.\n",
        "- `score` : điểm số cao nhất.\n",
        "\n",
        "---\n",
        "_Gợi ý_ : tạo `DataFrame` thích hợp với từng lần chơi rồi dùng `pd.concat()`."
      ]
    },
    {
      "cell_type": "code",
      "metadata": {
        "id": "0YyTat2TZnfQ",
        "colab_type": "code",
        "colab": {}
      },
      "source": [
        ""
      ],
      "execution_count": 0,
      "outputs": []
    }
  ]
}