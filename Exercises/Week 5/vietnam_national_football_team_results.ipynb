{
  "nbformat": 4,
  "nbformat_minor": 0,
  "metadata": {
    "colab": {
      "name": "vietnam_national_football_team_results",
      "provenance": [],
      "collapsed_sections": []
    },
    "kernelspec": {
      "name": "python3",
      "display_name": "Python 3"
    }
  },
  "cells": [
    {
      "cell_type": "markdown",
      "metadata": {
        "id": "PJd2HaNDzDn5",
        "colab_type": "text"
      },
      "source": [
        "# Giới thiệu\n",
        "Trong bài này, chúng ta sẽ thực hiện một số phân tích trên dữ liệu thành tích của Đội tuyển Quốc gia Việt Nam từ năm 2010 - 2019 (chỉ tính các trận đấu chính thức trong khuôn khổ của FIFA)."
      ]
    },
    {
      "cell_type": "code",
      "metadata": {
        "id": "kLVodUQ_OqQr",
        "colab_type": "code",
        "outputId": "6ea6cb08-516c-4431-9b60-2a72aeb4d0c0",
        "colab": {
          "base_uri": "https://localhost:8080/",
          "height": 426
        }
      },
      "source": [
        "# Chạy thử ô này nhé! :)\n",
        "%%html\n",
        "<video width=\"720\" controls>\n",
        "  <source src=\"https://video.twimg.com/amplify_video/957176532127989760/vid/1280x720/nDjaQQWr-iJFwTva.mp4\" type=\"video/mp4\">\n",
        "</video>"
      ],
      "execution_count": 0,
      "outputs": [
        {
          "output_type": "display_data",
          "data": {
            "text/html": [
              "<video width=\"720\" controls>\n",
              "  <source src=\"https://video.twimg.com/amplify_video/957176532127989760/vid/1280x720/nDjaQQWr-iJFwTva.mp4\" type=\"video/mp4\">\n",
              "</video>"
            ],
            "text/plain": [
              "<IPython.core.display.HTML object>"
            ]
          },
          "metadata": {
            "tags": []
          }
        }
      ]
    },
    {
      "cell_type": "markdown",
      "metadata": {
        "id": "SOFd-NeRzcfX",
        "colab_type": "text"
      },
      "source": [
        "# Dữ liệu\n",
        "Dữ liệu của bài này được lấy từ [trang wiki](https://en.wikipedia.org/wiki/Vietnam_national_football_team_results) và được lưu trong file `vietnam_football_results.csv`.\n",
        "\n",
        "Dữ liệu bao gồm các cột :\n",
        "- `date` : ngày diễn ra trận đấu.\n",
        "- `opponent` : đối thủ của đội tuyển Việt Nam.\n",
        "- `score` : tỷ số trận đấu (chỉ tính trong 90' thi đấu chính thức). Số bàn thắng của đội tuyển Việt Nam luôn viết trước.\n",
        "- `venue` : địa điểm tổ chức trân đấu.\n",
        "- `venue_type` : vị thế của Đội tuyển Việt Nam\n",
        "    - `H` : đá ở sân nhà.\n",
        "    - `A` : đá ở sân khách.\n",
        "    - `N` : đá ở sân trung lập.\n",
        "- `competition` : giải đấu mà Đội tuyển Việt Nam tham gia."
      ]
    },
    {
      "cell_type": "markdown",
      "metadata": {
        "id": "E0VeYIKm1j0w",
        "colab_type": "text"
      },
      "source": [
        "# Bài tập"
      ]
    },
    {
      "cell_type": "markdown",
      "metadata": {
        "id": "iTQJ33kC1mry",
        "colab_type": "text"
      },
      "source": [
        "**Câu 1** : Đọc dữ liệu vào `DataFrame`."
      ]
    },
    {
      "cell_type": "code",
      "metadata": {
        "id": "atfWBNCpy4YO",
        "colab_type": "code",
        "colab": {}
      },
      "source": [
        ""
      ],
      "execution_count": 0,
      "outputs": []
    },
    {
      "cell_type": "markdown",
      "metadata": {
        "id": "o1lN-U1o1ymq",
        "colab_type": "text"
      },
      "source": [
        "**Câu 2** : Kiểm tra kiểu dữ liệu các cột và thực hiện những chuyển đổi cần thiết."
      ]
    },
    {
      "cell_type": "code",
      "metadata": {
        "id": "rO0WKvMo2DOs",
        "colab_type": "code",
        "colab": {}
      },
      "source": [
        ""
      ],
      "execution_count": 0,
      "outputs": []
    },
    {
      "cell_type": "markdown",
      "metadata": {
        "id": "qNFzFnM02D_0",
        "colab_type": "text"
      },
      "source": [
        "**Câu 3** : Đội tuyển Việt Nam đã thi đấu bao nhiêu trận trong giai đoạn 2010 - 2019, trong đó có bao nhiêu trận đá ở sân nhà, sân khách và sân trung lập."
      ]
    },
    {
      "cell_type": "code",
      "metadata": {
        "id": "QfzoKk_52nIR",
        "colab_type": "code",
        "colab": {}
      },
      "source": [
        ""
      ],
      "execution_count": 0,
      "outputs": []
    },
    {
      "cell_type": "markdown",
      "metadata": {
        "id": "4eMA7ONKbzfk",
        "colab_type": "text"
      },
      "source": [
        "**Câu 4** : Trong các trận ở sân nhà, Đội tyển Việt Nam thi đấu ở bao nhiêu địa điểm khác nhau, in ra những địa điểm đó."
      ]
    },
    {
      "cell_type": "code",
      "metadata": {
        "id": "K8tBI4B0cFi2",
        "colab_type": "code",
        "colab": {}
      },
      "source": [
        ""
      ],
      "execution_count": 0,
      "outputs": []
    },
    {
      "cell_type": "markdown",
      "metadata": {
        "id": "ldILiLfu2pK5",
        "colab_type": "text"
      },
      "source": [
        "**Câu 5**: Đội tuyển Việt Nam đã thi đấu trung bình bao nhiêu trận mỗi năm?"
      ]
    },
    {
      "cell_type": "code",
      "metadata": {
        "id": "vTD3I19329w8",
        "colab_type": "code",
        "colab": {}
      },
      "source": [
        ""
      ],
      "execution_count": 0,
      "outputs": []
    },
    {
      "cell_type": "markdown",
      "metadata": {
        "id": "qq7gFZWi2-ug",
        "colab_type": "text"
      },
      "source": [
        "**Câu 6** : In ra số trận đội tuyển Việt Nam đá mỗi năm."
      ]
    },
    {
      "cell_type": "code",
      "metadata": {
        "id": "TEZVo3m13JDY",
        "colab_type": "code",
        "colab": {}
      },
      "source": [
        ""
      ],
      "execution_count": 0,
      "outputs": []
    },
    {
      "cell_type": "markdown",
      "metadata": {
        "id": "U0jz-xUpKkVr",
        "colab_type": "text"
      },
      "source": [
        "**Câu 7**: Đội tuyển đã thi đấu với bao nhiêu đội bóng, trong đó, đội nào nhiều lần nhất?"
      ]
    },
    {
      "cell_type": "code",
      "metadata": {
        "id": "Nh13e3uFWbMr",
        "colab_type": "code",
        "colab": {}
      },
      "source": [
        ""
      ],
      "execution_count": 0,
      "outputs": []
    },
    {
      "cell_type": "markdown",
      "metadata": {
        "id": "PAY9ZZ9VWhQ0",
        "colab_type": "text"
      },
      "source": [
        "**Câu 8 (1 điểm)** : Từ cột `score`, tạo ra hai cột mới lần lượt là :\n",
        "- `goal` : số bàn thắng Đội tuyển Việt Nam ghi được.\n",
        "- `conceded_goal` : số bàn bị thủng lưới của Đội tuyển Việt Nam.\n",
        "\n",
        "---\n",
        "_Gợi ý_ : dùng `.str.split('-')` để tách chuỗi từ `score`."
      ]
    },
    {
      "cell_type": "code",
      "metadata": {
        "id": "cz124Qj8XOU_",
        "colab_type": "code",
        "colab": {}
      },
      "source": [
        ""
      ],
      "execution_count": 0,
      "outputs": []
    },
    {
      "cell_type": "markdown",
      "metadata": {
        "id": "G2R-61yoXToO",
        "colab_type": "text"
      },
      "source": [
        "**Câu 9** : In ra những trận mà đội tuyển Việt Nam ghi được nhiều bàn thắng nhất?"
      ]
    },
    {
      "cell_type": "code",
      "metadata": {
        "id": "WFXKGcKYXd8F",
        "colab_type": "code",
        "colab": {}
      },
      "source": [
        ""
      ],
      "execution_count": 0,
      "outputs": []
    },
    {
      "cell_type": "markdown",
      "metadata": {
        "id": "wY0dhqTvXfD7",
        "colab_type": "text"
      },
      "source": [
        "**Câu 10** : Tính số bàn thắng trung bình của đội tuyển Việt Nam."
      ]
    },
    {
      "cell_type": "code",
      "metadata": {
        "id": "cMhtVsa_XuQo",
        "colab_type": "code",
        "colab": {}
      },
      "source": [
        ""
      ],
      "execution_count": 0,
      "outputs": []
    },
    {
      "cell_type": "markdown",
      "metadata": {
        "id": "8WjverVxXvDj",
        "colab_type": "text"
      },
      "source": [
        "**Câu 11** : Tính tỷ lệ thắng của Đội tuyển Việt Nam."
      ]
    },
    {
      "cell_type": "code",
      "metadata": {
        "id": "V-WCvzV0X2vY",
        "colab_type": "code",
        "colab": {}
      },
      "source": [
        ""
      ],
      "execution_count": 0,
      "outputs": []
    },
    {
      "cell_type": "markdown",
      "metadata": {
        "id": "PYTaTwE_YBI-",
        "colab_type": "text"
      },
      "source": [
        "**Câu 12** : Lấy ra các trận giao hữu trong khoảng thời gian trên. Biết rằng, các trận giao hữu được ghi là `'Friendly'` trong `competition`. "
      ]
    },
    {
      "cell_type": "code",
      "metadata": {
        "id": "wz5-w_lcZvnm",
        "colab_type": "code",
        "colab": {}
      },
      "source": [
        ""
      ],
      "execution_count": 0,
      "outputs": []
    },
    {
      "cell_type": "markdown",
      "metadata": {
        "id": "WpJ0QexTbADj",
        "colab_type": "text"
      },
      "source": [
        "**Câu 13** : Tính tỷ lệ thắng của Đội tuyển Việt Nam trong các trận giao hữu."
      ]
    },
    {
      "cell_type": "code",
      "metadata": {
        "id": "yYztAH2gbLOq",
        "colab_type": "code",
        "colab": {}
      },
      "source": [
        ""
      ],
      "execution_count": 0,
      "outputs": []
    },
    {
      "cell_type": "markdown",
      "metadata": {
        "id": "fC74AQGGbY19",
        "colab_type": "text"
      },
      "source": [
        "**Câu 14** : Số bàn thua trung bình trong các trận đấu **không phải** giao hữu."
      ]
    },
    {
      "cell_type": "code",
      "metadata": {
        "id": "cxwCmuHWbkrX",
        "colab_type": "code",
        "colab": {}
      },
      "source": [
        ""
      ],
      "execution_count": 0,
      "outputs": []
    }
  ]
}