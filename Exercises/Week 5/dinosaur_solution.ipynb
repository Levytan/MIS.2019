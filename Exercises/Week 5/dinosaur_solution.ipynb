{
  "nbformat": 4,
  "nbformat_minor": 0,
  "metadata": {
    "colab": {
      "name": "dinosaur",
      "provenance": [],
      "collapsed_sections": []
    },
    "kernelspec": {
      "name": "python3",
      "display_name": "Python 3"
    }
  },
  "cells": [
    {
      "cell_type": "markdown",
      "metadata": {
        "id": "AT6yrv42MuHM",
        "colab_type": "text"
      },
      "source": [
        "# Giới thiệu\n",
        "Vào một buổi chiều đẹp trời, lớp MIS khóa 2018 được yêu cầu chơi trò Khủng long. Hôm nay, trong bài thực hành này, chúng ta cùng phân tích kết quả đạt được."
      ]
    },
    {
      "cell_type": "markdown",
      "metadata": {
        "id": "WNeE1x2DNMWn",
        "colab_type": "text"
      },
      "source": [
        "# Dữ liệu\n",
        "Dữ liệu được lưu trữ trong file `dinosaur.csv` với các cột :\n",
        "- `name` : họ và tên.\n",
        "- `gender` : giới tính (`M` là nam, `F` là nữ).\n",
        "- `t1`, `t2`, ..., `t10` : điểm lần chơi thứ nhất, thứ 2, ..., thứ 10."
      ]
    },
    {
      "cell_type": "markdown",
      "metadata": {
        "id": "wn7rBOMANqBy",
        "colab_type": "text"
      },
      "source": [
        "# Lời cảm ơn\n",
        "Cảm ơn các bạn đã giúp tôi có được dữ liệu cho bài thực hành này. ❤❤❤\n",
        "\n",
        "Những bạn có tên trong danh sách sau sẽ được cộng $0.5$ điểm cho bài thực hành :\n",
        "- Lê Đình Doanh\n",
        "- Huỳnh Ngọc Trinh\n",
        "- Cao Duy Hiếu\n",
        "- Thuận Thị Thảo Vân\n",
        "- Nguyễn Hoài Nam\n",
        "- Nguyễn Thành Luân\n",
        "- Vũ Thị Thanh Nga\n",
        "- Nguyễn Dĩ Khan\n",
        "- Lương Thế Nam\n",
        "- Nguyễn Quốc Đăng Khoa\n",
        "- Nguyễn Duy Tuấn\n",
        "- Phan Hoàng Kim\n",
        "- Nguyễn Phong Phú\n",
        "- Nguyễn Khắc Tưởng\n",
        "- Nguyễn Duy Nam\n",
        "- Võ Thị Diễm Quyên\n",
        "- Lâm Quang Tĩnh\n",
        "- Nguyễn Hoàng Tuấn\n",
        "- Phạm Văn Thọ\n",
        "- Phạm Thị Kim Ngân"
      ]
    },
    {
      "cell_type": "markdown",
      "metadata": {
        "id": "ijQ2f657OVaL",
        "colab_type": "text"
      },
      "source": [
        "# Bài tập"
      ]
    },
    {
      "cell_type": "code",
      "metadata": {
        "id": "0k1WI3xYsNA-",
        "colab_type": "code",
        "colab": {}
      },
      "source": [
        "import pandas as pd\n",
        "import math"
      ],
      "execution_count": 0,
      "outputs": []
    },
    {
      "cell_type": "markdown",
      "metadata": {
        "id": "4vLV3GVGOX3w",
        "colab_type": "text"
      },
      "source": [
        "**Câu 1** : Đọc dữ liệu vào `DataFrame`."
      ]
    },
    {
      "cell_type": "code",
      "metadata": {
        "id": "mtyFCOviMmVY",
        "colab_type": "code",
        "outputId": "98682b32-c4ef-4017-d753-b6c96588f195",
        "colab": {
          "base_uri": "https://localhost:8080/",
          "height": 204
        }
      },
      "source": [
        "dino = pd.read_csv('https://raw.githubusercontent.com/Levytan/MIS.2019/master/Data/dinosaur.csv')\n",
        "dino.head()"
      ],
      "execution_count": 0,
      "outputs": [
        {
          "output_type": "execute_result",
          "data": {
            "text/html": [
              "<div>\n",
              "<style scoped>\n",
              "    .dataframe tbody tr th:only-of-type {\n",
              "        vertical-align: middle;\n",
              "    }\n",
              "\n",
              "    .dataframe tbody tr th {\n",
              "        vertical-align: top;\n",
              "    }\n",
              "\n",
              "    .dataframe thead th {\n",
              "        text-align: right;\n",
              "    }\n",
              "</style>\n",
              "<table border=\"1\" class=\"dataframe\">\n",
              "  <thead>\n",
              "    <tr style=\"text-align: right;\">\n",
              "      <th></th>\n",
              "      <th>name</th>\n",
              "      <th>gender</th>\n",
              "      <th>t1</th>\n",
              "      <th>t2</th>\n",
              "      <th>t3</th>\n",
              "      <th>t4</th>\n",
              "      <th>t5</th>\n",
              "      <th>t6</th>\n",
              "      <th>t7</th>\n",
              "      <th>t8</th>\n",
              "      <th>t9</th>\n",
              "      <th>t10</th>\n",
              "    </tr>\n",
              "  </thead>\n",
              "  <tbody>\n",
              "    <tr>\n",
              "      <th>0</th>\n",
              "      <td>Lê Đình Doanh</td>\n",
              "      <td>M</td>\n",
              "      <td>1673</td>\n",
              "      <td>586</td>\n",
              "      <td>259</td>\n",
              "      <td>764</td>\n",
              "      <td>1859</td>\n",
              "      <td>533</td>\n",
              "      <td>184</td>\n",
              "      <td>264</td>\n",
              "      <td>504</td>\n",
              "      <td>350</td>\n",
              "    </tr>\n",
              "    <tr>\n",
              "      <th>1</th>\n",
              "      <td>Huỳnh Ngọc Trinh</td>\n",
              "      <td>F</td>\n",
              "      <td>507</td>\n",
              "      <td>615</td>\n",
              "      <td>765</td>\n",
              "      <td>864</td>\n",
              "      <td>2170</td>\n",
              "      <td>1277</td>\n",
              "      <td>2141</td>\n",
              "      <td>975</td>\n",
              "      <td>761</td>\n",
              "      <td>2619</td>\n",
              "    </tr>\n",
              "    <tr>\n",
              "      <th>2</th>\n",
              "      <td>Cao Duy Hiếu</td>\n",
              "      <td>M</td>\n",
              "      <td>925</td>\n",
              "      <td>1548</td>\n",
              "      <td>114</td>\n",
              "      <td>332</td>\n",
              "      <td>108</td>\n",
              "      <td>539</td>\n",
              "      <td>74</td>\n",
              "      <td>999</td>\n",
              "      <td>2060</td>\n",
              "      <td>65</td>\n",
              "    </tr>\n",
              "    <tr>\n",
              "      <th>3</th>\n",
              "      <td>Thuận Thị Thảo Vân</td>\n",
              "      <td>F</td>\n",
              "      <td>308</td>\n",
              "      <td>660</td>\n",
              "      <td>1162</td>\n",
              "      <td>1919</td>\n",
              "      <td>1006</td>\n",
              "      <td>170</td>\n",
              "      <td>206</td>\n",
              "      <td>211</td>\n",
              "      <td>239</td>\n",
              "      <td>198</td>\n",
              "    </tr>\n",
              "    <tr>\n",
              "      <th>4</th>\n",
              "      <td>Nguyễn Hoài Nam</td>\n",
              "      <td>M</td>\n",
              "      <td>55</td>\n",
              "      <td>521</td>\n",
              "      <td>1327</td>\n",
              "      <td>86</td>\n",
              "      <td>70</td>\n",
              "      <td>44</td>\n",
              "      <td>132</td>\n",
              "      <td>254</td>\n",
              "      <td>44</td>\n",
              "      <td>738</td>\n",
              "    </tr>\n",
              "  </tbody>\n",
              "</table>\n",
              "</div>"
            ],
            "text/plain": [
              "                 name gender    t1    t2    t3  ...    t6    t7   t8    t9   t10\n",
              "0       Lê Đình Doanh      M  1673   586   259  ...   533   184  264   504   350\n",
              "1    Huỳnh Ngọc Trinh      F   507   615   765  ...  1277  2141  975   761  2619\n",
              "2        Cao Duy Hiếu      M   925  1548   114  ...   539    74  999  2060    65\n",
              "3  Thuận Thị Thảo Vân      F   308   660  1162  ...   170   206  211   239   198\n",
              "4     Nguyễn Hoài Nam      M    55   521  1327  ...    44   132  254    44   738\n",
              "\n",
              "[5 rows x 12 columns]"
            ]
          },
          "metadata": {
            "tags": []
          },
          "execution_count": 3
        }
      ]
    },
    {
      "cell_type": "markdown",
      "metadata": {
        "id": "EoZeWAD7OdyB",
        "colab_type": "text"
      },
      "source": [
        "**Câu 2** : Trong dữ liệu trên, có bao nhiêu nam, bao nhiêu nữ."
      ]
    },
    {
      "cell_type": "code",
      "metadata": {
        "id": "1G3GWp9tOnU6",
        "colab_type": "code",
        "outputId": "30054159-2696-498c-ceb5-4697ba6b0f76",
        "colab": {
          "base_uri": "https://localhost:8080/",
          "height": 68
        }
      },
      "source": [
        "dino.gender.value_counts()"
      ],
      "execution_count": 0,
      "outputs": [
        {
          "output_type": "execute_result",
          "data": {
            "text/plain": [
              "M    15\n",
              "F     5\n",
              "Name: gender, dtype: int64"
            ]
          },
          "metadata": {
            "tags": []
          },
          "execution_count": 4
        }
      ]
    },
    {
      "cell_type": "markdown",
      "metadata": {
        "id": "BnrKClPhOoAp",
        "colab_type": "text"
      },
      "source": [
        "**Câu 3** : In ra dữ liệu của chính bạn, nếu không có thì in ra dữ liệu của một bạn bất kỳ mà bạn thích."
      ]
    },
    {
      "cell_type": "code",
      "metadata": {
        "id": "wtSrMrAtO3d5",
        "colab_type": "code",
        "outputId": "c3a248fd-654b-4df3-e2bb-09562dd317d4",
        "colab": {
          "base_uri": "https://localhost:8080/",
          "height": 80
        }
      },
      "source": [
        "dino[dino.name == 'Lê Đình Doanh']"
      ],
      "execution_count": 0,
      "outputs": [
        {
          "output_type": "execute_result",
          "data": {
            "text/html": [
              "<div>\n",
              "<style scoped>\n",
              "    .dataframe tbody tr th:only-of-type {\n",
              "        vertical-align: middle;\n",
              "    }\n",
              "\n",
              "    .dataframe tbody tr th {\n",
              "        vertical-align: top;\n",
              "    }\n",
              "\n",
              "    .dataframe thead th {\n",
              "        text-align: right;\n",
              "    }\n",
              "</style>\n",
              "<table border=\"1\" class=\"dataframe\">\n",
              "  <thead>\n",
              "    <tr style=\"text-align: right;\">\n",
              "      <th></th>\n",
              "      <th>name</th>\n",
              "      <th>gender</th>\n",
              "      <th>t1</th>\n",
              "      <th>t2</th>\n",
              "      <th>t3</th>\n",
              "      <th>t4</th>\n",
              "      <th>t5</th>\n",
              "      <th>t6</th>\n",
              "      <th>t7</th>\n",
              "      <th>t8</th>\n",
              "      <th>t9</th>\n",
              "      <th>t10</th>\n",
              "    </tr>\n",
              "  </thead>\n",
              "  <tbody>\n",
              "    <tr>\n",
              "      <th>0</th>\n",
              "      <td>Lê Đình Doanh</td>\n",
              "      <td>M</td>\n",
              "      <td>1673</td>\n",
              "      <td>586</td>\n",
              "      <td>259</td>\n",
              "      <td>764</td>\n",
              "      <td>1859</td>\n",
              "      <td>533</td>\n",
              "      <td>184</td>\n",
              "      <td>264</td>\n",
              "      <td>504</td>\n",
              "      <td>350</td>\n",
              "    </tr>\n",
              "  </tbody>\n",
              "</table>\n",
              "</div>"
            ],
            "text/plain": [
              "            name gender    t1   t2   t3   t4    t5   t6   t7   t8   t9  t10\n",
              "0  Lê Đình Doanh      M  1673  586  259  764  1859  533  184  264  504  350"
            ]
          },
          "metadata": {
            "tags": []
          },
          "execution_count": 5
        }
      ]
    },
    {
      "cell_type": "markdown",
      "metadata": {
        "id": "IEYh4JrwO4eM",
        "colab_type": "text"
      },
      "source": [
        "**Câu 4 (1 điểm)** : In ra dữ liệu của những bạn có **tên** bắt đầu bằng chữ `N`. Quy ước : tên một người là từ cuối cùng trong họ và tên đầy đủ của người đó. Ví dụ `Huỳnh Ngọc Trinh` có tên là `Trinh`, `Nguyễn Quốc Đăng Khoa` có tên là `Khoa`.\n",
        "\n",
        "---\n",
        "_Gợi ý_ : dùng `.str.split()` để tách tên."
      ]
    },
    {
      "cell_type": "code",
      "metadata": {
        "id": "uJ6hfac9Pnv0",
        "colab_type": "code",
        "outputId": "7af67010-4218-4721-ec00-153eb201a8ef",
        "colab": {
          "base_uri": "https://localhost:8080/",
          "height": 204
        }
      },
      "source": [
        "def lay_chu_cai_dau_trong_ten(ho_va_ten) :\n",
        "    ten = ho_va_ten.split()[-1] # như quy ước, tên là từ cuối cùng\n",
        "    return ten[0]\n",
        "\n",
        "dino[dino.name.apply(lay_chu_cai_dau_trong_ten) == 'N']"
      ],
      "execution_count": 0,
      "outputs": [
        {
          "output_type": "execute_result",
          "data": {
            "text/html": [
              "<div>\n",
              "<style scoped>\n",
              "    .dataframe tbody tr th:only-of-type {\n",
              "        vertical-align: middle;\n",
              "    }\n",
              "\n",
              "    .dataframe tbody tr th {\n",
              "        vertical-align: top;\n",
              "    }\n",
              "\n",
              "    .dataframe thead th {\n",
              "        text-align: right;\n",
              "    }\n",
              "</style>\n",
              "<table border=\"1\" class=\"dataframe\">\n",
              "  <thead>\n",
              "    <tr style=\"text-align: right;\">\n",
              "      <th></th>\n",
              "      <th>name</th>\n",
              "      <th>gender</th>\n",
              "      <th>t1</th>\n",
              "      <th>t2</th>\n",
              "      <th>t3</th>\n",
              "      <th>t4</th>\n",
              "      <th>t5</th>\n",
              "      <th>t6</th>\n",
              "      <th>t7</th>\n",
              "      <th>t8</th>\n",
              "      <th>t9</th>\n",
              "      <th>t10</th>\n",
              "      <th>avg</th>\n",
              "      <th>ln_avg</th>\n",
              "      <th>sigma</th>\n",
              "      <th>score</th>\n",
              "    </tr>\n",
              "  </thead>\n",
              "  <tbody>\n",
              "    <tr>\n",
              "      <th>4</th>\n",
              "      <td>Nguyễn Hoài Nam</td>\n",
              "      <td>M</td>\n",
              "      <td>55</td>\n",
              "      <td>521</td>\n",
              "      <td>1327</td>\n",
              "      <td>86</td>\n",
              "      <td>70</td>\n",
              "      <td>44</td>\n",
              "      <td>132</td>\n",
              "      <td>254</td>\n",
              "      <td>44</td>\n",
              "      <td>738</td>\n",
              "      <td>327.1</td>\n",
              "      <td>5.790266</td>\n",
              "      <td>393.450877</td>\n",
              "      <td>0.014679</td>\n",
              "    </tr>\n",
              "    <tr>\n",
              "      <th>6</th>\n",
              "      <td>Vũ Thị Thanh Nga</td>\n",
              "      <td>F</td>\n",
              "      <td>88</td>\n",
              "      <td>85</td>\n",
              "      <td>58</td>\n",
              "      <td>175</td>\n",
              "      <td>124</td>\n",
              "      <td>227</td>\n",
              "      <td>184</td>\n",
              "      <td>143</td>\n",
              "      <td>291</td>\n",
              "      <td>228</td>\n",
              "      <td>160.3</td>\n",
              "      <td>5.077047</td>\n",
              "      <td>80.880618</td>\n",
              "      <td>0.062005</td>\n",
              "    </tr>\n",
              "    <tr>\n",
              "      <th>8</th>\n",
              "      <td>Lương Thế Nam</td>\n",
              "      <td>M</td>\n",
              "      <td>1172</td>\n",
              "      <td>706</td>\n",
              "      <td>681</td>\n",
              "      <td>552</td>\n",
              "      <td>950</td>\n",
              "      <td>151</td>\n",
              "      <td>905</td>\n",
              "      <td>174</td>\n",
              "      <td>301</td>\n",
              "      <td>325</td>\n",
              "      <td>591.7</td>\n",
              "      <td>6.383000</td>\n",
              "      <td>359.832085</td>\n",
              "      <td>0.017690</td>\n",
              "    </tr>\n",
              "    <tr>\n",
              "      <th>14</th>\n",
              "      <td>Nguyễn Duy Nam</td>\n",
              "      <td>M</td>\n",
              "      <td>43</td>\n",
              "      <td>121</td>\n",
              "      <td>42</td>\n",
              "      <td>119</td>\n",
              "      <td>59</td>\n",
              "      <td>131</td>\n",
              "      <td>59</td>\n",
              "      <td>116</td>\n",
              "      <td>52</td>\n",
              "      <td>52</td>\n",
              "      <td>79.4</td>\n",
              "      <td>4.374498</td>\n",
              "      <td>39.906888</td>\n",
              "      <td>0.106938</td>\n",
              "    </tr>\n",
              "    <tr>\n",
              "      <th>19</th>\n",
              "      <td>Phạm Thị Kim Ngân</td>\n",
              "      <td>F</td>\n",
              "      <td>80</td>\n",
              "      <td>142</td>\n",
              "      <td>48</td>\n",
              "      <td>340</td>\n",
              "      <td>388</td>\n",
              "      <td>465</td>\n",
              "      <td>229</td>\n",
              "      <td>284</td>\n",
              "      <td>42</td>\n",
              "      <td>487</td>\n",
              "      <td>250.5</td>\n",
              "      <td>5.523459</td>\n",
              "      <td>168.084632</td>\n",
              "      <td>0.032667</td>\n",
              "    </tr>\n",
              "  </tbody>\n",
              "</table>\n",
              "</div>"
            ],
            "text/plain": [
              "                 name gender    t1   t2  ...    avg    ln_avg       sigma     score\n",
              "4     Nguyễn Hoài Nam      M    55  521  ...  327.1  5.790266  393.450877  0.014679\n",
              "6    Vũ Thị Thanh Nga      F    88   85  ...  160.3  5.077047   80.880618  0.062005\n",
              "8       Lương Thế Nam      M  1172  706  ...  591.7  6.383000  359.832085  0.017690\n",
              "14     Nguyễn Duy Nam      M    43  121  ...   79.4  4.374498   39.906888  0.106938\n",
              "19  Phạm Thị Kim Ngân      F    80  142  ...  250.5  5.523459  168.084632  0.032667\n",
              "\n",
              "[5 rows x 16 columns]"
            ]
          },
          "metadata": {
            "tags": []
          },
          "execution_count": 57
        }
      ]
    },
    {
      "cell_type": "markdown",
      "metadata": {
        "id": "cM_fh8bsPx40",
        "colab_type": "text"
      },
      "source": [
        "**Câu 5** : In ra số điểm lớn nhất từng lần chơi."
      ]
    },
    {
      "cell_type": "code",
      "metadata": {
        "id": "wz51zwIbP3eB",
        "colab_type": "code",
        "outputId": "030305a6-550c-47c2-8c70-e5b7637f8cfc",
        "colab": {
          "base_uri": "https://localhost:8080/",
          "height": 204
        }
      },
      "source": [
        "dino.max(numeric_only = True)"
      ],
      "execution_count": 0,
      "outputs": [
        {
          "output_type": "execute_result",
          "data": {
            "text/plain": [
              "t1     3734\n",
              "t2     1548\n",
              "t3     3284\n",
              "t4     2981\n",
              "t5     2170\n",
              "t6     5137\n",
              "t7     2471\n",
              "t8     1985\n",
              "t9     2060\n",
              "t10    2619\n",
              "dtype: int64"
            ]
          },
          "metadata": {
            "tags": []
          },
          "execution_count": 19
        }
      ]
    },
    {
      "cell_type": "markdown",
      "metadata": {
        "id": "Q6EuaVg3P4TS",
        "colab_type": "text"
      },
      "source": [
        "**Câu 6** : In ra thống kê mô tả về điểm số của chính bạn, nếu không có thì làm tương tự **Câu 3**."
      ]
    },
    {
      "cell_type": "code",
      "metadata": {
        "id": "JB-SAFRMQRU8",
        "colab_type": "code",
        "outputId": "6ee33531-80f8-49b1-e2c6-7464bdc0a3df",
        "colab": {
          "base_uri": "https://localhost:8080/",
          "height": 297
        }
      },
      "source": [
        "cols = ['t1', 't2', 't3', 't4', 't5', 't6', 't7', 't8', 't9', 't10']\n",
        "dino.loc[dino.name == 'Lê Đình Doanh', cols].transpose().describe()"
      ],
      "execution_count": 0,
      "outputs": [
        {
          "output_type": "execute_result",
          "data": {
            "text/html": [
              "<div>\n",
              "<style scoped>\n",
              "    .dataframe tbody tr th:only-of-type {\n",
              "        vertical-align: middle;\n",
              "    }\n",
              "\n",
              "    .dataframe tbody tr th {\n",
              "        vertical-align: top;\n",
              "    }\n",
              "\n",
              "    .dataframe thead th {\n",
              "        text-align: right;\n",
              "    }\n",
              "</style>\n",
              "<table border=\"1\" class=\"dataframe\">\n",
              "  <thead>\n",
              "    <tr style=\"text-align: right;\">\n",
              "      <th></th>\n",
              "      <th>0</th>\n",
              "    </tr>\n",
              "  </thead>\n",
              "  <tbody>\n",
              "    <tr>\n",
              "      <th>count</th>\n",
              "      <td>10.000000</td>\n",
              "    </tr>\n",
              "    <tr>\n",
              "      <th>mean</th>\n",
              "      <td>697.600000</td>\n",
              "    </tr>\n",
              "    <tr>\n",
              "      <th>std</th>\n",
              "      <td>591.296354</td>\n",
              "    </tr>\n",
              "    <tr>\n",
              "      <th>min</th>\n",
              "      <td>184.000000</td>\n",
              "    </tr>\n",
              "    <tr>\n",
              "      <th>25%</th>\n",
              "      <td>285.500000</td>\n",
              "    </tr>\n",
              "    <tr>\n",
              "      <th>50%</th>\n",
              "      <td>518.500000</td>\n",
              "    </tr>\n",
              "    <tr>\n",
              "      <th>75%</th>\n",
              "      <td>719.500000</td>\n",
              "    </tr>\n",
              "    <tr>\n",
              "      <th>max</th>\n",
              "      <td>1859.000000</td>\n",
              "    </tr>\n",
              "  </tbody>\n",
              "</table>\n",
              "</div>"
            ],
            "text/plain": [
              "                 0\n",
              "count    10.000000\n",
              "mean    697.600000\n",
              "std     591.296354\n",
              "min     184.000000\n",
              "25%     285.500000\n",
              "50%     518.500000\n",
              "75%     719.500000\n",
              "max    1859.000000"
            ]
          },
          "metadata": {
            "tags": []
          },
          "execution_count": 61
        }
      ]
    },
    {
      "cell_type": "markdown",
      "metadata": {
        "id": "ylmJkQbyQSAV",
        "colab_type": "text"
      },
      "source": [
        "**Câu 7** : Tạo cột `avg` để lưu điểm trung bình từng người."
      ]
    },
    {
      "cell_type": "code",
      "metadata": {
        "id": "KCvaS7ENQhzl",
        "colab_type": "code",
        "colab": {}
      },
      "source": [
        "dino = dino.assign(avg = dino.mean(axis = 'columns'))"
      ],
      "execution_count": 0,
      "outputs": []
    },
    {
      "cell_type": "markdown",
      "metadata": {
        "id": "bGR9wjKXRJ40",
        "colab_type": "text"
      },
      "source": [
        "**Câu 8** : Tính điểm trung bình toàn bộ lớp.\n",
        "\n",
        "---\n",
        "_Gợi ý_ : Điểm trung bình cả lớp chính là trung bình cộng của điểm trung bình của từng người."
      ]
    },
    {
      "cell_type": "code",
      "metadata": {
        "id": "oK-ylLpQRhro",
        "colab_type": "code",
        "outputId": "5beaf5ea-cadc-493b-c078-acc4b27c9cc7",
        "colab": {
          "base_uri": "https://localhost:8080/",
          "height": 34
        }
      },
      "source": [
        "class_avg = dino.mean().mean()\n",
        "class_avg"
      ],
      "execution_count": 0,
      "outputs": [
        {
          "output_type": "execute_result",
          "data": {
            "text/plain": [
              "511.42"
            ]
          },
          "metadata": {
            "tags": []
          },
          "execution_count": 30
        }
      ]
    },
    {
      "cell_type": "markdown",
      "metadata": {
        "id": "XNrT1QzqRjRl",
        "colab_type": "text"
      },
      "source": [
        "**Câu 9** : In ra những bạn có điểm trung bình cao hơn điểm trung bình cả lớp."
      ]
    },
    {
      "cell_type": "code",
      "metadata": {
        "id": "QgB4Q3EHSCO9",
        "colab_type": "code",
        "outputId": "46468e83-9dd4-4dc2-8d9a-868f5aa9b5f6",
        "colab": {
          "base_uri": "https://localhost:8080/",
          "height": 328
        }
      },
      "source": [
        "dino[dino.avg > class_avg]"
      ],
      "execution_count": 0,
      "outputs": [
        {
          "output_type": "execute_result",
          "data": {
            "text/html": [
              "<div>\n",
              "<style scoped>\n",
              "    .dataframe tbody tr th:only-of-type {\n",
              "        vertical-align: middle;\n",
              "    }\n",
              "\n",
              "    .dataframe tbody tr th {\n",
              "        vertical-align: top;\n",
              "    }\n",
              "\n",
              "    .dataframe thead th {\n",
              "        text-align: right;\n",
              "    }\n",
              "</style>\n",
              "<table border=\"1\" class=\"dataframe\">\n",
              "  <thead>\n",
              "    <tr style=\"text-align: right;\">\n",
              "      <th></th>\n",
              "      <th>name</th>\n",
              "      <th>gender</th>\n",
              "      <th>t1</th>\n",
              "      <th>t2</th>\n",
              "      <th>t3</th>\n",
              "      <th>t4</th>\n",
              "      <th>t5</th>\n",
              "      <th>t6</th>\n",
              "      <th>t7</th>\n",
              "      <th>t8</th>\n",
              "      <th>t9</th>\n",
              "      <th>t10</th>\n",
              "      <th>avg</th>\n",
              "    </tr>\n",
              "  </thead>\n",
              "  <tbody>\n",
              "    <tr>\n",
              "      <th>0</th>\n",
              "      <td>Lê Đình Doanh</td>\n",
              "      <td>M</td>\n",
              "      <td>1673</td>\n",
              "      <td>586</td>\n",
              "      <td>259</td>\n",
              "      <td>764</td>\n",
              "      <td>1859</td>\n",
              "      <td>533</td>\n",
              "      <td>184</td>\n",
              "      <td>264</td>\n",
              "      <td>504</td>\n",
              "      <td>350</td>\n",
              "      <td>697.6</td>\n",
              "    </tr>\n",
              "    <tr>\n",
              "      <th>1</th>\n",
              "      <td>Huỳnh Ngọc Trinh</td>\n",
              "      <td>F</td>\n",
              "      <td>507</td>\n",
              "      <td>615</td>\n",
              "      <td>765</td>\n",
              "      <td>864</td>\n",
              "      <td>2170</td>\n",
              "      <td>1277</td>\n",
              "      <td>2141</td>\n",
              "      <td>975</td>\n",
              "      <td>761</td>\n",
              "      <td>2619</td>\n",
              "      <td>1269.4</td>\n",
              "    </tr>\n",
              "    <tr>\n",
              "      <th>2</th>\n",
              "      <td>Cao Duy Hiếu</td>\n",
              "      <td>M</td>\n",
              "      <td>925</td>\n",
              "      <td>1548</td>\n",
              "      <td>114</td>\n",
              "      <td>332</td>\n",
              "      <td>108</td>\n",
              "      <td>539</td>\n",
              "      <td>74</td>\n",
              "      <td>999</td>\n",
              "      <td>2060</td>\n",
              "      <td>65</td>\n",
              "      <td>676.4</td>\n",
              "    </tr>\n",
              "    <tr>\n",
              "      <th>3</th>\n",
              "      <td>Thuận Thị Thảo Vân</td>\n",
              "      <td>F</td>\n",
              "      <td>308</td>\n",
              "      <td>660</td>\n",
              "      <td>1162</td>\n",
              "      <td>1919</td>\n",
              "      <td>1006</td>\n",
              "      <td>170</td>\n",
              "      <td>206</td>\n",
              "      <td>211</td>\n",
              "      <td>239</td>\n",
              "      <td>198</td>\n",
              "      <td>607.9</td>\n",
              "    </tr>\n",
              "    <tr>\n",
              "      <th>8</th>\n",
              "      <td>Lương Thế Nam</td>\n",
              "      <td>M</td>\n",
              "      <td>1172</td>\n",
              "      <td>706</td>\n",
              "      <td>681</td>\n",
              "      <td>552</td>\n",
              "      <td>950</td>\n",
              "      <td>151</td>\n",
              "      <td>905</td>\n",
              "      <td>174</td>\n",
              "      <td>301</td>\n",
              "      <td>325</td>\n",
              "      <td>591.7</td>\n",
              "    </tr>\n",
              "    <tr>\n",
              "      <th>10</th>\n",
              "      <td>Nguyễn Duy Tuấn</td>\n",
              "      <td>M</td>\n",
              "      <td>561</td>\n",
              "      <td>340</td>\n",
              "      <td>52</td>\n",
              "      <td>2981</td>\n",
              "      <td>235</td>\n",
              "      <td>184</td>\n",
              "      <td>215</td>\n",
              "      <td>351</td>\n",
              "      <td>45</td>\n",
              "      <td>701</td>\n",
              "      <td>566.5</td>\n",
              "    </tr>\n",
              "    <tr>\n",
              "      <th>13</th>\n",
              "      <td>Nguyễn Khắc Tưởng</td>\n",
              "      <td>M</td>\n",
              "      <td>776</td>\n",
              "      <td>287</td>\n",
              "      <td>1252</td>\n",
              "      <td>302</td>\n",
              "      <td>598</td>\n",
              "      <td>342</td>\n",
              "      <td>932</td>\n",
              "      <td>731</td>\n",
              "      <td>136</td>\n",
              "      <td>385</td>\n",
              "      <td>574.1</td>\n",
              "    </tr>\n",
              "    <tr>\n",
              "      <th>15</th>\n",
              "      <td>Võ Thị Diễm Quyên</td>\n",
              "      <td>F</td>\n",
              "      <td>870</td>\n",
              "      <td>1025</td>\n",
              "      <td>1168</td>\n",
              "      <td>1086</td>\n",
              "      <td>544</td>\n",
              "      <td>101</td>\n",
              "      <td>846</td>\n",
              "      <td>1786</td>\n",
              "      <td>1120</td>\n",
              "      <td>574</td>\n",
              "      <td>912.0</td>\n",
              "    </tr>\n",
              "    <tr>\n",
              "      <th>17</th>\n",
              "      <td>Nguyễn Hoàng Tuấn</td>\n",
              "      <td>M</td>\n",
              "      <td>3734</td>\n",
              "      <td>310</td>\n",
              "      <td>3284</td>\n",
              "      <td>2862</td>\n",
              "      <td>1526</td>\n",
              "      <td>5137</td>\n",
              "      <td>2471</td>\n",
              "      <td>1985</td>\n",
              "      <td>362</td>\n",
              "      <td>325</td>\n",
              "      <td>2199.6</td>\n",
              "    </tr>\n",
              "  </tbody>\n",
              "</table>\n",
              "</div>"
            ],
            "text/plain": [
              "                  name gender    t1    t2    t3  ...    t7    t8    t9   t10     avg\n",
              "0        Lê Đình Doanh      M  1673   586   259  ...   184   264   504   350   697.6\n",
              "1     Huỳnh Ngọc Trinh      F   507   615   765  ...  2141   975   761  2619  1269.4\n",
              "2         Cao Duy Hiếu      M   925  1548   114  ...    74   999  2060    65   676.4\n",
              "3   Thuận Thị Thảo Vân      F   308   660  1162  ...   206   211   239   198   607.9\n",
              "8        Lương Thế Nam      M  1172   706   681  ...   905   174   301   325   591.7\n",
              "10     Nguyễn Duy Tuấn      M   561   340    52  ...   215   351    45   701   566.5\n",
              "13   Nguyễn Khắc Tưởng      M   776   287  1252  ...   932   731   136   385   574.1\n",
              "15   Võ Thị Diễm Quyên      F   870  1025  1168  ...   846  1786  1120   574   912.0\n",
              "17   Nguyễn Hoàng Tuấn      M  3734   310  3284  ...  2471  1985   362   325  2199.6\n",
              "\n",
              "[9 rows x 13 columns]"
            ]
          },
          "metadata": {
            "tags": []
          },
          "execution_count": 31
        }
      ]
    },
    {
      "cell_type": "markdown",
      "metadata": {
        "id": "KOeeJUMhSDgx",
        "colab_type": "text"
      },
      "source": [
        "**Câu 10** : Tính điểm trung bình các bạn nam và các bạn nữ."
      ]
    },
    {
      "cell_type": "code",
      "metadata": {
        "id": "flpgdv_KSKwx",
        "colab_type": "code",
        "outputId": "72449273-6dab-4d5b-def1-01ab96fe9956",
        "colab": {
          "base_uri": "https://localhost:8080/",
          "height": 85
        }
      },
      "source": [
        "dino.groupby('gender').mean().mean(axis = 'columns')"
      ],
      "execution_count": 0,
      "outputs": [
        {
          "output_type": "execute_result",
          "data": {
            "text/plain": [
              "gender\n",
              "F    640.020000\n",
              "M    468.553333\n",
              "dtype: float64"
            ]
          },
          "metadata": {
            "tags": []
          },
          "execution_count": 33
        }
      ]
    },
    {
      "cell_type": "markdown",
      "metadata": {
        "id": "wHoIDYX9UOU7",
        "colab_type": "text"
      },
      "source": [
        "Trong phần này, chúng ta dùng công thức sau đây để xếp hạng mọi người \n",
        "\n",
        "$\n",
        "score = \\frac{\\ln\\overline{s}}{1 + \\sigma}\n",
        "$\n",
        "\n",
        "Trong đó :\n",
        "- $score$ là điểm số dùng để xếp hạng.\n",
        "- $\\ln(x)$ là logarit tự nhiên.\n",
        "- $\\overline{s}$ là điểm trung bình của người chơi.\n",
        "- $\\sigma$ là độ lệch chuẩn của dữ liệu.\n",
        "\n",
        "Lưu ý : Công thức này được tạo ra để thực hành."
      ]
    },
    {
      "cell_type": "markdown",
      "metadata": {
        "id": "oMP84AEcW0Vk",
        "colab_type": "text"
      },
      "source": [
        "**Câu 11** : Tính $\\ln{\\overline{s}}$ từ cột `avg`.\n",
        "\n",
        "---\n",
        "_Gợi ý_ : dùng `.apply()` và `math.log()` (`import math`)."
      ]
    },
    {
      "cell_type": "code",
      "metadata": {
        "id": "i2rzuGeFWyyS",
        "colab_type": "code",
        "colab": {}
      },
      "source": [
        "dino = dino.assign(ln_avg = dino.avg.apply(math.log))"
      ],
      "execution_count": 0,
      "outputs": []
    },
    {
      "cell_type": "markdown",
      "metadata": {
        "id": "2aT5BozPXgea",
        "colab_type": "text"
      },
      "source": [
        "**Câu 12** : Tính độ lệch chuẩn trong dữ liệu của từng người."
      ]
    },
    {
      "cell_type": "code",
      "metadata": {
        "id": "tP7GgdsvXqgb",
        "colab_type": "code",
        "colab": {}
      },
      "source": [
        "dino = dino.assign(sigma = dino.std(axis = 'columns'))"
      ],
      "execution_count": 0,
      "outputs": []
    },
    {
      "cell_type": "markdown",
      "metadata": {
        "id": "Wp-Wt1e1XrML",
        "colab_type": "text"
      },
      "source": [
        "**Câu 13** : Tạo cột `score` với giá trị được cho bởi công thức trên."
      ]
    },
    {
      "cell_type": "code",
      "metadata": {
        "id": "4HhaK0-nYk2r",
        "colab_type": "code",
        "colab": {}
      },
      "source": [
        "dino = dino.assign(score = dino.ln_avg / (1 + dino.sigma))"
      ],
      "execution_count": 0,
      "outputs": []
    },
    {
      "cell_type": "markdown",
      "metadata": {
        "id": "tW7tegqhYll5",
        "colab_type": "text"
      },
      "source": [
        "**Câu 14** : In ra 3 người có `score` lớn nhất."
      ]
    },
    {
      "cell_type": "code",
      "metadata": {
        "id": "XkzZZzZ-YqOV",
        "colab_type": "code",
        "outputId": "68c71788-01cb-4a8b-d26f-c04d2ea94f48",
        "colab": {
          "base_uri": "https://localhost:8080/",
          "height": 142
        }
      },
      "source": [
        "dino.sort_values('score').tail(3)"
      ],
      "execution_count": 0,
      "outputs": [
        {
          "output_type": "execute_result",
          "data": {
            "text/html": [
              "<div>\n",
              "<style scoped>\n",
              "    .dataframe tbody tr th:only-of-type {\n",
              "        vertical-align: middle;\n",
              "    }\n",
              "\n",
              "    .dataframe tbody tr th {\n",
              "        vertical-align: top;\n",
              "    }\n",
              "\n",
              "    .dataframe thead th {\n",
              "        text-align: right;\n",
              "    }\n",
              "</style>\n",
              "<table border=\"1\" class=\"dataframe\">\n",
              "  <thead>\n",
              "    <tr style=\"text-align: right;\">\n",
              "      <th></th>\n",
              "      <th>name</th>\n",
              "      <th>gender</th>\n",
              "      <th>t1</th>\n",
              "      <th>t2</th>\n",
              "      <th>t3</th>\n",
              "      <th>t4</th>\n",
              "      <th>t5</th>\n",
              "      <th>t6</th>\n",
              "      <th>t7</th>\n",
              "      <th>t8</th>\n",
              "      <th>t9</th>\n",
              "      <th>t10</th>\n",
              "      <th>avg</th>\n",
              "      <th>ln_avg</th>\n",
              "      <th>sigma</th>\n",
              "      <th>score</th>\n",
              "    </tr>\n",
              "  </thead>\n",
              "  <tbody>\n",
              "    <tr>\n",
              "      <th>14</th>\n",
              "      <td>Nguyễn Duy Nam</td>\n",
              "      <td>M</td>\n",
              "      <td>43</td>\n",
              "      <td>121</td>\n",
              "      <td>42</td>\n",
              "      <td>119</td>\n",
              "      <td>59</td>\n",
              "      <td>131</td>\n",
              "      <td>59</td>\n",
              "      <td>116</td>\n",
              "      <td>52</td>\n",
              "      <td>52</td>\n",
              "      <td>79.4</td>\n",
              "      <td>4.374498</td>\n",
              "      <td>39.906888</td>\n",
              "      <td>0.106938</td>\n",
              "    </tr>\n",
              "    <tr>\n",
              "      <th>11</th>\n",
              "      <td>Phan Hoàng Kim</td>\n",
              "      <td>M</td>\n",
              "      <td>41</td>\n",
              "      <td>50</td>\n",
              "      <td>52</td>\n",
              "      <td>30</td>\n",
              "      <td>78</td>\n",
              "      <td>47</td>\n",
              "      <td>83</td>\n",
              "      <td>109</td>\n",
              "      <td>50</td>\n",
              "      <td>31</td>\n",
              "      <td>57.1</td>\n",
              "      <td>4.044804</td>\n",
              "      <td>27.444461</td>\n",
              "      <td>0.142200</td>\n",
              "    </tr>\n",
              "    <tr>\n",
              "      <th>12</th>\n",
              "      <td>Nguyễn Phong Phú</td>\n",
              "      <td>M</td>\n",
              "      <td>42</td>\n",
              "      <td>47</td>\n",
              "      <td>42</td>\n",
              "      <td>42</td>\n",
              "      <td>42</td>\n",
              "      <td>42</td>\n",
              "      <td>42</td>\n",
              "      <td>42</td>\n",
              "      <td>42</td>\n",
              "      <td>42</td>\n",
              "      <td>42.5</td>\n",
              "      <td>3.749504</td>\n",
              "      <td>11.277361</td>\n",
              "      <td>0.305400</td>\n",
              "    </tr>\n",
              "  </tbody>\n",
              "</table>\n",
              "</div>"
            ],
            "text/plain": [
              "                name gender  t1   t2  ...   avg    ln_avg      sigma     score\n",
              "14    Nguyễn Duy Nam      M  43  121  ...  79.4  4.374498  39.906888  0.106938\n",
              "11    Phan Hoàng Kim      M  41   50  ...  57.1  4.044804  27.444461  0.142200\n",
              "12  Nguyễn Phong Phú      M  42   47  ...  42.5  3.749504  11.277361  0.305400\n",
              "\n",
              "[3 rows x 16 columns]"
            ]
          },
          "metadata": {
            "tags": []
          },
          "execution_count": 45
        }
      ]
    },
    {
      "cell_type": "markdown",
      "metadata": {
        "id": "VvmZqEfoY2vd",
        "colab_type": "text"
      },
      "source": [
        "**Câu 15 (1 điểm)** : Tạo một `DataFrame` mới với các cột sau :\n",
        "- `trial` : gồm các giá trị từ $1, 2, \\cdots, 10$.\n",
        "- `name` : tên người chơi đạt điểm cao nhất trong lần chơi tương ứng với `trial`.\n",
        "- `score` : điểm số cao nhất.\n",
        "\n",
        "---\n",
        "_Gợi ý_ : tạo `DataFrame` thích hợp với từng lần chơi rồi dùng `pd.concat()`."
      ]
    },
    {
      "cell_type": "code",
      "metadata": {
        "id": "0YyTat2TZnfQ",
        "colab_type": "code",
        "outputId": "c7597787-0ff6-42c1-974f-94357678b4e5",
        "colab": {
          "base_uri": "https://localhost:8080/",
          "height": 390
        }
      },
      "source": [
        "cols = ['t1', 't2', 't3', 't4', 't5', 't6', 't7', 't8', 't9', 't10']\n",
        "\n",
        "best = pd.DataFrame(columns = ['name', 'score'])\n",
        "\n",
        "for t in cols :\n",
        "    b = dino.loc[dino[t] == dino[t].max(), ['name', t]]\n",
        "    b.columns = ['name', 'score']\n",
        "    best = best.append(b, ignore_index = True, sort = False)\n",
        "\n",
        "best.index = range(1, 11)\n",
        "best.index.name = 'trial'\n",
        "best"
      ],
      "execution_count": 0,
      "outputs": [
        {
          "output_type": "execute_result",
          "data": {
            "text/html": [
              "<div>\n",
              "<style scoped>\n",
              "    .dataframe tbody tr th:only-of-type {\n",
              "        vertical-align: middle;\n",
              "    }\n",
              "\n",
              "    .dataframe tbody tr th {\n",
              "        vertical-align: top;\n",
              "    }\n",
              "\n",
              "    .dataframe thead th {\n",
              "        text-align: right;\n",
              "    }\n",
              "</style>\n",
              "<table border=\"1\" class=\"dataframe\">\n",
              "  <thead>\n",
              "    <tr style=\"text-align: right;\">\n",
              "      <th></th>\n",
              "      <th>name</th>\n",
              "      <th>score</th>\n",
              "    </tr>\n",
              "    <tr>\n",
              "      <th>trial</th>\n",
              "      <th></th>\n",
              "      <th></th>\n",
              "    </tr>\n",
              "  </thead>\n",
              "  <tbody>\n",
              "    <tr>\n",
              "      <th>1</th>\n",
              "      <td>Nguyễn Hoàng Tuấn</td>\n",
              "      <td>3734</td>\n",
              "    </tr>\n",
              "    <tr>\n",
              "      <th>2</th>\n",
              "      <td>Cao Duy Hiếu</td>\n",
              "      <td>1548</td>\n",
              "    </tr>\n",
              "    <tr>\n",
              "      <th>3</th>\n",
              "      <td>Nguyễn Hoàng Tuấn</td>\n",
              "      <td>3284</td>\n",
              "    </tr>\n",
              "    <tr>\n",
              "      <th>4</th>\n",
              "      <td>Nguyễn Duy Tuấn</td>\n",
              "      <td>2981</td>\n",
              "    </tr>\n",
              "    <tr>\n",
              "      <th>5</th>\n",
              "      <td>Huỳnh Ngọc Trinh</td>\n",
              "      <td>2170</td>\n",
              "    </tr>\n",
              "    <tr>\n",
              "      <th>6</th>\n",
              "      <td>Nguyễn Hoàng Tuấn</td>\n",
              "      <td>5137</td>\n",
              "    </tr>\n",
              "    <tr>\n",
              "      <th>7</th>\n",
              "      <td>Nguyễn Hoàng Tuấn</td>\n",
              "      <td>2471</td>\n",
              "    </tr>\n",
              "    <tr>\n",
              "      <th>8</th>\n",
              "      <td>Nguyễn Hoàng Tuấn</td>\n",
              "      <td>1985</td>\n",
              "    </tr>\n",
              "    <tr>\n",
              "      <th>9</th>\n",
              "      <td>Cao Duy Hiếu</td>\n",
              "      <td>2060</td>\n",
              "    </tr>\n",
              "    <tr>\n",
              "      <th>10</th>\n",
              "      <td>Huỳnh Ngọc Trinh</td>\n",
              "      <td>2619</td>\n",
              "    </tr>\n",
              "  </tbody>\n",
              "</table>\n",
              "</div>"
            ],
            "text/plain": [
              "                    name score\n",
              "trial                         \n",
              "1      Nguyễn Hoàng Tuấn  3734\n",
              "2           Cao Duy Hiếu  1548\n",
              "3      Nguyễn Hoàng Tuấn  3284\n",
              "4        Nguyễn Duy Tuấn  2981\n",
              "5       Huỳnh Ngọc Trinh  2170\n",
              "6      Nguyễn Hoàng Tuấn  5137\n",
              "7      Nguyễn Hoàng Tuấn  2471\n",
              "8      Nguyễn Hoàng Tuấn  1985\n",
              "9           Cao Duy Hiếu  2060\n",
              "10      Huỳnh Ngọc Trinh  2619"
            ]
          },
          "metadata": {
            "tags": []
          },
          "execution_count": 64
        }
      ]
    },
    {
      "cell_type": "code",
      "metadata": {
        "id": "MoU4Q4oTzt0c",
        "colab_type": "code",
        "colab": {}
      },
      "source": [
        ""
      ],
      "execution_count": 0,
      "outputs": []
    }
  ]
}