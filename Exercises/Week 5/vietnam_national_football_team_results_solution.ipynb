{
  "nbformat": 4,
  "nbformat_minor": 0,
  "metadata": {
    "colab": {
      "name": "vietnam_national_football_team_results",
      "provenance": [],
      "collapsed_sections": []
    },
    "kernelspec": {
      "name": "python3",
      "display_name": "Python 3"
    }
  },
  "cells": [
    {
      "cell_type": "markdown",
      "metadata": {
        "id": "PJd2HaNDzDn5",
        "colab_type": "text"
      },
      "source": [
        "# Giới thiệu\n",
        "Trong bài này, chúng ta sẽ thực hiện một số phân tích trên dữ liệu thành tích của Đội tuyển Quốc gia Việt Nam từ năm 2010 - 2019 (chỉ tính các trận đấu chính thức trong khuôn khổ của FIFA)."
      ]
    },
    {
      "cell_type": "code",
      "metadata": {
        "id": "kLVodUQ_OqQr",
        "colab_type": "code",
        "outputId": "6ea6cb08-516c-4431-9b60-2a72aeb4d0c0",
        "colab": {
          "base_uri": "https://localhost:8080/",
          "height": 426
        }
      },
      "source": [
        "# Chạy thử ô này nhé! :)\n",
        "%%html\n",
        "<video width=\"720\" controls>\n",
        "  <source src=\"https://video.twimg.com/amplify_video/957176532127989760/vid/1280x720/nDjaQQWr-iJFwTva.mp4\" type=\"video/mp4\">\n",
        "</video>"
      ],
      "execution_count": 0,
      "outputs": [
        {
          "output_type": "display_data",
          "data": {
            "text/html": [
              "<video width=\"720\" controls>\n",
              "  <source src=\"https://video.twimg.com/amplify_video/957176532127989760/vid/1280x720/nDjaQQWr-iJFwTva.mp4\" type=\"video/mp4\">\n",
              "</video>"
            ],
            "text/plain": [
              "<IPython.core.display.HTML object>"
            ]
          },
          "metadata": {
            "tags": []
          }
        }
      ]
    },
    {
      "cell_type": "markdown",
      "metadata": {
        "id": "SOFd-NeRzcfX",
        "colab_type": "text"
      },
      "source": [
        "# Dữ liệu\n",
        "Dữ liệu của bài này được lấy từ [trang wiki](https://en.wikipedia.org/wiki/Vietnam_national_football_team_results) và được lưu trong file `vietnam_football_results.csv`.\n",
        "\n",
        "Dữ liệu bao gồm các cột :\n",
        "- `date` : ngày diễn ra trận đấu.\n",
        "- `opponent` : đối thủ của đội tuyển Việt Nam.\n",
        "- `score` : tỷ số trận đấu (chỉ tính trong 90' thi đấu chính thức). Số bàn thắng của đội tuyển Việt Nam luôn viết trước.\n",
        "- `venue` : địa điểm tổ chức trân đấu.\n",
        "- `venue_type` : vị thế của Đội tuyển Việt Nam\n",
        "    - `H` : đá ở sân nhà.\n",
        "    - `A` : đá ở sân khách.\n",
        "    - `N` : đá ở sân trung lập.\n",
        "- `competition` : giải đấu mà Đội tuyển Việt Nam tham gia."
      ]
    },
    {
      "cell_type": "markdown",
      "metadata": {
        "id": "E0VeYIKm1j0w",
        "colab_type": "text"
      },
      "source": [
        "# Bài tập"
      ]
    },
    {
      "cell_type": "code",
      "metadata": {
        "id": "iAu25sOHnz9J",
        "colab_type": "code",
        "colab": {}
      },
      "source": [
        "import pandas as pd"
      ],
      "execution_count": 0,
      "outputs": []
    },
    {
      "cell_type": "markdown",
      "metadata": {
        "id": "iTQJ33kC1mry",
        "colab_type": "text"
      },
      "source": [
        "**Câu 1** : Đọc dữ liệu vào `DataFrame`."
      ]
    },
    {
      "cell_type": "code",
      "metadata": {
        "id": "atfWBNCpy4YO",
        "colab_type": "code",
        "colab": {
          "base_uri": "https://localhost:8080/",
          "height": 204
        },
        "outputId": "af26a526-d3c4-47d8-a1a8-dd219611baa5"
      },
      "source": [
        "vn = pd.read_csv('https://raw.githubusercontent.com/Levytan/MIS.2019/master/Data/vietnam_football_results.csv')\n",
        "vn.head()"
      ],
      "execution_count": 12,
      "outputs": [
        {
          "output_type": "execute_result",
          "data": {
            "text/html": [
              "<div>\n",
              "<style scoped>\n",
              "    .dataframe tbody tr th:only-of-type {\n",
              "        vertical-align: middle;\n",
              "    }\n",
              "\n",
              "    .dataframe tbody tr th {\n",
              "        vertical-align: top;\n",
              "    }\n",
              "\n",
              "    .dataframe thead th {\n",
              "        text-align: right;\n",
              "    }\n",
              "</style>\n",
              "<table border=\"1\" class=\"dataframe\">\n",
              "  <thead>\n",
              "    <tr style=\"text-align: right;\">\n",
              "      <th></th>\n",
              "      <th>date</th>\n",
              "      <th>opponent</th>\n",
              "      <th>score</th>\n",
              "      <th>venue</th>\n",
              "      <th>competition</th>\n",
              "      <th>venue_type</th>\n",
              "    </tr>\n",
              "  </thead>\n",
              "  <tbody>\n",
              "    <tr>\n",
              "      <th>0</th>\n",
              "      <td>2010-01-06</td>\n",
              "      <td>Lebanon</td>\n",
              "      <td>1-1</td>\n",
              "      <td>Saida International Stadium, Saida</td>\n",
              "      <td>2011 AFC Asian Cup qualification</td>\n",
              "      <td>A</td>\n",
              "    </tr>\n",
              "    <tr>\n",
              "      <th>1</th>\n",
              "      <td>2010-01-17</td>\n",
              "      <td>China PR</td>\n",
              "      <td>1-2</td>\n",
              "      <td>Mỹ Đình National Stadium, Hanoi</td>\n",
              "      <td>2011 AFC Asian Cup qualification</td>\n",
              "      <td>H</td>\n",
              "    </tr>\n",
              "    <tr>\n",
              "      <th>2</th>\n",
              "      <td>2010-09-20</td>\n",
              "      <td>Kuwait</td>\n",
              "      <td>3-0</td>\n",
              "      <td>Mỹ Đình National Stadium, Hanoi</td>\n",
              "      <td>2010 Millennial Anniversary of Hanoi Football ...</td>\n",
              "      <td>H</td>\n",
              "    </tr>\n",
              "    <tr>\n",
              "      <th>3</th>\n",
              "      <td>2010-09-22</td>\n",
              "      <td>Australia</td>\n",
              "      <td>0-2</td>\n",
              "      <td>Mỹ Đình National Stadium, Hanoi</td>\n",
              "      <td>2010 Millennial Anniversary of Hanoi Football ...</td>\n",
              "      <td>H</td>\n",
              "    </tr>\n",
              "    <tr>\n",
              "      <th>4</th>\n",
              "      <td>2010-09-24</td>\n",
              "      <td>North Korea</td>\n",
              "      <td>0-0</td>\n",
              "      <td>Mỹ Đình National Stadium, Hanoi</td>\n",
              "      <td>2010 Millennial Anniversary of Hanoi Football ...</td>\n",
              "      <td>H</td>\n",
              "    </tr>\n",
              "  </tbody>\n",
              "</table>\n",
              "</div>"
            ],
            "text/plain": [
              "         date  ... venue_type\n",
              "0  2010-01-06  ...          A\n",
              "1  2010-01-17  ...          H\n",
              "2  2010-09-20  ...          H\n",
              "3  2010-09-22  ...          H\n",
              "4  2010-09-24  ...          H\n",
              "\n",
              "[5 rows x 6 columns]"
            ]
          },
          "metadata": {
            "tags": []
          },
          "execution_count": 12
        }
      ]
    },
    {
      "cell_type": "markdown",
      "metadata": {
        "id": "o1lN-U1o1ymq",
        "colab_type": "text"
      },
      "source": [
        "**Câu 2** : Kiểm tra kiểu dữ liệu các cột và thực hiện những chuyển đổi cần thiết."
      ]
    },
    {
      "cell_type": "code",
      "metadata": {
        "id": "rO0WKvMo2DOs",
        "colab_type": "code",
        "colab": {}
      },
      "source": [
        "vn = vn.assign(date = pd.to_datetime(vn.date))"
      ],
      "execution_count": 0,
      "outputs": []
    },
    {
      "cell_type": "markdown",
      "metadata": {
        "id": "qNFzFnM02D_0",
        "colab_type": "text"
      },
      "source": [
        "**Câu 3** : Đội tuyển Việt Nam đã thi đấu bao nhiêu trận trong giai đoạn 2010 - 2019, trong đó có bao nhiêu trận đá ở sân nhà, sân khách và sân trung lập."
      ]
    },
    {
      "cell_type": "code",
      "metadata": {
        "id": "QfzoKk_52nIR",
        "colab_type": "code",
        "colab": {
          "base_uri": "https://localhost:8080/",
          "height": 102
        },
        "outputId": "9f003776-33d4-4a5c-cac5-862927161e68"
      },
      "source": [
        "print('Số trận đã thi đấu :', vn.shape[0])\n",
        "vn.venue_type.value_counts()"
      ],
      "execution_count": 13,
      "outputs": [
        {
          "output_type": "stream",
          "text": [
            "Số trận đã thi đấu  95\n"
          ],
          "name": "stdout"
        },
        {
          "output_type": "execute_result",
          "data": {
            "text/plain": [
              "H    50\n",
              "A    41\n",
              "N     4\n",
              "Name: venue_type, dtype: int64"
            ]
          },
          "metadata": {
            "tags": []
          },
          "execution_count": 13
        }
      ]
    },
    {
      "cell_type": "markdown",
      "metadata": {
        "id": "4eMA7ONKbzfk",
        "colab_type": "text"
      },
      "source": [
        "**Câu 4** : Trong các trận ở sân nhà, Đội tyển Việt Nam thi đấu ở bao nhiêu địa điểm khác nhau, in ra những địa điểm đó."
      ]
    },
    {
      "cell_type": "code",
      "metadata": {
        "id": "K8tBI4B0cFi2",
        "colab_type": "code",
        "colab": {
          "base_uri": "https://localhost:8080/",
          "height": 102
        },
        "outputId": "bb09c2d8-163e-4c80-e42b-24605a6c592c"
      },
      "source": [
        "print('Số địa điểm khác nhau khi thi đấu ở sân nhà', vn[vn.venue_type == 'H'].venue.nunique())\n",
        "vn[vn.venue_type == 'H'].venue.unique()"
      ],
      "execution_count": 15,
      "outputs": [
        {
          "output_type": "stream",
          "text": [
            "Số địa điểm khác nhau khi thi đấu ở sân nhà 5\n"
          ],
          "name": "stdout"
        },
        {
          "output_type": "execute_result",
          "data": {
            "text/plain": [
              "array(['Mỹ Đình National Stadium, Hanoi',\n",
              "       'Thống Nhất Stadium, Ho Chi Minh City',\n",
              "       'Gò Đậu Stadium, Bình Dương', 'Lạch Tray Stadium, Hải Phòng',\n",
              "       'Hàng Đẫy Stadium, Hanoi'], dtype=object)"
            ]
          },
          "metadata": {
            "tags": []
          },
          "execution_count": 15
        }
      ]
    },
    {
      "cell_type": "markdown",
      "metadata": {
        "id": "ldILiLfu2pK5",
        "colab_type": "text"
      },
      "source": [
        "**Câu 5**: Đội tuyển Việt Nam đã thi đấu trung bình bao nhiêu trận mỗi năm?"
      ]
    },
    {
      "cell_type": "code",
      "metadata": {
        "id": "vTD3I19329w8",
        "colab_type": "code",
        "colab": {
          "base_uri": "https://localhost:8080/",
          "height": 34
        },
        "outputId": "78450097-a8ba-4281-8ea5-ab81c5755239"
      },
      "source": [
        "vn.shape[0] / vn.date.dt.year.nunique()"
      ],
      "execution_count": 18,
      "outputs": [
        {
          "output_type": "execute_result",
          "data": {
            "text/plain": [
              "9.5"
            ]
          },
          "metadata": {
            "tags": []
          },
          "execution_count": 18
        }
      ]
    },
    {
      "cell_type": "markdown",
      "metadata": {
        "id": "qq7gFZWi2-ug",
        "colab_type": "text"
      },
      "source": [
        "**Câu 6** : In ra số trận đội tuyển Việt Nam đá mỗi năm."
      ]
    },
    {
      "cell_type": "code",
      "metadata": {
        "id": "TEZVo3m13JDY",
        "colab_type": "code",
        "colab": {
          "base_uri": "https://localhost:8080/",
          "height": 204
        },
        "outputId": "8fa93976-9eea-4a55-b9d3-76f98d00803c"
      },
      "source": [
        "vn.date.dt.year.value_counts().sort_index()"
      ],
      "execution_count": 19,
      "outputs": [
        {
          "output_type": "execute_result",
          "data": {
            "text/plain": [
              "2010    15\n",
              "2011     5\n",
              "2012    13\n",
              "2013     6\n",
              "2014    10\n",
              "2015     5\n",
              "2016    13\n",
              "2017     6\n",
              "2018    10\n",
              "2019    12\n",
              "Name: date, dtype: int64"
            ]
          },
          "metadata": {
            "tags": []
          },
          "execution_count": 19
        }
      ]
    },
    {
      "cell_type": "markdown",
      "metadata": {
        "id": "U0jz-xUpKkVr",
        "colab_type": "text"
      },
      "source": [
        "**Câu 7**: Đội tuyển đã thi đấu với bao nhiêu đội bóng, trong đó, đội nào nhiều lần nhất?"
      ]
    },
    {
      "cell_type": "code",
      "metadata": {
        "id": "Nh13e3uFWbMr",
        "colab_type": "code",
        "colab": {
          "base_uri": "https://localhost:8080/",
          "height": 68
        },
        "outputId": "1f188679-0043-40d2-a2dd-ca3668799482"
      },
      "source": [
        "print('Số đối thủ đã thi đấu', vn.opponent.nunique())\n",
        "vn.opponent.value_counts().sort_values().tail(1)"
      ],
      "execution_count": 20,
      "outputs": [
        {
          "output_type": "stream",
          "text": [
            "Số đối thủ đã thi đấu 33\n"
          ],
          "name": "stdout"
        },
        {
          "output_type": "execute_result",
          "data": {
            "text/plain": [
              "Malaysia    12\n",
              "Name: opponent, dtype: int64"
            ]
          },
          "metadata": {
            "tags": []
          },
          "execution_count": 20
        }
      ]
    },
    {
      "cell_type": "markdown",
      "metadata": {
        "id": "PAY9ZZ9VWhQ0",
        "colab_type": "text"
      },
      "source": [
        "**Câu 8 (1 điểm)** : Từ cột `score`, tạo ra hai cột mới lần lượt là :\n",
        "- `goal` : số bàn thắng Đội tuyển Việt Nam ghi được.\n",
        "- `conceded_goal` : số bàn bị thủng lưới của Đội tuyển Việt Nam.\n",
        "\n",
        "---\n",
        "_Gợi ý_ : dùng `.str.split('-')` để tách chuỗi từ `score`."
      ]
    },
    {
      "cell_type": "code",
      "metadata": {
        "id": "cz124Qj8XOU_",
        "colab_type": "code",
        "colab": {
          "base_uri": "https://localhost:8080/",
          "height": 204
        },
        "outputId": "11e57ff0-c128-4760-fb26-59878d1a0056"
      },
      "source": [
        "vn = vn.assign(\n",
        "    goal = vn.score.apply(lambda x : int(x.split('-')[0])), \n",
        "    conceded_goal = vn.score.apply(lambda x : int(x.split('-')[1]))\n",
        ")\n",
        "vn.head()"
      ],
      "execution_count": 23,
      "outputs": [
        {
          "output_type": "execute_result",
          "data": {
            "text/html": [
              "<div>\n",
              "<style scoped>\n",
              "    .dataframe tbody tr th:only-of-type {\n",
              "        vertical-align: middle;\n",
              "    }\n",
              "\n",
              "    .dataframe tbody tr th {\n",
              "        vertical-align: top;\n",
              "    }\n",
              "\n",
              "    .dataframe thead th {\n",
              "        text-align: right;\n",
              "    }\n",
              "</style>\n",
              "<table border=\"1\" class=\"dataframe\">\n",
              "  <thead>\n",
              "    <tr style=\"text-align: right;\">\n",
              "      <th></th>\n",
              "      <th>date</th>\n",
              "      <th>opponent</th>\n",
              "      <th>score</th>\n",
              "      <th>venue</th>\n",
              "      <th>competition</th>\n",
              "      <th>venue_type</th>\n",
              "      <th>goal</th>\n",
              "      <th>conceded_goal</th>\n",
              "    </tr>\n",
              "  </thead>\n",
              "  <tbody>\n",
              "    <tr>\n",
              "      <th>0</th>\n",
              "      <td>2010-01-06</td>\n",
              "      <td>Lebanon</td>\n",
              "      <td>1-1</td>\n",
              "      <td>Saida International Stadium, Saida</td>\n",
              "      <td>2011 AFC Asian Cup qualification</td>\n",
              "      <td>A</td>\n",
              "      <td>1</td>\n",
              "      <td>1</td>\n",
              "    </tr>\n",
              "    <tr>\n",
              "      <th>1</th>\n",
              "      <td>2010-01-17</td>\n",
              "      <td>China PR</td>\n",
              "      <td>1-2</td>\n",
              "      <td>Mỹ Đình National Stadium, Hanoi</td>\n",
              "      <td>2011 AFC Asian Cup qualification</td>\n",
              "      <td>H</td>\n",
              "      <td>1</td>\n",
              "      <td>2</td>\n",
              "    </tr>\n",
              "    <tr>\n",
              "      <th>2</th>\n",
              "      <td>2010-09-20</td>\n",
              "      <td>Kuwait</td>\n",
              "      <td>3-0</td>\n",
              "      <td>Mỹ Đình National Stadium, Hanoi</td>\n",
              "      <td>2010 Millennial Anniversary of Hanoi Football ...</td>\n",
              "      <td>H</td>\n",
              "      <td>3</td>\n",
              "      <td>0</td>\n",
              "    </tr>\n",
              "    <tr>\n",
              "      <th>3</th>\n",
              "      <td>2010-09-22</td>\n",
              "      <td>Australia</td>\n",
              "      <td>0-2</td>\n",
              "      <td>Mỹ Đình National Stadium, Hanoi</td>\n",
              "      <td>2010 Millennial Anniversary of Hanoi Football ...</td>\n",
              "      <td>H</td>\n",
              "      <td>0</td>\n",
              "      <td>2</td>\n",
              "    </tr>\n",
              "    <tr>\n",
              "      <th>4</th>\n",
              "      <td>2010-09-24</td>\n",
              "      <td>North Korea</td>\n",
              "      <td>0-0</td>\n",
              "      <td>Mỹ Đình National Stadium, Hanoi</td>\n",
              "      <td>2010 Millennial Anniversary of Hanoi Football ...</td>\n",
              "      <td>H</td>\n",
              "      <td>0</td>\n",
              "      <td>0</td>\n",
              "    </tr>\n",
              "  </tbody>\n",
              "</table>\n",
              "</div>"
            ],
            "text/plain": [
              "        date     opponent score  ... venue_type goal conceded_goal\n",
              "0 2010-01-06      Lebanon   1-1  ...          A    1             1\n",
              "1 2010-01-17     China PR   1-2  ...          H    1             2\n",
              "2 2010-09-20       Kuwait   3-0  ...          H    3             0\n",
              "3 2010-09-22    Australia   0-2  ...          H    0             2\n",
              "4 2010-09-24  North Korea   0-0  ...          H    0             0\n",
              "\n",
              "[5 rows x 8 columns]"
            ]
          },
          "metadata": {
            "tags": []
          },
          "execution_count": 23
        }
      ]
    },
    {
      "cell_type": "markdown",
      "metadata": {
        "id": "G2R-61yoXToO",
        "colab_type": "text"
      },
      "source": [
        "**Câu 9** : In ra những trận mà đội tuyển Việt Nam ghi được nhiều bàn thắng nhất?"
      ]
    },
    {
      "cell_type": "code",
      "metadata": {
        "id": "WFXKGcKYXd8F",
        "colab_type": "code",
        "colab": {
          "base_uri": "https://localhost:8080/",
          "height": 111
        },
        "outputId": "06ea8b9d-ed59-4f55-e553-66cb4e93950b"
      },
      "source": [
        "vn[vn.goal == vn.goal.max()]"
      ],
      "execution_count": 25,
      "outputs": [
        {
          "output_type": "execute_result",
          "data": {
            "text/html": [
              "<div>\n",
              "<style scoped>\n",
              "    .dataframe tbody tr th:only-of-type {\n",
              "        vertical-align: middle;\n",
              "    }\n",
              "\n",
              "    .dataframe tbody tr th {\n",
              "        vertical-align: top;\n",
              "    }\n",
              "\n",
              "    .dataframe thead th {\n",
              "        text-align: right;\n",
              "    }\n",
              "</style>\n",
              "<table border=\"1\" class=\"dataframe\">\n",
              "  <thead>\n",
              "    <tr style=\"text-align: right;\">\n",
              "      <th></th>\n",
              "      <th>date</th>\n",
              "      <th>opponent</th>\n",
              "      <th>score</th>\n",
              "      <th>venue</th>\n",
              "      <th>competition</th>\n",
              "      <th>venue_type</th>\n",
              "      <th>goal</th>\n",
              "      <th>conceded_goal</th>\n",
              "    </tr>\n",
              "  </thead>\n",
              "  <tbody>\n",
              "    <tr>\n",
              "      <th>10</th>\n",
              "      <td>2010-12-02</td>\n",
              "      <td>Myanmar</td>\n",
              "      <td>7-1</td>\n",
              "      <td>Mỹ Đình National Stadium, Hanoi</td>\n",
              "      <td>2010 AFF Championship</td>\n",
              "      <td>H</td>\n",
              "      <td>7</td>\n",
              "      <td>1</td>\n",
              "    </tr>\n",
              "    <tr>\n",
              "      <th>16</th>\n",
              "      <td>2011-07-03</td>\n",
              "      <td>Macau</td>\n",
              "      <td>7-1</td>\n",
              "      <td>Estádio Campo Desportivo, Taipa</td>\n",
              "      <td>2014 FIFA World Cup qualification - AFC First ...</td>\n",
              "      <td>A</td>\n",
              "      <td>7</td>\n",
              "      <td>1</td>\n",
              "    </tr>\n",
              "  </tbody>\n",
              "</table>\n",
              "</div>"
            ],
            "text/plain": [
              "         date opponent score  ... venue_type goal conceded_goal\n",
              "10 2010-12-02  Myanmar   7-1  ...          H    7             1\n",
              "16 2011-07-03    Macau   7-1  ...          A    7             1\n",
              "\n",
              "[2 rows x 8 columns]"
            ]
          },
          "metadata": {
            "tags": []
          },
          "execution_count": 25
        }
      ]
    },
    {
      "cell_type": "markdown",
      "metadata": {
        "id": "wY0dhqTvXfD7",
        "colab_type": "text"
      },
      "source": [
        "**Câu 10** : Tính số bàn thắng trung bình của đội tuyển Việt Nam."
      ]
    },
    {
      "cell_type": "code",
      "metadata": {
        "id": "cMhtVsa_XuQo",
        "colab_type": "code",
        "colab": {
          "base_uri": "https://localhost:8080/",
          "height": 34
        },
        "outputId": "d517312f-a76d-4b6e-cbd0-45fc53c99127"
      },
      "source": [
        "vn.goal.mean()"
      ],
      "execution_count": 26,
      "outputs": [
        {
          "output_type": "execute_result",
          "data": {
            "text/plain": [
              "1.5473684210526315"
            ]
          },
          "metadata": {
            "tags": []
          },
          "execution_count": 26
        }
      ]
    },
    {
      "cell_type": "markdown",
      "metadata": {
        "id": "8WjverVxXvDj",
        "colab_type": "text"
      },
      "source": [
        "**Câu 11** : Tính tỷ lệ thắng của Đội tuyển Việt Nam."
      ]
    },
    {
      "cell_type": "code",
      "metadata": {
        "id": "V-WCvzV0X2vY",
        "colab_type": "code",
        "colab": {
          "base_uri": "https://localhost:8080/",
          "height": 34
        },
        "outputId": "9cef81bf-4673-4470-ccec-0f005c2310bf"
      },
      "source": [
        "vn[vn.goal > vn.conceded_goal].size / vn.size"
      ],
      "execution_count": 27,
      "outputs": [
        {
          "output_type": "execute_result",
          "data": {
            "text/plain": [
              "0.43157894736842106"
            ]
          },
          "metadata": {
            "tags": []
          },
          "execution_count": 27
        }
      ]
    },
    {
      "cell_type": "markdown",
      "metadata": {
        "id": "PYTaTwE_YBI-",
        "colab_type": "text"
      },
      "source": [
        "**Câu 12** : Lấy ra các trận giao hữu trong khoảng thời gian trên. Biết rằng, các trận giao hữu được ghi là `'Friendly'` trong `competition`. "
      ]
    },
    {
      "cell_type": "code",
      "metadata": {
        "id": "wz5-w_lcZvnm",
        "colab_type": "code",
        "colab": {
          "base_uri": "https://localhost:8080/",
          "height": 204
        },
        "outputId": "3f9aacce-116a-40cc-dc64-248042e4bd19"
      },
      "source": [
        "friendly = vn[vn.competition == 'Friendly']\n",
        "friendly.head()"
      ],
      "execution_count": 30,
      "outputs": [
        {
          "output_type": "execute_result",
          "data": {
            "text/html": [
              "<div>\n",
              "<style scoped>\n",
              "    .dataframe tbody tr th:only-of-type {\n",
              "        vertical-align: middle;\n",
              "    }\n",
              "\n",
              "    .dataframe tbody tr th {\n",
              "        vertical-align: top;\n",
              "    }\n",
              "\n",
              "    .dataframe thead th {\n",
              "        text-align: right;\n",
              "    }\n",
              "</style>\n",
              "<table border=\"1\" class=\"dataframe\">\n",
              "  <thead>\n",
              "    <tr style=\"text-align: right;\">\n",
              "      <th></th>\n",
              "      <th>date</th>\n",
              "      <th>opponent</th>\n",
              "      <th>score</th>\n",
              "      <th>venue</th>\n",
              "      <th>competition</th>\n",
              "      <th>venue_type</th>\n",
              "      <th>goal</th>\n",
              "      <th>conceded_goal</th>\n",
              "    </tr>\n",
              "  </thead>\n",
              "  <tbody>\n",
              "    <tr>\n",
              "      <th>5</th>\n",
              "      <td>2010-10-08</td>\n",
              "      <td>India</td>\n",
              "      <td>1-3</td>\n",
              "      <td>India</td>\n",
              "      <td>Friendly</td>\n",
              "      <td>A</td>\n",
              "      <td>1</td>\n",
              "      <td>3</td>\n",
              "    </tr>\n",
              "    <tr>\n",
              "      <th>6</th>\n",
              "      <td>2010-10-12</td>\n",
              "      <td>Kuwait</td>\n",
              "      <td>1-3</td>\n",
              "      <td>Jaber Al-Ahmad International Stadium, Kuwait City</td>\n",
              "      <td>Friendly</td>\n",
              "      <td>A</td>\n",
              "      <td>1</td>\n",
              "      <td>3</td>\n",
              "    </tr>\n",
              "    <tr>\n",
              "      <th>19</th>\n",
              "      <td>2011-10-07</td>\n",
              "      <td>Japan</td>\n",
              "      <td>0-1</td>\n",
              "      <td>Japan</td>\n",
              "      <td>Friendly</td>\n",
              "      <td>A</td>\n",
              "      <td>0</td>\n",
              "      <td>1</td>\n",
              "    </tr>\n",
              "    <tr>\n",
              "      <th>20</th>\n",
              "      <td>2012-06-08</td>\n",
              "      <td>China PR</td>\n",
              "      <td>0-3</td>\n",
              "      <td>Wuhan Sports Centre Stadium, Wuhan</td>\n",
              "      <td>Friendly</td>\n",
              "      <td>A</td>\n",
              "      <td>0</td>\n",
              "      <td>3</td>\n",
              "    </tr>\n",
              "    <tr>\n",
              "      <th>21</th>\n",
              "      <td>2012-06-10</td>\n",
              "      <td>Hong Kong</td>\n",
              "      <td>2-1</td>\n",
              "      <td>Mong Kok Stadium, Kowloon</td>\n",
              "      <td>Friendly</td>\n",
              "      <td>A</td>\n",
              "      <td>2</td>\n",
              "      <td>1</td>\n",
              "    </tr>\n",
              "  </tbody>\n",
              "</table>\n",
              "</div>"
            ],
            "text/plain": [
              "         date   opponent score  ... venue_type goal conceded_goal\n",
              "5  2010-10-08      India   1-3  ...          A    1             3\n",
              "6  2010-10-12     Kuwait   1-3  ...          A    1             3\n",
              "19 2011-10-07      Japan   0-1  ...          A    0             1\n",
              "20 2012-06-08   China PR   0-3  ...          A    0             3\n",
              "21 2012-06-10  Hong Kong   2-1  ...          A    2             1\n",
              "\n",
              "[5 rows x 8 columns]"
            ]
          },
          "metadata": {
            "tags": []
          },
          "execution_count": 30
        }
      ]
    },
    {
      "cell_type": "markdown",
      "metadata": {
        "id": "WpJ0QexTbADj",
        "colab_type": "text"
      },
      "source": [
        "**Câu 13** : Tính tỷ lệ thắng của Đội tuyển Việt Nam trong các trận giao hữu."
      ]
    },
    {
      "cell_type": "code",
      "metadata": {
        "id": "yYztAH2gbLOq",
        "colab_type": "code",
        "colab": {
          "base_uri": "https://localhost:8080/",
          "height": 34
        },
        "outputId": "b2c3e769-d99b-43de-8c1d-88a50c83fcf9"
      },
      "source": [
        "friendly[friendly.goal > friendly.conceded_goal].size / friendly.size"
      ],
      "execution_count": 31,
      "outputs": [
        {
          "output_type": "execute_result",
          "data": {
            "text/plain": [
              "0.5"
            ]
          },
          "metadata": {
            "tags": []
          },
          "execution_count": 31
        }
      ]
    },
    {
      "cell_type": "markdown",
      "metadata": {
        "id": "fC74AQGGbY19",
        "colab_type": "text"
      },
      "source": [
        "**Câu 14** : Số bàn thua trung bình trong các trận đấu **không phải** giao hữu."
      ]
    },
    {
      "cell_type": "code",
      "metadata": {
        "id": "cxwCmuHWbkrX",
        "colab_type": "code",
        "colab": {
          "base_uri": "https://localhost:8080/",
          "height": 34
        },
        "outputId": "f059bf6b-5c92-4078-8636-a452a93562aa"
      },
      "source": [
        "vn.loc[vn.competition != 'Friendly', 'conceded_goal'].mean()"
      ],
      "execution_count": 32,
      "outputs": [
        {
          "output_type": "execute_result",
          "data": {
            "text/plain": [
              "1.1232876712328768"
            ]
          },
          "metadata": {
            "tags": []
          },
          "execution_count": 32
        }
      ]
    },
    {
      "cell_type": "code",
      "metadata": {
        "id": "cxJhiPGpzrbM",
        "colab_type": "code",
        "colab": {}
      },
      "source": [
        ""
      ],
      "execution_count": 0,
      "outputs": []
    }
  ]
}