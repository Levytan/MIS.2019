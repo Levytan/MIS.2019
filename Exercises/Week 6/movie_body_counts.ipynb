{
  "nbformat": 4,
  "nbformat_minor": 0,
  "metadata": {
    "colab": {
      "name": "movie_body_counts",
      "provenance": []
    },
    "kernelspec": {
      "name": "python3",
      "display_name": "Python 3"
    }
  },
  "cells": [
    {
      "cell_type": "markdown",
      "metadata": {
        "id": "BY7zhOLs9RyT",
        "colab_type": "text"
      },
      "source": [
        "# Giới thiệu \n",
        "Trong bài này, chúng ta sẽ phân tích về những người đã chết trong những bộ phim màn ảnh rộng."
      ]
    },
    {
      "cell_type": "markdown",
      "metadata": {
        "id": "SrB4QsiM9ugE",
        "colab_type": "text"
      },
      "source": [
        "# Dữ liệu\n",
        "Dữ liệu được thu thập từ trang [Movie Body Counts](http://www.moviebodycounts.com/) và được lưu trong `film_death_counts.csv`.\n",
        "\n",
        "Dữ liệu bao gồm các cột :\n",
        "- `film` : tên phim.\n",
        "- `year` : năm phát hành.\n",
        "- `body_count` : số lượng người chết trên màn ảnh.\n",
        "- `mpaa_rating` : rating của phim.\n",
        "- `genre` : thể loại phim.\n",
        "- `director` : đạo diễn phim.\n",
        "- `length` : thời lượng phim, tính bằng phút.\n",
        "- `imdb_rating` : điểm [IMDB](https://www.imdb.com/)."
      ]
    },
    {
      "cell_type": "markdown",
      "metadata": {
        "id": "2x8QzNxk_dEj",
        "colab_type": "text"
      },
      "source": [
        "# Bài tập"
      ]
    },
    {
      "cell_type": "markdown",
      "metadata": {
        "id": "RkykA8RY_gPm",
        "colab_type": "text"
      },
      "source": [
        "**Câu 1** : Đọc dữ liệu vào DataFrame."
      ]
    },
    {
      "cell_type": "code",
      "metadata": {
        "id": "B_1vtN5f6SoN",
        "colab_type": "code",
        "colab": {}
      },
      "source": [
        ""
      ],
      "execution_count": 0,
      "outputs": []
    },
    {
      "cell_type": "markdown",
      "metadata": {
        "id": "wewg-CzR_l2_",
        "colab_type": "text"
      },
      "source": [
        "**Câu 2** : Có bao nhiêu bộ phim trong bộ dữ liệu trên."
      ]
    },
    {
      "cell_type": "code",
      "metadata": {
        "id": "WE0yzGe8_1rn",
        "colab_type": "code",
        "colab": {}
      },
      "source": [
        ""
      ],
      "execution_count": 0,
      "outputs": []
    },
    {
      "cell_type": "markdown",
      "metadata": {
        "id": "ItcGLYjr_3jf",
        "colab_type": "text"
      },
      "source": [
        "**Câu 3** : In ra 5 bộ phim có số lượng người chết nhiều nhất."
      ]
    },
    {
      "cell_type": "code",
      "metadata": {
        "id": "XqpP8vtw_9bT",
        "colab_type": "code",
        "colab": {}
      },
      "source": [
        ""
      ],
      "execution_count": 0,
      "outputs": []
    },
    {
      "cell_type": "markdown",
      "metadata": {
        "id": "84i8TvTS_-OC",
        "colab_type": "text"
      },
      "source": [
        "**Câu 4** : Tạo cột `body_per_min` và tính số người chết trung bình mỗi phút. In ra 5 bộ phim có số lượng người chết mỗi phút nhiều nhất."
      ]
    },
    {
      "cell_type": "code",
      "metadata": {
        "id": "fUTX-DDWAH5_",
        "colab_type": "code",
        "colab": {}
      },
      "source": [
        ""
      ],
      "execution_count": 0,
      "outputs": []
    },
    {
      "cell_type": "markdown",
      "metadata": {
        "id": "cJToUcmdAIgQ",
        "colab_type": "text"
      },
      "source": [
        "**Câu 5** : Thống kê số lượng người chết theo năm."
      ]
    },
    {
      "cell_type": "code",
      "metadata": {
        "id": "CSWaohcXAP0D",
        "colab_type": "code",
        "colab": {}
      },
      "source": [
        ""
      ],
      "execution_count": 0,
      "outputs": []
    },
    {
      "cell_type": "markdown",
      "metadata": {
        "id": "bcCA3l81ASPs",
        "colab_type": "text"
      },
      "source": [
        "**Câu 6** : Thống kê số lượng phim và số người chết theo thập kỷ.\n",
        "\n",
        "Biết rằng : một thập kỷ là khoảng thời gian 10 năm, bắt đầu từ năm tròn chục. Ví dụ : thập kỷ 2010 là chỉ khoảng thời gian từ 01/01/2010 đến 31/12/2019."
      ]
    },
    {
      "cell_type": "code",
      "metadata": {
        "id": "Vtmh6tzSAgAv",
        "colab_type": "code",
        "colab": {}
      },
      "source": [
        ""
      ],
      "execution_count": 0,
      "outputs": []
    },
    {
      "cell_type": "markdown",
      "metadata": {
        "id": "Bev5qpZ2AkPg",
        "colab_type": "text"
      },
      "source": [
        "**Câu 7** : Vẽ histogram cho số lượng người chết."
      ]
    },
    {
      "cell_type": "code",
      "metadata": {
        "id": "xrY3ih4wAuPy",
        "colab_type": "code",
        "colab": {}
      },
      "source": [
        ""
      ],
      "execution_count": 0,
      "outputs": []
    },
    {
      "cell_type": "markdown",
      "metadata": {
        "id": "haq5ngxIA4cZ",
        "colab_type": "text"
      },
      "source": [
        "**Câu 8** : Vẽ kde plot cho `imdb_rating`."
      ]
    },
    {
      "cell_type": "code",
      "metadata": {
        "id": "x03_TdAcBBBj",
        "colab_type": "code",
        "colab": {}
      },
      "source": [
        ""
      ],
      "execution_count": 0,
      "outputs": []
    },
    {
      "cell_type": "markdown",
      "metadata": {
        "id": "-I5O9l2EBCcV",
        "colab_type": "text"
      },
      "source": [
        "**Câu 9** : Thực hiện các yêu cầu sau :\n",
        "1. Dùng `str.split('|')` để chuyển cột `director` thành `list`.\n",
        "2. Dùng phương thức `.explode()` của DataFrame để phân rã cột `director`.\n",
        "3. Thống kê số người chết theo đạo diễn.\n",
        "4. In ra 5 đạo diễn 'giết' nhiều người nhất và số nạn nhân của họ.\n",
        "\n",
        "---\n",
        "Phương thức `.explode()` có công dụng chuyển một cột có dạng `list` thành nhiều dòng tương ứng với từng phần tử trong `list` đó.\n",
        "\n",
        "Minh họa công dụng của `.explode()`.\n",
        "\n",
        "Cho s :\n",
        "\n",
        "id | values \n",
        "--- | ---\n",
        "1 | ['a', 'b']\n",
        "2 | ['a', 'c']\n",
        "\n",
        "Gọi `s.explode('values')` thì được :\n",
        "\n",
        "id | values \n",
        "--- | ---\n",
        "1 | 'a'\n",
        "1 | 'b'\n",
        "2 | 'a'\n",
        "2 | 'c'"
      ]
    },
    {
      "cell_type": "code",
      "metadata": {
        "id": "JjP_fVNVB23v",
        "colab_type": "code",
        "colab": {}
      },
      "source": [
        ""
      ],
      "execution_count": 0,
      "outputs": []
    },
    {
      "cell_type": "markdown",
      "metadata": {
        "id": "ZnbGyBlwB8hr",
        "colab_type": "text"
      },
      "source": [
        "**Câu 10** : Thực hiện các yêu cầu sau :\n",
        "1. Dùng `str.split('|')` để chuyển cột `genre` thành `list`.\n",
        "2. Dùng phương thức `.explode()` của DataFrame để phân rã cột `genre`.\n",
        "3. Thống kê số người chết theo thể loại.\n",
        "4. In ra 5 thể loại 'đẫm máu' nhất.\n",
        "5. Vẽ box plot cho số người chết trong 5 thể loại 'đẫm máu' nhất."
      ]
    },
    {
      "cell_type": "code",
      "metadata": {
        "id": "2r7yHJ5bC0x2",
        "colab_type": "code",
        "colab": {}
      },
      "source": [
        ""
      ],
      "execution_count": 0,
      "outputs": []
    },
    {
      "cell_type": "markdown",
      "metadata": {
        "id": "_mZvNcx5C5Jx",
        "colab_type": "text"
      },
      "source": [
        "**Câu 11** : Thực hiện các yêu cầu sau :\n",
        "1. Vẽ scatter plot với trục hoành là `imdb_rating`, trục tung là `body_per_min`, kích thước điểm dựa trên `body_count`.\n",
        "2. In ra `mpaa_rating` có số lượng người chết nhiều nhất.\n",
        "3. Vẽ scatter plot với trục hoành là `mpaa_rating`, trục tung là `body_per_min`, kích thước điểm dựa trên `body_count`."
      ]
    },
    {
      "cell_type": "code",
      "metadata": {
        "id": "95JD5mOHD0md",
        "colab_type": "code",
        "colab": {}
      },
      "source": [
        ""
      ],
      "execution_count": 0,
      "outputs": []
    }
  ]
}