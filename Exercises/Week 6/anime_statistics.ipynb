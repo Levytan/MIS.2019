{
  "nbformat": 4,
  "nbformat_minor": 0,
  "metadata": {
    "colab": {
      "name": "anime_statistics",
      "provenance": [],
      "collapsed_sections": []
    },
    "kernelspec": {
      "name": "python3",
      "display_name": "Python 3"
    }
  },
  "cells": [
    {
      "cell_type": "code",
      "metadata": {
        "id": "keAwARcN-x59",
        "colab_type": "code",
        "outputId": "536cbd85-16db-41a8-b00f-472cfef4f476",
        "cellView": "form",
        "colab": {
          "base_uri": "https://localhost:8080/",
          "height": 594
        }
      },
      "source": [
        "#@title Giới thiệu\n",
        "%%html\n",
        "<link href=\"https://fonts.googleapis.com/css?family=Philosopher&display=swap\" rel=\"stylesheet\">\n",
        "<style>\n",
        "    p {\n",
        "        font-family : 'Philosopher', sans-serif;\n",
        "        font-size : 18px\n",
        "    }\n",
        "</style>\n",
        "<div style=\"width:500px;\">\n",
        "    <p>I am the bone of my sword</p>\n",
        "    <p>Steel is my body and fire is my blood</p>\n",
        "    <p>I have created over a thousand blades</p>\n",
        "    <p>Unknown to Death,</p>\n",
        "    <p>Nor known to Life.</p>\n",
        "    <p>Have withstood pain to create many weapons</p>\n",
        "    <p>Yet, those hands will never hold anything</p>\n",
        "    <p>So as I pray, Unlimited Blade Works.</p>\n",
        "    <p style='text-align:right;font-style:italic;'><b>Archer</b>, Fate/Stay Night</p>\n",
        "</div>\n",
        "\n",
        "<iframe width=\"560\" height=\"315\" src=\"https://www.youtube.com/embed/5o4ZsKp3pd0\" frameborder=\"0\" allow=\"accelerometer; autoplay; encrypted-media; gyroscope; picture-in-picture\" allowfullscreen></iframe>"
      ],
      "execution_count": 0,
      "outputs": [
        {
          "output_type": "display_data",
          "data": {
            "text/html": [
              "<link href=\"https://fonts.googleapis.com/css?family=Philosopher&display=swap\" rel=\"stylesheet\">\n",
              "<style>\n",
              "    p {\n",
              "        font-family : 'Philosopher', sans-serif;\n",
              "        font-size : 18px\n",
              "    }\n",
              "</style>\n",
              "<div style=\"width:500px;\">\n",
              "    <p>I am the bone of my sword</p>\n",
              "    <p>Steel is my body and fire is my blood</p>\n",
              "    <p>I have created over a thousand blades</p>\n",
              "    <p>Unknown to Death,</p>\n",
              "    <p>Nor known to Life.</p>\n",
              "    <p>Have withstood pain to create many weapons</p>\n",
              "    <p>Yet, those hands will never hold anything</p>\n",
              "    <p>So as I pray, Unlimited Blade Works.</p>\n",
              "    <p style='text-align:right;font-style:italic;'><b>Archer</b>, Fate/Stay Night</p>\n",
              "</div>\n",
              "\n",
              "<iframe width=\"560\" height=\"315\" src=\"https://www.youtube.com/embed/5o4ZsKp3pd0\" frameborder=\"0\" allow=\"accelerometer; autoplay; encrypted-media; gyroscope; picture-in-picture\" allowfullscreen></iframe>"
            ],
            "text/plain": [
              "<IPython.core.display.HTML object>"
            ]
          },
          "metadata": {
            "tags": []
          }
        }
      ]
    },
    {
      "cell_type": "markdown",
      "metadata": {
        "id": "BPr8hit1l4bZ",
        "colab_type": "text"
      },
      "source": [
        "Trong bài này, chúng ta sẽ phân tích một số thông tin về anime."
      ]
    },
    {
      "cell_type": "markdown",
      "metadata": {
        "id": "NaDSo0SNmMsW",
        "colab_type": "text"
      },
      "source": [
        "# Dữ liệu :\n",
        "Dữ liệu của bạn được thu thập từ [MyAnimeList](https://myanimelist.net/), được lưu lại trong `anime_info.csv` và bao gồm các cột :\n",
        "- `anime_id` : id của anime trên [MyAnimeList](https://myanimelist.net/).\n",
        "- `title` : tựa của anime.\n",
        "- `type` : hình thức phát hành (TV Series, Movie, OVA, ...).\n",
        "- `soure` : nguyên tác của anime (Manga, Light Novel, Game, ...).\n",
        "- `episodes` : số tập.\n",
        "- `duration_min` : thời lượng mỗi tập.\n",
        "- `score` : điểm của phim trên [MyAnimeList](https://myanimelist.net/), do người dùng chấm.\n",
        "- `studio` : hãng sản xuất.\n",
        "- `genre` : thể loại phim.\n",
        "- `start` : ngày bắt đầu lên sóng\n",
        "- `finish` : ngày kết thúc lên sóng."
      ]
    },
    {
      "cell_type": "code",
      "metadata": {
        "id": "Y2uBdgcL5UF9",
        "colab_type": "code",
        "cellView": "form",
        "outputId": "268cd735-179a-45ca-92d6-24e41d37f991",
        "colab": {
          "base_uri": "https://localhost:8080/",
          "height": 336
        }
      },
      "source": [
        "#@title 🎁🎁🎁\n",
        "%%html\n",
        "<iframe width=\"560\" height=\"315\" src=\"https://www.youtube.com/embed/NCRcTZiahss\" frameborder=\"0\" allow=\"accelerometer; autoplay; encrypted-media; gyroscope; picture-in-picture\" allowfullscreen></iframe>"
      ],
      "execution_count": 0,
      "outputs": [
        {
          "output_type": "display_data",
          "data": {
            "text/html": [
              "<iframe width=\"560\" height=\"315\" src=\"https://www.youtube.com/embed/NCRcTZiahss\" frameborder=\"0\" allow=\"accelerometer; autoplay; encrypted-media; gyroscope; picture-in-picture\" allowfullscreen></iframe>"
            ],
            "text/plain": [
              "<IPython.core.display.HTML object>"
            ]
          },
          "metadata": {
            "tags": []
          }
        }
      ]
    },
    {
      "cell_type": "markdown",
      "metadata": {
        "id": "qgqSBeP_ofte",
        "colab_type": "text"
      },
      "source": [
        "# Bài tập"
      ]
    },
    {
      "cell_type": "markdown",
      "metadata": {
        "id": "OdyneRzYoiZ0",
        "colab_type": "text"
      },
      "source": [
        "**Câu 1** : Đọc dữ liệu vào DataFrame."
      ]
    },
    {
      "cell_type": "code",
      "metadata": {
        "id": "wrbFvUAO_xWG",
        "colab_type": "code",
        "colab": {}
      },
      "source": [
        ""
      ],
      "execution_count": 0,
      "outputs": []
    },
    {
      "cell_type": "markdown",
      "metadata": {
        "id": "L5jFQwojonk3",
        "colab_type": "text"
      },
      "source": [
        "**Câu 2** : Thực hiện việc chuyển đổi kiểu dữ liệu cần thiết."
      ]
    },
    {
      "cell_type": "code",
      "metadata": {
        "id": "LYPgyG0Gox5E",
        "colab_type": "code",
        "colab": {}
      },
      "source": [
        ""
      ],
      "execution_count": 0,
      "outputs": []
    },
    {
      "cell_type": "markdown",
      "metadata": {
        "id": "A_cKMM56oy8m",
        "colab_type": "text"
      },
      "source": [
        "**Câu 3** : Xóa những dòng có ngày bắt đầu hoặc kết thúc là `NaT`."
      ]
    },
    {
      "cell_type": "code",
      "metadata": {
        "id": "uXvAPia_o82Z",
        "colab_type": "code",
        "colab": {}
      },
      "source": [
        ""
      ],
      "execution_count": 0,
      "outputs": []
    },
    {
      "cell_type": "markdown",
      "metadata": {
        "id": "mduGRe7TpB6k",
        "colab_type": "text"
      },
      "source": [
        "**Câu 4** : Xóa những dòng có số tập là 0."
      ]
    },
    {
      "cell_type": "code",
      "metadata": {
        "id": "7BGswYLipHEN",
        "colab_type": "code",
        "colab": {}
      },
      "source": [
        ""
      ],
      "execution_count": 0,
      "outputs": []
    },
    {
      "cell_type": "markdown",
      "metadata": {
        "id": "9UE6jhDMpIlf",
        "colab_type": "text"
      },
      "source": [
        "**Câu 5** : Xóa những dòng có thời lượng mỗi tập là 0."
      ]
    },
    {
      "cell_type": "code",
      "metadata": {
        "id": "VYkkemdSpRqR",
        "colab_type": "code",
        "colab": {}
      },
      "source": [
        ""
      ],
      "execution_count": 0,
      "outputs": []
    },
    {
      "cell_type": "markdown",
      "metadata": {
        "id": "4kDg82OSqTyJ",
        "colab_type": "text"
      },
      "source": [
        "**Câu 6** : Đếm số lượng anime được lên sóng mỗi năm."
      ]
    },
    {
      "cell_type": "code",
      "metadata": {
        "id": "vS6z7-QWrwu6",
        "colab_type": "code",
        "colab": {}
      },
      "source": [
        ""
      ],
      "execution_count": 0,
      "outputs": []
    },
    {
      "cell_type": "markdown",
      "metadata": {
        "id": "Mq1iBhcVrwKJ",
        "colab_type": "text"
      },
      "source": [
        "**Câu 7** : Vẽ biểu đồ đường từ thống kê ở **Câu 6**.\n",
        "\n",
        "_Gợi ý_ : dùng `sns.lineplot`."
      ]
    },
    {
      "cell_type": "code",
      "metadata": {
        "id": "89kVcP3DsCqn",
        "colab_type": "code",
        "colab": {}
      },
      "source": [
        ""
      ],
      "execution_count": 0,
      "outputs": []
    },
    {
      "cell_type": "markdown",
      "metadata": {
        "id": "M9ciz7jw3xjP",
        "colab_type": "text"
      },
      "source": [
        "**Câu 8** : Vẽ kde plot cho `score`."
      ]
    },
    {
      "cell_type": "code",
      "metadata": {
        "id": "eXyXLS9h3yPw",
        "colab_type": "code",
        "colab": {}
      },
      "source": [
        ""
      ],
      "execution_count": 0,
      "outputs": []
    },
    {
      "cell_type": "markdown",
      "metadata": {
        "id": "Ek1KxDm9sF1V",
        "colab_type": "text"
      },
      "source": [
        "**Câu 9** : Lấy ra những anime có `type` là `'TV'` và dùng dữ liệu đó để trả lời các câu hỏi sau :\n",
        "1. Có bao nhiêu anime trong bộ dữ liệu đó? ($0.5$ điểm)\n",
        "2. Anime nào có nhiều tập nhất? ($0.5$ điểm)\n",
        "3. Có tổng cộng bao nhiêu tập phim? ($0.5$ điểm)\n",
        "4. Tổng thời gian để xem hết các anime này? ($0.5$ điểm)\n",
        "5. In ra 5 anime có `score` cao nhất, thấp nhất. ($0.5$ điểm)\n",
        "6. Tính `score` trung bình từng năm. ($0.5$ điểm)\n",
        "7. Vẽ biểu đồ đường cho thống kê ở câu 6. ($1$ điểm)"
      ]
    },
    {
      "cell_type": "code",
      "metadata": {
        "id": "3Tx_H9rux_g5",
        "colab_type": "code",
        "colab": {}
      },
      "source": [
        ""
      ],
      "execution_count": 0,
      "outputs": []
    },
    {
      "cell_type": "markdown",
      "metadata": {
        "id": "3hTihFA7ycr4",
        "colab_type": "text"
      },
      "source": [
        "**Câu 10** : Lấy ra những anime có `type` là `'TV'` và dùng dữ liệu đó để trả lời các câu hỏi sau : \n",
        "1. Có bao nhiêu anime trong bộ dữ liệu đó? ($0.5$ điểm)\n",
        "2. Anime nào dài nhất? ($0.5$ điểm)\n",
        "3. Tổng thời gian để xem hết các anime này? ($0.5$ điểm)\n",
        "4. Liệt kê những hãng sản xuất có trong bộ dữ liệu trên. ($0.5$ điểm)\n",
        "5. In ra 5 anime có `score` cao nhất, thấp nhất. ($0.5$ điểm)\n",
        "6. In ra thống kê theo nguyên tác. ($0.5$ điểm)\n",
        "7. Thống kê số lượng anime được lên sóng trong từng thập kỷ. Biết rằng : một thập kỷ là khoảng thời gian 10 năm, bắt đầu từ năm tròn chục. Ví dụ : thập kỷ 2010 là chỉ khoảng thời gian từ 01/01/2010 đến 31/12/2019. ($1$ điểm)"
      ]
    },
    {
      "cell_type": "code",
      "metadata": {
        "id": "bT_D_cBz0lJJ",
        "colab_type": "code",
        "colab": {}
      },
      "source": [
        ""
      ],
      "execution_count": 0,
      "outputs": []
    },
    {
      "cell_type": "markdown",
      "metadata": {
        "id": "OKJxkvv21klo",
        "colab_type": "text"
      },
      "source": [
        "**Câu 11** : Thực hiện các yêu cầu sau :\n",
        "1. Dùng `.str.split(', ')` để chuyển dữ liệu trong cột `genre` thành `list`. ($0.5$ điểm)\n",
        "2. Dùng phương thức `.explode()` của DataFrame để phân rã cột `genre`. ($0.5$ điểm)\n",
        "3. Thống kê số lượng mỗi thể loại sau khi dùng `.explode()`. ($0.5$ điểm)\n",
        "4. Vẽ box plot cho `score` của 5 thể loại phổ biến nhất. ($0.5$ điểm)\n",
        "\n",
        "---\n",
        "Phương thức `.explode()` có công dụng chuyển một cột có dạng `list` thành nhiều dòng tương ứng với từng phần tử trong `list` đó.\n",
        "\n",
        "Minh họa công dụng của `.explode()`.\n",
        "\n",
        "Cho s :\n",
        "\n",
        "id | values \n",
        "--- | ---\n",
        "1 | ['a', 'b']\n",
        "2 | ['a', 'c']\n",
        "\n",
        "Gọi `s.explode('values')` thì được :\n",
        "\n",
        "id | values \n",
        "--- | ---\n",
        "1 | 'a'\n",
        "1 | 'b'\n",
        "2 | 'a'\n",
        "2 | 'c'\n"
      ]
    },
    {
      "cell_type": "code",
      "metadata": {
        "id": "m6jjFOdR3BFX",
        "colab_type": "code",
        "colab": {}
      },
      "source": [
        ""
      ],
      "execution_count": 0,
      "outputs": []
    }
  ]
}