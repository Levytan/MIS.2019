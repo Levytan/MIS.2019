{
  "nbformat": 4,
  "nbformat_minor": 0,
  "metadata": {
    "colab": {
      "name": "lol_world_championship_2019",
      "provenance": [],
      "collapsed_sections": []
    },
    "kernelspec": {
      "name": "python3",
      "display_name": "Python 3"
    }
  },
  "cells": [
    {
      "cell_type": "markdown",
      "metadata": {
        "id": "hSCDN2R8G5Rs",
        "colab_type": "text"
      },
      "source": [
        "# Giới thiệu\n",
        "Trong phần này, chúng ta cùng phân tích về những người chơi đã tham gia Chung kết Thế giới Liên Minh Huyền Thoại năm 2019."
      ]
    },
    {
      "cell_type": "code",
      "metadata": {
        "id": "cm86UdokG43X",
        "colab_type": "code",
        "cellView": "form",
        "outputId": "d777d9f1-3a2e-4415-c134-343f6e7be90f",
        "colab": {
          "base_uri": "https://localhost:8080/",
          "height": 353
        }
      },
      "source": [
        "#@title Bài hát chủ đề Chung kết thế giới 2019\n",
        "%%html\n",
        "<iframe width=\"560\" height=\"315\" src=\"https://www.youtube.com/embed/i1IKnWDecwA\" frameborder=\"0\" allow=\"accelerometer; autoplay; encrypted-media; gyroscope; picture-in-picture\" allowfullscreen></iframe>\n",
        "<div>Bài hát được cho là lời tiên tri về chức vô địch của <b>FunPlus Phoenix<b></div>"
      ],
      "execution_count": 0,
      "outputs": [
        {
          "output_type": "display_data",
          "data": {
            "text/html": [
              "<iframe width=\"560\" height=\"315\" src=\"https://www.youtube.com/embed/i1IKnWDecwA\" frameborder=\"0\" allow=\"accelerometer; autoplay; encrypted-media; gyroscope; picture-in-picture\" allowfullscreen></iframe>\n",
              "<div>Bài hát được cho là lời tiên tri về chức vô địch của <b>FunPlus Phoenix<b></div>"
            ],
            "text/plain": [
              "<IPython.core.display.HTML object>"
            ]
          },
          "metadata": {
            "tags": []
          }
        }
      ]
    },
    {
      "cell_type": "markdown",
      "metadata": {
        "id": "N6eVHZlsI6BN",
        "colab_type": "text"
      },
      "source": [
        "# Dữ liệu\n",
        "Dữ liệu được cung cấp tại [Oracle’s Elixir](https://oracleselixir.com/match-data/), lưu trong $2$ file `players_in_world.csv` và `matches_in_world.csv`.\n",
        "\n",
        "Dữ liệu `players_in_world` bao gồm các cột :\n",
        "- `game_id` : id của ván đấu.\n",
        "- `player` : tên người chơi.\n",
        "- `position` : vị trí người chơi trong ván đấu.\n",
        "- `champion` : tướng được người chơi sử dụng.\n",
        "- `k` : số lần hạ gục.\n",
        "- `d` : số lần bị hạ gục.\n",
        "- `a` : số lần hỗ trợ hạ gục.\n",
        "- `doubles` : số lần được double kill trong ván đấu.\n",
        "- `triples` : số lần được triple kill trong ván đấu.\n",
        "- `quadras` : số lần được quadra kill trong ván đấu.\n",
        "- `pentas` : số lần được penta kill trong ván đấu.\n",
        "- `total_gold` : số vàng kiếm được trong ván đấu.\n",
        "- `minion_kills` : số lính tiêu diệt trong ván đấu.\n",
        "\n",
        "Dữ liệu `matches_in_world` bao gồm các cột :\n",
        "- `game_id` : id của ván đấu.\n",
        "- `match` : tên ván đấu.\n",
        "- `game_length` : thời gian ván đấu."
      ]
    },
    {
      "cell_type": "markdown",
      "metadata": {
        "id": "CDSbLAA8P8Hz",
        "colab_type": "text"
      },
      "source": [
        "# Bài tập"
      ]
    },
    {
      "cell_type": "markdown",
      "metadata": {
        "id": "ohVK69AIP_uD",
        "colab_type": "text"
      },
      "source": [
        "**Câu 1** : Đọc dữ liệu vào DataFrame."
      ]
    },
    {
      "cell_type": "code",
      "metadata": {
        "id": "7RYpaO8RGzyQ",
        "colab_type": "code",
        "colab": {}
      },
      "source": [
        ""
      ],
      "execution_count": 0,
      "outputs": []
    },
    {
      "cell_type": "markdown",
      "metadata": {
        "id": "Q0w131gVQJHc",
        "colab_type": "text"
      },
      "source": [
        "**Câu 2** : In ra số ván đấu , 5 ván đấu nhanh nhất và 5 ván đấu lâu nhất."
      ]
    },
    {
      "cell_type": "code",
      "metadata": {
        "id": "gjH7QpxZVVfU",
        "colab_type": "code",
        "colab": {}
      },
      "source": [
        ""
      ],
      "execution_count": 0,
      "outputs": []
    },
    {
      "cell_type": "markdown",
      "metadata": {
        "id": "gDeb9jx3VXRw",
        "colab_type": "text"
      },
      "source": [
        "**Câu 3** : Có bao nhiêu vị tướng đã được chọn?"
      ]
    },
    {
      "cell_type": "code",
      "metadata": {
        "id": "HHd5-BmjVcH2",
        "colab_type": "code",
        "colab": {}
      },
      "source": [
        ""
      ],
      "execution_count": 0,
      "outputs": []
    },
    {
      "cell_type": "markdown",
      "metadata": {
        "id": "seT9k5ycVfze",
        "colab_type": "text"
      },
      "source": [
        "**Câu 4** : Thống kê số lượng tướng được chọn theo từng vị trí."
      ]
    },
    {
      "cell_type": "code",
      "metadata": {
        "id": "F-XDyQmBVmQq",
        "colab_type": "code",
        "colab": {}
      },
      "source": [
        ""
      ],
      "execution_count": 0,
      "outputs": []
    },
    {
      "cell_type": "markdown",
      "metadata": {
        "id": "o6-v7xW4ZgU9",
        "colab_type": "text"
      },
      "source": [
        "**Câu 5** : In ra 5 tướng được chọn nhiều nhất theo từng vị trí.\n",
        "\n",
        "_Gợi ý_ : có thể dùng phương thức `.nlargest(n)` của Series để in ra $n$ phần tử lớn nhất trong Series."
      ]
    },
    {
      "cell_type": "code",
      "metadata": {
        "id": "WFjDt01EaGAg",
        "colab_type": "code",
        "colab": {}
      },
      "source": [
        ""
      ],
      "execution_count": 0,
      "outputs": []
    },
    {
      "cell_type": "markdown",
      "metadata": {
        "id": "wkM7XW-FVnVs",
        "colab_type": "text"
      },
      "source": [
        "**Câu 6** : Tạo ra một DataFrame với các cột :\n",
        "- `multi` : có 4 giá trị : `doubles`, `triples`, `quadras` và `pentas`.\n",
        "- `count` : số lượng multi kill từng loại.\n",
        "- `player` : tên người chơi có số lượng multi kill từng loại lớn nhất.\n",
        "- `best` : số lượng multi kill của người chơi đó.\n",
        "\n",
        "Multi kill là tên gọi chung của double kill, triple kill, quadra kill và penta kill."
      ]
    },
    {
      "cell_type": "code",
      "metadata": {
        "id": "8pAXmmGgW7I4",
        "colab_type": "code",
        "colab": {}
      },
      "source": [
        ""
      ],
      "execution_count": 0,
      "outputs": []
    },
    {
      "cell_type": "markdown",
      "metadata": {
        "id": "FV1MSlmnXEwB",
        "colab_type": "text"
      },
      "source": [
        "**Câu 7** : Tính $kda$ của từng người chơi trong từng trận đấu và để trong cột `kda`."
      ]
    },
    {
      "cell_type": "code",
      "metadata": {
        "id": "AudL6NPhYi52",
        "colab_type": "code",
        "colab": {}
      },
      "source": [
        ""
      ],
      "execution_count": 0,
      "outputs": []
    },
    {
      "cell_type": "markdown",
      "metadata": {
        "id": "i25UVOlkYkGh",
        "colab_type": "text"
      },
      "source": [
        "**Câu 8** : Vẽ kde plot cho cột `kda`."
      ]
    },
    {
      "cell_type": "code",
      "metadata": {
        "id": "4QAxcu4hZDzg",
        "colab_type": "code",
        "colab": {}
      },
      "source": [
        ""
      ],
      "execution_count": 0,
      "outputs": []
    },
    {
      "cell_type": "markdown",
      "metadata": {
        "id": "r3KBslfue-4u",
        "colab_type": "text"
      },
      "source": [
        "**Câu 9** : In ra người chơi có $kda$ tổng lớn nhất ở vị trí `'ADC'`.\n",
        "\n",
        "Biết rằng : `kda_tổng = (tổng_k + tổng_a) / tổng_d`"
      ]
    },
    {
      "cell_type": "code",
      "metadata": {
        "id": "6wS1ljZfglnP",
        "colab_type": "code",
        "colab": {}
      },
      "source": [
        ""
      ],
      "execution_count": 0,
      "outputs": []
    },
    {
      "cell_type": "markdown",
      "metadata": {
        "id": "ZayZIxoZZb9t",
        "colab_type": "text"
      },
      "source": [
        "**Câu 10** : Thực hiện các yêu cầu sau :\n",
        "1. Tính kills per minute (kpm) tổng của từng người chơi.\n",
        "2. In ra 5 người chơi có kpm tổng lớn nhất và 5 người chơi có kpm tổng nhỏ nhất.\n",
        "3. Vẽ histogram cho dữ liệu kpm tổng.\n",
        "\n",
        "Biết rằng : `kpm_tổng = tổng_hạ_gục / tổng_thời_gian_chơi`."
      ]
    },
    {
      "cell_type": "code",
      "metadata": {
        "id": "j9uoEnoKdKyS",
        "colab_type": "code",
        "colab": {}
      },
      "source": [
        ""
      ],
      "execution_count": 0,
      "outputs": []
    },
    {
      "cell_type": "markdown",
      "metadata": {
        "id": "RQs2tx_Sds9f",
        "colab_type": "text"
      },
      "source": [
        "**Câu 11** : Thực hiện các yêu cầu sau :\n",
        "1. Tính gold per minute (gpm) của từng người chơi trong từng trận đấu.\n",
        "2. Vẽ box plot cho gpm theo từng vị trí.\n",
        "\n",
        "Biết rằng : `gpm = total_gold / game_length`"
      ]
    },
    {
      "cell_type": "code",
      "metadata": {
        "id": "Z-1jP9w2gqZx",
        "colab_type": "code",
        "colab": {}
      },
      "source": [
        ""
      ],
      "execution_count": 0,
      "outputs": []
    },
    {
      "cell_type": "markdown",
      "metadata": {
        "id": "ls28uGNWgrym",
        "colab_type": "text"
      },
      "source": [
        "**Câu 12** : Thực hiện các yêu cầu sau :\n",
        "1. Lấy ra những người chơi ở vị trí `'Middle'`.\n",
        "2. Tính minions per minute (cspm) của từng người trong từng trận đấu.\n",
        "3. Vẽ kde plot cho dữ liệu cspm.\n",
        "\n",
        "Biết rằng : `cspm = minion_kills / game_length`."
      ]
    },
    {
      "cell_type": "code",
      "metadata": {
        "id": "f_rwJQvkgrWt",
        "colab_type": "code",
        "colab": {}
      },
      "source": [
        ""
      ],
      "execution_count": 0,
      "outputs": []
    }
  ]
}