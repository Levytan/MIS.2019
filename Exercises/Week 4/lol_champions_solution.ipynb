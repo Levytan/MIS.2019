{
  "nbformat": 4,
  "nbformat_minor": 0,
  "metadata": {
    "colab": {
      "name": "lol_champions",
      "provenance": [],
      "collapsed_sections": []
    },
    "kernelspec": {
      "name": "python3",
      "display_name": "Python 3"
    }
  },
  "cells": [
    {
      "cell_type": "markdown",
      "metadata": {
        "id": "0kzQyQZ7FE9I",
        "colab_type": "text"
      },
      "source": [
        "# Giới thiệu\n",
        "<img src=\"https://i.imgur.com/Aqx1Zm5.png\"/>\n",
        "\n",
        "Liên Minh Huyền Thoại (viết tắt: LMHT, tiếng Anh: League of Legends, viết tắt tiếng Anh: LoL) là một trò chơi video đấu trường trận chiến trực tuyến nhiều người chơi (MOBA) được Riot Games phát triển trên cảm hứng từ bản mod *Defense of the Ancients* của **Warcraft III: Frozen Throne**. Trò chơi được công bố đầu tiên vào ngày 7 tháng 10 năm 2008 và phát hành vào ngày 27 tháng 10 năm 2009. Kể từ khi phát hành, Liên Minh Huyền Thoại được đón nhận rất tích cực, và trở nên phổ biến trong những năm sau đó. Đây được coi là một trong những tựa game thành công nhất mọi thời đại.\n",
        "\n",
        "Trong Liên Minh Huyền Thoại, mỗi người chơi được gọi là một \"triệu hồi sư\" (summoner), điều khiển một nhân vật, gọi là \"tướng\" (Champion), để đối đầu với một đội những người chơi khác hoặc các đối thủ máy tính. Trong chế độ chơi truyền thống, mục tiêu cuối cùng của một đội là phá hủy nhà chính của đội đối phương – công trình nằm trong căn cứ của đối phương và được những công trình khác bảo vệ.\n",
        "\n",
        "---\n",
        "Trong bài thực hành này, chúng ta sẽ thực hiện một số phân tích về tướng của Liên Minh Huyền Thoại."
      ]
    },
    {
      "cell_type": "markdown",
      "metadata": {
        "id": "APYqGxPzHk1G",
        "colab_type": "text"
      },
      "source": [
        "# Dữ liệu"
      ]
    },
    {
      "cell_type": "markdown",
      "metadata": {
        "id": "6oeUDnwzHnuu",
        "colab_type": "text"
      },
      "source": [
        "Dữ liệu cho bài thực hành được lấy từ [trang wiki](https://leagueoflegends.fandom.com/wiki/League_of_Legends_Wiki) và được lưu trong file `lol_champions.csv` (https://raw.githubusercontent.com/Levytan/MIS.2019/master/Data/lol_champions.csv)"
      ]
    },
    {
      "cell_type": "markdown",
      "metadata": {
        "id": "eBhm1sh8IEta",
        "colab_type": "text"
      },
      "source": [
        "Dữ liệu bao gồm :\n",
        "- `champion` : tên của tướng.\n",
        "- `title` : danh hiệu tướng.\n",
        "- `release_date` : ngày ra mắt.\n",
        "- `attack_at_lv1` : chỉ số tấn công cơ bản ở cấp độ 1.\n",
        "- `attack_at_lv18` : chỉ số tấn công cơ bản ở cấp độ 18.\n",
        "- `health_at_lv1` : chỉ số máu cơ bản ở cấp độ 1.\n",
        "- `health_at_lv18` : chỉ số máu cơ bản ở cấp độ 18.\n",
        "- `primary` : phân loại tướng."
      ]
    },
    {
      "cell_type": "markdown",
      "metadata": {
        "id": "Vvc12GgLJ59I",
        "colab_type": "text"
      },
      "source": [
        "# Bài tập"
      ]
    },
    {
      "cell_type": "code",
      "metadata": {
        "id": "qB8_fv-cX0mI",
        "colab_type": "code",
        "colab": {}
      },
      "source": [
        "# nơi import\n",
        "import pandas as pd"
      ],
      "execution_count": 0,
      "outputs": []
    },
    {
      "cell_type": "markdown",
      "metadata": {
        "id": "IxD-RT1GJ8gO",
        "colab_type": "text"
      },
      "source": [
        "**Câu 1** : Đọc dữ liệu vào `DataFrame`, lưu dưới tên `champs`."
      ]
    },
    {
      "cell_type": "code",
      "metadata": {
        "id": "psIdn-brIEJ3",
        "colab_type": "code",
        "colab": {
          "base_uri": "https://localhost:8080/",
          "height": 204
        },
        "outputId": "fb261c86-21ac-43ec-b41e-a2ca4c635c36"
      },
      "source": [
        "champs = pd.read_csv('https://raw.githubusercontent.com/Levytan/MIS.2019/master/Data/lol_champions.csv', sep = ';', decimal = ',')\n",
        "champs.head()"
      ],
      "execution_count": 3,
      "outputs": [
        {
          "output_type": "execute_result",
          "data": {
            "text/html": [
              "<div>\n",
              "<style scoped>\n",
              "    .dataframe tbody tr th:only-of-type {\n",
              "        vertical-align: middle;\n",
              "    }\n",
              "\n",
              "    .dataframe tbody tr th {\n",
              "        vertical-align: top;\n",
              "    }\n",
              "\n",
              "    .dataframe thead th {\n",
              "        text-align: right;\n",
              "    }\n",
              "</style>\n",
              "<table border=\"1\" class=\"dataframe\">\n",
              "  <thead>\n",
              "    <tr style=\"text-align: right;\">\n",
              "      <th></th>\n",
              "      <th>champion</th>\n",
              "      <th>title</th>\n",
              "      <th>release_date</th>\n",
              "      <th>attack_at_lv1</th>\n",
              "      <th>attack_at_lv18</th>\n",
              "      <th>health_at_lv1</th>\n",
              "      <th>health_at_lv18</th>\n",
              "      <th>primary</th>\n",
              "    </tr>\n",
              "  </thead>\n",
              "  <tbody>\n",
              "    <tr>\n",
              "      <th>0</th>\n",
              "      <td>Aatrox</td>\n",
              "      <td>the Darkin Blade</td>\n",
              "      <td>2013-06-13</td>\n",
              "      <td>60.0000</td>\n",
              "      <td>145.0</td>\n",
              "      <td>580.00</td>\n",
              "      <td>2110.0</td>\n",
              "      <td>Juggernaut</td>\n",
              "    </tr>\n",
              "    <tr>\n",
              "      <th>1</th>\n",
              "      <td>Ahri</td>\n",
              "      <td>the Nine-Tailed Fox</td>\n",
              "      <td>2011-12-14</td>\n",
              "      <td>53.0400</td>\n",
              "      <td>104.0</td>\n",
              "      <td>526.00</td>\n",
              "      <td>2090.0</td>\n",
              "      <td>Burst</td>\n",
              "    </tr>\n",
              "    <tr>\n",
              "      <th>2</th>\n",
              "      <td>Akali</td>\n",
              "      <td>the Rogue Assassin</td>\n",
              "      <td>2010-05-11</td>\n",
              "      <td>62.4000</td>\n",
              "      <td>118.5</td>\n",
              "      <td>575.00</td>\n",
              "      <td>2190.0</td>\n",
              "      <td>Assassin</td>\n",
              "    </tr>\n",
              "    <tr>\n",
              "      <th>3</th>\n",
              "      <td>Alistar</td>\n",
              "      <td>the Minotaur</td>\n",
              "      <td>2009-02-21</td>\n",
              "      <td>61.1116</td>\n",
              "      <td>122.7</td>\n",
              "      <td>573.36</td>\n",
              "      <td>2375.4</td>\n",
              "      <td>Vanguard</td>\n",
              "    </tr>\n",
              "    <tr>\n",
              "      <th>4</th>\n",
              "      <td>Amumu</td>\n",
              "      <td>the Sad Mummy</td>\n",
              "      <td>2009-06-26</td>\n",
              "      <td>53.3800</td>\n",
              "      <td>118.0</td>\n",
              "      <td>613.12</td>\n",
              "      <td>2041.1</td>\n",
              "      <td>Vanguard</td>\n",
              "    </tr>\n",
              "  </tbody>\n",
              "</table>\n",
              "</div>"
            ],
            "text/plain": [
              "  champion                title  ... health_at_lv18     primary\n",
              "0   Aatrox     the Darkin Blade  ...         2110.0  Juggernaut\n",
              "1     Ahri  the Nine-Tailed Fox  ...         2090.0       Burst\n",
              "2    Akali   the Rogue Assassin  ...         2190.0    Assassin\n",
              "3  Alistar         the Minotaur  ...         2375.4    Vanguard\n",
              "4    Amumu        the Sad Mummy  ...         2041.1    Vanguard\n",
              "\n",
              "[5 rows x 8 columns]"
            ]
          },
          "metadata": {
            "tags": []
          },
          "execution_count": 3
        }
      ]
    },
    {
      "cell_type": "markdown",
      "metadata": {
        "id": "pgVDltSNKT5n",
        "colab_type": "text"
      },
      "source": [
        "**Câu 2** : Thực hiện những điều chỉnh kiểu dữ liệu phù hợp (`release_date` phải có kiểu thời gian, các chỉ số tấn công, máu phải có kiểu số)."
      ]
    },
    {
      "cell_type": "code",
      "metadata": {
        "id": "5FBt3zT_EczD",
        "colab_type": "code",
        "colab": {
          "base_uri": "https://localhost:8080/",
          "height": 170
        },
        "outputId": "3ab2153c-4cc5-4be5-8b7f-1df6f01b6093"
      },
      "source": [
        "champs = champs.assign(release_date = pd.to_datetime(champs.release_date))\n",
        "\n",
        "champs.dtypes"
      ],
      "execution_count": 4,
      "outputs": [
        {
          "output_type": "execute_result",
          "data": {
            "text/plain": [
              "champion                  object\n",
              "title                     object\n",
              "release_date      datetime64[ns]\n",
              "attack_at_lv1            float64\n",
              "attack_at_lv18           float64\n",
              "health_at_lv1            float64\n",
              "health_at_lv18           float64\n",
              "primary                   object\n",
              "dtype: object"
            ]
          },
          "metadata": {
            "tags": []
          },
          "execution_count": 4
        }
      ]
    },
    {
      "cell_type": "markdown",
      "metadata": {
        "id": "Xv08GVQ2XSfd",
        "colab_type": "text"
      },
      "source": [
        "**Câu 3** : Chuyển cột `primary` vào giữa hai cột `title` và `release_date`."
      ]
    },
    {
      "cell_type": "code",
      "metadata": {
        "id": "okHAymKuXisx",
        "colab_type": "code",
        "colab": {}
      },
      "source": [
        "champs = champs.reindex(columns = ['champion', 'title', 'primary', 'release_date', 'attack_at_lv1', 'attack_at_lv18', 'health_at_lv1', 'health_at_lv18'])"
      ],
      "execution_count": 0,
      "outputs": []
    },
    {
      "cell_type": "markdown",
      "metadata": {
        "id": "BD6LhsFQPwl9",
        "colab_type": "text"
      },
      "source": [
        "**Câu 4** : Cho biết có bao nhiêu tướng trong dữ liệu trên."
      ]
    },
    {
      "cell_type": "code",
      "metadata": {
        "id": "W1BdQHZlP-0u",
        "colab_type": "code",
        "colab": {
          "base_uri": "https://localhost:8080/",
          "height": 34
        },
        "outputId": "eb8f20c2-5638-46d4-d81e-8816b2f54d39"
      },
      "source": [
        "champs.shape[0]"
      ],
      "execution_count": 8,
      "outputs": [
        {
          "output_type": "execute_result",
          "data": {
            "text/plain": [
              "146"
            ]
          },
          "metadata": {
            "tags": []
          },
          "execution_count": 8
        }
      ]
    },
    {
      "cell_type": "markdown",
      "metadata": {
        "id": "bzt2rhvzMIUv",
        "colab_type": "text"
      },
      "source": [
        "**Câu 5** : Lấy ra những tướng tên bắt đầu bằng chữ `N` và kết thúc bằng chữ `S`."
      ]
    },
    {
      "cell_type": "code",
      "metadata": {
        "id": "abh9c-rgO43J",
        "colab_type": "code",
        "colab": {
          "base_uri": "https://localhost:8080/",
          "height": 111
        },
        "outputId": "5660ece1-1973-4188-9fe0-c770f8963813"
      },
      "source": [
        "champs[(champs.champion.str[0] == 'N') & (champs.champion.str[-1] == 's')]"
      ],
      "execution_count": 9,
      "outputs": [
        {
          "output_type": "execute_result",
          "data": {
            "text/html": [
              "<div>\n",
              "<style scoped>\n",
              "    .dataframe tbody tr th:only-of-type {\n",
              "        vertical-align: middle;\n",
              "    }\n",
              "\n",
              "    .dataframe tbody tr th {\n",
              "        vertical-align: top;\n",
              "    }\n",
              "\n",
              "    .dataframe thead th {\n",
              "        text-align: right;\n",
              "    }\n",
              "</style>\n",
              "<table border=\"1\" class=\"dataframe\">\n",
              "  <thead>\n",
              "    <tr style=\"text-align: right;\">\n",
              "      <th></th>\n",
              "      <th>champion</th>\n",
              "      <th>title</th>\n",
              "      <th>primary</th>\n",
              "      <th>release_date</th>\n",
              "      <th>attack_at_lv1</th>\n",
              "      <th>attack_at_lv18</th>\n",
              "      <th>health_at_lv1</th>\n",
              "      <th>health_at_lv18</th>\n",
              "    </tr>\n",
              "  </thead>\n",
              "  <tbody>\n",
              "    <tr>\n",
              "      <th>75</th>\n",
              "      <td>Nasus</td>\n",
              "      <td>the Curator of the Sands</td>\n",
              "      <td>Juggernaut</td>\n",
              "      <td>2009-10-01</td>\n",
              "      <td>67.0</td>\n",
              "      <td>126.5</td>\n",
              "      <td>561.20</td>\n",
              "      <td>2091.2</td>\n",
              "    </tr>\n",
              "    <tr>\n",
              "      <th>76</th>\n",
              "      <td>Nautilus</td>\n",
              "      <td>the Titan of the Depths</td>\n",
              "      <td>Vanguard</td>\n",
              "      <td>2012-02-14</td>\n",
              "      <td>61.0</td>\n",
              "      <td>117.1</td>\n",
              "      <td>576.48</td>\n",
              "      <td>2038.5</td>\n",
              "    </tr>\n",
              "  </tbody>\n",
              "</table>\n",
              "</div>"
            ],
            "text/plain": [
              "    champion                     title  ... health_at_lv1 health_at_lv18\n",
              "75     Nasus  the Curator of the Sands  ...        561.20         2091.2\n",
              "76  Nautilus   the Titan of the Depths  ...        576.48         2038.5\n",
              "\n",
              "[2 rows x 8 columns]"
            ]
          },
          "metadata": {
            "tags": []
          },
          "execution_count": 9
        }
      ]
    },
    {
      "cell_type": "markdown",
      "metadata": {
        "id": "6usgnmLpSmHr",
        "colab_type": "text"
      },
      "source": [
        "**Câu 6** : Tên các tướng đến từ hư không (một vùng đất trong game) thì luôn có ký tự `'` (nháy đơn) trong tên như một đặc điểm nhận diện. Lấy ra những tướng đến từ hư không.\n",
        "\n",
        "_Gợi ý_ : dùng `.str.find()`"
      ]
    },
    {
      "cell_type": "code",
      "metadata": {
        "id": "5rmSlcWdSlw0",
        "colab_type": "code",
        "colab": {
          "base_uri": "https://localhost:8080/",
          "height": 235
        },
        "outputId": "c936ba98-fc83-4d7f-ce60-b3b67280ffe2"
      },
      "source": [
        "champs[champs.champion.str.find(\"'\") > -1]"
      ],
      "execution_count": 10,
      "outputs": [
        {
          "output_type": "execute_result",
          "data": {
            "text/html": [
              "<div>\n",
              "<style scoped>\n",
              "    .dataframe tbody tr th:only-of-type {\n",
              "        vertical-align: middle;\n",
              "    }\n",
              "\n",
              "    .dataframe tbody tr th {\n",
              "        vertical-align: top;\n",
              "    }\n",
              "\n",
              "    .dataframe thead th {\n",
              "        text-align: right;\n",
              "    }\n",
              "</style>\n",
              "<table border=\"1\" class=\"dataframe\">\n",
              "  <thead>\n",
              "    <tr style=\"text-align: right;\">\n",
              "      <th></th>\n",
              "      <th>champion</th>\n",
              "      <th>title</th>\n",
              "      <th>primary</th>\n",
              "      <th>release_date</th>\n",
              "      <th>attack_at_lv1</th>\n",
              "      <th>attack_at_lv18</th>\n",
              "      <th>health_at_lv1</th>\n",
              "      <th>health_at_lv18</th>\n",
              "    </tr>\n",
              "  </thead>\n",
              "  <tbody>\n",
              "    <tr>\n",
              "      <th>17</th>\n",
              "      <td>Cho'Gath</td>\n",
              "      <td>the Terror of the Void</td>\n",
              "      <td>Specialist</td>\n",
              "      <td>2009-06-26</td>\n",
              "      <td>69.0000</td>\n",
              "      <td>140.4</td>\n",
              "      <td>574.4</td>\n",
              "      <td>1934.4</td>\n",
              "    </tr>\n",
              "    <tr>\n",
              "      <th>47</th>\n",
              "      <td>Kai'Sa</td>\n",
              "      <td>Daughter of the Void</td>\n",
              "      <td>Marksman</td>\n",
              "      <td>2018-03-07</td>\n",
              "      <td>59.0000</td>\n",
              "      <td>87.9</td>\n",
              "      <td>571.0</td>\n",
              "      <td>2033.0</td>\n",
              "    </tr>\n",
              "    <tr>\n",
              "      <th>56</th>\n",
              "      <td>Kha'Zix</td>\n",
              "      <td>the Voidreaver</td>\n",
              "      <td>Assassin</td>\n",
              "      <td>2012-09-27</td>\n",
              "      <td>63.0000</td>\n",
              "      <td>115.7</td>\n",
              "      <td>572.8</td>\n",
              "      <td>2017.8</td>\n",
              "    </tr>\n",
              "    <tr>\n",
              "      <th>59</th>\n",
              "      <td>Kog'Maw</td>\n",
              "      <td>the Mouth of the Abyss</td>\n",
              "      <td>Marksman</td>\n",
              "      <td>2010-06-24</td>\n",
              "      <td>61.0000</td>\n",
              "      <td>113.9</td>\n",
              "      <td>534.0</td>\n",
              "      <td>2030.0</td>\n",
              "    </tr>\n",
              "    <tr>\n",
              "      <th>91</th>\n",
              "      <td>Rek'Sai</td>\n",
              "      <td>the Void Burrower</td>\n",
              "      <td>Diver</td>\n",
              "      <td>2014-12-11</td>\n",
              "      <td>64.0000</td>\n",
              "      <td>115.0</td>\n",
              "      <td>570.0</td>\n",
              "      <td>2015.0</td>\n",
              "    </tr>\n",
              "    <tr>\n",
              "      <th>127</th>\n",
              "      <td>Vel'Koz</td>\n",
              "      <td>the Eye of the Void</td>\n",
              "      <td>Artillery</td>\n",
              "      <td>2014-02-27</td>\n",
              "      <td>54.9379</td>\n",
              "      <td>108.3</td>\n",
              "      <td>520.0</td>\n",
              "      <td>2016.0</td>\n",
              "    </tr>\n",
              "  </tbody>\n",
              "</table>\n",
              "</div>"
            ],
            "text/plain": [
              "     champion                   title  ... health_at_lv1 health_at_lv18\n",
              "17   Cho'Gath  the Terror of the Void  ...         574.4         1934.4\n",
              "47     Kai'Sa    Daughter of the Void  ...         571.0         2033.0\n",
              "56    Kha'Zix          the Voidreaver  ...         572.8         2017.8\n",
              "59    Kog'Maw  the Mouth of the Abyss  ...         534.0         2030.0\n",
              "91    Rek'Sai       the Void Burrower  ...         570.0         2015.0\n",
              "127   Vel'Koz     the Eye of the Void  ...         520.0         2016.0\n",
              "\n",
              "[6 rows x 8 columns]"
            ]
          },
          "metadata": {
            "tags": []
          },
          "execution_count": 10
        }
      ]
    },
    {
      "cell_type": "markdown",
      "metadata": {
        "id": "QECAEl4PR7T7",
        "colab_type": "text"
      },
      "source": [
        "**Câu 7** : Trong danh hiệu của tướng thường có từ `the`, tuy nhiên, vẫn có vài tướng nằm ngoài quy tắc này. Lấy ra các tướng đó."
      ]
    },
    {
      "cell_type": "code",
      "metadata": {
        "id": "TkzooPExSe8i",
        "colab_type": "code",
        "colab": {
          "base_uri": "https://localhost:8080/",
          "height": 173
        },
        "outputId": "1a30dcaf-adc0-4615-c328-5c523cbb1d7a"
      },
      "source": [
        "champs[champs.title.str.find('the') == -1]"
      ],
      "execution_count": 11,
      "outputs": [
        {
          "output_type": "execute_result",
          "data": {
            "text/html": [
              "<div>\n",
              "<style scoped>\n",
              "    .dataframe tbody tr th:only-of-type {\n",
              "        vertical-align: middle;\n",
              "    }\n",
              "\n",
              "    .dataframe tbody tr th {\n",
              "        vertical-align: top;\n",
              "    }\n",
              "\n",
              "    .dataframe thead th {\n",
              "        text-align: right;\n",
              "    }\n",
              "</style>\n",
              "<table border=\"1\" class=\"dataframe\">\n",
              "  <thead>\n",
              "    <tr style=\"text-align: right;\">\n",
              "      <th></th>\n",
              "      <th>champion</th>\n",
              "      <th>title</th>\n",
              "      <th>primary</th>\n",
              "      <th>release_date</th>\n",
              "      <th>attack_at_lv1</th>\n",
              "      <th>attack_at_lv18</th>\n",
              "      <th>health_at_lv1</th>\n",
              "      <th>health_at_lv18</th>\n",
              "    </tr>\n",
              "  </thead>\n",
              "  <tbody>\n",
              "    <tr>\n",
              "      <th>25</th>\n",
              "      <td>Evelynn</td>\n",
              "      <td>Agony's Embrace</td>\n",
              "      <td>Assassin</td>\n",
              "      <td>2009-05-01</td>\n",
              "      <td>61.0</td>\n",
              "      <td>112.0</td>\n",
              "      <td>572.0</td>\n",
              "      <td>2000.0</td>\n",
              "    </tr>\n",
              "    <tr>\n",
              "      <th>43</th>\n",
              "      <td>Jax</td>\n",
              "      <td>Grandmaster at Arms</td>\n",
              "      <td>Skirmisher</td>\n",
              "      <td>2009-02-21</td>\n",
              "      <td>68.0</td>\n",
              "      <td>125.4</td>\n",
              "      <td>592.8</td>\n",
              "      <td>2037.8</td>\n",
              "    </tr>\n",
              "    <tr>\n",
              "      <th>88</th>\n",
              "      <td>Quinn</td>\n",
              "      <td>Demacia's Wings</td>\n",
              "      <td>Specialist</td>\n",
              "      <td>2013-03-01</td>\n",
              "      <td>59.0</td>\n",
              "      <td>99.8</td>\n",
              "      <td>532.8</td>\n",
              "      <td>1977.8</td>\n",
              "    </tr>\n",
              "    <tr>\n",
              "      <th>138</th>\n",
              "      <td>Yorick</td>\n",
              "      <td>Shepherd of Souls</td>\n",
              "      <td>Juggernaut</td>\n",
              "      <td>2011-06-22</td>\n",
              "      <td>62.0</td>\n",
              "      <td>147.0</td>\n",
              "      <td>580.0</td>\n",
              "      <td>2280.0</td>\n",
              "    </tr>\n",
              "  </tbody>\n",
              "</table>\n",
              "</div>"
            ],
            "text/plain": [
              "    champion                 title  ... health_at_lv1 health_at_lv18\n",
              "25   Evelynn       Agony's Embrace  ...         572.0         2000.0\n",
              "43       Jax   Grandmaster at Arms  ...         592.8         2037.8\n",
              "88     Quinn       Demacia's Wings  ...         532.8         1977.8\n",
              "138   Yorick     Shepherd of Souls  ...         580.0         2280.0\n",
              "\n",
              "[4 rows x 8 columns]"
            ]
          },
          "metadata": {
            "tags": []
          },
          "execution_count": 11
        }
      ]
    },
    {
      "cell_type": "markdown",
      "metadata": {
        "id": "-ixyfLTlO99c",
        "colab_type": "text"
      },
      "source": [
        "**Câu 8** : Lấy ngày ra mắt của các tướng `Ryze`, `Yasuo` (Daxua), `Zed`, `Lee Sin`, `Teemo`, `Kalista`, `Zoe` và `Vayne`."
      ]
    },
    {
      "cell_type": "code",
      "metadata": {
        "id": "nyFOH09CO9au",
        "colab_type": "code",
        "colab": {
          "base_uri": "https://localhost:8080/",
          "height": 297
        },
        "outputId": "15fa5484-4f64-4c9e-8c60-37637daf30c1"
      },
      "source": [
        "champs.loc[champs.champion.isin(['Ryze', 'Yasuo', 'Zed', 'Lee Sin', 'Teemo', 'Kalista', 'Zoe', 'Vayne']), ['champion', 'release_date']]"
      ],
      "execution_count": 12,
      "outputs": [
        {
          "output_type": "execute_result",
          "data": {
            "text/html": [
              "<div>\n",
              "<style scoped>\n",
              "    .dataframe tbody tr th:only-of-type {\n",
              "        vertical-align: middle;\n",
              "    }\n",
              "\n",
              "    .dataframe tbody tr th {\n",
              "        vertical-align: top;\n",
              "    }\n",
              "\n",
              "    .dataframe thead th {\n",
              "        text-align: right;\n",
              "    }\n",
              "</style>\n",
              "<table border=\"1\" class=\"dataframe\">\n",
              "  <thead>\n",
              "    <tr style=\"text-align: right;\">\n",
              "      <th></th>\n",
              "      <th>champion</th>\n",
              "      <th>release_date</th>\n",
              "    </tr>\n",
              "  </thead>\n",
              "  <tbody>\n",
              "    <tr>\n",
              "      <th>48</th>\n",
              "      <td>Kalista</td>\n",
              "      <td>2014-11-20</td>\n",
              "    </tr>\n",
              "    <tr>\n",
              "      <th>61</th>\n",
              "      <td>Lee Sin</td>\n",
              "      <td>2011-04-01</td>\n",
              "    </tr>\n",
              "    <tr>\n",
              "      <th>96</th>\n",
              "      <td>Ryze</td>\n",
              "      <td>2009-02-21</td>\n",
              "    </tr>\n",
              "    <tr>\n",
              "      <th>115</th>\n",
              "      <td>Teemo</td>\n",
              "      <td>2009-02-21</td>\n",
              "    </tr>\n",
              "    <tr>\n",
              "      <th>125</th>\n",
              "      <td>Vayne</td>\n",
              "      <td>2011-05-10</td>\n",
              "    </tr>\n",
              "    <tr>\n",
              "      <th>137</th>\n",
              "      <td>Yasuo</td>\n",
              "      <td>2013-12-13</td>\n",
              "    </tr>\n",
              "    <tr>\n",
              "      <th>141</th>\n",
              "      <td>Zed</td>\n",
              "      <td>2012-11-13</td>\n",
              "    </tr>\n",
              "    <tr>\n",
              "      <th>144</th>\n",
              "      <td>Zoe</td>\n",
              "      <td>2017-11-21</td>\n",
              "    </tr>\n",
              "  </tbody>\n",
              "</table>\n",
              "</div>"
            ],
            "text/plain": [
              "    champion release_date\n",
              "48   Kalista   2014-11-20\n",
              "61   Lee Sin   2011-04-01\n",
              "96      Ryze   2009-02-21\n",
              "115    Teemo   2009-02-21\n",
              "125    Vayne   2011-05-10\n",
              "137    Yasuo   2013-12-13\n",
              "141      Zed   2012-11-13\n",
              "144      Zoe   2017-11-21"
            ]
          },
          "metadata": {
            "tags": []
          },
          "execution_count": 12
        }
      ]
    },
    {
      "cell_type": "markdown",
      "metadata": {
        "id": "ar4eK6g4MBGZ",
        "colab_type": "text"
      },
      "source": [
        "**Câu 9** : Trong khoảng thời gian 1 năm kể từ khi ra mắt `Thresh`, có bao nhiêu tướng mới được ra mắt và lấy ra những tướng đó."
      ]
    },
    {
      "cell_type": "code",
      "metadata": {
        "id": "9b2cd_YLMqqe",
        "colab_type": "code",
        "colab": {
          "base_uri": "https://localhost:8080/",
          "height": 266
        },
        "outputId": "864994a0-ccb5-49c8-cc7b-325182830073"
      },
      "source": [
        "# lấy ra ngày ra mắt Thresh\n",
        "th = pd.Timestamp(champs.loc[champs.champion == 'Thresh', 'release_date'].values[0])\n",
        "\n",
        "# tạo thời điểm sau ngày ra mắt Thresh một năm\n",
        "th2 = pd.Timestamp(year = th.year + 1, month = th.month, day = th.day)\n",
        "\n",
        "# lấy ra những tướng ra mắt trong khoảng thời gian 1 năm sau ngày ra mắt Thresh\n",
        "champs[(th < champs.release_date) & (champs.release_date < th2)]"
      ],
      "execution_count": 20,
      "outputs": [
        {
          "output_type": "execute_result",
          "data": {
            "text/html": [
              "<div>\n",
              "<style scoped>\n",
              "    .dataframe tbody tr th:only-of-type {\n",
              "        vertical-align: middle;\n",
              "    }\n",
              "\n",
              "    .dataframe tbody tr th {\n",
              "        vertical-align: top;\n",
              "    }\n",
              "\n",
              "    .dataframe thead th {\n",
              "        text-align: right;\n",
              "    }\n",
              "</style>\n",
              "<table border=\"1\" class=\"dataframe\">\n",
              "  <thead>\n",
              "    <tr style=\"text-align: right;\">\n",
              "      <th></th>\n",
              "      <th>champion</th>\n",
              "      <th>title</th>\n",
              "      <th>primary</th>\n",
              "      <th>release_date</th>\n",
              "      <th>attack_at_lv1</th>\n",
              "      <th>attack_at_lv18</th>\n",
              "      <th>health_at_lv1</th>\n",
              "      <th>health_at_lv18</th>\n",
              "    </tr>\n",
              "  </thead>\n",
              "  <tbody>\n",
              "    <tr>\n",
              "      <th>0</th>\n",
              "      <td>Aatrox</td>\n",
              "      <td>the Darkin Blade</td>\n",
              "      <td>Juggernaut</td>\n",
              "      <td>2013-06-13</td>\n",
              "      <td>60.0</td>\n",
              "      <td>145.0</td>\n",
              "      <td>580.0</td>\n",
              "      <td>2110.0</td>\n",
              "    </tr>\n",
              "    <tr>\n",
              "      <th>46</th>\n",
              "      <td>Jinx</td>\n",
              "      <td>the Loose Cannon</td>\n",
              "      <td>Marksman</td>\n",
              "      <td>2013-10-10</td>\n",
              "      <td>57.0</td>\n",
              "      <td>114.8</td>\n",
              "      <td>581.0</td>\n",
              "      <td>2009.0</td>\n",
              "    </tr>\n",
              "    <tr>\n",
              "      <th>63</th>\n",
              "      <td>Lissandra</td>\n",
              "      <td>the Ice Witch</td>\n",
              "      <td>Burst</td>\n",
              "      <td>2013-04-30</td>\n",
              "      <td>53.0</td>\n",
              "      <td>98.9</td>\n",
              "      <td>550.0</td>\n",
              "      <td>2080.0</td>\n",
              "    </tr>\n",
              "    <tr>\n",
              "      <th>64</th>\n",
              "      <td>Lucian</td>\n",
              "      <td>the Purifier</td>\n",
              "      <td>Marksman</td>\n",
              "      <td>2013-08-22</td>\n",
              "      <td>64.0</td>\n",
              "      <td>110.8</td>\n",
              "      <td>571.0</td>\n",
              "      <td>2033.0</td>\n",
              "    </tr>\n",
              "    <tr>\n",
              "      <th>88</th>\n",
              "      <td>Quinn</td>\n",
              "      <td>Demacia's Wings</td>\n",
              "      <td>Specialist</td>\n",
              "      <td>2013-03-01</td>\n",
              "      <td>59.0</td>\n",
              "      <td>99.8</td>\n",
              "      <td>532.8</td>\n",
              "      <td>1977.8</td>\n",
              "    </tr>\n",
              "    <tr>\n",
              "      <th>137</th>\n",
              "      <td>Yasuo</td>\n",
              "      <td>the Unforgiven</td>\n",
              "      <td>Skirmisher</td>\n",
              "      <td>2013-12-13</td>\n",
              "      <td>60.0</td>\n",
              "      <td>114.4</td>\n",
              "      <td>523.0</td>\n",
              "      <td>2002.0</td>\n",
              "    </tr>\n",
              "    <tr>\n",
              "      <th>140</th>\n",
              "      <td>Zac</td>\n",
              "      <td>the Secret Weapon</td>\n",
              "      <td>Vanguard</td>\n",
              "      <td>2013-03-29</td>\n",
              "      <td>60.0</td>\n",
              "      <td>117.8</td>\n",
              "      <td>615.0</td>\n",
              "      <td>2230.0</td>\n",
              "    </tr>\n",
              "  </tbody>\n",
              "</table>\n",
              "</div>"
            ],
            "text/plain": [
              "      champion              title  ... health_at_lv1 health_at_lv18\n",
              "0       Aatrox   the Darkin Blade  ...         580.0         2110.0\n",
              "46        Jinx   the Loose Cannon  ...         581.0         2009.0\n",
              "63   Lissandra      the Ice Witch  ...         550.0         2080.0\n",
              "64      Lucian       the Purifier  ...         571.0         2033.0\n",
              "88       Quinn    Demacia's Wings  ...         532.8         1977.8\n",
              "137      Yasuo     the Unforgiven  ...         523.0         2002.0\n",
              "140        Zac  the Secret Weapon  ...         615.0         2230.0\n",
              "\n",
              "[7 rows x 8 columns]"
            ]
          },
          "metadata": {
            "tags": []
          },
          "execution_count": 20
        }
      ]
    },
    {
      "cell_type": "markdown",
      "metadata": {
        "id": "DiSiDTtePfd0",
        "colab_type": "text"
      },
      "source": [
        "**Câu 10** : Đếm số lượng tướng ra mắt trong mỗi năm.\n",
        "\n",
        "_Gợi ý_ : tạo một cột mới chứa năm ra mắt tương ứng với từng tướng (dùng `.dt.year`)"
      ]
    },
    {
      "cell_type": "code",
      "metadata": {
        "id": "BICU5s9gPr1T",
        "colab_type": "code",
        "colab": {
          "base_uri": "https://localhost:8080/",
          "height": 221
        },
        "outputId": "d19f50a4-a091-4db4-da72-1ed042dad467"
      },
      "source": [
        "champs.release_date.dt.year.value_counts().sort_index()"
      ],
      "execution_count": 22,
      "outputs": [
        {
          "output_type": "execute_result",
          "data": {
            "text/plain": [
              "2009    42\n",
              "2010    24\n",
              "2011    24\n",
              "2012    19\n",
              "2013     8\n",
              "2014     6\n",
              "2015     5\n",
              "2016     6\n",
              "2017     5\n",
              "2018     3\n",
              "2019     4\n",
              "Name: release_date, dtype: int64"
            ]
          },
          "metadata": {
            "tags": []
          },
          "execution_count": 22
        }
      ]
    },
    {
      "cell_type": "markdown",
      "metadata": {
        "id": "BgKh_M9DXs54",
        "colab_type": "text"
      },
      "source": [
        "**Câu 11** : Có bao nhiêu phân loại tướng và in những phân loại đó ra."
      ]
    },
    {
      "cell_type": "code",
      "metadata": {
        "id": "vA0eVFebX-jy",
        "colab_type": "code",
        "colab": {
          "base_uri": "https://localhost:8080/",
          "height": 68
        },
        "outputId": "4ae607f1-0161-4705-cb1e-ce7dfa74ed84"
      },
      "source": [
        "champs.primary.unique()"
      ],
      "execution_count": 23,
      "outputs": [
        {
          "output_type": "execute_result",
          "data": {
            "text/plain": [
              "array(['Juggernaut', 'Burst', 'Assassin', 'Vanguard', 'Battlemage',\n",
              "       'Marksman', 'Specialist', 'Catcher', 'Warden', 'Diver',\n",
              "       'Skirmisher', 'Enchanter', 'Artillery'], dtype=object)"
            ]
          },
          "metadata": {
            "tags": []
          },
          "execution_count": 23
        }
      ]
    },
    {
      "cell_type": "markdown",
      "metadata": {
        "id": "8jc2R5AEYGHe",
        "colab_type": "text"
      },
      "source": [
        "**Câu 12** : Lấy ra những tướng cùng phân loại với `Yasuo`."
      ]
    },
    {
      "cell_type": "code",
      "metadata": {
        "id": "FIlzrt_PYPSb",
        "colab_type": "code",
        "colab": {
          "base_uri": "https://localhost:8080/",
          "height": 266
        },
        "outputId": "c752fb6a-62e0-4794-a12a-33d4f4a15417"
      },
      "source": [
        "# lấy ra phân loại của Yasuo\n",
        "ys = champs.loc[champs.champion == 'Yasuo', 'primary'].values[0]\n",
        "\n",
        "# lấy những tướng cùng phân loại với Yasuo\n",
        "champs[champs.primary == ys]"
      ],
      "execution_count": 28,
      "outputs": [
        {
          "output_type": "execute_result",
          "data": {
            "text/html": [
              "<div>\n",
              "<style scoped>\n",
              "    .dataframe tbody tr th:only-of-type {\n",
              "        vertical-align: middle;\n",
              "    }\n",
              "\n",
              "    .dataframe tbody tr th {\n",
              "        vertical-align: top;\n",
              "    }\n",
              "\n",
              "    .dataframe thead th {\n",
              "        text-align: right;\n",
              "    }\n",
              "</style>\n",
              "<table border=\"1\" class=\"dataframe\">\n",
              "  <thead>\n",
              "    <tr style=\"text-align: right;\">\n",
              "      <th></th>\n",
              "      <th>champion</th>\n",
              "      <th>title</th>\n",
              "      <th>primary</th>\n",
              "      <th>release_date</th>\n",
              "      <th>attack_at_lv1</th>\n",
              "      <th>attack_at_lv18</th>\n",
              "      <th>health_at_lv1</th>\n",
              "      <th>health_at_lv18</th>\n",
              "    </tr>\n",
              "  </thead>\n",
              "  <tbody>\n",
              "    <tr>\n",
              "      <th>28</th>\n",
              "      <td>Fiora</td>\n",
              "      <td>the Grand Duelist</td>\n",
              "      <td>Skirmisher</td>\n",
              "      <td>2012-02-29</td>\n",
              "      <td>68.0</td>\n",
              "      <td>124.1</td>\n",
              "      <td>550.00</td>\n",
              "      <td>1995.0</td>\n",
              "    </tr>\n",
              "    <tr>\n",
              "      <th>43</th>\n",
              "      <td>Jax</td>\n",
              "      <td>Grandmaster at Arms</td>\n",
              "      <td>Skirmisher</td>\n",
              "      <td>2009-02-21</td>\n",
              "      <td>68.0</td>\n",
              "      <td>125.4</td>\n",
              "      <td>592.80</td>\n",
              "      <td>2037.8</td>\n",
              "    </tr>\n",
              "    <tr>\n",
              "      <th>54</th>\n",
              "      <td>Kayn</td>\n",
              "      <td>the Shadow Reaper</td>\n",
              "      <td>Skirmisher</td>\n",
              "      <td>2017-07-12</td>\n",
              "      <td>68.0</td>\n",
              "      <td>124.1</td>\n",
              "      <td>585.00</td>\n",
              "      <td>2030.0</td>\n",
              "    </tr>\n",
              "    <tr>\n",
              "      <th>70</th>\n",
              "      <td>Master Yi</td>\n",
              "      <td>the Wuju Bladesman</td>\n",
              "      <td>Skirmisher</td>\n",
              "      <td>2009-02-21</td>\n",
              "      <td>66.0</td>\n",
              "      <td>117.0</td>\n",
              "      <td>598.56</td>\n",
              "      <td>2162.6</td>\n",
              "    </tr>\n",
              "    <tr>\n",
              "      <th>94</th>\n",
              "      <td>Riven</td>\n",
              "      <td>the Exile</td>\n",
              "      <td>Skirmisher</td>\n",
              "      <td>2011-09-14</td>\n",
              "      <td>64.0</td>\n",
              "      <td>115.0</td>\n",
              "      <td>558.48</td>\n",
              "      <td>2020.5</td>\n",
              "    </tr>\n",
              "    <tr>\n",
              "      <th>119</th>\n",
              "      <td>Tryndamere</td>\n",
              "      <td>the Barbarian King</td>\n",
              "      <td>Skirmisher</td>\n",
              "      <td>2009-05-01</td>\n",
              "      <td>69.0</td>\n",
              "      <td>131.9</td>\n",
              "      <td>625.64</td>\n",
              "      <td>2291.6</td>\n",
              "    </tr>\n",
              "    <tr>\n",
              "      <th>137</th>\n",
              "      <td>Yasuo</td>\n",
              "      <td>the Unforgiven</td>\n",
              "      <td>Skirmisher</td>\n",
              "      <td>2013-12-13</td>\n",
              "      <td>60.0</td>\n",
              "      <td>114.4</td>\n",
              "      <td>523.00</td>\n",
              "      <td>2002.0</td>\n",
              "    </tr>\n",
              "  </tbody>\n",
              "</table>\n",
              "</div>"
            ],
            "text/plain": [
              "       champion                 title  ... health_at_lv1 health_at_lv18\n",
              "28        Fiora     the Grand Duelist  ...        550.00         1995.0\n",
              "43          Jax   Grandmaster at Arms  ...        592.80         2037.8\n",
              "54         Kayn     the Shadow Reaper  ...        585.00         2030.0\n",
              "70    Master Yi    the Wuju Bladesman  ...        598.56         2162.6\n",
              "94        Riven             the Exile  ...        558.48         2020.5\n",
              "119  Tryndamere    the Barbarian King  ...        625.64         2291.6\n",
              "137       Yasuo        the Unforgiven  ...        523.00         2002.0\n",
              "\n",
              "[7 rows x 8 columns]"
            ]
          },
          "metadata": {
            "tags": []
          },
          "execution_count": 28
        }
      ]
    },
    {
      "cell_type": "markdown",
      "metadata": {
        "id": "hAQaHTpVYGCE",
        "colab_type": "text"
      },
      "source": [
        "**Câu 13** : Lấy ra tên tướng `Marksman` (xạ thủ) mới nhất được ra mắt."
      ]
    },
    {
      "cell_type": "code",
      "metadata": {
        "id": "O5fd-9MEYxEa",
        "colab_type": "code",
        "colab": {
          "base_uri": "https://localhost:8080/",
          "height": 80
        },
        "outputId": "e30ce439-dace-4f88-8f22-0386919dac6c"
      },
      "source": [
        "champs[champs.primary == 'Marksman'].sort_values(by = 'release_date').tail(1)"
      ],
      "execution_count": 55,
      "outputs": [
        {
          "output_type": "execute_result",
          "data": {
            "text/html": [
              "<div>\n",
              "<style scoped>\n",
              "    .dataframe tbody tr th:only-of-type {\n",
              "        vertical-align: middle;\n",
              "    }\n",
              "\n",
              "    .dataframe tbody tr th {\n",
              "        vertical-align: top;\n",
              "    }\n",
              "\n",
              "    .dataframe thead th {\n",
              "        text-align: right;\n",
              "    }\n",
              "</style>\n",
              "<table border=\"1\" class=\"dataframe\">\n",
              "  <thead>\n",
              "    <tr style=\"text-align: right;\">\n",
              "      <th></th>\n",
              "      <th>champion</th>\n",
              "      <th>title</th>\n",
              "      <th>primary</th>\n",
              "      <th>release_date</th>\n",
              "      <th>attack_at_lv1</th>\n",
              "      <th>attack_at_lv18</th>\n",
              "      <th>health_at_lv1</th>\n",
              "      <th>health_at_lv18</th>\n",
              "      <th>attack_per_lv</th>\n",
              "      <th>health_per_lv</th>\n",
              "    </tr>\n",
              "  </thead>\n",
              "  <tbody>\n",
              "    <tr>\n",
              "      <th>98</th>\n",
              "      <td>Senna</td>\n",
              "      <td>the Redeemer</td>\n",
              "      <td>Marksman</td>\n",
              "      <td>2019-11-10</td>\n",
              "      <td>50.0</td>\n",
              "      <td>50.0</td>\n",
              "      <td>520.0</td>\n",
              "      <td>1965.0</td>\n",
              "      <td>0.0</td>\n",
              "      <td>85.0</td>\n",
              "    </tr>\n",
              "  </tbody>\n",
              "</table>\n",
              "</div>"
            ],
            "text/plain": [
              "   champion         title  ... attack_per_lv health_per_lv\n",
              "98    Senna  the Redeemer  ...           0.0          85.0\n",
              "\n",
              "[1 rows x 10 columns]"
            ]
          },
          "metadata": {
            "tags": []
          },
          "execution_count": 55
        }
      ]
    },
    {
      "cell_type": "markdown",
      "metadata": {
        "id": "tpUEqzBtYynQ",
        "colab_type": "text"
      },
      "source": [
        "**Câu 14** : Đếm số lượng tướng `Assassin` (sát thủ)."
      ]
    },
    {
      "cell_type": "code",
      "metadata": {
        "id": "z7wtJJrqYx-C",
        "colab_type": "code",
        "colab": {
          "base_uri": "https://localhost:8080/",
          "height": 34
        },
        "outputId": "e3a89ac8-2c6a-46e0-d2bc-458861247d92"
      },
      "source": [
        "champs[champs.primary == 'Assassin'].shape[0]"
      ],
      "execution_count": 32,
      "outputs": [
        {
          "output_type": "execute_result",
          "data": {
            "text/plain": [
              "15"
            ]
          },
          "metadata": {
            "tags": []
          },
          "execution_count": 32
        }
      ]
    },
    {
      "cell_type": "markdown",
      "metadata": {
        "id": "R48OfWHvZLCM",
        "colab_type": "text"
      },
      "source": [
        "Biết rằng, mỗi khi lên một cấp, các chỉ số (tấn công, máu) của tướng đều được cộng thêm một lượng và lượng gia tăng này giống nhau ở mọi cấp.\n",
        "\n",
        "**Câu 15** : Tính lượng gia tăng mỗi cấp đó, để trong hai cột `attack_per_lv` và `health_per_lv` tương ứng với tấn công và máu."
      ]
    },
    {
      "cell_type": "code",
      "metadata": {
        "id": "Lf6pmejSZxM2",
        "colab_type": "code",
        "colab": {
          "base_uri": "https://localhost:8080/",
          "height": 204
        },
        "outputId": "c014a8a6-45ac-4a49-91c1-dcb8d59493cb"
      },
      "source": [
        "# champs = champs.assign(\n",
        "#     attack_per_lv = champs.attack_at_lv18.subtract(champs.attack_at_lv1).div(17), # tương đương (attack_at_lv18 - attack_at_lv1) /17\n",
        "#     health_per_lv = champs.health_at_lv18.subtract(champs.health_at_lv1).div(17), # tương đương (health_at_lv18 - health_at_lv1) /17\n",
        "# )\n",
        "# từ cấp 1 lên cấp 18 có 17 lần lên cấp\n",
        "champs = champs.assign(\n",
        "    attack_per_lv = (champs.attack_at_lv18 - champs.attack_at_lv1) / 17,\n",
        "    health_per_lv = (champs.health_at_lv18 - champs.health_at_lv1) / 17,\n",
        ")\n",
        "champs.head()"
      ],
      "execution_count": 50,
      "outputs": [
        {
          "output_type": "execute_result",
          "data": {
            "text/html": [
              "<div>\n",
              "<style scoped>\n",
              "    .dataframe tbody tr th:only-of-type {\n",
              "        vertical-align: middle;\n",
              "    }\n",
              "\n",
              "    .dataframe tbody tr th {\n",
              "        vertical-align: top;\n",
              "    }\n",
              "\n",
              "    .dataframe thead th {\n",
              "        text-align: right;\n",
              "    }\n",
              "</style>\n",
              "<table border=\"1\" class=\"dataframe\">\n",
              "  <thead>\n",
              "    <tr style=\"text-align: right;\">\n",
              "      <th></th>\n",
              "      <th>champion</th>\n",
              "      <th>title</th>\n",
              "      <th>primary</th>\n",
              "      <th>release_date</th>\n",
              "      <th>attack_at_lv1</th>\n",
              "      <th>attack_at_lv18</th>\n",
              "      <th>health_at_lv1</th>\n",
              "      <th>health_at_lv18</th>\n",
              "      <th>attack_per_lv</th>\n",
              "      <th>health_per_lv</th>\n",
              "    </tr>\n",
              "  </thead>\n",
              "  <tbody>\n",
              "    <tr>\n",
              "      <th>0</th>\n",
              "      <td>Aatrox</td>\n",
              "      <td>the Darkin Blade</td>\n",
              "      <td>Juggernaut</td>\n",
              "      <td>2013-06-13</td>\n",
              "      <td>60.0000</td>\n",
              "      <td>145.0</td>\n",
              "      <td>580.00</td>\n",
              "      <td>2110.0</td>\n",
              "      <td>5.000000</td>\n",
              "      <td>90.000000</td>\n",
              "    </tr>\n",
              "    <tr>\n",
              "      <th>1</th>\n",
              "      <td>Ahri</td>\n",
              "      <td>the Nine-Tailed Fox</td>\n",
              "      <td>Burst</td>\n",
              "      <td>2011-12-14</td>\n",
              "      <td>53.0400</td>\n",
              "      <td>104.0</td>\n",
              "      <td>526.00</td>\n",
              "      <td>2090.0</td>\n",
              "      <td>2.997647</td>\n",
              "      <td>92.000000</td>\n",
              "    </tr>\n",
              "    <tr>\n",
              "      <th>2</th>\n",
              "      <td>Akali</td>\n",
              "      <td>the Rogue Assassin</td>\n",
              "      <td>Assassin</td>\n",
              "      <td>2010-05-11</td>\n",
              "      <td>62.4000</td>\n",
              "      <td>118.5</td>\n",
              "      <td>575.00</td>\n",
              "      <td>2190.0</td>\n",
              "      <td>3.300000</td>\n",
              "      <td>95.000000</td>\n",
              "    </tr>\n",
              "    <tr>\n",
              "      <th>3</th>\n",
              "      <td>Alistar</td>\n",
              "      <td>the Minotaur</td>\n",
              "      <td>Vanguard</td>\n",
              "      <td>2009-02-21</td>\n",
              "      <td>61.1116</td>\n",
              "      <td>122.7</td>\n",
              "      <td>573.36</td>\n",
              "      <td>2375.4</td>\n",
              "      <td>3.622847</td>\n",
              "      <td>106.002353</td>\n",
              "    </tr>\n",
              "    <tr>\n",
              "      <th>4</th>\n",
              "      <td>Amumu</td>\n",
              "      <td>the Sad Mummy</td>\n",
              "      <td>Vanguard</td>\n",
              "      <td>2009-06-26</td>\n",
              "      <td>53.3800</td>\n",
              "      <td>118.0</td>\n",
              "      <td>613.12</td>\n",
              "      <td>2041.1</td>\n",
              "      <td>3.801176</td>\n",
              "      <td>83.998824</td>\n",
              "    </tr>\n",
              "  </tbody>\n",
              "</table>\n",
              "</div>"
            ],
            "text/plain": [
              "  champion                title  ... attack_per_lv health_per_lv\n",
              "0   Aatrox     the Darkin Blade  ...      5.000000     90.000000\n",
              "1     Ahri  the Nine-Tailed Fox  ...      2.997647     92.000000\n",
              "2    Akali   the Rogue Assassin  ...      3.300000     95.000000\n",
              "3  Alistar         the Minotaur  ...      3.622847    106.002353\n",
              "4    Amumu        the Sad Mummy  ...      3.801176     83.998824\n",
              "\n",
              "[5 rows x 10 columns]"
            ]
          },
          "metadata": {
            "tags": []
          },
          "execution_count": 50
        }
      ]
    },
    {
      "cell_type": "markdown",
      "metadata": {
        "id": "N6qx8rAyadAd",
        "colab_type": "text"
      },
      "source": [
        "**Câu 16** : Lấy ra 10 tướng có máu cao nhất ở **cấp độ 11**."
      ]
    },
    {
      "cell_type": "code",
      "metadata": {
        "id": "ESMeT6XVatmB",
        "colab_type": "code",
        "colab": {
          "base_uri": "https://localhost:8080/",
          "height": 359
        },
        "outputId": "65485edf-83e7-4d1c-beed-ffc48e9ac0b3"
      },
      "source": [
        "# sắp xếp tăng dần thì 10 tướng có máu cao nhất sẽ nằm dưới cùng\n",
        "champs.assign(health_at_lv11 = champs.health_at_lv1 + 10 * champs.health_per_lv).sort_values(by = 'health_at_lv11').tail(10)"
      ],
      "execution_count": 51,
      "outputs": [
        {
          "output_type": "execute_result",
          "data": {
            "text/html": [
              "<div>\n",
              "<style scoped>\n",
              "    .dataframe tbody tr th:only-of-type {\n",
              "        vertical-align: middle;\n",
              "    }\n",
              "\n",
              "    .dataframe tbody tr th {\n",
              "        vertical-align: top;\n",
              "    }\n",
              "\n",
              "    .dataframe thead th {\n",
              "        text-align: right;\n",
              "    }\n",
              "</style>\n",
              "<table border=\"1\" class=\"dataframe\">\n",
              "  <thead>\n",
              "    <tr style=\"text-align: right;\">\n",
              "      <th></th>\n",
              "      <th>champion</th>\n",
              "      <th>title</th>\n",
              "      <th>primary</th>\n",
              "      <th>release_date</th>\n",
              "      <th>attack_at_lv1</th>\n",
              "      <th>attack_at_lv18</th>\n",
              "      <th>health_at_lv1</th>\n",
              "      <th>health_at_lv18</th>\n",
              "      <th>attack_per_lv</th>\n",
              "      <th>health_per_lv</th>\n",
              "      <th>health_at_lv11</th>\n",
              "    </tr>\n",
              "  </thead>\n",
              "  <tbody>\n",
              "    <tr>\n",
              "      <th>96</th>\n",
              "      <td>Ryze</td>\n",
              "      <td>the Rune Mage</td>\n",
              "      <td>Battlemage</td>\n",
              "      <td>2009-02-21</td>\n",
              "      <td>55.0400</td>\n",
              "      <td>106.0</td>\n",
              "      <td>570.48</td>\n",
              "      <td>2236.5</td>\n",
              "      <td>2.997647</td>\n",
              "      <td>98.001176</td>\n",
              "      <td>1550.491765</td>\n",
              "    </tr>\n",
              "    <tr>\n",
              "      <th>140</th>\n",
              "      <td>Zac</td>\n",
              "      <td>the Secret Weapon</td>\n",
              "      <td>Vanguard</td>\n",
              "      <td>2013-03-29</td>\n",
              "      <td>60.0000</td>\n",
              "      <td>117.8</td>\n",
              "      <td>615.00</td>\n",
              "      <td>2230.0</td>\n",
              "      <td>3.400000</td>\n",
              "      <td>95.000000</td>\n",
              "      <td>1565.000000</td>\n",
              "    </tr>\n",
              "    <tr>\n",
              "      <th>118</th>\n",
              "      <td>Trundle</td>\n",
              "      <td>the Troll King</td>\n",
              "      <td>Juggernaut</td>\n",
              "      <td>2010-12-01</td>\n",
              "      <td>68.0000</td>\n",
              "      <td>119.0</td>\n",
              "      <td>616.28</td>\n",
              "      <td>2248.3</td>\n",
              "      <td>3.000000</td>\n",
              "      <td>96.001176</td>\n",
              "      <td>1576.291765</td>\n",
              "    </tr>\n",
              "    <tr>\n",
              "      <th>138</th>\n",
              "      <td>Yorick</td>\n",
              "      <td>Shepherd of Souls</td>\n",
              "      <td>Juggernaut</td>\n",
              "      <td>2011-06-22</td>\n",
              "      <td>62.0000</td>\n",
              "      <td>147.0</td>\n",
              "      <td>580.00</td>\n",
              "      <td>2280.0</td>\n",
              "      <td>5.000000</td>\n",
              "      <td>100.000000</td>\n",
              "      <td>1580.000000</td>\n",
              "    </tr>\n",
              "    <tr>\n",
              "      <th>19</th>\n",
              "      <td>Darius</td>\n",
              "      <td>the Hand of Noxus</td>\n",
              "      <td>Juggernaut</td>\n",
              "      <td>2012-05-23</td>\n",
              "      <td>64.0000</td>\n",
              "      <td>149.0</td>\n",
              "      <td>582.24</td>\n",
              "      <td>2282.2</td>\n",
              "      <td>5.000000</td>\n",
              "      <td>99.997647</td>\n",
              "      <td>1582.216471</td>\n",
              "    </tr>\n",
              "    <tr>\n",
              "      <th>122</th>\n",
              "      <td>Udyr</td>\n",
              "      <td>the Spirit Walker</td>\n",
              "      <td>Juggernaut</td>\n",
              "      <td>2009-12-02</td>\n",
              "      <td>66.0000</td>\n",
              "      <td>151.0</td>\n",
              "      <td>593.32</td>\n",
              "      <td>2276.3</td>\n",
              "      <td>5.000000</td>\n",
              "      <td>98.998824</td>\n",
              "      <td>1583.308235</td>\n",
              "    </tr>\n",
              "    <tr>\n",
              "      <th>111</th>\n",
              "      <td>Tahm Kench</td>\n",
              "      <td>the River King</td>\n",
              "      <td>Warden</td>\n",
              "      <td>2015-07-09</td>\n",
              "      <td>56.0000</td>\n",
              "      <td>110.4</td>\n",
              "      <td>600.00</td>\n",
              "      <td>2300.0</td>\n",
              "      <td>3.200000</td>\n",
              "      <td>100.000000</td>\n",
              "      <td>1600.000000</td>\n",
              "    </tr>\n",
              "    <tr>\n",
              "      <th>119</th>\n",
              "      <td>Tryndamere</td>\n",
              "      <td>the Barbarian King</td>\n",
              "      <td>Skirmisher</td>\n",
              "      <td>2009-05-01</td>\n",
              "      <td>69.0000</td>\n",
              "      <td>131.9</td>\n",
              "      <td>625.64</td>\n",
              "      <td>2291.6</td>\n",
              "      <td>3.700000</td>\n",
              "      <td>97.997647</td>\n",
              "      <td>1605.616471</td>\n",
              "    </tr>\n",
              "    <tr>\n",
              "      <th>3</th>\n",
              "      <td>Alistar</td>\n",
              "      <td>the Minotaur</td>\n",
              "      <td>Vanguard</td>\n",
              "      <td>2009-02-21</td>\n",
              "      <td>61.1116</td>\n",
              "      <td>122.7</td>\n",
              "      <td>573.36</td>\n",
              "      <td>2375.4</td>\n",
              "      <td>3.622847</td>\n",
              "      <td>106.002353</td>\n",
              "      <td>1633.383529</td>\n",
              "    </tr>\n",
              "    <tr>\n",
              "      <th>30</th>\n",
              "      <td>Galio</td>\n",
              "      <td>the Colossus</td>\n",
              "      <td>Warden</td>\n",
              "      <td>2010-08-10</td>\n",
              "      <td>59.0000</td>\n",
              "      <td>118.5</td>\n",
              "      <td>562.00</td>\n",
              "      <td>2466.0</td>\n",
              "      <td>3.500000</td>\n",
              "      <td>112.000000</td>\n",
              "      <td>1682.000000</td>\n",
              "    </tr>\n",
              "  </tbody>\n",
              "</table>\n",
              "</div>"
            ],
            "text/plain": [
              "       champion               title  ... health_per_lv health_at_lv11\n",
              "96         Ryze       the Rune Mage  ...     98.001176    1550.491765\n",
              "140         Zac   the Secret Weapon  ...     95.000000    1565.000000\n",
              "118     Trundle      the Troll King  ...     96.001176    1576.291765\n",
              "138      Yorick   Shepherd of Souls  ...    100.000000    1580.000000\n",
              "19       Darius   the Hand of Noxus  ...     99.997647    1582.216471\n",
              "122        Udyr   the Spirit Walker  ...     98.998824    1583.308235\n",
              "111  Tahm Kench      the River King  ...    100.000000    1600.000000\n",
              "119  Tryndamere  the Barbarian King  ...     97.997647    1605.616471\n",
              "3       Alistar        the Minotaur  ...    106.002353    1633.383529\n",
              "30        Galio        the Colossus  ...    112.000000    1682.000000\n",
              "\n",
              "[10 rows x 11 columns]"
            ]
          },
          "metadata": {
            "tags": []
          },
          "execution_count": 51
        }
      ]
    },
    {
      "cell_type": "markdown",
      "metadata": {
        "id": "5QTLtcIEav8l",
        "colab_type": "text"
      },
      "source": [
        "**Câu 17** : Lấy ra 10 tướng có tấn công thấp nhất ở **cấp độ 16**."
      ]
    },
    {
      "cell_type": "code",
      "metadata": {
        "id": "IKYorlT5DhO7",
        "colab_type": "code",
        "colab": {
          "base_uri": "https://localhost:8080/",
          "height": 359
        },
        "outputId": "59465b87-3b3b-4775-aad8-a2fb7e779ab2"
      },
      "source": [
        "champs.assign(attack_at_lv16 = champs.attack_at_lv1 + 15 * champs.attack_per_lv).sort_values(by = 'attack_at_lv16').head(10)"
      ],
      "execution_count": 41,
      "outputs": [
        {
          "output_type": "execute_result",
          "data": {
            "text/html": [
              "<div>\n",
              "<style scoped>\n",
              "    .dataframe tbody tr th:only-of-type {\n",
              "        vertical-align: middle;\n",
              "    }\n",
              "\n",
              "    .dataframe tbody tr th {\n",
              "        vertical-align: top;\n",
              "    }\n",
              "\n",
              "    .dataframe thead th {\n",
              "        text-align: right;\n",
              "    }\n",
              "</style>\n",
              "<table border=\"1\" class=\"dataframe\">\n",
              "  <thead>\n",
              "    <tr style=\"text-align: right;\">\n",
              "      <th></th>\n",
              "      <th>champion</th>\n",
              "      <th>title</th>\n",
              "      <th>primary</th>\n",
              "      <th>release_date</th>\n",
              "      <th>attack_at_lv1</th>\n",
              "      <th>attack_at_lv18</th>\n",
              "      <th>health_at_lv1</th>\n",
              "      <th>health_at_lv18</th>\n",
              "      <th>attack_per_lv</th>\n",
              "      <th>health_per_lv</th>\n",
              "      <th>attack_at_lv16</th>\n",
              "    </tr>\n",
              "  </thead>\n",
              "  <tbody>\n",
              "    <tr>\n",
              "      <th>98</th>\n",
              "      <td>Senna</td>\n",
              "      <td>the Redeemer</td>\n",
              "      <td>Marksman</td>\n",
              "      <td>2019-11-10</td>\n",
              "      <td>50.000</td>\n",
              "      <td>50.0</td>\n",
              "      <td>520.00</td>\n",
              "      <td>1965.0</td>\n",
              "      <td>0.000000</td>\n",
              "      <td>85.000000</td>\n",
              "      <td>50.000000</td>\n",
              "    </tr>\n",
              "    <tr>\n",
              "      <th>41</th>\n",
              "      <td>Janna</td>\n",
              "      <td>the Storm's Fury</td>\n",
              "      <td>Enchanter</td>\n",
              "      <td>2009-09-02</td>\n",
              "      <td>46.000</td>\n",
              "      <td>71.5</td>\n",
              "      <td>500.00</td>\n",
              "      <td>1690.0</td>\n",
              "      <td>1.500000</td>\n",
              "      <td>70.000000</td>\n",
              "      <td>68.500000</td>\n",
              "    </tr>\n",
              "    <tr>\n",
              "      <th>82</th>\n",
              "      <td>Orianna</td>\n",
              "      <td>the Lady of Clockwork</td>\n",
              "      <td>Burst</td>\n",
              "      <td>2011-06-01</td>\n",
              "      <td>40.368</td>\n",
              "      <td>84.6</td>\n",
              "      <td>530.00</td>\n",
              "      <td>2077.0</td>\n",
              "      <td>2.601882</td>\n",
              "      <td>91.000000</td>\n",
              "      <td>79.396235</td>\n",
              "    </tr>\n",
              "    <tr>\n",
              "      <th>47</th>\n",
              "      <td>Kai'Sa</td>\n",
              "      <td>Daughter of the Void</td>\n",
              "      <td>Marksman</td>\n",
              "      <td>2018-03-07</td>\n",
              "      <td>59.000</td>\n",
              "      <td>87.9</td>\n",
              "      <td>571.00</td>\n",
              "      <td>2033.0</td>\n",
              "      <td>1.700000</td>\n",
              "      <td>86.000000</td>\n",
              "      <td>84.500000</td>\n",
              "    </tr>\n",
              "    <tr>\n",
              "      <th>65</th>\n",
              "      <td>Lulu</td>\n",
              "      <td>the Fae Sorceress</td>\n",
              "      <td>Enchanter</td>\n",
              "      <td>2012-03-20</td>\n",
              "      <td>46.368</td>\n",
              "      <td>90.6</td>\n",
              "      <td>525.00</td>\n",
              "      <td>1783.0</td>\n",
              "      <td>2.601882</td>\n",
              "      <td>74.000000</td>\n",
              "      <td>85.396235</td>\n",
              "    </tr>\n",
              "    <tr>\n",
              "      <th>77</th>\n",
              "      <td>Neeko</td>\n",
              "      <td>the Curious Chameleon</td>\n",
              "      <td>Burst</td>\n",
              "      <td>2018-12-05</td>\n",
              "      <td>48.000</td>\n",
              "      <td>90.5</td>\n",
              "      <td>540.00</td>\n",
              "      <td>2070.0</td>\n",
              "      <td>2.500000</td>\n",
              "      <td>90.000000</td>\n",
              "      <td>85.500000</td>\n",
              "    </tr>\n",
              "    <tr>\n",
              "      <th>53</th>\n",
              "      <td>Kayle</td>\n",
              "      <td>the Righteous</td>\n",
              "      <td>Specialist</td>\n",
              "      <td>2009-02-21</td>\n",
              "      <td>50.000</td>\n",
              "      <td>92.5</td>\n",
              "      <td>600.00</td>\n",
              "      <td>2045.0</td>\n",
              "      <td>2.500000</td>\n",
              "      <td>85.000000</td>\n",
              "      <td>87.500000</td>\n",
              "    </tr>\n",
              "    <tr>\n",
              "      <th>27</th>\n",
              "      <td>Fiddlesticks</td>\n",
              "      <td>the Harbinger of Doom</td>\n",
              "      <td>Specialist</td>\n",
              "      <td>2009-02-21</td>\n",
              "      <td>48.360</td>\n",
              "      <td>93.0</td>\n",
              "      <td>524.40</td>\n",
              "      <td>1884.4</td>\n",
              "      <td>2.625882</td>\n",
              "      <td>80.000000</td>\n",
              "      <td>87.748235</td>\n",
              "    </tr>\n",
              "    <tr>\n",
              "      <th>116</th>\n",
              "      <td>Thresh</td>\n",
              "      <td>the Chain Warden</td>\n",
              "      <td>Catcher</td>\n",
              "      <td>2013-01-23</td>\n",
              "      <td>56.000</td>\n",
              "      <td>93.4</td>\n",
              "      <td>560.52</td>\n",
              "      <td>2141.5</td>\n",
              "      <td>2.200000</td>\n",
              "      <td>92.998824</td>\n",
              "      <td>89.000000</td>\n",
              "    </tr>\n",
              "    <tr>\n",
              "      <th>6</th>\n",
              "      <td>Annie</td>\n",
              "      <td>the Dark Child</td>\n",
              "      <td>Burst</td>\n",
              "      <td>2009-02-21</td>\n",
              "      <td>50.410</td>\n",
              "      <td>95.0</td>\n",
              "      <td>524.00</td>\n",
              "      <td>2020.0</td>\n",
              "      <td>2.622941</td>\n",
              "      <td>88.000000</td>\n",
              "      <td>89.754118</td>\n",
              "    </tr>\n",
              "  </tbody>\n",
              "</table>\n",
              "</div>"
            ],
            "text/plain": [
              "         champion                  title  ... health_per_lv attack_at_lv16\n",
              "98          Senna           the Redeemer  ...     85.000000      50.000000\n",
              "41          Janna       the Storm's Fury  ...     70.000000      68.500000\n",
              "82        Orianna  the Lady of Clockwork  ...     91.000000      79.396235\n",
              "47         Kai'Sa   Daughter of the Void  ...     86.000000      84.500000\n",
              "65           Lulu      the Fae Sorceress  ...     74.000000      85.396235\n",
              "77          Neeko  the Curious Chameleon  ...     90.000000      85.500000\n",
              "53          Kayle          the Righteous  ...     85.000000      87.500000\n",
              "27   Fiddlesticks  the Harbinger of Doom  ...     80.000000      87.748235\n",
              "116        Thresh       the Chain Warden  ...     92.998824      89.000000\n",
              "6           Annie         the Dark Child  ...     88.000000      89.754118\n",
              "\n",
              "[10 rows x 11 columns]"
            ]
          },
          "metadata": {
            "tags": []
          },
          "execution_count": 41
        }
      ]
    },
    {
      "cell_type": "markdown",
      "metadata": {
        "id": "JkJKFmyMIppn",
        "colab_type": "text"
      },
      "source": [
        "**Câu 18** : Tính lượng máu trung bình ở **các cấp** (1 - 18) của các tướng `Vanguard`.\n",
        "\n",
        "---\n",
        "_Gợi ý_ : Gọi :\n",
        "- $\\overline{hv}_{n}$ là lượng máu _trung bình_ của các tướng `Vanguard` ở cấp độ $n$.\n",
        "- $\\overline{hiv}$ là lượng máu gia tăng _trung bình_ mỗi cấp của các tướng `Vanguard`.\n",
        "\n",
        "Thì : $\\overline{hv}_{n} = \\overline{hv}_{1} + (n-1)\\cdot\\overline{hiv}$"
      ]
    },
    {
      "cell_type": "code",
      "metadata": {
        "id": "PoSow_XbJl0u",
        "colab_type": "code",
        "colab": {
          "base_uri": "https://localhost:8080/",
          "height": 357
        },
        "outputId": "1d3724a3-1f36-4089-fa6a-a0d1b2f4a078"
      },
      "source": [
        "# lấy ra các tướng Vanguard\n",
        "vanguard = champs[champs.primary == 'Vanguard']\n",
        "\n",
        "# tính hv1 và hiv\n",
        "hv1 = vanguard.health_at_lv1.mean()\n",
        "hiv = vanguard.health_per_lv.mean()\n",
        "\n",
        "# tính lượng máu trung bình\n",
        "hvn = [hv1 + (n - 1) * hiv for n in range(1, 19)]\n",
        "\n",
        "# thể hiện dưới dạng Series\n",
        "vmh = pd.Series(data = hvn, index = range(1, 19), name = 'vanguard_mean_health')\n",
        "vmh.index.name = 'level'\n",
        "vmh"
      ],
      "execution_count": 53,
      "outputs": [
        {
          "output_type": "execute_result",
          "data": {
            "text/plain": [
              "level\n",
              "1      578.676923\n",
              "2      668.600452\n",
              "3      758.523982\n",
              "4      848.447511\n",
              "5      938.371041\n",
              "6     1028.294570\n",
              "7     1118.218100\n",
              "8     1208.141629\n",
              "9     1298.065158\n",
              "10    1387.988688\n",
              "11    1477.912217\n",
              "12    1567.835747\n",
              "13    1657.759276\n",
              "14    1747.682805\n",
              "15    1837.606335\n",
              "16    1927.529864\n",
              "17    2017.453394\n",
              "18    2107.376923\n",
              "Name: vanguard_mean_health, dtype: float64"
            ]
          },
          "metadata": {
            "tags": []
          },
          "execution_count": 53
        }
      ]
    },
    {
      "cell_type": "markdown",
      "metadata": {
        "id": "t5yRraWoJj4R",
        "colab_type": "text"
      },
      "source": [
        "**Câu 19** : Tính tấn công trung bình ở **các cấp** (1 - 18) của các tướng `Juggernaut`."
      ]
    },
    {
      "cell_type": "code",
      "metadata": {
        "id": "-Cc_lzOvJkSa",
        "colab_type": "code",
        "colab": {
          "base_uri": "https://localhost:8080/",
          "height": 357
        },
        "outputId": "b2ddfebf-fa29-4911-f18f-a0b75eed4e10"
      },
      "source": [
        "# lấy ra các tướng Juggernaut\n",
        "jug = champs[champs.primary == 'Juggernaut']\n",
        "\n",
        "# tính aj1 và ajv\n",
        "aj1 = jug.attack_at_lv1.mean()\n",
        "ajv = jug.attack_per_lv.mean()\n",
        "\n",
        "# tính tấn công trung bình\n",
        "ajn = [aj1 + (n - 1) * ajv for n in range(1, 19)]\n",
        "\n",
        "# thể hiện dưới dạng DataFrame\n",
        "jma = pd.Series(data = ajn, index = range(1, 19), name = 'juggernaut_mean_attack')\n",
        "jma.index.name = 'level'\n",
        "jma"
      ],
      "execution_count": 54,
      "outputs": [
        {
          "output_type": "execute_result",
          "data": {
            "text/plain": [
              "level\n",
              "1      64.636154\n",
              "2      68.805520\n",
              "3      72.974887\n",
              "4      77.144253\n",
              "5      81.313620\n",
              "6      85.482986\n",
              "7      89.652353\n",
              "8      93.821719\n",
              "9      97.991086\n",
              "10    102.160452\n",
              "11    106.329819\n",
              "12    110.499186\n",
              "13    114.668552\n",
              "14    118.837919\n",
              "15    123.007285\n",
              "16    127.176652\n",
              "17    131.346018\n",
              "18    135.515385\n",
              "Name: juggernaut_mean_attack, dtype: float64"
            ]
          },
          "metadata": {
            "tags": []
          },
          "execution_count": 54
        }
      ]
    },
    {
      "cell_type": "markdown",
      "metadata": {
        "id": "1FtyeHoEbObK",
        "colab_type": "text"
      },
      "source": [
        "Biết rằng, 1 điểm tấn công có giá trị 35 vàng, 1 điểm máu có giá trị 2.6 vàng.\n",
        "\n",
        "**Câu 20** : Quy đổi các chỉ số được cộng thêm (tấn công, máu) ở **cấp độ 18** thành vàng và lấy ra 10 tướng có lượng vàng nhiều nhất."
      ]
    },
    {
      "cell_type": "code",
      "metadata": {
        "id": "2oU7bfIWcD4h",
        "colab_type": "code",
        "colab": {
          "base_uri": "https://localhost:8080/",
          "height": 359
        },
        "outputId": "3ccc6fb2-9502-4de6-d226-e0bff6ceb29f"
      },
      "source": [
        "champs.assign(bonus_stat_gold = (champs.attack_per_lv * 35 + champs.health_per_lv * 2.6) * 17).sort_values(by = 'bonus_stat_gold').tail(10)"
      ],
      "execution_count": 49,
      "outputs": [
        {
          "output_type": "execute_result",
          "data": {
            "text/html": [
              "<div>\n",
              "<style scoped>\n",
              "    .dataframe tbody tr th:only-of-type {\n",
              "        vertical-align: middle;\n",
              "    }\n",
              "\n",
              "    .dataframe tbody tr th {\n",
              "        vertical-align: top;\n",
              "    }\n",
              "\n",
              "    .dataframe thead th {\n",
              "        text-align: right;\n",
              "    }\n",
              "</style>\n",
              "<table border=\"1\" class=\"dataframe\">\n",
              "  <thead>\n",
              "    <tr style=\"text-align: right;\">\n",
              "      <th></th>\n",
              "      <th>champion</th>\n",
              "      <th>title</th>\n",
              "      <th>primary</th>\n",
              "      <th>release_date</th>\n",
              "      <th>attack_at_lv1</th>\n",
              "      <th>attack_at_lv18</th>\n",
              "      <th>health_at_lv1</th>\n",
              "      <th>health_at_lv18</th>\n",
              "      <th>attack_per_lv</th>\n",
              "      <th>health_per_lv</th>\n",
              "      <th>bonus_stat_gold</th>\n",
              "    </tr>\n",
              "  </thead>\n",
              "  <tbody>\n",
              "    <tr>\n",
              "      <th>39</th>\n",
              "      <td>Irelia</td>\n",
              "      <td>the Blade Dancer</td>\n",
              "      <td>Diver</td>\n",
              "      <td>2010-11-16</td>\n",
              "      <td>63.0000</td>\n",
              "      <td>131.0</td>\n",
              "      <td>580.00</td>\n",
              "      <td>2195.0</td>\n",
              "      <td>4.000000</td>\n",
              "      <td>95.000000</td>\n",
              "      <td>6579.000</td>\n",
              "    </tr>\n",
              "    <tr>\n",
              "      <th>105</th>\n",
              "      <td>Skarner</td>\n",
              "      <td>the Crystal Vanguard</td>\n",
              "      <td>Diver</td>\n",
              "      <td>2011-08-09</td>\n",
              "      <td>65.0000</td>\n",
              "      <td>141.5</td>\n",
              "      <td>601.28</td>\n",
              "      <td>2131.3</td>\n",
              "      <td>4.500000</td>\n",
              "      <td>90.001176</td>\n",
              "      <td>6655.552</td>\n",
              "    </tr>\n",
              "    <tr>\n",
              "      <th>45</th>\n",
              "      <td>Jhin</td>\n",
              "      <td>the Virtuoso</td>\n",
              "      <td>Marksman</td>\n",
              "      <td>2016-02-01</td>\n",
              "      <td>59.0000</td>\n",
              "      <td>138.9</td>\n",
              "      <td>556.00</td>\n",
              "      <td>2103.0</td>\n",
              "      <td>4.700000</td>\n",
              "      <td>91.000000</td>\n",
              "      <td>6818.700</td>\n",
              "    </tr>\n",
              "    <tr>\n",
              "      <th>3</th>\n",
              "      <td>Alistar</td>\n",
              "      <td>the Minotaur</td>\n",
              "      <td>Vanguard</td>\n",
              "      <td>2009-02-21</td>\n",
              "      <td>61.1116</td>\n",
              "      <td>122.7</td>\n",
              "      <td>573.36</td>\n",
              "      <td>2375.4</td>\n",
              "      <td>3.622847</td>\n",
              "      <td>106.002353</td>\n",
              "      <td>6840.898</td>\n",
              "    </tr>\n",
              "    <tr>\n",
              "      <th>0</th>\n",
              "      <td>Aatrox</td>\n",
              "      <td>the Darkin Blade</td>\n",
              "      <td>Juggernaut</td>\n",
              "      <td>2013-06-13</td>\n",
              "      <td>60.0000</td>\n",
              "      <td>145.0</td>\n",
              "      <td>580.00</td>\n",
              "      <td>2110.0</td>\n",
              "      <td>5.000000</td>\n",
              "      <td>90.000000</td>\n",
              "      <td>6953.000</td>\n",
              "    </tr>\n",
              "    <tr>\n",
              "      <th>30</th>\n",
              "      <td>Galio</td>\n",
              "      <td>the Colossus</td>\n",
              "      <td>Warden</td>\n",
              "      <td>2010-08-10</td>\n",
              "      <td>59.0000</td>\n",
              "      <td>118.5</td>\n",
              "      <td>562.00</td>\n",
              "      <td>2466.0</td>\n",
              "      <td>3.500000</td>\n",
              "      <td>112.000000</td>\n",
              "      <td>7032.900</td>\n",
              "    </tr>\n",
              "    <tr>\n",
              "      <th>38</th>\n",
              "      <td>Illaoi</td>\n",
              "      <td>the Kraken Priestess</td>\n",
              "      <td>Juggernaut</td>\n",
              "      <td>2015-11-24</td>\n",
              "      <td>68.0000</td>\n",
              "      <td>153.0</td>\n",
              "      <td>585.60</td>\n",
              "      <td>2200.6</td>\n",
              "      <td>5.000000</td>\n",
              "      <td>95.000000</td>\n",
              "      <td>7174.000</td>\n",
              "    </tr>\n",
              "    <tr>\n",
              "      <th>122</th>\n",
              "      <td>Udyr</td>\n",
              "      <td>the Spirit Walker</td>\n",
              "      <td>Juggernaut</td>\n",
              "      <td>2009-12-02</td>\n",
              "      <td>66.0000</td>\n",
              "      <td>151.0</td>\n",
              "      <td>593.32</td>\n",
              "      <td>2276.3</td>\n",
              "      <td>5.000000</td>\n",
              "      <td>98.998824</td>\n",
              "      <td>7350.748</td>\n",
              "    </tr>\n",
              "    <tr>\n",
              "      <th>19</th>\n",
              "      <td>Darius</td>\n",
              "      <td>the Hand of Noxus</td>\n",
              "      <td>Juggernaut</td>\n",
              "      <td>2012-05-23</td>\n",
              "      <td>64.0000</td>\n",
              "      <td>149.0</td>\n",
              "      <td>582.24</td>\n",
              "      <td>2282.2</td>\n",
              "      <td>5.000000</td>\n",
              "      <td>99.997647</td>\n",
              "      <td>7394.896</td>\n",
              "    </tr>\n",
              "    <tr>\n",
              "      <th>138</th>\n",
              "      <td>Yorick</td>\n",
              "      <td>Shepherd of Souls</td>\n",
              "      <td>Juggernaut</td>\n",
              "      <td>2011-06-22</td>\n",
              "      <td>62.0000</td>\n",
              "      <td>147.0</td>\n",
              "      <td>580.00</td>\n",
              "      <td>2280.0</td>\n",
              "      <td>5.000000</td>\n",
              "      <td>100.000000</td>\n",
              "      <td>7395.000</td>\n",
              "    </tr>\n",
              "  </tbody>\n",
              "</table>\n",
              "</div>"
            ],
            "text/plain": [
              "    champion                 title  ... health_per_lv bonus_stat_gold\n",
              "39    Irelia      the Blade Dancer  ...     95.000000        6579.000\n",
              "105  Skarner  the Crystal Vanguard  ...     90.001176        6655.552\n",
              "45      Jhin          the Virtuoso  ...     91.000000        6818.700\n",
              "3    Alistar          the Minotaur  ...    106.002353        6840.898\n",
              "0     Aatrox      the Darkin Blade  ...     90.000000        6953.000\n",
              "30     Galio          the Colossus  ...    112.000000        7032.900\n",
              "38    Illaoi  the Kraken Priestess  ...     95.000000        7174.000\n",
              "122     Udyr     the Spirit Walker  ...     98.998824        7350.748\n",
              "19    Darius     the Hand of Noxus  ...     99.997647        7394.896\n",
              "138   Yorick     Shepherd of Souls  ...    100.000000        7395.000\n",
              "\n",
              "[10 rows x 11 columns]"
            ]
          },
          "metadata": {
            "tags": []
          },
          "execution_count": 49
        }
      ]
    },
    {
      "cell_type": "code",
      "metadata": {
        "id": "u4U3Gs_fyUQ_",
        "colab_type": "code",
        "colab": {}
      },
      "source": [
        ""
      ],
      "execution_count": 0,
      "outputs": []
    }
  ]
}