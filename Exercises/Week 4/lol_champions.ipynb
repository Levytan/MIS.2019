{
  "nbformat": 4,
  "nbformat_minor": 0,
  "metadata": {
    "colab": {
      "name": "lol_champions",
      "provenance": [],
      "collapsed_sections": []
    },
    "kernelspec": {
      "name": "python3",
      "display_name": "Python 3"
    }
  },
  "cells": [
    {
      "cell_type": "markdown",
      "metadata": {
        "id": "0kzQyQZ7FE9I",
        "colab_type": "text"
      },
      "source": [
        "# Giới thiệu\n",
        "<img src=\"https://i.imgur.com/Aqx1Zm5.png\"/>\n",
        "\n",
        "Liên Minh Huyền Thoại (viết tắt: LMHT, tiếng Anh: League of Legends, viết tắt tiếng Anh: LoL) là một trò chơi video đấu trường trận chiến trực tuyến nhiều người chơi (MOBA) được Riot Games phát triển trên cảm hứng từ bản mod *Defense of the Ancients* của **Warcraft III: Frozen Throne**. Trò chơi được công bố đầu tiên vào ngày 7 tháng 10 năm 2008 và phát hành vào ngày 27 tháng 10 năm 2009. Kể từ khi phát hành, Liên Minh Huyền Thoại được đón nhận rất tích cực, và trở nên phổ biến trong những năm sau đó. Đây được coi là một trong những tựa game thành công nhất mọi thời đại.\n",
        "\n",
        "Trong Liên Minh Huyền Thoại, mỗi người chơi được gọi là một \"triệu hồi sư\" (summoner), điều khiển một nhân vật, gọi là \"tướng\" (Champion), để đối đầu với một đội những người chơi khác hoặc các đối thủ máy tính. Trong chế độ chơi truyền thống, mục tiêu cuối cùng của một đội là phá hủy nhà chính của đội đối phương – công trình nằm trong căn cứ của đối phương và được những công trình khác bảo vệ.\n",
        "\n",
        "---\n",
        "Trong bài thực hành này, chúng ta sẽ thực hiện một số phân tích về tướng của Liên Minh Huyền Thoại."
      ]
    },
    {
      "cell_type": "markdown",
      "metadata": {
        "id": "APYqGxPzHk1G",
        "colab_type": "text"
      },
      "source": [
        "# Dữ liệu"
      ]
    },
    {
      "cell_type": "markdown",
      "metadata": {
        "id": "6oeUDnwzHnuu",
        "colab_type": "text"
      },
      "source": [
        "Dữ liệu cho bài thực hành được lấy từ [trang wiki](https://leagueoflegends.fandom.com/wiki/League_of_Legends_Wiki) và được lưu trong file `lol_champions.csv` (https://raw.githubusercontent.com/Levytan/MIS.2019/master/Data/lol_champions.csv)"
      ]
    },
    {
      "cell_type": "markdown",
      "metadata": {
        "id": "eBhm1sh8IEta",
        "colab_type": "text"
      },
      "source": [
        "Dữ liệu bao gồm :\n",
        "- `champion` : tên của tướng.\n",
        "- `title` : danh hiệu tướng.\n",
        "- `release_date` : ngày ra mắt.\n",
        "- `attack_at_lv1` : chỉ số tấn công cơ bản ở cấp độ 1.\n",
        "- `attack_at_lv18` : chỉ số tấn công cơ bản ở cấp độ 18.\n",
        "- `health_at_lv1` : chỉ số máu cơ bản ở cấp độ 1.\n",
        "- `health_at_lv18` : chỉ số máu cơ bản ở cấp độ 18.\n",
        "- `primary` : phân loại tướng."
      ]
    },
    {
      "cell_type": "markdown",
      "metadata": {
        "id": "Vvc12GgLJ59I",
        "colab_type": "text"
      },
      "source": [
        "# Bài tập"
      ]
    },
    {
      "cell_type": "code",
      "metadata": {
        "id": "qB8_fv-cX0mI",
        "colab_type": "code",
        "colab": {}
      },
      "source": [
        "# nơi import"
      ],
      "execution_count": 0,
      "outputs": []
    },
    {
      "cell_type": "markdown",
      "metadata": {
        "id": "IxD-RT1GJ8gO",
        "colab_type": "text"
      },
      "source": [
        "**Câu 1** : Đọc dữ liệu vào `DataFrame`, lưu dưới tên `champs`."
      ]
    },
    {
      "cell_type": "code",
      "metadata": {
        "id": "psIdn-brIEJ3",
        "colab_type": "code",
        "colab": {}
      },
      "source": [
        ""
      ],
      "execution_count": 0,
      "outputs": []
    },
    {
      "cell_type": "markdown",
      "metadata": {
        "id": "pgVDltSNKT5n",
        "colab_type": "text"
      },
      "source": [
        "**Câu 2** : Thực hiện những điều chỉnh kiểu dữ liệu phù hợp (`release_date` phải có kiểu thời gian, các chỉ số tấn công, máu phải có kiểu số)."
      ]
    },
    {
      "cell_type": "code",
      "metadata": {
        "id": "5FBt3zT_EczD",
        "colab_type": "code",
        "colab": {}
      },
      "source": [
        ""
      ],
      "execution_count": 0,
      "outputs": []
    },
    {
      "cell_type": "markdown",
      "metadata": {
        "id": "Xv08GVQ2XSfd",
        "colab_type": "text"
      },
      "source": [
        "**Câu 3** : Chuyển cột `primary` vào giữa hai cột `title` và `release_date`."
      ]
    },
    {
      "cell_type": "code",
      "metadata": {
        "id": "okHAymKuXisx",
        "colab_type": "code",
        "colab": {}
      },
      "source": [
        ""
      ],
      "execution_count": 0,
      "outputs": []
    },
    {
      "cell_type": "markdown",
      "metadata": {
        "id": "BD6LhsFQPwl9",
        "colab_type": "text"
      },
      "source": [
        "**Câu 4** : Cho biết có bao nhiêu tướng trong dữ liệu trên."
      ]
    },
    {
      "cell_type": "code",
      "metadata": {
        "id": "W1BdQHZlP-0u",
        "colab_type": "code",
        "colab": {}
      },
      "source": [
        ""
      ],
      "execution_count": 0,
      "outputs": []
    },
    {
      "cell_type": "markdown",
      "metadata": {
        "id": "bzt2rhvzMIUv",
        "colab_type": "text"
      },
      "source": [
        "**Câu 5** : Lấy ra những tướng tên bắt đầu bằng chữ `N` và kết thúc bằng chữ `S`."
      ]
    },
    {
      "cell_type": "code",
      "metadata": {
        "id": "abh9c-rgO43J",
        "colab_type": "code",
        "colab": {}
      },
      "source": [
        ""
      ],
      "execution_count": 0,
      "outputs": []
    },
    {
      "cell_type": "markdown",
      "metadata": {
        "id": "6usgnmLpSmHr",
        "colab_type": "text"
      },
      "source": [
        "**Câu 6** : Tên các tướng đến từ hư không (một vùng đất trong game) thì luôn có ký tự `'` (nháy đơn) trong tên như một đặc điểm nhận diện. Lấy ra những tướng đến từ hư không.\n",
        "\n",
        "_Gợi ý_ : dùng `.str.find()`"
      ]
    },
    {
      "cell_type": "code",
      "metadata": {
        "id": "5rmSlcWdSlw0",
        "colab_type": "code",
        "colab": {}
      },
      "source": [
        ""
      ],
      "execution_count": 0,
      "outputs": []
    },
    {
      "cell_type": "markdown",
      "metadata": {
        "id": "QECAEl4PR7T7",
        "colab_type": "text"
      },
      "source": [
        "**Câu 7** : Trong danh hiệu của tướng thường có từ `the`, tuy nhiên, vẫn có vài tướng nằm ngoài quy tắc này. Lấy ra các tướng đó."
      ]
    },
    {
      "cell_type": "code",
      "metadata": {
        "id": "TkzooPExSe8i",
        "colab_type": "code",
        "colab": {}
      },
      "source": [
        ""
      ],
      "execution_count": 0,
      "outputs": []
    },
    {
      "cell_type": "markdown",
      "metadata": {
        "id": "-ixyfLTlO99c",
        "colab_type": "text"
      },
      "source": [
        "**Câu 8** : Lấy ngày ra mắt của các tướng `Ryze`, `Yasuo` (Daxua), `Zed`, `Leesin`, `Teemo`, `Kalista`, `Zoe` và `Vayne`."
      ]
    },
    {
      "cell_type": "code",
      "metadata": {
        "id": "nyFOH09CO9au",
        "colab_type": "code",
        "colab": {}
      },
      "source": [
        ""
      ],
      "execution_count": 0,
      "outputs": []
    },
    {
      "cell_type": "markdown",
      "metadata": {
        "id": "ar4eK6g4MBGZ",
        "colab_type": "text"
      },
      "source": [
        "**Câu 9** : Trong khoảng thời gian 1 năm kể từ khi ra mắt `Thresh`, có bao nhiêu tướng mới được ra mắt và lấy ra những tướng đó.\n",
        "\n",
        "---\n",
        "_Gợi ý_ :\n",
        "1. Lấy ngày ra mắt của `Thresh`, tạm gọi là `th`.\n",
        "2. Tính thời điểm 1 năm sau ngày ở trên bằng `th + pd.Timedelta(years = 1)`.\n",
        "3. ..."
      ]
    },
    {
      "cell_type": "code",
      "metadata": {
        "id": "9b2cd_YLMqqe",
        "colab_type": "code",
        "colab": {}
      },
      "source": [
        ""
      ],
      "execution_count": 0,
      "outputs": []
    },
    {
      "cell_type": "markdown",
      "metadata": {
        "id": "DiSiDTtePfd0",
        "colab_type": "text"
      },
      "source": [
        "**Câu 10** : Đếm số lượng tướng ra mắt trong mỗi năm.\n",
        "\n",
        "_Gợi ý_ : tạo một cột mới chứa năm ra mắt tương ứng với từng tướng (dùng `.dt.year`)"
      ]
    },
    {
      "cell_type": "code",
      "metadata": {
        "id": "BICU5s9gPr1T",
        "colab_type": "code",
        "colab": {}
      },
      "source": [
        ""
      ],
      "execution_count": 0,
      "outputs": []
    },
    {
      "cell_type": "markdown",
      "metadata": {
        "id": "BgKh_M9DXs54",
        "colab_type": "text"
      },
      "source": [
        "**Câu 11** : Có bao nhiêu phân loại tướng và in những phân loại đó ra."
      ]
    },
    {
      "cell_type": "code",
      "metadata": {
        "id": "vA0eVFebX-jy",
        "colab_type": "code",
        "colab": {}
      },
      "source": [
        ""
      ],
      "execution_count": 0,
      "outputs": []
    },
    {
      "cell_type": "markdown",
      "metadata": {
        "id": "8jc2R5AEYGHe",
        "colab_type": "text"
      },
      "source": [
        "**Câu 12** : Lấy ra những tướng cùng phân loại với `Yasuo`."
      ]
    },
    {
      "cell_type": "code",
      "metadata": {
        "id": "FIlzrt_PYPSb",
        "colab_type": "code",
        "colab": {}
      },
      "source": [
        ""
      ],
      "execution_count": 0,
      "outputs": []
    },
    {
      "cell_type": "markdown",
      "metadata": {
        "id": "hAQaHTpVYGCE",
        "colab_type": "text"
      },
      "source": [
        "**Câu 13** : Lấy ra tên tướng `Marksman` (xạ thủ) mới nhất được ra mắt."
      ]
    },
    {
      "cell_type": "code",
      "metadata": {
        "id": "O5fd-9MEYxEa",
        "colab_type": "code",
        "colab": {}
      },
      "source": [
        ""
      ],
      "execution_count": 0,
      "outputs": []
    },
    {
      "cell_type": "markdown",
      "metadata": {
        "id": "tpUEqzBtYynQ",
        "colab_type": "text"
      },
      "source": [
        "**Câu 14** : Đếm số lượng tướng `Assassin` (sát thủ)."
      ]
    },
    {
      "cell_type": "code",
      "metadata": {
        "id": "z7wtJJrqYx-C",
        "colab_type": "code",
        "colab": {}
      },
      "source": [
        ""
      ],
      "execution_count": 0,
      "outputs": []
    },
    {
      "cell_type": "markdown",
      "metadata": {
        "id": "R48OfWHvZLCM",
        "colab_type": "text"
      },
      "source": [
        "Biết rằng, mỗi khi lên một cấp, các chỉ số (tấn công, máu) của tướng đều được cộng thêm một lượng và lượng gia tăng này giống nhau ở mọi cấp.\n",
        "\n",
        "**Câu 15** : Tính lượng gia tăng mỗi cấp đó, để trong hai cột `attack_per_lv` và `health_per_lv` tương ứng với tấn công và máu."
      ]
    },
    {
      "cell_type": "code",
      "metadata": {
        "id": "Lf6pmejSZxM2",
        "colab_type": "code",
        "colab": {}
      },
      "source": [
        ""
      ],
      "execution_count": 0,
      "outputs": []
    },
    {
      "cell_type": "markdown",
      "metadata": {
        "id": "N6qx8rAyadAd",
        "colab_type": "text"
      },
      "source": [
        "**Câu 16** : Lấy ra 10 tướng có máu cao nhất ở **cấp độ 11**."
      ]
    },
    {
      "cell_type": "code",
      "metadata": {
        "id": "ESMeT6XVatmB",
        "colab_type": "code",
        "colab": {}
      },
      "source": [
        ""
      ],
      "execution_count": 0,
      "outputs": []
    },
    {
      "cell_type": "markdown",
      "metadata": {
        "id": "5QTLtcIEav8l",
        "colab_type": "text"
      },
      "source": [
        "**Câu 17** : Lấy ra 10 tướng có tấn công thấp nhất ở **cấp độ 16**."
      ]
    },
    {
      "cell_type": "code",
      "metadata": {
        "id": "IKYorlT5DhO7",
        "colab_type": "code",
        "colab": {}
      },
      "source": [
        ""
      ],
      "execution_count": 0,
      "outputs": []
    },
    {
      "cell_type": "markdown",
      "metadata": {
        "id": "JkJKFmyMIppn",
        "colab_type": "text"
      },
      "source": [
        "**Câu 18** : Tính lượng máu trung bình ở **các cấp** (1 - 18) của các tướng `Vanguard`.\n",
        "\n",
        "---\n",
        "_Gợi ý_ : Gọi :\n",
        "- $\\overline{hv}_{n}$ là lượng máu _trung bình_ của các tướng `Vanguard` ở cấp độ $n$.\n",
        "- $\\overline{hiv}$ là lượng máu gia tăng _trung bình_ mỗi cấp của các tướng `Vanguard`.\n",
        "\n",
        "Thì : $\\overline{hv}_{n} = \\overline{hv}_{1} + (n-1)\\cdot\\overline{hiv}$"
      ]
    },
    {
      "cell_type": "code",
      "metadata": {
        "id": "PoSow_XbJl0u",
        "colab_type": "code",
        "colab": {}
      },
      "source": [
        ""
      ],
      "execution_count": 0,
      "outputs": []
    },
    {
      "cell_type": "markdown",
      "metadata": {
        "id": "t5yRraWoJj4R",
        "colab_type": "text"
      },
      "source": [
        "**Câu 19** : Tính tấn công trung bình ở **các cấp** (1 - 18) của các tướng `Juggernaut`."
      ]
    },
    {
      "cell_type": "code",
      "metadata": {
        "id": "-Cc_lzOvJkSa",
        "colab_type": "code",
        "colab": {}
      },
      "source": [
        ""
      ],
      "execution_count": 0,
      "outputs": []
    },
    {
      "cell_type": "markdown",
      "metadata": {
        "id": "1FtyeHoEbObK",
        "colab_type": "text"
      },
      "source": [
        "Biết rằng, 1 điểm tấn công có giá trị 35 vàng, 1 điểm máu có giá trị 2.6 vàng.\n",
        "\n",
        "**Câu 20** : Quy đổi các chỉ số được cộng thêm (tấn công, máu) ở **cấp độ 18** thành vàng và lấy ra 10 tướng có lượng vàng nhiều nhất."
      ]
    },
    {
      "cell_type": "code",
      "metadata": {
        "id": "2oU7bfIWcD4h",
        "colab_type": "code",
        "colab": {}
      },
      "source": [
        ""
      ],
      "execution_count": 0,
      "outputs": []
    }
  ]
}