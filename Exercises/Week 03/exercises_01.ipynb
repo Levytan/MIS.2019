{
  "nbformat": 4,
  "nbformat_minor": 0,
  "metadata": {
    "colab": {
      "name": "week_03_exercises_01",
      "provenance": []
    },
    "kernelspec": {
      "name": "python3",
      "display_name": "Python 3"
    }
  },
  "cells": [
    {
      "cell_type": "markdown",
      "metadata": {
        "id": "4dov9zy8H8tG",
        "colab_type": "text"
      },
      "source": [
        "Thực hiện các câu lệnh trong ô dưới đây để lấy dữ liệu vào `df`. Đây là thông tin tổng hợp về Euro 2012."
      ]
    },
    {
      "cell_type": "code",
      "metadata": {
        "id": "KAII-Wy3Hit6",
        "colab_type": "code",
        "colab": {}
      },
      "source": [
        "import pandas as pd\n",
        "\n",
        "df = pd.read_csv('https://raw.githubusercontent.com/guipsamora/pandas_exercises/master/02_Filtering_%26_Sorting/Euro12/Euro_2012_stats_TEAM.csv')"
      ],
      "execution_count": 0,
      "outputs": []
    },
    {
      "cell_type": "markdown",
      "metadata": {
        "id": "8vCa23_mHhD4",
        "colab_type": "text"
      },
      "source": [
        "**Câu 1**: Lấy ra cột `Goal` từ `df`"
      ]
    },
    {
      "cell_type": "code",
      "metadata": {
        "id": "8AgMlQGhIZl2",
        "colab_type": "code",
        "colab": {}
      },
      "source": [
        ""
      ],
      "execution_count": 0,
      "outputs": []
    },
    {
      "cell_type": "markdown",
      "metadata": {
        "id": "dLwjTZPnIrhD",
        "colab_type": "text"
      },
      "source": [
        "**Câu 2** : In ra số đội bóng tham dự."
      ]
    },
    {
      "cell_type": "code",
      "metadata": {
        "id": "h-zWOyS1JN_9",
        "colab_type": "code",
        "colab": {}
      },
      "source": [
        ""
      ],
      "execution_count": 0,
      "outputs": []
    },
    {
      "cell_type": "markdown",
      "metadata": {
        "id": "eWvlZceMJOeV",
        "colab_type": "text"
      },
      "source": [
        "**Câu 3** : Có bao nhiêu cột trong `df`?"
      ]
    },
    {
      "cell_type": "code",
      "metadata": {
        "id": "mK_XokS1Je1S",
        "colab_type": "code",
        "colab": {}
      },
      "source": [
        ""
      ],
      "execution_count": 0,
      "outputs": []
    },
    {
      "cell_type": "markdown",
      "metadata": {
        "id": "_CvGpFzKJnUT",
        "colab_type": "text"
      },
      "source": [
        "**Câu 4** : Lấy ra các cột `Team`, `Yellow Cards`, `Red Cards` và lưu thành `descipline`"
      ]
    },
    {
      "cell_type": "code",
      "metadata": {
        "id": "dNfuQgNfKBDu",
        "colab_type": "code",
        "colab": {}
      },
      "source": [
        ""
      ],
      "execution_count": 0,
      "outputs": []
    },
    {
      "cell_type": "markdown",
      "metadata": {
        "id": "lQSY1_GuKCgL",
        "colab_type": "text"
      },
      "source": [
        "**Câu 5** : Đổi tên các cột trong `discipline` thành `team`, `yellow_cards` và `red_cards`."
      ]
    },
    {
      "cell_type": "code",
      "metadata": {
        "id": "kT6sKYbqKf9N",
        "colab_type": "code",
        "colab": {}
      },
      "source": [
        ""
      ],
      "execution_count": 0,
      "outputs": []
    },
    {
      "cell_type": "markdown",
      "metadata": {
        "id": "9pl2u7EEK6RP",
        "colab_type": "text"
      },
      "source": [
        "**Câu 6** : Tính trung bình số thẻ vàng."
      ]
    },
    {
      "cell_type": "code",
      "metadata": {
        "id": "Of76vL2lLEdN",
        "colab_type": "code",
        "colab": {}
      },
      "source": [
        ""
      ],
      "execution_count": 0,
      "outputs": []
    },
    {
      "cell_type": "markdown",
      "metadata": {
        "id": "f3JpwTvULF85",
        "colab_type": "text"
      },
      "source": [
        "**Câu 7** : Sắp xếp `discipline` theo 2 cột `yellow_cards` và `red_cards`"
      ]
    },
    {
      "cell_type": "code",
      "metadata": {
        "id": "DmU1xRsDLU4B",
        "colab_type": "code",
        "colab": {}
      },
      "source": [
        ""
      ],
      "execution_count": 0,
      "outputs": []
    },
    {
      "cell_type": "markdown",
      "metadata": {
        "id": "z_12QyFoLVeD",
        "colab_type": "text"
      },
      "source": [
        "**Câu 8** : Lấy ra những đội có tên bắt đầu bằng chữ `G`. Gợi ý : dùng accessor `str` để thao tác trên từng phần tử."
      ]
    },
    {
      "cell_type": "code",
      "metadata": {
        "id": "VNFsdADsLnr-",
        "colab_type": "code",
        "colab": {}
      },
      "source": [
        ""
      ],
      "execution_count": 0,
      "outputs": []
    },
    {
      "cell_type": "markdown",
      "metadata": {
        "id": "gw_l1fI_LvxZ",
        "colab_type": "text"
      },
      "source": [
        "**Câu 9** : Lấy từ `df` 8 cột đầu tiên."
      ]
    },
    {
      "cell_type": "code",
      "metadata": {
        "id": "2Z2-iWNwL2p1",
        "colab_type": "code",
        "colab": {}
      },
      "source": [
        ""
      ],
      "execution_count": 0,
      "outputs": []
    },
    {
      "cell_type": "markdown",
      "metadata": {
        "id": "B9bkmFaTL4N9",
        "colab_type": "text"
      },
      "source": [
        "**Câu 10** : Lấy ra 10 đội có nhiều bàn thắng nhất (số bàn thắng được ghi trong cột `Goals`)"
      ]
    },
    {
      "cell_type": "code",
      "metadata": {
        "id": "KL_YriTjMISt",
        "colab_type": "code",
        "colab": {}
      },
      "source": [
        ""
      ],
      "execution_count": 0,
      "outputs": []
    },
    {
      "cell_type": "markdown",
      "metadata": {
        "id": "23NckKhgNWh0",
        "colab_type": "text"
      },
      "source": [
        "**Câu 11** : Lấy ra số đường chuyền (cột `Passes`) của các đội `'England'`, `'France'` và `'Russia'`. Gợi ý : sử dụng phương thức `.isin()` của `Series`."
      ]
    },
    {
      "cell_type": "code",
      "metadata": {
        "id": "HI5UXQhrOEHV",
        "colab_type": "code",
        "colab": {}
      },
      "source": [
        ""
      ],
      "execution_count": 0,
      "outputs": []
    }
  ]
}