{
 "cells": [
  {
   "cell_type": "markdown",
   "metadata": {},
   "source": [
    "## Giới thiệu\n",
    "Trong bài thực hành này, các bạn sẽ làm việc với giá trị `NaN`"
   ]
  },
  {
   "cell_type": "markdown",
   "metadata": {},
   "source": [
    "## Giá trị `NaN`\n",
    "- `NaN` là một giá trị đặc biệt của python, được tạo ra bằng câu lệnh `float('NaN')` hoặc `float('nan')`\n",
    "- `NaN` là viết tắt của <b>N</b>ot <b>a</b> <b>N</b>umber (không phải số)\n",
    "- Tuy `NaN` nghĩa là không phải số, nhưng kiểu của nó là `numeric`"
   ]
  },
  {
   "cell_type": "code",
   "execution_count": 1,
   "metadata": {},
   "outputs": [
    {
     "data": {
      "text/plain": [
       "float"
      ]
     },
     "execution_count": 1,
     "metadata": {},
     "output_type": "execute_result"
    }
   ],
   "source": [
    "type(float('nan'))"
   ]
  },
  {
   "cell_type": "markdown",
   "metadata": {},
   "source": [
    "* Trong các phép toán số học, nếu có bất kỳ hạng tử nào có giá trị `NaN`, kết quả của phép toán sẽ là `NaN`"
   ]
  },
  {
   "cell_type": "code",
   "execution_count": 2,
   "metadata": {},
   "outputs": [
    {
     "name": "stdout",
     "output_type": "stream",
     "text": [
      "nan\n",
      "nan\n",
      "nan\n"
     ]
    }
   ],
   "source": [
    "print(1 + float('nan'))\n",
    "print(2.0 - float('nan'))\n",
    "print(-6 * float('nan'))"
   ]
  },
  {
   "cell_type": "markdown",
   "metadata": {},
   "source": [
    "- `NaN` là giá trị duy nhất làm cho phép so sánh `x != x` trả về `True`\n",
    "- Các phép so sánh khác như $>, <, >=, =<, ==$ đều trả về `False`"
   ]
  },
  {
   "cell_type": "code",
   "execution_count": 3,
   "metadata": {},
   "outputs": [
    {
     "data": {
      "text/plain": [
       "True"
      ]
     },
     "execution_count": 3,
     "metadata": {},
     "output_type": "execute_result"
    }
   ],
   "source": [
    "float('nan') != float('nan')"
   ]
  },
  {
   "cell_type": "markdown",
   "metadata": {},
   "source": [
    "## Ý nghĩa của `NaN`"
   ]
  },
  {
   "cell_type": "markdown",
   "metadata": {},
   "source": [
    "`NaN` thường dùng để diễn tả dữ liệu bị thiếu (có thể do nhập liệu hoặc dữ liệu không tồn tại)\n",
    "\n",
    "Trong `pandas` và `pandas.Series` có khá nhiều hàm và phương thức để làm việc với giá trị `NaN`"
   ]
  },
  {
   "cell_type": "markdown",
   "metadata": {},
   "source": [
    "## Bài tập"
   ]
  },
  {
   "cell_type": "code",
   "execution_count": null,
   "metadata": {},
   "outputs": [],
   "source": [
    "# import thư viện ở đây\n",
    "\n",
    "\n"
   ]
  },
  {
   "cell_type": "markdown",
   "metadata": {},
   "source": [
    "**Câu 1** : Tạo Series `s3` từ dữ liệu chứa trong `data_3.txt`, thực hiện việc chuyển đổi kiểu dữ liệu thành kiểu số"
   ]
  },
  {
   "cell_type": "code",
   "execution_count": null,
   "metadata": {},
   "outputs": [],
   "source": [
    "# Câu 1 "
   ]
  },
  {
   "cell_type": "markdown",
   "metadata": {},
   "source": [
    "**Câu 2** : Có bao nhiêu phần tử là `NaN` trong `s3`?"
   ]
  },
  {
   "cell_type": "code",
   "execution_count": null,
   "metadata": {},
   "outputs": [],
   "source": [
    "# Câu 2"
   ]
  },
  {
   "cell_type": "markdown",
   "metadata": {},
   "source": [
    "**Câu 3** : In ra `label` của những giá trị `NaN`.\n",
    "\n",
    "*Gợi ý* : tìm hiểu về `pandas.isnull()`"
   ]
  },
  {
   "cell_type": "code",
   "execution_count": null,
   "metadata": {},
   "outputs": [],
   "source": [
    "# Câu 3"
   ]
  },
  {
   "cell_type": "markdown",
   "metadata": {},
   "source": [
    "Để thay thế giá trị `NaN` (kiểu như điền vào chỗ trống), `pandas.Series` có một phương thức là `.fillna()` với cú pháp (chỉ lấy 2 tham số quan trọng nhất)\n",
    "```\n",
    "<tên Series>.fillna(value = None, method = None)\n",
    "```\n",
    "Trong đó :\n",
    "- value : giá trị bạn muốn để thay thế `NaN`\n",
    "- method : nếu bạn không muốn dùng giá trị cụ thể, thì bạn có thể dùng method, nó có 2 giá trị thường dùng :\n",
    "    - `'bfill'` : điền vào chỗ trống bằng giá trị liền sau\n",
    "    - `'ffill'` : điền vào chỗ trống bằng giá trị liền trước"
   ]
  },
  {
   "cell_type": "markdown",
   "metadata": {},
   "source": [
    "**Câu 4** : Từ `s3`, hãy tạo ra :\n",
    "- `s3m` : thay `NaN` bằng giá trị trung bình của `s3`\n",
    "- `s3b` : thay `NaN` bằng giá trị liền sau\n",
    "- `s3f` : thay `NaN` bằng giá trị liền trước"
   ]
  },
  {
   "cell_type": "code",
   "execution_count": 4,
   "metadata": {},
   "outputs": [],
   "source": [
    "# Câu 4"
   ]
  },
  {
   "cell_type": "markdown",
   "metadata": {},
   "source": [
    "**Câu 5** : Tính trung bình và độ lệch chuẩn của `s3`, `s3m`, `s3b`, `s3f`"
   ]
  },
  {
   "cell_type": "code",
   "execution_count": null,
   "metadata": {},
   "outputs": [],
   "source": [
    "# Câu 5"
   ]
  }
 ],
 "metadata": {
  "kernelspec": {
   "display_name": "Python 3",
   "language": "python",
   "name": "python3"
  },
  "language_info": {
   "codemirror_mode": {
    "name": "ipython",
    "version": 3
   },
   "file_extension": ".py",
   "mimetype": "text/x-python",
   "name": "python",
   "nbconvert_exporter": "python",
   "pygments_lexer": "ipython3",
   "version": "3.7.2"
  }
 },
 "nbformat": 4,
 "nbformat_minor": 2
}
