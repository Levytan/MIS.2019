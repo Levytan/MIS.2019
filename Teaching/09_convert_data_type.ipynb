{
  "nbformat": 4,
  "nbformat_minor": 0,
  "metadata": {
    "colab": {
      "name": "Transform DataFrame",
      "provenance": [],
      "collapsed_sections": [],
      "machine_shape": "hm"
    },
    "kernelspec": {
      "name": "python3",
      "display_name": "Python 3"
    }
  },
  "cells": [
    {
      "cell_type": "markdown",
      "metadata": {
        "id": "BRz8itaUdjEK",
        "colab_type": "text"
      },
      "source": [
        "# Giới thiệu\n",
        "Trong bài học này, chúng ta học về cách chuyển đổi kiểu dữ liệu trong DataFrame.\n"
      ]
    },
    {
      "cell_type": "markdown",
      "metadata": {
        "id": "pQw-0Ns6f7zo",
        "colab_type": "text"
      },
      "source": [
        "# Chuyển đổi chuỗi"
      ]
    },
    {
      "cell_type": "code",
      "metadata": {
        "id": "k9jBzxgQdY4X",
        "colab_type": "code",
        "outputId": "2232e809-fc14-4032-855c-3693932b34da",
        "colab": {
          "base_uri": "https://localhost:8080/",
          "height": 390
        }
      },
      "source": [
        "import pandas as pd\n",
        "\n",
        "# đọc file Data\\vnm.txt\n",
        "# dùng tham số names để đổi đặt tên cho các cột đọc vào\n",
        "df = pd.read_csv('https://raw.githubusercontent.com/Levytan/MIS.2019/master/Data/vnm.csv', header = None, names = ['Date', 'Close', 'Volume', 'PercentChange'])\n",
        "\n",
        "df"
      ],
      "execution_count": 0,
      "outputs": [
        {
          "output_type": "execute_result",
          "data": {
            "text/html": [
              "<div>\n",
              "<style scoped>\n",
              "    .dataframe tbody tr th:only-of-type {\n",
              "        vertical-align: middle;\n",
              "    }\n",
              "\n",
              "    .dataframe tbody tr th {\n",
              "        vertical-align: top;\n",
              "    }\n",
              "\n",
              "    .dataframe thead th {\n",
              "        text-align: right;\n",
              "    }\n",
              "</style>\n",
              "<table border=\"1\" class=\"dataframe\">\n",
              "  <thead>\n",
              "    <tr style=\"text-align: right;\">\n",
              "      <th></th>\n",
              "      <th>Date</th>\n",
              "      <th>Close</th>\n",
              "      <th>Volume</th>\n",
              "      <th>PercentChange</th>\n",
              "    </tr>\n",
              "  </thead>\n",
              "  <tbody>\n",
              "    <tr>\n",
              "      <th>0</th>\n",
              "      <td>2018-06-01</td>\n",
              "      <td>136.1k</td>\n",
              "      <td>1051610</td>\n",
              "      <td>?%</td>\n",
              "    </tr>\n",
              "    <tr>\n",
              "      <th>1</th>\n",
              "      <td>2018-06-04</td>\n",
              "      <td>141.6k</td>\n",
              "      <td>965230</td>\n",
              "      <td>4.04%</td>\n",
              "    </tr>\n",
              "    <tr>\n",
              "      <th>2</th>\n",
              "      <td>2018-06-05</td>\n",
              "      <td>144.4k</td>\n",
              "      <td>879160</td>\n",
              "      <td>1.98%</td>\n",
              "    </tr>\n",
              "    <tr>\n",
              "      <th>3</th>\n",
              "      <td>2018-06-06</td>\n",
              "      <td>142.8k</td>\n",
              "      <td>463720</td>\n",
              "      <td>-1.11%</td>\n",
              "    </tr>\n",
              "    <tr>\n",
              "      <th>4</th>\n",
              "      <td>2018-06-07</td>\n",
              "      <td>144.7k</td>\n",
              "      <td>401900</td>\n",
              "      <td>1.33%</td>\n",
              "    </tr>\n",
              "    <tr>\n",
              "      <th>5</th>\n",
              "      <td>2018-06-08</td>\n",
              "      <td>144.4k</td>\n",
              "      <td>505520</td>\n",
              "      <td>-0.21%</td>\n",
              "    </tr>\n",
              "    <tr>\n",
              "      <th>6</th>\n",
              "      <td>2018-06-11</td>\n",
              "      <td>147.0k</td>\n",
              "      <td>721050</td>\n",
              "      <td>1.8%</td>\n",
              "    </tr>\n",
              "    <tr>\n",
              "      <th>7</th>\n",
              "      <td>2018-06-12</td>\n",
              "      <td>147.7k</td>\n",
              "      <td>873690</td>\n",
              "      <td>0.48%</td>\n",
              "    </tr>\n",
              "    <tr>\n",
              "      <th>8</th>\n",
              "      <td>2018-06-13</td>\n",
              "      <td>147.7k</td>\n",
              "      <td>472470</td>\n",
              "      <td>0.0%</td>\n",
              "    </tr>\n",
              "    <tr>\n",
              "      <th>9</th>\n",
              "      <td>2018-06-14</td>\n",
              "      <td>146.9k</td>\n",
              "      <td>767750</td>\n",
              "      <td>-0.54%</td>\n",
              "    </tr>\n",
              "    <tr>\n",
              "      <th>10</th>\n",
              "      <td>2018-06-15</td>\n",
              "      <td>146.9k</td>\n",
              "      <td>1114730</td>\n",
              "      <td>0.0%</td>\n",
              "    </tr>\n",
              "  </tbody>\n",
              "</table>\n",
              "</div>"
            ],
            "text/plain": [
              "          Date   Close   Volume PercentChange\n",
              "0   2018-06-01  136.1k  1051610            ?%\n",
              "1   2018-06-04  141.6k   965230         4.04%\n",
              "2   2018-06-05  144.4k   879160         1.98%\n",
              "3   2018-06-06  142.8k   463720        -1.11%\n",
              "4   2018-06-07  144.7k   401900         1.33%\n",
              "5   2018-06-08  144.4k   505520        -0.21%\n",
              "6   2018-06-11  147.0k   721050          1.8%\n",
              "7   2018-06-12  147.7k   873690         0.48%\n",
              "8   2018-06-13  147.7k   472470          0.0%\n",
              "9   2018-06-14  146.9k   767750        -0.54%\n",
              "10  2018-06-15  146.9k  1114730          0.0%"
            ]
          },
          "metadata": {
            "tags": []
          },
          "execution_count": 10
        }
      ]
    },
    {
      "cell_type": "markdown",
      "metadata": {
        "id": "Y3eaIXfwjs5k",
        "colab_type": "text"
      },
      "source": [
        "**Bài tập** : In ra kiểu dữ liệu của từng cột của `df`."
      ]
    },
    {
      "cell_type": "code",
      "metadata": {
        "id": "X95EDPvSjg9V",
        "colab_type": "code",
        "outputId": "ec8fea2d-d3de-44c6-d45c-df835a60b3d4",
        "colab": {
          "base_uri": "https://localhost:8080/",
          "height": 102
        }
      },
      "source": [
        "df.dtypes"
      ],
      "execution_count": 0,
      "outputs": [
        {
          "output_type": "execute_result",
          "data": {
            "text/plain": [
              "Date             object\n",
              "Close            object\n",
              "Volume            int64\n",
              "PercentChange    object\n",
              "dtype: object"
            ]
          },
          "metadata": {
            "tags": []
          },
          "execution_count": 11
        }
      ]
    },
    {
      "cell_type": "markdown",
      "metadata": {
        "id": "IRPOPNgclutK",
        "colab_type": "text"
      },
      "source": [
        "Như các bạn có thể thấy, cột `Date`, cột `Close` và cột `PercentChange` đều là `str`. Điều này sẽ gây khó khăn cho việc xử lý dữ liệu. Vì vậy, chúng ta cần phải chuyển đổi kiểu dữ liệu về dạng phù hợp."
      ]
    },
    {
      "cell_type": "markdown",
      "metadata": {
        "id": "XuGYWo5LmXtq",
        "colab_type": "text"
      },
      "source": [
        "## Chuyển đổi chuỗi ngày tháng thàng kiểu dữ liệu thời gian"
      ]
    },
    {
      "cell_type": "markdown",
      "metadata": {
        "id": "sSuhalRhmmhE",
        "colab_type": "text"
      },
      "source": [
        "Nhắc lại, để chuyển đổi từ chuỗi ngày tháng thành kiểu thời gian, chúng ta sử dụng `pandas.to_datetime()`."
      ]
    },
    {
      "cell_type": "code",
      "metadata": {
        "id": "B8RedUyykYRL",
        "colab_type": "code",
        "outputId": "d13c5b17-fbe2-44e7-de14-faa33919a689",
        "colab": {
          "base_uri": "https://localhost:8080/",
          "height": 34
        }
      },
      "source": [
        "# chuyển đổi cột Date sang kiểu thời gian\n",
        "df = df.assign(Date = pd.to_datetime(df.Date))\n",
        "\n",
        "# kiểm tra lại\n",
        "df.Date.dtype"
      ],
      "execution_count": 0,
      "outputs": [
        {
          "output_type": "execute_result",
          "data": {
            "text/plain": [
              "dtype('<M8[ns]')"
            ]
          },
          "metadata": {
            "tags": []
          },
          "execution_count": 12
        }
      ]
    },
    {
      "cell_type": "markdown",
      "metadata": {
        "id": "WPSgVCcLn5qW",
        "colab_type": "text"
      },
      "source": [
        "Như vậy, bạn đã chuyển đổi thành công thành kiểu thời gian, bây giờ có thể làm nhiều thứ hay ho hơn rồi. Chẳng hạn như đặt cột `Date` làm `index`, hoặc"
      ]
    },
    {
      "cell_type": "code",
      "metadata": {
        "id": "atVQ50q5nDHJ",
        "colab_type": "code",
        "outputId": "3cdc2af9-1ede-4227-8bb2-61f36ad67e08",
        "colab": {
          "base_uri": "https://localhost:8080/",
          "height": 390
        }
      },
      "source": [
        "# dùng accessor .dt để dùng các phương thức của kiểu dữ liệu thời gian\n",
        "df.assign(Fancy = df.Date.dt.strftime('%d/%m/%Y'))"
      ],
      "execution_count": 0,
      "outputs": [
        {
          "output_type": "execute_result",
          "data": {
            "text/html": [
              "<div>\n",
              "<style scoped>\n",
              "    .dataframe tbody tr th:only-of-type {\n",
              "        vertical-align: middle;\n",
              "    }\n",
              "\n",
              "    .dataframe tbody tr th {\n",
              "        vertical-align: top;\n",
              "    }\n",
              "\n",
              "    .dataframe thead th {\n",
              "        text-align: right;\n",
              "    }\n",
              "</style>\n",
              "<table border=\"1\" class=\"dataframe\">\n",
              "  <thead>\n",
              "    <tr style=\"text-align: right;\">\n",
              "      <th></th>\n",
              "      <th>Date</th>\n",
              "      <th>Close</th>\n",
              "      <th>Volume</th>\n",
              "      <th>PercentChange</th>\n",
              "      <th>Fancy</th>\n",
              "    </tr>\n",
              "  </thead>\n",
              "  <tbody>\n",
              "    <tr>\n",
              "      <th>0</th>\n",
              "      <td>2018-06-01</td>\n",
              "      <td>136.1k</td>\n",
              "      <td>1051610</td>\n",
              "      <td>?%</td>\n",
              "      <td>01/06/2018</td>\n",
              "    </tr>\n",
              "    <tr>\n",
              "      <th>1</th>\n",
              "      <td>2018-06-04</td>\n",
              "      <td>141.6k</td>\n",
              "      <td>965230</td>\n",
              "      <td>4.04%</td>\n",
              "      <td>04/06/2018</td>\n",
              "    </tr>\n",
              "    <tr>\n",
              "      <th>2</th>\n",
              "      <td>2018-06-05</td>\n",
              "      <td>144.4k</td>\n",
              "      <td>879160</td>\n",
              "      <td>1.98%</td>\n",
              "      <td>05/06/2018</td>\n",
              "    </tr>\n",
              "    <tr>\n",
              "      <th>3</th>\n",
              "      <td>2018-06-06</td>\n",
              "      <td>142.8k</td>\n",
              "      <td>463720</td>\n",
              "      <td>-1.11%</td>\n",
              "      <td>06/06/2018</td>\n",
              "    </tr>\n",
              "    <tr>\n",
              "      <th>4</th>\n",
              "      <td>2018-06-07</td>\n",
              "      <td>144.7k</td>\n",
              "      <td>401900</td>\n",
              "      <td>1.33%</td>\n",
              "      <td>07/06/2018</td>\n",
              "    </tr>\n",
              "    <tr>\n",
              "      <th>5</th>\n",
              "      <td>2018-06-08</td>\n",
              "      <td>144.4k</td>\n",
              "      <td>505520</td>\n",
              "      <td>-0.21%</td>\n",
              "      <td>08/06/2018</td>\n",
              "    </tr>\n",
              "    <tr>\n",
              "      <th>6</th>\n",
              "      <td>2018-06-11</td>\n",
              "      <td>147.0k</td>\n",
              "      <td>721050</td>\n",
              "      <td>1.8%</td>\n",
              "      <td>11/06/2018</td>\n",
              "    </tr>\n",
              "    <tr>\n",
              "      <th>7</th>\n",
              "      <td>2018-06-12</td>\n",
              "      <td>147.7k</td>\n",
              "      <td>873690</td>\n",
              "      <td>0.48%</td>\n",
              "      <td>12/06/2018</td>\n",
              "    </tr>\n",
              "    <tr>\n",
              "      <th>8</th>\n",
              "      <td>2018-06-13</td>\n",
              "      <td>147.7k</td>\n",
              "      <td>472470</td>\n",
              "      <td>0.0%</td>\n",
              "      <td>13/06/2018</td>\n",
              "    </tr>\n",
              "    <tr>\n",
              "      <th>9</th>\n",
              "      <td>2018-06-14</td>\n",
              "      <td>146.9k</td>\n",
              "      <td>767750</td>\n",
              "      <td>-0.54%</td>\n",
              "      <td>14/06/2018</td>\n",
              "    </tr>\n",
              "    <tr>\n",
              "      <th>10</th>\n",
              "      <td>2018-06-15</td>\n",
              "      <td>146.9k</td>\n",
              "      <td>1114730</td>\n",
              "      <td>0.0%</td>\n",
              "      <td>15/06/2018</td>\n",
              "    </tr>\n",
              "  </tbody>\n",
              "</table>\n",
              "</div>"
            ],
            "text/plain": [
              "         Date   Close   Volume PercentChange       Fancy\n",
              "0  2018-06-01  136.1k  1051610            ?%  01/06/2018\n",
              "1  2018-06-04  141.6k   965230         4.04%  04/06/2018\n",
              "2  2018-06-05  144.4k   879160         1.98%  05/06/2018\n",
              "3  2018-06-06  142.8k   463720        -1.11%  06/06/2018\n",
              "4  2018-06-07  144.7k   401900         1.33%  07/06/2018\n",
              "5  2018-06-08  144.4k   505520        -0.21%  08/06/2018\n",
              "6  2018-06-11  147.0k   721050          1.8%  11/06/2018\n",
              "7  2018-06-12  147.7k   873690         0.48%  12/06/2018\n",
              "8  2018-06-13  147.7k   472470          0.0%  13/06/2018\n",
              "9  2018-06-14  146.9k   767750        -0.54%  14/06/2018\n",
              "10 2018-06-15  146.9k  1114730          0.0%  15/06/2018"
            ]
          },
          "metadata": {
            "tags": []
          },
          "execution_count": 13
        }
      ]
    },
    {
      "cell_type": "markdown",
      "metadata": {
        "id": "BSXVcSMRp2up",
        "colab_type": "text"
      },
      "source": [
        "**Chú ý** : \n",
        "\n",
        "---\n",
        "\n",
        "`accessor` là một tính năng của `pandas` cho phép dùng các phương thức tương ứng với kiểu dữ liệu trong một `Series`.\n",
        "\n",
        "Các `accessor` thường dùng :\n",
        "- `.str` dành cho kiểu chuỗi.\n",
        "- `.dt` dành cho kiểu thời gian.\n",
        "- `.cat` dành cho kiểu phân loại.  "
      ]
    },
    {
      "cell_type": "markdown",
      "metadata": {
        "id": "PKlzFCjAwle3",
        "colab_type": "text"
      },
      "source": [
        "## Chuyển đổi chuỗi số thành kiểu số\n",
        "Nhắc lại, để chuyển đổi chuỗi số, chúng ta dùng đến `pandas.to_numeric()`."
      ]
    },
    {
      "cell_type": "code",
      "metadata": {
        "id": "TGaRWfS63z0W",
        "colab_type": "code",
        "outputId": "aad67b4f-a697-480f-9194-845bc0e6ae10",
        "colab": {
          "base_uri": "https://localhost:8080/",
          "height": 390
        }
      },
      "source": [
        "# ví dụ, chuyển đổi cột Close thành kiểu số\n",
        "# trước tiên, bỏ ký tự k\n",
        "df = df.assign(Close = df.Close.str.replace('k', ''))\n",
        "\n",
        "# kế tiếp, chuyển đổi thành kiểu số\n",
        "df = df.assign(Close = pd.to_numeric(df.Close))\n",
        "\n",
        "df"
      ],
      "execution_count": 0,
      "outputs": [
        {
          "output_type": "execute_result",
          "data": {
            "text/html": [
              "<div>\n",
              "<style scoped>\n",
              "    .dataframe tbody tr th:only-of-type {\n",
              "        vertical-align: middle;\n",
              "    }\n",
              "\n",
              "    .dataframe tbody tr th {\n",
              "        vertical-align: top;\n",
              "    }\n",
              "\n",
              "    .dataframe thead th {\n",
              "        text-align: right;\n",
              "    }\n",
              "</style>\n",
              "<table border=\"1\" class=\"dataframe\">\n",
              "  <thead>\n",
              "    <tr style=\"text-align: right;\">\n",
              "      <th></th>\n",
              "      <th>Date</th>\n",
              "      <th>Close</th>\n",
              "      <th>Volume</th>\n",
              "      <th>PercentChange</th>\n",
              "    </tr>\n",
              "  </thead>\n",
              "  <tbody>\n",
              "    <tr>\n",
              "      <th>0</th>\n",
              "      <td>2018-06-01</td>\n",
              "      <td>136.1</td>\n",
              "      <td>1051610</td>\n",
              "      <td>?%</td>\n",
              "    </tr>\n",
              "    <tr>\n",
              "      <th>1</th>\n",
              "      <td>2018-06-04</td>\n",
              "      <td>141.6</td>\n",
              "      <td>965230</td>\n",
              "      <td>4.04%</td>\n",
              "    </tr>\n",
              "    <tr>\n",
              "      <th>2</th>\n",
              "      <td>2018-06-05</td>\n",
              "      <td>144.4</td>\n",
              "      <td>879160</td>\n",
              "      <td>1.98%</td>\n",
              "    </tr>\n",
              "    <tr>\n",
              "      <th>3</th>\n",
              "      <td>2018-06-06</td>\n",
              "      <td>142.8</td>\n",
              "      <td>463720</td>\n",
              "      <td>-1.11%</td>\n",
              "    </tr>\n",
              "    <tr>\n",
              "      <th>4</th>\n",
              "      <td>2018-06-07</td>\n",
              "      <td>144.7</td>\n",
              "      <td>401900</td>\n",
              "      <td>1.33%</td>\n",
              "    </tr>\n",
              "    <tr>\n",
              "      <th>5</th>\n",
              "      <td>2018-06-08</td>\n",
              "      <td>144.4</td>\n",
              "      <td>505520</td>\n",
              "      <td>-0.21%</td>\n",
              "    </tr>\n",
              "    <tr>\n",
              "      <th>6</th>\n",
              "      <td>2018-06-11</td>\n",
              "      <td>147.0</td>\n",
              "      <td>721050</td>\n",
              "      <td>1.8%</td>\n",
              "    </tr>\n",
              "    <tr>\n",
              "      <th>7</th>\n",
              "      <td>2018-06-12</td>\n",
              "      <td>147.7</td>\n",
              "      <td>873690</td>\n",
              "      <td>0.48%</td>\n",
              "    </tr>\n",
              "    <tr>\n",
              "      <th>8</th>\n",
              "      <td>2018-06-13</td>\n",
              "      <td>147.7</td>\n",
              "      <td>472470</td>\n",
              "      <td>0.0%</td>\n",
              "    </tr>\n",
              "    <tr>\n",
              "      <th>9</th>\n",
              "      <td>2018-06-14</td>\n",
              "      <td>146.9</td>\n",
              "      <td>767750</td>\n",
              "      <td>-0.54%</td>\n",
              "    </tr>\n",
              "    <tr>\n",
              "      <th>10</th>\n",
              "      <td>2018-06-15</td>\n",
              "      <td>146.9</td>\n",
              "      <td>1114730</td>\n",
              "      <td>0.0%</td>\n",
              "    </tr>\n",
              "  </tbody>\n",
              "</table>\n",
              "</div>"
            ],
            "text/plain": [
              "         Date  Close   Volume PercentChange\n",
              "0  2018-06-01  136.1  1051610            ?%\n",
              "1  2018-06-04  141.6   965230         4.04%\n",
              "2  2018-06-05  144.4   879160         1.98%\n",
              "3  2018-06-06  142.8   463720        -1.11%\n",
              "4  2018-06-07  144.7   401900         1.33%\n",
              "5  2018-06-08  144.4   505520        -0.21%\n",
              "6  2018-06-11  147.0   721050          1.8%\n",
              "7  2018-06-12  147.7   873690         0.48%\n",
              "8  2018-06-13  147.7   472470          0.0%\n",
              "9  2018-06-14  146.9   767750        -0.54%\n",
              "10 2018-06-15  146.9  1114730          0.0%"
            ]
          },
          "metadata": {
            "tags": []
          },
          "execution_count": 14
        }
      ]
    },
    {
      "cell_type": "code",
      "metadata": {
        "id": "FQ9qTzQD4rNq",
        "colab_type": "code",
        "outputId": "ac035597-e0fd-4b08-cffd-a4090e9d15e7",
        "colab": {
          "base_uri": "https://localhost:8080/",
          "height": 34
        }
      },
      "source": [
        "df.Close.dtypes"
      ],
      "execution_count": 0,
      "outputs": [
        {
          "output_type": "execute_result",
          "data": {
            "text/plain": [
              "dtype('float64')"
            ]
          },
          "metadata": {
            "tags": []
          },
          "execution_count": 8
        }
      ]
    },
    {
      "cell_type": "markdown",
      "metadata": {
        "id": "howb6oVWxEhV",
        "colab_type": "text"
      },
      "source": [
        "**Bài tập** : Chuyển đổi cột `PercentChange` thành chuỗi số."
      ]
    },
    {
      "cell_type": "code",
      "metadata": {
        "id": "LpulDk_CoiSK",
        "colab_type": "code",
        "outputId": "8f4a05c8-90bb-4013-bebb-e15318ef280d",
        "colab": {
          "base_uri": "https://localhost:8080/",
          "height": 34
        }
      },
      "source": [
        "df = df.assign(Close = pd.to_numeric(df.Close.str.replace('k', '')))\n",
        "\n",
        "df.Close.dtype"
      ],
      "execution_count": 0,
      "outputs": [
        {
          "output_type": "execute_result",
          "data": {
            "text/plain": [
              "dtype('float64')"
            ]
          },
          "metadata": {
            "tags": []
          },
          "execution_count": 32
        }
      ]
    },
    {
      "cell_type": "markdown",
      "metadata": {
        "id": "8HY9-AMY40KH",
        "colab_type": "text"
      },
      "source": [
        "Sau khi chuyển đổi kiểu, nhớ kiểm tra xem có tồn tại giá trị `NaN` nào hay không và sử dụng các biện pháp phù hợp với những giá trị đó."
      ]
    },
    {
      "cell_type": "markdown",
      "metadata": {
        "id": "NeMBBNHax3XJ",
        "colab_type": "text"
      },
      "source": [
        "# Mã hóa kiểu dữ liệu phân loại"
      ]
    },
    {
      "cell_type": "code",
      "metadata": {
        "id": "ZJBjG9QAN54b",
        "colab_type": "code",
        "outputId": "f64db348-71fc-4f51-a365-1893cb26d680",
        "colab": {
          "base_uri": "https://localhost:8080/",
          "height": 204
        }
      },
      "source": [
        "# data mẫu, dữ liệu từ Data\\iris.csv\n",
        "columns = ['sepal-length', 'sepal-width', 'petal-length', 'petal-width', 'type']\n",
        "iris = pd.read_csv('https://raw.githubusercontent.com/Levytan/MIS.2019/master/Data/iris.csv', header = None, names = columns)\n",
        "\n",
        "iris.head()"
      ],
      "execution_count": 0,
      "outputs": [
        {
          "output_type": "execute_result",
          "data": {
            "text/html": [
              "<div>\n",
              "<style scoped>\n",
              "    .dataframe tbody tr th:only-of-type {\n",
              "        vertical-align: middle;\n",
              "    }\n",
              "\n",
              "    .dataframe tbody tr th {\n",
              "        vertical-align: top;\n",
              "    }\n",
              "\n",
              "    .dataframe thead th {\n",
              "        text-align: right;\n",
              "    }\n",
              "</style>\n",
              "<table border=\"1\" class=\"dataframe\">\n",
              "  <thead>\n",
              "    <tr style=\"text-align: right;\">\n",
              "      <th></th>\n",
              "      <th>sepal-length</th>\n",
              "      <th>sepal-width</th>\n",
              "      <th>petal-length</th>\n",
              "      <th>petal-width</th>\n",
              "      <th>type</th>\n",
              "    </tr>\n",
              "  </thead>\n",
              "  <tbody>\n",
              "    <tr>\n",
              "      <th>0</th>\n",
              "      <td>5.1</td>\n",
              "      <td>3.5</td>\n",
              "      <td>1.4</td>\n",
              "      <td>0.2</td>\n",
              "      <td>Iris-setosa</td>\n",
              "    </tr>\n",
              "    <tr>\n",
              "      <th>1</th>\n",
              "      <td>4.9</td>\n",
              "      <td>3.0</td>\n",
              "      <td>1.4</td>\n",
              "      <td>0.2</td>\n",
              "      <td>Iris-setosa</td>\n",
              "    </tr>\n",
              "    <tr>\n",
              "      <th>2</th>\n",
              "      <td>4.7</td>\n",
              "      <td>3.2</td>\n",
              "      <td>1.3</td>\n",
              "      <td>0.2</td>\n",
              "      <td>Iris-setosa</td>\n",
              "    </tr>\n",
              "    <tr>\n",
              "      <th>3</th>\n",
              "      <td>4.6</td>\n",
              "      <td>3.1</td>\n",
              "      <td>1.5</td>\n",
              "      <td>0.2</td>\n",
              "      <td>Iris-setosa</td>\n",
              "    </tr>\n",
              "    <tr>\n",
              "      <th>4</th>\n",
              "      <td>5.0</td>\n",
              "      <td>3.6</td>\n",
              "      <td>1.4</td>\n",
              "      <td>0.2</td>\n",
              "      <td>Iris-setosa</td>\n",
              "    </tr>\n",
              "  </tbody>\n",
              "</table>\n",
              "</div>"
            ],
            "text/plain": [
              "   sepal-length  sepal-width  petal-length  petal-width         type\n",
              "0           5.1          3.5           1.4          0.2  Iris-setosa\n",
              "1           4.9          3.0           1.4          0.2  Iris-setosa\n",
              "2           4.7          3.2           1.3          0.2  Iris-setosa\n",
              "3           4.6          3.1           1.5          0.2  Iris-setosa\n",
              "4           5.0          3.6           1.4          0.2  Iris-setosa"
            ]
          },
          "metadata": {
            "tags": []
          },
          "execution_count": 12
        }
      ]
    },
    {
      "cell_type": "markdown",
      "metadata": {
        "id": "LRUGkz0Fx8CC",
        "colab_type": "text"
      },
      "source": [
        "## Kiểu dữ liệu phân loại (Categorical Data)"
      ]
    },
    {
      "cell_type": "markdown",
      "metadata": {
        "id": "N-rIuCOxKSL9",
        "colab_type": "text"
      },
      "source": [
        "Bên cạnh các kiểu dữ số, thời gian, chuỗi, `pandas` còn cung cấp một kiểu dữ liệu khác gọi là kiểu phân loại (Categorical Data). Kiểu này sẽ có `dtype` là `category`.\n",
        "\n",
        "Kiểu phân loại có một số đặc điểm sau :\n",
        "- Giá trị thường là một chuỗi ký tự.\n",
        "- Số lượng giá trị khác biệt thường ít và cố định.\n",
        "\n",
        "Một số dữ liệu có kiểu phân loại điển hình như giới tính, thời tiết hằng ngày, tình trạng sức khoẻ, ..."
      ]
    },
    {
      "cell_type": "markdown",
      "metadata": {
        "id": "DCs_Ez2SMSAp",
        "colab_type": "text"
      },
      "source": [
        "**Chú ý** : Chúng ta có các phương thức sau :\n",
        "- `.value_counts()` : trả về tần suất các giá trị.\n",
        "- `.unique()` : trả về các giá khác nhau.\n",
        "- `.nunique()` : trả về số giá trị khác nhau."
      ]
    },
    {
      "cell_type": "code",
      "metadata": {
        "id": "9XgE4CxoQOWD",
        "colab_type": "code",
        "outputId": "604067c9-fbe3-4ec8-e464-af95752a977d",
        "colab": {
          "base_uri": "https://localhost:8080/",
          "height": 85
        }
      },
      "source": [
        "iris.type.value_counts()"
      ],
      "execution_count": 0,
      "outputs": [
        {
          "output_type": "execute_result",
          "data": {
            "text/plain": [
              "Iris-versicolor    50\n",
              "Iris-virginica     50\n",
              "Iris-setosa        50\n",
              "Name: type, dtype: int64"
            ]
          },
          "metadata": {
            "tags": []
          },
          "execution_count": 14
        }
      ]
    },
    {
      "cell_type": "code",
      "metadata": {
        "id": "0IzKSnSwMxZg",
        "colab_type": "code",
        "outputId": "53821ab1-d915-46b6-83d5-a6861c1c5d67",
        "colab": {
          "base_uri": "https://localhost:8080/",
          "height": 34
        }
      },
      "source": [
        "iris['type'].nunique()"
      ],
      "execution_count": 0,
      "outputs": [
        {
          "output_type": "execute_result",
          "data": {
            "text/plain": [
              "3"
            ]
          },
          "metadata": {
            "tags": []
          },
          "execution_count": 29
        }
      ]
    },
    {
      "cell_type": "markdown",
      "metadata": {
        "id": "xuzv5FNmMMCP",
        "colab_type": "text"
      },
      "source": [
        "Để tạo một dữ liệu phân loại, ta dùng hàm `pandas.Categorical()` như sau :\n",
        "```\n",
        "pandas.Categorical(<đầu_vào>, [tham_số])\n",
        "```\n",
        "Trong đó, `đầu_vào` có thể là một `list`, `set`, `Series`."
      ]
    },
    {
      "cell_type": "markdown",
      "metadata": {
        "id": "OdbgJ05WRNji",
        "colab_type": "text"
      },
      "source": [
        "Hai tham số thường dùng là :\n",
        "- `categories` : các giá trị phân loại, có thể bỏ qua, khi đó, `pandas` sẽ dùng các giá trị khác nhau có trong `đầu_vào` làm giá trị phân loại chuẩn.\n",
        "- `ordered` : có nên xem phân loại này là phân loại có thứ tự hay không. Có hai giá trị là `True` và `False`, mặc định là `False`."
      ]
    },
    {
      "cell_type": "code",
      "metadata": {
        "id": "Ju6n9xO1o-_M",
        "colab_type": "code",
        "outputId": "c2fac67c-9b8a-4f1e-93de-79551d548029",
        "colab": {
          "base_uri": "https://localhost:8080/",
          "height": 51
        }
      },
      "source": [
        "# tạo một category không thứ tự\n",
        "pd.Categorical(['a', 'b', 'b', 'c'], categories = ['a', 'c', 'b'])"
      ],
      "execution_count": 0,
      "outputs": [
        {
          "output_type": "execute_result",
          "data": {
            "text/plain": [
              "[a, b, b, c]\n",
              "Categories (3, object): [a, c, b]"
            ]
          },
          "metadata": {
            "tags": []
          },
          "execution_count": 23
        }
      ]
    },
    {
      "cell_type": "code",
      "metadata": {
        "id": "wNP6UhgTTRod",
        "colab_type": "code",
        "outputId": "f4fba650-ce05-460b-e9d3-861b646fe230",
        "colab": {
          "base_uri": "https://localhost:8080/",
          "height": 51
        }
      },
      "source": [
        "# tạo một category có thứ tự\n",
        "pd.Categorical(['a', 'b', 'b', 'c'], categories = ['a', 'c', 'b'], ordered = True)"
      ],
      "execution_count": 0,
      "outputs": [
        {
          "output_type": "execute_result",
          "data": {
            "text/plain": [
              "[a, b, b, c]\n",
              "Categories (3, object): [a < c < b]"
            ]
          },
          "metadata": {
            "tags": []
          },
          "execution_count": 19
        }
      ]
    },
    {
      "cell_type": "markdown",
      "metadata": {
        "id": "UElNNFIcTlS0",
        "colab_type": "text"
      },
      "source": [
        "Một thuộc tính thường dùng của một đối tượng `category` này chính là `codes`. Tức là dạng mã hoá của `category` đó.\n"
      ]
    },
    {
      "cell_type": "code",
      "metadata": {
        "id": "FV1ohkgFUFo1",
        "colab_type": "code",
        "outputId": "d2318396-5bb6-48f1-c288-e730fd30c960",
        "colab": {
          "base_uri": "https://localhost:8080/",
          "height": 34
        }
      },
      "source": [
        "category = pd.Categorical(['a', 'b', 'b', 'c'], categories = ['a', 'c', 'b'], ordered = True)\n",
        "category.codes"
      ],
      "execution_count": 0,
      "outputs": [
        {
          "output_type": "execute_result",
          "data": {
            "text/plain": [
              "array([0, 2, 2, 1], dtype=int8)"
            ]
          },
          "metadata": {
            "tags": []
          },
          "execution_count": 21
        }
      ]
    },
    {
      "cell_type": "markdown",
      "metadata": {
        "id": "-XHDZfPWX8QR",
        "colab_type": "text"
      },
      "source": [
        "**Bài tập** : Chuyển kiểu dữ liệu của cột `type` từ `object` thành `category`."
      ]
    },
    {
      "cell_type": "markdown",
      "metadata": {
        "id": "Q_MJXRybyIpy",
        "colab_type": "text"
      },
      "source": [
        "## Mã hóa kiểu dữ liệu phân loại"
      ]
    },
    {
      "cell_type": "markdown",
      "metadata": {
        "id": "cK_lbJpLVLFZ",
        "colab_type": "text"
      },
      "source": [
        "Có vài lý do để phải mã hoá (gán cho một số nào đó) kiểu dữ liệu phân loại :\n",
        "- Tiết kiệm bộ nhớ.\n",
        "- Một số phương pháp máy học chỉ chạy trên các giá trị số."
      ]
    },
    {
      "cell_type": "markdown",
      "metadata": {
        "id": "lgulLdbqV2kp",
        "colab_type": "text"
      },
      "source": [
        "Có hai phương pháp cơ bản để mã hoá kiểu phân loại :\n",
        "- Gán cho giá trị số nào đó.\n",
        "- Onehot encoder (còn gọi là dummy encoder, mã hoá bù nhìn)."
      ]
    },
    {
      "cell_type": "markdown",
      "metadata": {
        "id": "n4UVuTVWXABQ",
        "colab_type": "text"
      },
      "source": [
        "### Gán giá trị số\n",
        "Là cách thức chuyển đổi giá trị phân loại thành số theo quy tắc nào đó. Chẳng hạn : `giá_trị_thứ_1` thì gán số 1, `giá_trị_thứ_2` thì gán số 2, vân vân và mây mây, ...\n",
        "\n",
        "Phương pháp này thường được dùng khi các giữa các giá trị phân loại tồn tại một thứ tự nào đó."
      ]
    },
    {
      "cell_type": "markdown",
      "metadata": {
        "id": "C4whbajPZcE1",
        "colab_type": "text"
      },
      "source": [
        "Trong `pandas`, bạn có thể sử dụng `codes` của một `category` để mã hoá cho `category` đó."
      ]
    },
    {
      "cell_type": "code",
      "metadata": {
        "id": "7C4v2iH2VKfp",
        "colab_type": "code",
        "outputId": "8b7490f4-c75c-4e1e-ad9c-7f51fd6206bf",
        "colab": {
          "base_uri": "https://localhost:8080/",
          "height": 204
        }
      },
      "source": [
        "# chuyển cột type thành kiểu phân loại\n",
        "iris_2 = iris.assign(type = pd.Categorical(iris.type))\n",
        "\n",
        "# mã hoá cột type thành số\n",
        "iris_2 = iris_2.assign(type = iris_2.type.cat.codes)\n",
        "\n",
        "iris_2.head()"
      ],
      "execution_count": 0,
      "outputs": [
        {
          "output_type": "execute_result",
          "data": {
            "text/html": [
              "<div>\n",
              "<style scoped>\n",
              "    .dataframe tbody tr th:only-of-type {\n",
              "        vertical-align: middle;\n",
              "    }\n",
              "\n",
              "    .dataframe tbody tr th {\n",
              "        vertical-align: top;\n",
              "    }\n",
              "\n",
              "    .dataframe thead th {\n",
              "        text-align: right;\n",
              "    }\n",
              "</style>\n",
              "<table border=\"1\" class=\"dataframe\">\n",
              "  <thead>\n",
              "    <tr style=\"text-align: right;\">\n",
              "      <th></th>\n",
              "      <th>sepal-length</th>\n",
              "      <th>sepal-width</th>\n",
              "      <th>petal-length</th>\n",
              "      <th>petal-width</th>\n",
              "      <th>type</th>\n",
              "    </tr>\n",
              "  </thead>\n",
              "  <tbody>\n",
              "    <tr>\n",
              "      <th>0</th>\n",
              "      <td>5.1</td>\n",
              "      <td>3.5</td>\n",
              "      <td>1.4</td>\n",
              "      <td>0.2</td>\n",
              "      <td>0</td>\n",
              "    </tr>\n",
              "    <tr>\n",
              "      <th>1</th>\n",
              "      <td>4.9</td>\n",
              "      <td>3.0</td>\n",
              "      <td>1.4</td>\n",
              "      <td>0.2</td>\n",
              "      <td>0</td>\n",
              "    </tr>\n",
              "    <tr>\n",
              "      <th>2</th>\n",
              "      <td>4.7</td>\n",
              "      <td>3.2</td>\n",
              "      <td>1.3</td>\n",
              "      <td>0.2</td>\n",
              "      <td>0</td>\n",
              "    </tr>\n",
              "    <tr>\n",
              "      <th>3</th>\n",
              "      <td>4.6</td>\n",
              "      <td>3.1</td>\n",
              "      <td>1.5</td>\n",
              "      <td>0.2</td>\n",
              "      <td>0</td>\n",
              "    </tr>\n",
              "    <tr>\n",
              "      <th>4</th>\n",
              "      <td>5.0</td>\n",
              "      <td>3.6</td>\n",
              "      <td>1.4</td>\n",
              "      <td>0.2</td>\n",
              "      <td>0</td>\n",
              "    </tr>\n",
              "  </tbody>\n",
              "</table>\n",
              "</div>"
            ],
            "text/plain": [
              "   sepal-length  sepal-width  petal-length  petal-width  type\n",
              "0           5.1          3.5           1.4          0.2     0\n",
              "1           4.9          3.0           1.4          0.2     0\n",
              "2           4.7          3.2           1.3          0.2     0\n",
              "3           4.6          3.1           1.5          0.2     0\n",
              "4           5.0          3.6           1.4          0.2     0"
            ]
          },
          "metadata": {
            "tags": []
          },
          "execution_count": 26
        }
      ]
    }
  ]
}