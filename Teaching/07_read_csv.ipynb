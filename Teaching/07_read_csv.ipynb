{
  "nbformat": 4,
  "nbformat_minor": 0,
  "metadata": {
    "colab": {
      "name": "Pre-processing",
      "provenance": []
    },
    "kernelspec": {
      "name": "python3",
      "display_name": "Python 3"
    }
  },
  "cells": [
    {
      "cell_type": "markdown",
      "metadata": {
        "id": "H_56pwI_idlY",
        "colab_type": "text"
      },
      "source": [
        "# Giới thiệu"
      ]
    },
    {
      "cell_type": "markdown",
      "metadata": {
        "id": "GjNlcMpgmnXr",
        "colab_type": "text"
      },
      "source": [
        "Trong phần này, chúng ta sẽ học về cách tiền xử lý dữ liệu (data preprocessing). Đây là kỹ thuật dùng để chuyển đổi dữ liệu thô thành dạng hữu ích và dễ phân tích hơn.\n",
        "\n",
        "![Fig 1](https://i.imgur.com/LJ0E09W.png)"
      ]
    },
    {
      "cell_type": "markdown",
      "metadata": {
        "id": "hQVnp_ZcnbxR",
        "colab_type": "text"
      },
      "source": [
        "Các bước trong quá trình tiền xử lý dữ liệu bao gồm :\n",
        "- Làm sạch dữ liệu (data cleaning) :\n",
        "    * Dữ liệu bị thiếu (missing data)\n",
        "    * Dữ liệu nhiễu (noisy data)\n",
        "- Chuyển đổi dữ liệu (data transformation) :\n",
        "    * Chuẩn hóa dữ liệu (normalization).\n",
        "    * Rời rạc hóa dữ liệu (discretization).\n",
        "    * ...\n",
        "- Thu gọn dữ liệu (data reduction) :\n",
        "    * Giảm số chiều (dimensionality reduction)\n",
        "    * ...\n",
        "\n",
        "\n"
      ]
    },
    {
      "cell_type": "markdown",
      "metadata": {
        "id": "8PXTp6mnqk22",
        "colab_type": "text"
      },
      "source": [
        "Nhưng trước khi bắt đầu tiền xử lý dữ liệu, chúng ta phải nhập (import) dữ liệu."
      ]
    },
    {
      "cell_type": "markdown",
      "metadata": {
        "id": "fToN0f5msEdy",
        "colab_type": "text"
      },
      "source": [
        "# Nhập dữ liệu"
      ]
    },
    {
      "cell_type": "markdown",
      "metadata": {
        "id": "qsZmMc44sMMS",
        "colab_type": "text"
      },
      "source": [
        "## Định dạng `csv`\n",
        "CSV (**C**omma **S**eparated **V**alues) là một loại định dạng văn bản đơn giản mà trong đó, các giá trị được ngăn cách với nhau bằng dấu phẩy. Định dạng CSV thường xuyên được sử dụng để lưu các bảng tính quy mô nhỏ như danh bạ, danh sách lớp, báo cáo…"
      ]
    },
    {
      "cell_type": "markdown",
      "metadata": {
        "id": "5fOGstN9srK0",
        "colab_type": "text"
      },
      "source": [
        "Thông thường, một file `csv` có đuôi là `.csv`."
      ]
    },
    {
      "cell_type": "markdown",
      "metadata": {
        "id": "YD4D1pqAtHm0",
        "colab_type": "text"
      },
      "source": [
        "## Cách đọc file `.csv` trong pandas."
      ]
    },
    {
      "cell_type": "markdown",
      "metadata": {
        "id": "_eo6t7jwtVUp",
        "colab_type": "text"
      },
      "source": [
        "Để đọc file `.csv` trong python, bạn có thể dùng đến hàm `pandas.read_csv()` như sau :\n",
        "```\n",
        "pandas.read_csv(<đường_dẫn_đến_file>, [các_tham_số_khác])\n",
        "```\n",
        "Trong đó, `đường_dẫn_đến_file` có thể là đường dẫn một tập tin trong máy (local) hoặc là một url (remote)."
      ]
    },
    {
      "cell_type": "code",
      "metadata": {
        "id": "I0e-2tyzbuiy",
        "colab_type": "code",
        "outputId": "d92d036b-c4d5-444a-c71f-586e48df21a4",
        "colab": {
          "base_uri": "https://localhost:8080/",
          "height": 204
        }
      },
      "source": [
        "# ví dụ :\n",
        "import pandas as pd\n",
        "\n",
        "df = pd.read_csv('https://raw.githubusercontent.com/tarunlnmiit/machine_learning/master/DataPreprocessing.csv')\n",
        "df.head()"
      ],
      "execution_count": 0,
      "outputs": [
        {
          "output_type": "execute_result",
          "data": {
            "text/html": [
              "<div>\n",
              "<style scoped>\n",
              "    .dataframe tbody tr th:only-of-type {\n",
              "        vertical-align: middle;\n",
              "    }\n",
              "\n",
              "    .dataframe tbody tr th {\n",
              "        vertical-align: top;\n",
              "    }\n",
              "\n",
              "    .dataframe thead th {\n",
              "        text-align: right;\n",
              "    }\n",
              "</style>\n",
              "<table border=\"1\" class=\"dataframe\">\n",
              "  <thead>\n",
              "    <tr style=\"text-align: right;\">\n",
              "      <th></th>\n",
              "      <th>Region</th>\n",
              "      <th>Age</th>\n",
              "      <th>Income</th>\n",
              "      <th>Online Shopper</th>\n",
              "    </tr>\n",
              "  </thead>\n",
              "  <tbody>\n",
              "    <tr>\n",
              "      <th>0</th>\n",
              "      <td>India</td>\n",
              "      <td>49.0</td>\n",
              "      <td>86400.0</td>\n",
              "      <td>No</td>\n",
              "    </tr>\n",
              "    <tr>\n",
              "      <th>1</th>\n",
              "      <td>Brazil</td>\n",
              "      <td>32.0</td>\n",
              "      <td>57600.0</td>\n",
              "      <td>Yes</td>\n",
              "    </tr>\n",
              "    <tr>\n",
              "      <th>2</th>\n",
              "      <td>USA</td>\n",
              "      <td>35.0</td>\n",
              "      <td>64800.0</td>\n",
              "      <td>No</td>\n",
              "    </tr>\n",
              "    <tr>\n",
              "      <th>3</th>\n",
              "      <td>Brazil</td>\n",
              "      <td>43.0</td>\n",
              "      <td>73200.0</td>\n",
              "      <td>No</td>\n",
              "    </tr>\n",
              "    <tr>\n",
              "      <th>4</th>\n",
              "      <td>USA</td>\n",
              "      <td>45.0</td>\n",
              "      <td>NaN</td>\n",
              "      <td>Yes</td>\n",
              "    </tr>\n",
              "  </tbody>\n",
              "</table>\n",
              "</div>"
            ],
            "text/plain": [
              "   Region   Age   Income Online Shopper\n",
              "0   India  49.0  86400.0             No\n",
              "1  Brazil  32.0  57600.0            Yes\n",
              "2     USA  35.0  64800.0             No\n",
              "3  Brazil  43.0  73200.0             No\n",
              "4     USA  45.0      NaN            Yes"
            ]
          },
          "metadata": {
            "tags": []
          },
          "execution_count": 4
        }
      ]
    },
    {
      "cell_type": "markdown",
      "metadata": {
        "id": "5smUbq49vJ8Z",
        "colab_type": "text"
      },
      "source": [
        "## Một số tham số của `pandas.read_csv()`"
      ]
    },
    {
      "cell_type": "markdown",
      "metadata": {
        "id": "5a24uzcrwE74",
        "colab_type": "text"
      },
      "source": [
        "Vì dữ liệu thô có muôn hình vạn trạng, nên `pandas.read_csv()` cung cấp đến hơn 40 tham số đễ giúp đỡ quá trình đọc dữ liệu.\n",
        "\n",
        "Tuy nhiên, chúng ta cùng xem qua một số tham số thường dùng."
      ]
    },
    {
      "cell_type": "markdown",
      "metadata": {
        "id": "TYgPyr8dxJrF",
        "colab_type": "text"
      },
      "source": [
        "### Tham số `sep`\n",
        "Tham số này dùng để chỉ ra cách các dữ liệu được phân tách như thế nào. Mặc định là dấu phẩy `','`."
      ]
    },
    {
      "cell_type": "code",
      "metadata": {
        "id": "EaFAD92Ruf_r",
        "colab_type": "code",
        "outputId": "9798917e-9f71-4797-88ab-5a48c9123d33",
        "colab": {
          "base_uri": "https://localhost:8080/",
          "height": 359
        }
      },
      "source": [
        "df1 = pd.read_csv('https://raw.githubusercontent.com/Levytan/MIS.2019/master/Data/sample_data_1.csv', sep = ';')\n",
        "df1"
      ],
      "execution_count": 0,
      "outputs": [
        {
          "output_type": "execute_result",
          "data": {
            "text/html": [
              "<div>\n",
              "<style scoped>\n",
              "    .dataframe tbody tr th:only-of-type {\n",
              "        vertical-align: middle;\n",
              "    }\n",
              "\n",
              "    .dataframe tbody tr th {\n",
              "        vertical-align: top;\n",
              "    }\n",
              "\n",
              "    .dataframe thead th {\n",
              "        text-align: right;\n",
              "    }\n",
              "</style>\n",
              "<table border=\"1\" class=\"dataframe\">\n",
              "  <thead>\n",
              "    <tr style=\"text-align: right;\">\n",
              "      <th></th>\n",
              "      <th>Region</th>\n",
              "      <th>Age</th>\n",
              "      <th>Income</th>\n",
              "      <th>Online Shopper</th>\n",
              "    </tr>\n",
              "  </thead>\n",
              "  <tbody>\n",
              "    <tr>\n",
              "      <th>0</th>\n",
              "      <td>India</td>\n",
              "      <td>49.0</td>\n",
              "      <td>86400.0</td>\n",
              "      <td>No</td>\n",
              "    </tr>\n",
              "    <tr>\n",
              "      <th>1</th>\n",
              "      <td>Brazil</td>\n",
              "      <td>32.0</td>\n",
              "      <td>57600.0</td>\n",
              "      <td>Yes</td>\n",
              "    </tr>\n",
              "    <tr>\n",
              "      <th>2</th>\n",
              "      <td>USA</td>\n",
              "      <td>35.0</td>\n",
              "      <td>64800.0</td>\n",
              "      <td>No</td>\n",
              "    </tr>\n",
              "    <tr>\n",
              "      <th>3</th>\n",
              "      <td>Brazil</td>\n",
              "      <td>43.0</td>\n",
              "      <td>73200.0</td>\n",
              "      <td>No</td>\n",
              "    </tr>\n",
              "    <tr>\n",
              "      <th>4</th>\n",
              "      <td>USA</td>\n",
              "      <td>45.0</td>\n",
              "      <td>NaN</td>\n",
              "      <td>Yes</td>\n",
              "    </tr>\n",
              "    <tr>\n",
              "      <th>5</th>\n",
              "      <td>India</td>\n",
              "      <td>40.0</td>\n",
              "      <td>69600.0</td>\n",
              "      <td>Yes</td>\n",
              "    </tr>\n",
              "    <tr>\n",
              "      <th>6</th>\n",
              "      <td>Brazil</td>\n",
              "      <td>NaN</td>\n",
              "      <td>62400.0</td>\n",
              "      <td>No</td>\n",
              "    </tr>\n",
              "    <tr>\n",
              "      <th>7</th>\n",
              "      <td>India</td>\n",
              "      <td>53.0</td>\n",
              "      <td>94800.0</td>\n",
              "      <td>Yes</td>\n",
              "    </tr>\n",
              "    <tr>\n",
              "      <th>8</th>\n",
              "      <td>USA</td>\n",
              "      <td>55.0</td>\n",
              "      <td>99600.0</td>\n",
              "      <td>No</td>\n",
              "    </tr>\n",
              "    <tr>\n",
              "      <th>9</th>\n",
              "      <td>India</td>\n",
              "      <td>42.0</td>\n",
              "      <td>80400.0</td>\n",
              "      <td>Yes</td>\n",
              "    </tr>\n",
              "  </tbody>\n",
              "</table>\n",
              "</div>"
            ],
            "text/plain": [
              "   Region   Age   Income Online Shopper\n",
              "0   India  49.0  86400.0             No\n",
              "1  Brazil  32.0  57600.0            Yes\n",
              "2     USA  35.0  64800.0             No\n",
              "3  Brazil  43.0  73200.0             No\n",
              "4     USA  45.0      NaN            Yes\n",
              "5   India  40.0  69600.0            Yes\n",
              "6  Brazil   NaN  62400.0             No\n",
              "7   India  53.0  94800.0            Yes\n",
              "8     USA  55.0  99600.0             No\n",
              "9   India  42.0  80400.0            Yes"
            ]
          },
          "metadata": {
            "tags": []
          },
          "execution_count": 6
        }
      ]
    },
    {
      "cell_type": "markdown",
      "metadata": {
        "id": "sxkk7JRqyw40",
        "colab_type": "text"
      },
      "source": [
        "### Tham số `header`\n",
        "Tham số này được dùng để chỉ ra dòng (một hoặc nhiều) được dùng để làm header (tên cột). Giá trị mặc định là `'infer'` (tự suy ra từ file)."
      ]
    },
    {
      "cell_type": "code",
      "metadata": {
        "id": "c3jSFOrEyrV1",
        "colab_type": "code",
        "outputId": "19ac7f20-1e45-40b1-bb2b-03799d11bb26",
        "colab": {
          "base_uri": "https://localhost:8080/",
          "height": 359
        }
      },
      "source": [
        "# Ví dụ, dùng None để báo rằng file .csv không có header\n",
        "df2 = pd.read_csv('https://raw.githubusercontent.com/Levytan/MIS.2019/master/Data/sample_data_2.csv', header = None)\n",
        "df2"
      ],
      "execution_count": 0,
      "outputs": [
        {
          "output_type": "execute_result",
          "data": {
            "text/html": [
              "<div>\n",
              "<style scoped>\n",
              "    .dataframe tbody tr th:only-of-type {\n",
              "        vertical-align: middle;\n",
              "    }\n",
              "\n",
              "    .dataframe tbody tr th {\n",
              "        vertical-align: top;\n",
              "    }\n",
              "\n",
              "    .dataframe thead th {\n",
              "        text-align: right;\n",
              "    }\n",
              "</style>\n",
              "<table border=\"1\" class=\"dataframe\">\n",
              "  <thead>\n",
              "    <tr style=\"text-align: right;\">\n",
              "      <th></th>\n",
              "      <th>0</th>\n",
              "      <th>1</th>\n",
              "      <th>2</th>\n",
              "      <th>3</th>\n",
              "    </tr>\n",
              "  </thead>\n",
              "  <tbody>\n",
              "    <tr>\n",
              "      <th>0</th>\n",
              "      <td>India</td>\n",
              "      <td>49.0</td>\n",
              "      <td>86400.0</td>\n",
              "      <td>No</td>\n",
              "    </tr>\n",
              "    <tr>\n",
              "      <th>1</th>\n",
              "      <td>Brazil</td>\n",
              "      <td>32.0</td>\n",
              "      <td>57600.0</td>\n",
              "      <td>Yes</td>\n",
              "    </tr>\n",
              "    <tr>\n",
              "      <th>2</th>\n",
              "      <td>USA</td>\n",
              "      <td>35.0</td>\n",
              "      <td>64800.0</td>\n",
              "      <td>No</td>\n",
              "    </tr>\n",
              "    <tr>\n",
              "      <th>3</th>\n",
              "      <td>Brazil</td>\n",
              "      <td>43.0</td>\n",
              "      <td>73200.0</td>\n",
              "      <td>No</td>\n",
              "    </tr>\n",
              "    <tr>\n",
              "      <th>4</th>\n",
              "      <td>USA</td>\n",
              "      <td>45.0</td>\n",
              "      <td>NaN</td>\n",
              "      <td>Yes</td>\n",
              "    </tr>\n",
              "    <tr>\n",
              "      <th>5</th>\n",
              "      <td>India</td>\n",
              "      <td>40.0</td>\n",
              "      <td>69600.0</td>\n",
              "      <td>Yes</td>\n",
              "    </tr>\n",
              "    <tr>\n",
              "      <th>6</th>\n",
              "      <td>Brazil</td>\n",
              "      <td>NaN</td>\n",
              "      <td>62400.0</td>\n",
              "      <td>No</td>\n",
              "    </tr>\n",
              "    <tr>\n",
              "      <th>7</th>\n",
              "      <td>India</td>\n",
              "      <td>53.0</td>\n",
              "      <td>94800.0</td>\n",
              "      <td>Yes</td>\n",
              "    </tr>\n",
              "    <tr>\n",
              "      <th>8</th>\n",
              "      <td>USA</td>\n",
              "      <td>55.0</td>\n",
              "      <td>99600.0</td>\n",
              "      <td>No</td>\n",
              "    </tr>\n",
              "    <tr>\n",
              "      <th>9</th>\n",
              "      <td>India</td>\n",
              "      <td>42.0</td>\n",
              "      <td>80400.0</td>\n",
              "      <td>Yes</td>\n",
              "    </tr>\n",
              "  </tbody>\n",
              "</table>\n",
              "</div>"
            ],
            "text/plain": [
              "        0     1        2    3\n",
              "0   India  49.0  86400.0   No\n",
              "1  Brazil  32.0  57600.0  Yes\n",
              "2     USA  35.0  64800.0   No\n",
              "3  Brazil  43.0  73200.0   No\n",
              "4     USA  45.0      NaN  Yes\n",
              "5   India  40.0  69600.0  Yes\n",
              "6  Brazil   NaN  62400.0   No\n",
              "7   India  53.0  94800.0  Yes\n",
              "8     USA  55.0  99600.0   No\n",
              "9   India  42.0  80400.0  Yes"
            ]
          },
          "metadata": {
            "tags": []
          },
          "execution_count": 8
        }
      ]
    },
    {
      "cell_type": "markdown",
      "metadata": {
        "id": "LH0Qzyck1tGm",
        "colab_type": "text"
      },
      "source": [
        "### Tham số `usecols`\n",
        "Tham số này dùng này chỉ ra cần đọc từ file `.csv`, Có thể dùng tên cột (nếu có) hoặc số thứ tự cột."
      ]
    },
    {
      "cell_type": "code",
      "metadata": {
        "id": "BNrH6l6e0MCh",
        "colab_type": "code",
        "outputId": "9801c1f6-81d5-4262-9ec0-ea9490f3165d",
        "colab": {
          "base_uri": "https://localhost:8080/",
          "height": 204
        }
      },
      "source": [
        "# lấy các cột có số thứ tự 0, 1, 2, 3\n",
        "df3 = pd.read_csv('https://raw.githubusercontent.com/Levytan/MIS.2019/master/Data/sample_data_3.csv', usecols = [0,1,2,3])\n",
        "df3"
      ],
      "execution_count": 0,
      "outputs": [
        {
          "output_type": "execute_result",
          "data": {
            "text/html": [
              "<div>\n",
              "<style scoped>\n",
              "    .dataframe tbody tr th:only-of-type {\n",
              "        vertical-align: middle;\n",
              "    }\n",
              "\n",
              "    .dataframe tbody tr th {\n",
              "        vertical-align: top;\n",
              "    }\n",
              "\n",
              "    .dataframe thead th {\n",
              "        text-align: right;\n",
              "    }\n",
              "</style>\n",
              "<table border=\"1\" class=\"dataframe\">\n",
              "  <thead>\n",
              "    <tr style=\"text-align: right;\">\n",
              "      <th></th>\n",
              "      <th>ID</th>\n",
              "      <th>Method</th>\n",
              "      <th>a1</th>\n",
              "      <th>a2</th>\n",
              "    </tr>\n",
              "  </thead>\n",
              "  <tbody>\n",
              "    <tr>\n",
              "      <th>0</th>\n",
              "      <td>1</td>\n",
              "      <td>Soil</td>\n",
              "      <td>2</td>\n",
              "      <td>3</td>\n",
              "    </tr>\n",
              "    <tr>\n",
              "      <th>1</th>\n",
              "      <td>2</td>\n",
              "      <td>Soil</td>\n",
              "      <td>6</td>\n",
              "      <td>9</td>\n",
              "    </tr>\n",
              "    <tr>\n",
              "      <th>2</th>\n",
              "      <td>3</td>\n",
              "      <td>Soil</td>\n",
              "      <td>5</td>\n",
              "      <td>2</td>\n",
              "    </tr>\n",
              "    <tr>\n",
              "      <th>3</th>\n",
              "      <td>1</td>\n",
              "      <td>Soil</td>\n",
              "      <td>5</td>\n",
              "      <td>0</td>\n",
              "    </tr>\n",
              "    <tr>\n",
              "      <th>4</th>\n",
              "      <td>2</td>\n",
              "      <td>Soil</td>\n",
              "      <td>4</td>\n",
              "      <td>0</td>\n",
              "    </tr>\n",
              "  </tbody>\n",
              "</table>\n",
              "</div>"
            ],
            "text/plain": [
              "   ID Method  a1  a2\n",
              "0   1   Soil   2   3\n",
              "1   2   Soil   6   9\n",
              "2   3   Soil   5   2\n",
              "3   1   Soil   5   0\n",
              "4   2   Soil   4   0"
            ]
          },
          "metadata": {
            "tags": []
          },
          "execution_count": 12
        }
      ]
    },
    {
      "cell_type": "code",
      "metadata": {
        "id": "--o_2LJs2Zsm",
        "colab_type": "code",
        "outputId": "053557ae-3e2b-48d2-c594-4d19de3850b6",
        "colab": {
          "base_uri": "https://localhost:8080/",
          "height": 204
        }
      },
      "source": [
        "# lấy các cột có tên ID, Method, a1, a3, a5\n",
        "df4 = pd.read_csv('https://raw.githubusercontent.com/Levytan/MIS.2019/master/Data/sample_data_3.csv', usecols = ['ID', 'Method', 'a1', 'a3', 'a5'])\n",
        "df4"
      ],
      "execution_count": 0,
      "outputs": [
        {
          "output_type": "execute_result",
          "data": {
            "text/html": [
              "<div>\n",
              "<style scoped>\n",
              "    .dataframe tbody tr th:only-of-type {\n",
              "        vertical-align: middle;\n",
              "    }\n",
              "\n",
              "    .dataframe tbody tr th {\n",
              "        vertical-align: top;\n",
              "    }\n",
              "\n",
              "    .dataframe thead th {\n",
              "        text-align: right;\n",
              "    }\n",
              "</style>\n",
              "<table border=\"1\" class=\"dataframe\">\n",
              "  <thead>\n",
              "    <tr style=\"text-align: right;\">\n",
              "      <th></th>\n",
              "      <th>ID</th>\n",
              "      <th>Method</th>\n",
              "      <th>a1</th>\n",
              "      <th>a3</th>\n",
              "      <th>a5</th>\n",
              "    </tr>\n",
              "  </thead>\n",
              "  <tbody>\n",
              "    <tr>\n",
              "      <th>0</th>\n",
              "      <td>1</td>\n",
              "      <td>Soil</td>\n",
              "      <td>2</td>\n",
              "      <td>4</td>\n",
              "      <td>0</td>\n",
              "    </tr>\n",
              "    <tr>\n",
              "      <th>1</th>\n",
              "      <td>2</td>\n",
              "      <td>Soil</td>\n",
              "      <td>6</td>\n",
              "      <td>2</td>\n",
              "      <td>0</td>\n",
              "    </tr>\n",
              "    <tr>\n",
              "      <th>2</th>\n",
              "      <td>3</td>\n",
              "      <td>Soil</td>\n",
              "      <td>5</td>\n",
              "      <td>4</td>\n",
              "      <td>0</td>\n",
              "    </tr>\n",
              "    <tr>\n",
              "      <th>3</th>\n",
              "      <td>1</td>\n",
              "      <td>Soil</td>\n",
              "      <td>5</td>\n",
              "      <td>0</td>\n",
              "      <td>4</td>\n",
              "    </tr>\n",
              "    <tr>\n",
              "      <th>4</th>\n",
              "      <td>2</td>\n",
              "      <td>Soil</td>\n",
              "      <td>4</td>\n",
              "      <td>0</td>\n",
              "      <td>6</td>\n",
              "    </tr>\n",
              "  </tbody>\n",
              "</table>\n",
              "</div>"
            ],
            "text/plain": [
              "   ID Method  a1  a3  a5\n",
              "0   1   Soil   2   4   0\n",
              "1   2   Soil   6   2   0\n",
              "2   3   Soil   5   4   0\n",
              "3   1   Soil   5   0   4\n",
              "4   2   Soil   4   0   6"
            ]
          },
          "metadata": {
            "tags": []
          },
          "execution_count": 16
        }
      ]
    },
    {
      "cell_type": "markdown",
      "metadata": {
        "id": "Vl41n-963bQq",
        "colab_type": "text"
      },
      "source": [
        "### Tham số `index_col`\n",
        "Tham số này dùng để chỉ ra cột (một hoặc nhiều) dùng làm index. Giá trị mặc định là `None`, nghĩa là không dùng cột nào."
      ]
    },
    {
      "cell_type": "code",
      "metadata": {
        "id": "xCPOvddK3MqL",
        "colab_type": "code",
        "outputId": "21df8920-2a6c-4903-89c1-24e703e5a9ce",
        "colab": {
          "base_uri": "https://localhost:8080/",
          "height": 235
        }
      },
      "source": [
        "df5 = pd.read_csv('https://raw.githubusercontent.com/Levytan/MIS.2019/master/Data/sample_data_3.csv', index_col = 'ID')\n",
        "df5"
      ],
      "execution_count": 0,
      "outputs": [
        {
          "output_type": "execute_result",
          "data": {
            "text/html": [
              "<div>\n",
              "<style scoped>\n",
              "    .dataframe tbody tr th:only-of-type {\n",
              "        vertical-align: middle;\n",
              "    }\n",
              "\n",
              "    .dataframe tbody tr th {\n",
              "        vertical-align: top;\n",
              "    }\n",
              "\n",
              "    .dataframe thead th {\n",
              "        text-align: right;\n",
              "    }\n",
              "</style>\n",
              "<table border=\"1\" class=\"dataframe\">\n",
              "  <thead>\n",
              "    <tr style=\"text-align: right;\">\n",
              "      <th></th>\n",
              "      <th>Method</th>\n",
              "      <th>a1</th>\n",
              "      <th>a2</th>\n",
              "      <th>a3</th>\n",
              "      <th>a4</th>\n",
              "      <th>a5</th>\n",
              "      <th>a6</th>\n",
              "      <th>a7</th>\n",
              "      <th>a8</th>\n",
              "      <th>a9</th>\n",
              "      <th>a10</th>\n",
              "      <th>a11</th>\n",
              "    </tr>\n",
              "    <tr>\n",
              "      <th>ID</th>\n",
              "      <th></th>\n",
              "      <th></th>\n",
              "      <th></th>\n",
              "      <th></th>\n",
              "      <th></th>\n",
              "      <th></th>\n",
              "      <th></th>\n",
              "      <th></th>\n",
              "      <th></th>\n",
              "      <th></th>\n",
              "      <th></th>\n",
              "      <th></th>\n",
              "    </tr>\n",
              "  </thead>\n",
              "  <tbody>\n",
              "    <tr>\n",
              "      <th>1</th>\n",
              "      <td>Soil</td>\n",
              "      <td>2</td>\n",
              "      <td>3</td>\n",
              "      <td>4</td>\n",
              "      <td>5</td>\n",
              "      <td>0</td>\n",
              "      <td>3</td>\n",
              "      <td>6</td>\n",
              "      <td>4</td>\n",
              "      <td>8</td>\n",
              "      <td>0</td>\n",
              "      <td>0</td>\n",
              "    </tr>\n",
              "    <tr>\n",
              "      <th>2</th>\n",
              "      <td>Soil</td>\n",
              "      <td>6</td>\n",
              "      <td>9</td>\n",
              "      <td>2</td>\n",
              "      <td>7</td>\n",
              "      <td>0</td>\n",
              "      <td>4</td>\n",
              "      <td>3</td>\n",
              "      <td>4</td>\n",
              "      <td>4</td>\n",
              "      <td>0</td>\n",
              "      <td>0</td>\n",
              "    </tr>\n",
              "    <tr>\n",
              "      <th>3</th>\n",
              "      <td>Soil</td>\n",
              "      <td>5</td>\n",
              "      <td>2</td>\n",
              "      <td>4</td>\n",
              "      <td>9</td>\n",
              "      <td>0</td>\n",
              "      <td>1</td>\n",
              "      <td>1</td>\n",
              "      <td>2</td>\n",
              "      <td>3</td>\n",
              "      <td>0</td>\n",
              "      <td>0</td>\n",
              "    </tr>\n",
              "    <tr>\n",
              "      <th>1</th>\n",
              "      <td>Soil</td>\n",
              "      <td>5</td>\n",
              "      <td>0</td>\n",
              "      <td>0</td>\n",
              "      <td>0</td>\n",
              "      <td>4</td>\n",
              "      <td>7</td>\n",
              "      <td>8</td>\n",
              "      <td>2</td>\n",
              "      <td>1</td>\n",
              "      <td>3</td>\n",
              "      <td>4</td>\n",
              "    </tr>\n",
              "    <tr>\n",
              "      <th>2</th>\n",
              "      <td>Soil</td>\n",
              "      <td>4</td>\n",
              "      <td>0</td>\n",
              "      <td>0</td>\n",
              "      <td>0</td>\n",
              "      <td>6</td>\n",
              "      <td>3</td>\n",
              "      <td>8</td>\n",
              "      <td>7</td>\n",
              "      <td>2</td>\n",
              "      <td>2</td>\n",
              "      <td>1</td>\n",
              "    </tr>\n",
              "  </tbody>\n",
              "</table>\n",
              "</div>"
            ],
            "text/plain": [
              "   Method  a1  a2  a3  a4  a5  a6  a7  a8  a9  a10  a11\n",
              "ID                                                     \n",
              "1    Soil   2   3   4   5   0   3   6   4   8    0    0\n",
              "2    Soil   6   9   2   7   0   4   3   4   4    0    0\n",
              "3    Soil   5   2   4   9   0   1   1   2   3    0    0\n",
              "1    Soil   5   0   0   0   4   7   8   2   1    3    4\n",
              "2    Soil   4   0   0   0   6   3   8   7   2    2    1"
            ]
          },
          "metadata": {
            "tags": []
          },
          "execution_count": 17
        }
      ]
    },
    {
      "cell_type": "markdown",
      "metadata": {
        "id": "tSjPlFC74QKD",
        "colab_type": "text"
      },
      "source": [
        "### Tham số `na_values`\n",
        "Được dùng để chỉ ra thêm giá trị `NaN` trong file `.csv`. \n",
        "\n",
        "Mặc định, các giá trị sau sẽ được hiểu là `NaN` : `'#N/A'`, `'#N/A N/A'`, `'#NA'`, `'-1.#IND'`, `'-1.#QNAN'`, `'-NaN'`, `'-nan'`, `'1.#IND'`, `'1.#QNAN'`, `'N/A'`, `'NA'`, `'NULL'`, `'NaN'`, `'n/a'`, `'nan'`, `'null'`."
      ]
    },
    {
      "cell_type": "code",
      "metadata": {
        "id": "2wtWKEko4Eg5",
        "colab_type": "code",
        "outputId": "8e52d45e-6006-44c4-caa8-3785865c3eff",
        "colab": {
          "base_uri": "https://localhost:8080/",
          "height": 235
        }
      },
      "source": [
        "df5 = pd.read_csv('https://raw.githubusercontent.com/Levytan/MIS.2019/master/Data/sample_data_4.csv')\n",
        "df5"
      ],
      "execution_count": 0,
      "outputs": [
        {
          "output_type": "execute_result",
          "data": {
            "text/html": [
              "<div>\n",
              "<style scoped>\n",
              "    .dataframe tbody tr th:only-of-type {\n",
              "        vertical-align: middle;\n",
              "    }\n",
              "\n",
              "    .dataframe tbody tr th {\n",
              "        vertical-align: top;\n",
              "    }\n",
              "\n",
              "    .dataframe thead th {\n",
              "        text-align: right;\n",
              "    }\n",
              "</style>\n",
              "<table border=\"1\" class=\"dataframe\">\n",
              "  <thead>\n",
              "    <tr style=\"text-align: right;\">\n",
              "      <th></th>\n",
              "      <th>ID</th>\n",
              "      <th>Method</th>\n",
              "      <th>a1</th>\n",
              "      <th>a2</th>\n",
              "      <th>a3</th>\n",
              "      <th>a4</th>\n",
              "      <th>a5</th>\n",
              "      <th>a6</th>\n",
              "      <th>a7</th>\n",
              "      <th>a8</th>\n",
              "      <th>a9</th>\n",
              "      <th>a10</th>\n",
              "      <th>a11</th>\n",
              "    </tr>\n",
              "  </thead>\n",
              "  <tbody>\n",
              "    <tr>\n",
              "      <th>0</th>\n",
              "      <td>1</td>\n",
              "      <td>Soil</td>\n",
              "      <td>2</td>\n",
              "      <td>3</td>\n",
              "      <td>4</td>\n",
              "      <td>5</td>\n",
              "      <td>0</td>\n",
              "      <td>3</td>\n",
              "      <td>Null</td>\n",
              "      <td>4</td>\n",
              "      <td>8</td>\n",
              "      <td>0</td>\n",
              "      <td>0</td>\n",
              "    </tr>\n",
              "    <tr>\n",
              "      <th>1</th>\n",
              "      <td>2</td>\n",
              "      <td>Soil</td>\n",
              "      <td>6</td>\n",
              "      <td>9</td>\n",
              "      <td>2</td>\n",
              "      <td>7</td>\n",
              "      <td>0</td>\n",
              "      <td>4</td>\n",
              "      <td>3</td>\n",
              "      <td>4</td>\n",
              "      <td>4</td>\n",
              "      <td>0</td>\n",
              "      <td>0</td>\n",
              "    </tr>\n",
              "    <tr>\n",
              "      <th>2</th>\n",
              "      <td>3</td>\n",
              "      <td>Soil</td>\n",
              "      <td>5</td>\n",
              "      <td>2</td>\n",
              "      <td>4</td>\n",
              "      <td>9</td>\n",
              "      <td>0</td>\n",
              "      <td>1</td>\n",
              "      <td>Null</td>\n",
              "      <td>2</td>\n",
              "      <td>3</td>\n",
              "      <td>0</td>\n",
              "      <td>0</td>\n",
              "    </tr>\n",
              "    <tr>\n",
              "      <th>3</th>\n",
              "      <td>1</td>\n",
              "      <td>Soil</td>\n",
              "      <td>5</td>\n",
              "      <td>0</td>\n",
              "      <td>0</td>\n",
              "      <td>0</td>\n",
              "      <td>4</td>\n",
              "      <td>7</td>\n",
              "      <td>8</td>\n",
              "      <td>2</td>\n",
              "      <td>1</td>\n",
              "      <td>3</td>\n",
              "      <td>4</td>\n",
              "    </tr>\n",
              "    <tr>\n",
              "      <th>4</th>\n",
              "      <td>2</td>\n",
              "      <td>Soil</td>\n",
              "      <td>4</td>\n",
              "      <td>0</td>\n",
              "      <td>0</td>\n",
              "      <td>0</td>\n",
              "      <td>Null</td>\n",
              "      <td>3</td>\n",
              "      <td>8</td>\n",
              "      <td>7</td>\n",
              "      <td>2</td>\n",
              "      <td>2</td>\n",
              "      <td>1</td>\n",
              "    </tr>\n",
              "    <tr>\n",
              "      <th>5</th>\n",
              "      <td>1</td>\n",
              "      <td>Soil</td>\n",
              "      <td>5</td>\n",
              "      <td>0</td>\n",
              "      <td>Null</td>\n",
              "      <td>0</td>\n",
              "      <td>4</td>\n",
              "      <td>7</td>\n",
              "      <td>8</td>\n",
              "      <td>2</td>\n",
              "      <td>1</td>\n",
              "      <td>3</td>\n",
              "      <td>4</td>\n",
              "    </tr>\n",
              "  </tbody>\n",
              "</table>\n",
              "</div>"
            ],
            "text/plain": [
              "   ID Method  a1  a2    a3  a4    a5  a6    a7  a8  a9  a10  a11\n",
              "0   1   Soil   2   3     4   5     0   3  Null   4   8    0    0\n",
              "1   2   Soil   6   9     2   7     0   4     3   4   4    0    0\n",
              "2   3   Soil   5   2     4   9     0   1  Null   2   3    0    0\n",
              "3   1   Soil   5   0     0   0     4   7     8   2   1    3    4\n",
              "4   2   Soil   4   0     0   0  Null   3     8   7   2    2    1\n",
              "5   1   Soil   5   0  Null   0     4   7     8   2   1    3    4"
            ]
          },
          "metadata": {
            "tags": []
          },
          "execution_count": 19
        }
      ]
    },
    {
      "cell_type": "code",
      "metadata": {
        "id": "h2sSCG3h6DYD",
        "colab_type": "code",
        "outputId": "334d77e1-a5b2-4fbe-cfba-2e2ff1e0671e",
        "colab": {
          "base_uri": "https://localhost:8080/",
          "height": 235
        }
      },
      "source": [
        "df6 = pd.read_csv('https://raw.githubusercontent.com/Levytan/MIS.2019/master/Data/sample_data_4.csv', na_values = 'Null')\n",
        "df6"
      ],
      "execution_count": 0,
      "outputs": [
        {
          "output_type": "execute_result",
          "data": {
            "text/html": [
              "<div>\n",
              "<style scoped>\n",
              "    .dataframe tbody tr th:only-of-type {\n",
              "        vertical-align: middle;\n",
              "    }\n",
              "\n",
              "    .dataframe tbody tr th {\n",
              "        vertical-align: top;\n",
              "    }\n",
              "\n",
              "    .dataframe thead th {\n",
              "        text-align: right;\n",
              "    }\n",
              "</style>\n",
              "<table border=\"1\" class=\"dataframe\">\n",
              "  <thead>\n",
              "    <tr style=\"text-align: right;\">\n",
              "      <th></th>\n",
              "      <th>ID</th>\n",
              "      <th>Method</th>\n",
              "      <th>a1</th>\n",
              "      <th>a2</th>\n",
              "      <th>a3</th>\n",
              "      <th>a4</th>\n",
              "      <th>a5</th>\n",
              "      <th>a6</th>\n",
              "      <th>a7</th>\n",
              "      <th>a8</th>\n",
              "      <th>a9</th>\n",
              "      <th>a10</th>\n",
              "      <th>a11</th>\n",
              "    </tr>\n",
              "  </thead>\n",
              "  <tbody>\n",
              "    <tr>\n",
              "      <th>0</th>\n",
              "      <td>1</td>\n",
              "      <td>Soil</td>\n",
              "      <td>2</td>\n",
              "      <td>3</td>\n",
              "      <td>4.0</td>\n",
              "      <td>5</td>\n",
              "      <td>0.0</td>\n",
              "      <td>3</td>\n",
              "      <td>NaN</td>\n",
              "      <td>4</td>\n",
              "      <td>8</td>\n",
              "      <td>0</td>\n",
              "      <td>0</td>\n",
              "    </tr>\n",
              "    <tr>\n",
              "      <th>1</th>\n",
              "      <td>2</td>\n",
              "      <td>Soil</td>\n",
              "      <td>6</td>\n",
              "      <td>9</td>\n",
              "      <td>2.0</td>\n",
              "      <td>7</td>\n",
              "      <td>0.0</td>\n",
              "      <td>4</td>\n",
              "      <td>3.0</td>\n",
              "      <td>4</td>\n",
              "      <td>4</td>\n",
              "      <td>0</td>\n",
              "      <td>0</td>\n",
              "    </tr>\n",
              "    <tr>\n",
              "      <th>2</th>\n",
              "      <td>3</td>\n",
              "      <td>Soil</td>\n",
              "      <td>5</td>\n",
              "      <td>2</td>\n",
              "      <td>4.0</td>\n",
              "      <td>9</td>\n",
              "      <td>0.0</td>\n",
              "      <td>1</td>\n",
              "      <td>NaN</td>\n",
              "      <td>2</td>\n",
              "      <td>3</td>\n",
              "      <td>0</td>\n",
              "      <td>0</td>\n",
              "    </tr>\n",
              "    <tr>\n",
              "      <th>3</th>\n",
              "      <td>1</td>\n",
              "      <td>Soil</td>\n",
              "      <td>5</td>\n",
              "      <td>0</td>\n",
              "      <td>0.0</td>\n",
              "      <td>0</td>\n",
              "      <td>4.0</td>\n",
              "      <td>7</td>\n",
              "      <td>8.0</td>\n",
              "      <td>2</td>\n",
              "      <td>1</td>\n",
              "      <td>3</td>\n",
              "      <td>4</td>\n",
              "    </tr>\n",
              "    <tr>\n",
              "      <th>4</th>\n",
              "      <td>2</td>\n",
              "      <td>Soil</td>\n",
              "      <td>4</td>\n",
              "      <td>0</td>\n",
              "      <td>0.0</td>\n",
              "      <td>0</td>\n",
              "      <td>NaN</td>\n",
              "      <td>3</td>\n",
              "      <td>8.0</td>\n",
              "      <td>7</td>\n",
              "      <td>2</td>\n",
              "      <td>2</td>\n",
              "      <td>1</td>\n",
              "    </tr>\n",
              "    <tr>\n",
              "      <th>5</th>\n",
              "      <td>1</td>\n",
              "      <td>Soil</td>\n",
              "      <td>5</td>\n",
              "      <td>0</td>\n",
              "      <td>NaN</td>\n",
              "      <td>0</td>\n",
              "      <td>4.0</td>\n",
              "      <td>7</td>\n",
              "      <td>8.0</td>\n",
              "      <td>2</td>\n",
              "      <td>1</td>\n",
              "      <td>3</td>\n",
              "      <td>4</td>\n",
              "    </tr>\n",
              "  </tbody>\n",
              "</table>\n",
              "</div>"
            ],
            "text/plain": [
              "   ID Method  a1  a2   a3  a4   a5  a6   a7  a8  a9  a10  a11\n",
              "0   1   Soil   2   3  4.0   5  0.0   3  NaN   4   8    0    0\n",
              "1   2   Soil   6   9  2.0   7  0.0   4  3.0   4   4    0    0\n",
              "2   3   Soil   5   2  4.0   9  0.0   1  NaN   2   3    0    0\n",
              "3   1   Soil   5   0  0.0   0  4.0   7  8.0   2   1    3    4\n",
              "4   2   Soil   4   0  0.0   0  NaN   3  8.0   7   2    2    1\n",
              "5   1   Soil   5   0  NaN   0  4.0   7  8.0   2   1    3    4"
            ]
          },
          "metadata": {
            "tags": []
          },
          "execution_count": 21
        }
      ]
    },
    {
      "cell_type": "markdown",
      "metadata": {
        "id": "fNrbffLi6V44",
        "colab_type": "text"
      },
      "source": [
        "Bạn có thể đọc về các tham số khác của `pandas.read_csv()` tại [đây](https://pandas.pydata.org/pandas-docs/stable/reference/api/pandas.read_csv.html)."
      ]
    }
  ]
}