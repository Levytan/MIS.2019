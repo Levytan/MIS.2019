{
 "cells": [
  {
   "cell_type": "markdown",
   "metadata": {
    "slideshow": {
     "slide_type": "slide"
    }
   },
   "source": [
    "# Các đối tượng cơ bản trong pandas"
   ]
  },
  {
   "cell_type": "markdown",
   "metadata": {
    "slideshow": {
     "slide_type": "slide"
    }
   },
   "source": [
    "## Giới thiệu"
   ]
  },
  {
   "cell_type": "markdown",
   "metadata": {
    "slideshow": {
     "slide_type": "subslide"
    }
   },
   "source": [
    "Nếu các bạn đã từng làm việc với mảng 1 chiều và 2 chiều trong thư viện `numpy`, thì các đối tượng `pandas.Series` và `pandas.DataFrame` có thể xem như là các phiên bản nâng cấp của mảng 1 chiều và 2 chiều."
   ]
  },
  {
   "cell_type": "markdown",
   "metadata": {
    "slideshow": {
     "slide_type": "slide"
    }
   },
   "source": [
    "Để bắt đầu bài học, chúng ta sẽ import những thư viện cần thiết"
   ]
  },
  {
   "cell_type": "code",
   "execution_count": 1,
   "metadata": {
    "slideshow": {
     "slide_type": "fragment"
    }
   },
   "outputs": [],
   "source": [
    "import numpy as np\n",
    "import pandas as pd"
   ]
  },
  {
   "cell_type": "markdown",
   "metadata": {
    "slideshow": {
     "slide_type": "slide"
    }
   },
   "source": [
    "## Đối tượng `pandas.Series`"
   ]
  },
  {
   "cell_type": "markdown",
   "metadata": {
    "slideshow": {
     "slide_type": "slide"
    }
   },
   "source": [
    "`pandas.Series` là mảng 1 chiều **có gắn nhãn**, bạn có thể tạo ra một `pandas.Series` từ một `list` như sau:"
   ]
  },
  {
   "cell_type": "code",
   "execution_count": 12,
   "metadata": {
    "slideshow": {
     "slide_type": "fragment"
    }
   },
   "outputs": [
    {
     "data": {
      "text/plain": [
       "0    0.25\n",
       "1    0.50\n",
       "2    0.75\n",
       "3    1.00\n",
       "dtype: float64"
      ]
     },
     "execution_count": 12,
     "metadata": {},
     "output_type": "execute_result"
    }
   ],
   "source": [
    "test_data = [0.25, 0.5, 0.75, 1.0]\n",
    "s = pd.Series(test_data)\n",
    "print(s)"
   ]
  },
  {
   "cell_type": "markdown",
   "metadata": {
    "slideshow": {
     "slide_type": "slide"
    }
   },
   "source": [
    "Để thấy sự khác nhau giữa `pandas.Series` và `ndarray`, chúng ta tạo ra một `ndarray` tương ứng từ list `data`"
   ]
  },
  {
   "cell_type": "code",
   "execution_count": 14,
   "metadata": {
    "slideshow": {
     "slide_type": "fragment"
    }
   },
   "outputs": [
    {
     "data": {
      "text/plain": [
       "array([0.25, 0.5 , 0.75, 1.  ])"
      ]
     },
     "execution_count": 14,
     "metadata": {},
     "output_type": "execute_result"
    }
   ],
   "source": [
    "a = np.array(test_data)\n",
    "print(a)"
   ]
  },
  {
   "cell_type": "markdown",
   "metadata": {
    "slideshow": {
     "slide_type": "slide"
    }
   },
   "source": [
    "Như các bạn có thể thấy, trong `pandas.Series` ngoài các giá trị có trong list `data` thì nó có 2 thuộc tính khác :\n",
    "* Một thuộc tính giá trị [0, 1, 2, 3] : đây được gọi là nhãn (label) của `pandas.Series` s.\n",
    "* Một thuộc tính là `dtype` : đây là kiểu dữ liệu của các phần tử trong `pandas.Series` s. "
   ]
  },
  {
   "cell_type": "markdown",
   "metadata": {
    "slideshow": {
     "slide_type": "subslide"
    }
   },
   "source": [
    "Bạn có thể truy xuất các thuộc tính này bằng các câu lệnh tương ứng sau :"
   ]
  },
  {
   "cell_type": "code",
   "execution_count": 36,
   "metadata": {
    "slideshow": {
     "slide_type": "fragment"
    }
   },
   "outputs": [
    {
     "name": "stdout",
     "output_type": "stream",
     "text": [
      "s' values :  [0.25 0.5  0.75 1.  ]\n",
      "s' label :  [RangeIndex(start=0, stop=4, step=1)]\n",
      "s' dtype :  float64\n"
     ]
    }
   ],
   "source": [
    "print(\"s' values : \", s.values)  # Các phần tử trong Series\n",
    "print(\"s' label : \", s.axes)     # Nhãn của Series\n",
    "print(\"s' dtype : \", s.dtype)    # Kiểu dữ liệu của các phần tử trong Series"
   ]
  },
  {
   "cell_type": "markdown",
   "metadata": {
    "slideshow": {
     "slide_type": "slide"
    }
   },
   "source": [
    "Nhưng nếu chỉ có như vậy thì cũng không có gì khác biệt so với `ndarray` 1 chiều? "
   ]
  },
  {
   "cell_type": "markdown",
   "metadata": {
    "slideshow": {
     "slide_type": "subslide"
    }
   },
   "source": [
    "Câu trả lời chính là bạn có thể thay đổi `label` của một Series theo cách như sau :"
   ]
  },
  {
   "cell_type": "code",
   "execution_count": 19,
   "metadata": {
    "slideshow": {
     "slide_type": "fragment"
    }
   },
   "outputs": [
    {
     "name": "stdout",
     "output_type": "stream",
     "text": [
      "101    0.25\n",
      "102    0.50\n",
      "103    0.75\n",
      "104    1.00\n",
      "dtype: float64\n"
     ]
    }
   ],
   "source": [
    "s_new = pd.Series(data = test_data, index = [101, 102, 103, 104])\n",
    "print(s_new)"
   ]
  },
  {
   "cell_type": "markdown",
   "metadata": {
    "slideshow": {
     "slide_type": "subslide"
    }
   },
   "source": [
    "Ta-da!🤗 Thế là chúng ta có `label` khác rồi!😀"
   ]
  },
  {
   "cell_type": "markdown",
   "metadata": {
    "slideshow": {
     "slide_type": "slide"
    }
   },
   "source": [
    "Cuối cùng, chúng ta phương thức khởi tạo `pandas.Series` như sau :"
   ]
  },
  {
   "cell_type": "code",
   "execution_count": null,
   "metadata": {
    "slideshow": {
     "slide_type": "subslide"
    }
   },
   "outputs": [],
   "source": [
    "pd.Series(\n",
    "    data,     # Có thể là array, list, dictionary hoặc giá trị vô hướng\n",
    "    index,    # Tuỳ chọn, nếu có thì giá trị trong index phải duy nhất và số lượng phải bằng số phần tử của data\n",
    "    dtype,    # Kiểu dữ liệu (tuỳ chọn)\n",
    "    copy      # True hoặc False. Tạo bản copy (tuỳ chọn). Giá trị mặc định là False\n",
    ")"
   ]
  },
  {
   "cell_type": "markdown",
   "metadata": {
    "slideshow": {
     "slide_type": "slide"
    }
   },
   "source": [
    "Ví dụ :"
   ]
  },
  {
   "cell_type": "code",
   "execution_count": 20,
   "metadata": {
    "slideshow": {
     "slide_type": "subslide"
    }
   },
   "outputs": [
    {
     "name": "stdout",
     "output_type": "stream",
     "text": [
      "0     0\n",
      "1     1\n",
      "2     4\n",
      "3     9\n",
      "4    16\n",
      "dtype: int32\n"
     ]
    }
   ],
   "source": [
    "# Tạo Series từ một ndarray 1 chiều\n",
    "# Tạo ndarray 1 chiều\n",
    "a1 = np.array([_*_ for _ in range(5)])\n",
    "# Tạo Series, nếu không có giá trị cho index thì nó sẽ tự động sinh ra\n",
    "s1 = pd.Series(a1)\n",
    "print(s1)"
   ]
  },
  {
   "cell_type": "code",
   "execution_count": 22,
   "metadata": {
    "slideshow": {
     "slide_type": "subslide"
    }
   },
   "outputs": [
    {
     "name": "stdout",
     "output_type": "stream",
     "text": [
      "UK         Pound\n",
      "USA    US Dollar\n",
      "dtype: object\n"
     ]
    }
   ],
   "source": [
    "# Tạo Series từ dictionary\n",
    "# Tạo dictionary\n",
    "d = {\n",
    "    \"UK\" : \"Pound\",\n",
    "    \"USA\" : \"US Dollar\"\n",
    "}\n",
    "# Tạo Series, lúc này label sẽ là key của dictionary (nếu không chỉ ra index)\n",
    "s2 = pd.Series(d)\n",
    "print(s2)"
   ]
  },
  {
   "cell_type": "code",
   "execution_count": 24,
   "metadata": {
    "slideshow": {
     "slide_type": "subslide"
    }
   },
   "outputs": [
    {
     "name": "stdout",
     "output_type": "stream",
     "text": [
      "a    chihuahua\n",
      "b    chihuahua\n",
      "c    chihuahua\n",
      "dtype: object\n"
     ]
    }
   ],
   "source": [
    "# Tạo Series từ 1 giá trị vô hướng\n",
    "s3 = pd.Series('chihuahua', index = ['a', 'b', 'c'])\n",
    "print(s3)"
   ]
  },
  {
   "cell_type": "markdown",
   "metadata": {
    "slideshow": {
     "slide_type": "slide"
    }
   },
   "source": [
    "## Các thao tác trên `pandas.Series`"
   ]
  },
  {
   "cell_type": "markdown",
   "metadata": {
    "slideshow": {
     "slide_type": "slide"
    }
   },
   "source": [
    "### Truy xuất phần tử từ `pandas.Series`"
   ]
  },
  {
   "cell_type": "markdown",
   "metadata": {
    "slideshow": {
     "slide_type": "slide"
    }
   },
   "source": [
    "Chúng ta có thể truy xuất đến một (hoặc nhiều) phần tử của một `pandas.Series` bằng `label` hoặc thứ tự tương ứng của một (hoặc nhiều) phần tử đó. Ví dụ :"
   ]
  },
  {
   "cell_type": "code",
   "execution_count": 26,
   "metadata": {
    "slideshow": {
     "slide_type": "subslide"
    }
   },
   "outputs": [
    {
     "name": "stdout",
     "output_type": "stream",
     "text": [
      "a    1\n",
      "b    2\n",
      "c    3\n",
      "d    4\n",
      "e    5\n",
      "dtype: int64\n"
     ]
    }
   ],
   "source": [
    "# Tạo Series \n",
    "s4 = pd.Series([1, 2, 3, 4, 5], index = ['a', 'b', 'c', 'd', 'e'])\n",
    "print(s4)"
   ]
  },
  {
   "cell_type": "code",
   "execution_count": 27,
   "metadata": {
    "slideshow": {
     "slide_type": "subslide"
    }
   },
   "outputs": [
    {
     "name": "stdout",
     "output_type": "stream",
     "text": [
      "Cách 1 :  1\n",
      "Cách 2 :  1\n"
     ]
    }
   ],
   "source": [
    "# Lấy phần tử đầu tiên\n",
    "print('Cách 1 : ', s4[0])\n",
    "print('Cách 2 : ', s4['a'])"
   ]
  },
  {
   "cell_type": "code",
   "execution_count": 30,
   "metadata": {
    "slideshow": {
     "slide_type": "subslide"
    }
   },
   "outputs": [
    {
     "name": "stdout",
     "output_type": "stream",
     "text": [
      "Từ đầu đến cận 2 :\n",
      "a    1\n",
      "b    2\n",
      "dtype: int64\n"
     ]
    }
   ],
   "source": [
    "# Lấy các phần tử đầu đến cận 2\n",
    "print('Từ đầu đến cận 2 :')\n",
    "print(s4[:2])"
   ]
  },
  {
   "cell_type": "code",
   "execution_count": 31,
   "metadata": {
    "slideshow": {
     "slide_type": "subslide"
    }
   },
   "outputs": [
    {
     "name": "stdout",
     "output_type": "stream",
     "text": [
      "Từ vị trí 1 đến vị trí 3:\n",
      "b    2\n",
      "c    3\n",
      "d    4\n",
      "dtype: int64\n"
     ]
    }
   ],
   "source": [
    "# Lấy các phần tử từ vị trí 1 đến vị trí 3\n",
    "print('Từ vị trí 1 đến vị trí 3:')\n",
    "print(s4[1:4])"
   ]
  },
  {
   "cell_type": "code",
   "execution_count": 32,
   "metadata": {
    "scrolled": true,
    "slideshow": {
     "slide_type": "subslide"
    }
   },
   "outputs": [
    {
     "name": "stdout",
     "output_type": "stream",
     "text": [
      "Các phần tử có label 'a', 'c' : \n",
      "a    1\n",
      "c    3\n",
      "dtype: int64\n"
     ]
    }
   ],
   "source": [
    "# Lấy các phần tử theo label\n",
    "print(\"Các phần tử có label 'a', 'c' : \")\n",
    "print(s4[['a', 'c']])"
   ]
  },
  {
   "cell_type": "markdown",
   "metadata": {
    "slideshow": {
     "slide_type": "slide"
    }
   },
   "source": [
    "Ngoài ra, chúng ta còn có hai phương thức là `.head(n)` và `.tail(n)` để lấy ra `n` phần tử ở đầu và cuối của `pandas.Series`"
   ]
  },
  {
   "cell_type": "code",
   "execution_count": 49,
   "metadata": {
    "slideshow": {
     "slide_type": "subslide"
    }
   },
   "outputs": [
    {
     "name": "stdout",
     "output_type": "stream",
     "text": [
      "Hai phần tử đầu :\n",
      "a    1\n",
      "b    2\n",
      "dtype: int64\n",
      "Hai phần tử ở cuối :\n",
      "d    4\n",
      "e    5\n",
      "dtype: int64\n"
     ]
    }
   ],
   "source": [
    "# Lấy ra 2 phần tử đầu\n",
    "print('Hai phần tử đầu :')\n",
    "print(s4.head(2))\n",
    "# Lấy ra 2 phần tử cuối\n",
    "print('Hai phần tử ở cuối :')\n",
    "print(s4.tail(2))"
   ]
  },
  {
   "cell_type": "markdown",
   "metadata": {
    "slideshow": {
     "slide_type": "slide"
    }
   },
   "source": [
    "**Câu hỏi** : Cho s là một `pandas.Series`, `s.head()` và `s.tail()` sẽ trả về cái gì?"
   ]
  },
  {
   "cell_type": "markdown",
   "metadata": {
    "slideshow": {
     "slide_type": "slide"
    }
   },
   "source": [
    "### Cập nhật phần tử `pandas.Series`"
   ]
  },
  {
   "cell_type": "markdown",
   "metadata": {
    "slideshow": {
     "slide_type": "slide"
    }
   },
   "source": [
    "Để cập nhật một (hoặc nhiều) phần tử, bạn chỉ cần gọi phần tử bạn muốn rồi gán giá trị mới cho nó."
   ]
  },
  {
   "cell_type": "code",
   "execution_count": 33,
   "metadata": {
    "slideshow": {
     "slide_type": "subslide"
    }
   },
   "outputs": [
    {
     "name": "stdout",
     "output_type": "stream",
     "text": [
      "Trước : \n",
      "a    1\n",
      "b    2\n",
      "c    3\n",
      "dtype: int64\n",
      "Sau : \n",
      "a      1\n",
      "b    100\n",
      "c      3\n",
      "dtype: int64\n"
     ]
    }
   ],
   "source": [
    "# Tạo Series\n",
    "s5 = pd.Series([1, 2, 3], index = ['a', 'b', 'c'])\n",
    "print('Trước : ')\n",
    "print(s5)\n",
    "# Gán giá trị mới cho phần tử có label là 'b'\n",
    "s5['b'] = 100\n",
    "print('Sau : ')\n",
    "print(s5)"
   ]
  },
  {
   "cell_type": "markdown",
   "metadata": {
    "slideshow": {
     "slide_type": "slide"
    }
   },
   "source": [
    "### Thêm bớt phần tử vào `pandas.Series`"
   ]
  },
  {
   "cell_type": "markdown",
   "metadata": {
    "slideshow": {
     "slide_type": "slide"
    }
   },
   "source": [
    "Để thêm **1** phần tử mới vào `pandas.Series`, bạn có thể thực hiện như sau :"
   ]
  },
  {
   "cell_type": "code",
   "execution_count": 59,
   "metadata": {
    "slideshow": {
     "slide_type": "subslide"
    }
   },
   "outputs": [
    {
     "name": "stdout",
     "output_type": "stream",
     "text": [
      "Trước : \n",
      "a    1\n",
      "b    2\n",
      "c    3\n",
      "d    4\n",
      "dtype: int64\n",
      "Sau : \n",
      "a      1\n",
      "b      2\n",
      "c      3\n",
      "d      4\n",
      "g    100\n",
      "dtype: int64\n"
     ]
    }
   ],
   "source": [
    "# Tạo Series\n",
    "s6 = pd.Series([1, 2, 3, 4], index = ['a', 'b', 'c', 'd'])\n",
    "print('Trước : ')\n",
    "print(s6)\n",
    "# Thêm một phần tử mới có giá trị là 100 và label là 'g'\n",
    "s6['g'] = 100\n",
    "print('Sau : ')\n",
    "print(s6)"
   ]
  },
  {
   "cell_type": "markdown",
   "metadata": {
    "slideshow": {
     "slide_type": "slide"
    }
   },
   "source": [
    "Để xoá **1** phần tử có sẵn trong `pandas.Series`, bạn có thể thực hiện theo cách sau :"
   ]
  },
  {
   "cell_type": "code",
   "execution_count": 60,
   "metadata": {
    "slideshow": {
     "slide_type": "subslide"
    }
   },
   "outputs": [
    {
     "name": "stdout",
     "output_type": "stream",
     "text": [
      "Trước khi xoá : \n",
      "a      1\n",
      "b      2\n",
      "c      3\n",
      "d      4\n",
      "g    100\n",
      "dtype: int64\n",
      "Sau khi xoá phần tử có label 'a' : \n",
      "b      2\n",
      "c      3\n",
      "d      4\n",
      "g    100\n",
      "dtype: int64\n"
     ]
    }
   ],
   "source": [
    "# Chúng ta sẽ dùng lại Series s6 ở trên\n",
    "print('Trước khi xoá : ')\n",
    "print(s6)\n",
    "# Xoá phần tử có label là 'a'\n",
    "s6 = s6.drop(['a'])\n",
    "print(\"Sau khi xoá phần tử có label 'a' : \")\n",
    "print(s6)"
   ]
  },
  {
   "cell_type": "markdown",
   "metadata": {
    "slideshow": {
     "slide_type": "slide"
    }
   },
   "source": [
    "**Câu hỏi**:\n",
    "1. Trên đây là hướng dẫn thêm/xoá 1 phần tử, vậy bạn có thể thêm/xoá nhiều phần tử hay không? Nếu có thể, trình bày cách làm.\n",
    "2. Giả sử một `pandas.Series` có tên là s có label là ['a', 'b', 'c', 'd']. Điều gì sẽ xảy ra nếu bạn thực thi câu lệnh : \n",
    "```\n",
    "s[1] = some_value\n",
    "```"
   ]
  },
  {
   "cell_type": "markdown",
   "metadata": {
    "slideshow": {
     "slide_type": "slide"
    }
   },
   "source": [
    "### Truy xuất một số thông tin về một `pandas.Series` bất kỳ"
   ]
  },
  {
   "cell_type": "markdown",
   "metadata": {
    "slideshow": {
     "slide_type": "slide"
    }
   },
   "source": [
    "Ngoài các thuộc tính `.values`, `.axes` và `.dtype` như đề cập ở trên, một `pandas.Series` còn có nhiều thuộc tính khác, như :"
   ]
  },
  {
   "cell_type": "code",
   "execution_count": 41,
   "metadata": {
    "scrolled": true,
    "slideshow": {
     "slide_type": "subslide"
    }
   },
   "outputs": [
    {
     "name": "stdout",
     "output_type": "stream",
     "text": [
      "Size :  1\n",
      "Number of dimensions :  1\n",
      "Is Empty :  False\n"
     ]
    }
   ],
   "source": [
    "# Tạo Series\n",
    "s6 = pd.Series(np.random.randint(5))\n",
    "# Lấy kích thước của Series\n",
    "print('Size : ', s6.size)\n",
    "# Lấy số chiều của Series\n",
    "print('Number of dimensions : ', s6.ndim)\n",
    "# Kiểm tra Series có phải rỗng\n",
    "print('Is Empty : ', s6.empty)"
   ]
  },
  {
   "cell_type": "markdown",
   "metadata": {
    "slideshow": {
     "slide_type": "slide"
    }
   },
   "source": [
    "### Một số phương thức thống kê"
   ]
  },
  {
   "cell_type": "markdown",
   "metadata": {
    "slideshow": {
     "slide_type": "slide"
    }
   },
   "source": [
    "Cho một `pandas.Series` tên s. Chúng ta có các phương thức thống kê như sau :\n",
    "1. `s.count()` : trả về số lượng các phần tử khác NaN (Not a Number, một giá trị đặc biệt của python)\n",
    "2. `s.sum()` : trả về tổng các phần tử\n",
    "3. `s.mean()` : trả về trung bình các phần tử\n",
    "4. `s.median()` : trả về trung vị\n",
    "5. `s.mode()` : trả về mốt (phần tử xuất hiện nhiều lần nhất)\n",
    "6. `s.std()` : trả về độ lệch chuẩn\n",
    "7. `s.min()` : trả về giá trị nhỏ nhất\n",
    "8. `s.max()` : trả về giá trị lớn nhất\n",
    "9. `s.abs()` : trả về giá trị tuyệt đối\n",
    "10. `s.cumsum()` : trả về tổng tích luỹ\n",
    "11. `s.describe()` : trả về thống kê mô tả"
   ]
  }
 ],
 "metadata": {
  "celltoolbar": "Slideshow",
  "kernelspec": {
   "display_name": "Python 3",
   "language": "python",
   "name": "python3"
  },
  "language_info": {
   "codemirror_mode": {
    "name": "ipython",
    "version": 3
   },
   "file_extension": ".py",
   "mimetype": "text/x-python",
   "name": "python",
   "nbconvert_exporter": "python",
   "pygments_lexer": "ipython3",
   "version": "3.7.2"
  }
 },
 "nbformat": 4,
 "nbformat_minor": 2
}
