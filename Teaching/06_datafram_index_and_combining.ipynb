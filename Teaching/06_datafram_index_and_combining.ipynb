{
 "cells": [
  {
   "cell_type": "markdown",
   "metadata": {
    "colab_type": "text",
    "id": "VAzTK_rwBYTm",
    "slideshow": {
     "slide_type": "slide"
    }
   },
   "source": [
    "# Một số thao tác trên Index\n",
    " "
   ]
  },
  {
   "cell_type": "code",
   "execution_count": 1,
   "metadata": {
    "colab": {},
    "colab_type": "code",
    "id": "fLzaOY7lL9Pg",
    "slideshow": {
     "slide_type": "subslide"
    }
   },
   "outputs": [],
   "source": [
    "# Như bài trước, chúng ta sẽ dùng các DataFrame sau\n",
    "import numpy as np\n",
    "import pandas as pd\n",
    "\n",
    "date = np.datetime64('2019-11-25', 'D') + np.random.randint(-100, 100, size = 100)\n",
    "product = np.random.choice(['Apple', 'Banana', 'Cherry'], size = 100)\n",
    "quantity = np.random.randint(100, size = 100)\n",
    "\n",
    "df1 = pd.DataFrame({'Date' : date, 'Product' : product, 'Quantity' : quantity})\n",
    "df2 = pd.DataFrame([['Apple', 10], ['Banana', 15], ['Cherry', 20]], columns = ['Product', 'Price'])"
   ]
  },
  {
   "cell_type": "code",
   "execution_count": 2,
   "metadata": {
    "colab": {
     "base_uri": "https://localhost:8080/",
     "height": 204
    },
    "colab_type": "code",
    "id": "CPXZ-kKFMJ1D",
    "outputId": "161542c9-7190-4280-cecd-962b7d5a7508",
    "slideshow": {
     "slide_type": "subslide"
    }
   },
   "outputs": [
    {
     "data": {
      "text/html": [
       "<div>\n",
       "<style scoped>\n",
       "    .dataframe tbody tr th:only-of-type {\n",
       "        vertical-align: middle;\n",
       "    }\n",
       "\n",
       "    .dataframe tbody tr th {\n",
       "        vertical-align: top;\n",
       "    }\n",
       "\n",
       "    .dataframe thead th {\n",
       "        text-align: right;\n",
       "    }\n",
       "</style>\n",
       "<table border=\"1\" class=\"dataframe\">\n",
       "  <thead>\n",
       "    <tr style=\"text-align: right;\">\n",
       "      <th></th>\n",
       "      <th>Date</th>\n",
       "      <th>Product</th>\n",
       "      <th>Quantity</th>\n",
       "    </tr>\n",
       "  </thead>\n",
       "  <tbody>\n",
       "    <tr>\n",
       "      <th>0</th>\n",
       "      <td>2019-10-17</td>\n",
       "      <td>Cherry</td>\n",
       "      <td>38</td>\n",
       "    </tr>\n",
       "    <tr>\n",
       "      <th>1</th>\n",
       "      <td>2020-01-13</td>\n",
       "      <td>Cherry</td>\n",
       "      <td>47</td>\n",
       "    </tr>\n",
       "    <tr>\n",
       "      <th>2</th>\n",
       "      <td>2019-09-27</td>\n",
       "      <td>Banana</td>\n",
       "      <td>30</td>\n",
       "    </tr>\n",
       "    <tr>\n",
       "      <th>3</th>\n",
       "      <td>2019-11-24</td>\n",
       "      <td>Apple</td>\n",
       "      <td>74</td>\n",
       "    </tr>\n",
       "    <tr>\n",
       "      <th>4</th>\n",
       "      <td>2019-11-07</td>\n",
       "      <td>Banana</td>\n",
       "      <td>48</td>\n",
       "    </tr>\n",
       "  </tbody>\n",
       "</table>\n",
       "</div>"
      ],
      "text/plain": [
       "        Date Product  Quantity\n",
       "0 2019-10-17  Cherry        38\n",
       "1 2020-01-13  Cherry        47\n",
       "2 2019-09-27  Banana        30\n",
       "3 2019-11-24   Apple        74\n",
       "4 2019-11-07  Banana        48"
      ]
     },
     "execution_count": 2,
     "metadata": {},
     "output_type": "execute_result"
    }
   ],
   "source": [
    "df1.head()"
   ]
  },
  {
   "cell_type": "code",
   "execution_count": 3,
   "metadata": {
    "colab": {
     "base_uri": "https://localhost:8080/",
     "height": 142
    },
    "colab_type": "code",
    "id": "5A99DrdUMMwm",
    "outputId": "4ca8b932-5abd-4959-a3f8-66be1cd81a5e",
    "slideshow": {
     "slide_type": "subslide"
    }
   },
   "outputs": [
    {
     "data": {
      "text/html": [
       "<div>\n",
       "<style scoped>\n",
       "    .dataframe tbody tr th:only-of-type {\n",
       "        vertical-align: middle;\n",
       "    }\n",
       "\n",
       "    .dataframe tbody tr th {\n",
       "        vertical-align: top;\n",
       "    }\n",
       "\n",
       "    .dataframe thead th {\n",
       "        text-align: right;\n",
       "    }\n",
       "</style>\n",
       "<table border=\"1\" class=\"dataframe\">\n",
       "  <thead>\n",
       "    <tr style=\"text-align: right;\">\n",
       "      <th></th>\n",
       "      <th>Product</th>\n",
       "      <th>Price</th>\n",
       "    </tr>\n",
       "  </thead>\n",
       "  <tbody>\n",
       "    <tr>\n",
       "      <th>0</th>\n",
       "      <td>Apple</td>\n",
       "      <td>10</td>\n",
       "    </tr>\n",
       "    <tr>\n",
       "      <th>1</th>\n",
       "      <td>Banana</td>\n",
       "      <td>15</td>\n",
       "    </tr>\n",
       "    <tr>\n",
       "      <th>2</th>\n",
       "      <td>Cherry</td>\n",
       "      <td>20</td>\n",
       "    </tr>\n",
       "  </tbody>\n",
       "</table>\n",
       "</div>"
      ],
      "text/plain": [
       "  Product  Price\n",
       "0   Apple     10\n",
       "1  Banana     15\n",
       "2  Cherry     20"
      ]
     },
     "execution_count": 3,
     "metadata": {},
     "output_type": "execute_result"
    }
   ],
   "source": [
    "df2"
   ]
  },
  {
   "cell_type": "markdown",
   "metadata": {
    "colab_type": "text",
    "id": "fsJ4HabqF-Mz",
    "slideshow": {
     "slide_type": "slide"
    }
   },
   "source": [
    "## Thay đổi giá trị của index\n",
    "Nhắc lại, để thay đổi giá trị của `index`, bạn thực hiện như sau :\n",
    "```\n",
    "<tên_DataFrame>.index = <index_mới>\n",
    "```\n",
    "Trong đó, `index_mới` là một `list` có độ dài bằng với độ dài `index` ban đầu."
   ]
  },
  {
   "cell_type": "code",
   "execution_count": 4,
   "metadata": {
    "colab": {
     "base_uri": "https://localhost:8080/",
     "height": 142
    },
    "colab_type": "code",
    "id": "JA-PPkZBHmmL",
    "outputId": "ebb0f0e1-e937-4ea8-e601-6fa2bdafefcc",
    "slideshow": {
     "slide_type": "subslide"
    }
   },
   "outputs": [
    {
     "data": {
      "text/html": [
       "<div>\n",
       "<style scoped>\n",
       "    .dataframe tbody tr th:only-of-type {\n",
       "        vertical-align: middle;\n",
       "    }\n",
       "\n",
       "    .dataframe tbody tr th {\n",
       "        vertical-align: top;\n",
       "    }\n",
       "\n",
       "    .dataframe thead th {\n",
       "        text-align: right;\n",
       "    }\n",
       "</style>\n",
       "<table border=\"1\" class=\"dataframe\">\n",
       "  <thead>\n",
       "    <tr style=\"text-align: right;\">\n",
       "      <th></th>\n",
       "      <th>Product</th>\n",
       "      <th>Price</th>\n",
       "    </tr>\n",
       "  </thead>\n",
       "  <tbody>\n",
       "    <tr>\n",
       "      <th>1</th>\n",
       "      <td>Apple</td>\n",
       "      <td>10</td>\n",
       "    </tr>\n",
       "    <tr>\n",
       "      <th>2</th>\n",
       "      <td>Banana</td>\n",
       "      <td>15</td>\n",
       "    </tr>\n",
       "    <tr>\n",
       "      <th>3</th>\n",
       "      <td>Cherry</td>\n",
       "      <td>20</td>\n",
       "    </tr>\n",
       "  </tbody>\n",
       "</table>\n",
       "</div>"
      ],
      "text/plain": [
       "  Product  Price\n",
       "1   Apple     10\n",
       "2  Banana     15\n",
       "3  Cherry     20"
      ]
     },
     "execution_count": 4,
     "metadata": {},
     "output_type": "execute_result"
    }
   ],
   "source": [
    "df2.index = [1, 2, 3]\n",
    "df2"
   ]
  },
  {
   "cell_type": "markdown",
   "metadata": {
    "colab_type": "text",
    "id": "XSxCjfz6J3O1",
    "slideshow": {
     "slide_type": "subslide"
    }
   },
   "source": [
    "Lưu ý : khi sử dụng cách trên thì sẽ trực tiếp thay đổi `DataFrame` gốc ban đầu."
   ]
  },
  {
   "cell_type": "markdown",
   "metadata": {
    "colab_type": "text",
    "id": "5vjUTfXNKSGO",
    "slideshow": {
     "slide_type": "slide"
    }
   },
   "source": [
    "## Đặt tên cho `index`\n",
    "Để đặt tên cho `index`, bạn thực hiện như sau :\n",
    "```\n",
    "<tên_DataFrame>.index.name = <tên>\n",
    "```"
   ]
  },
  {
   "cell_type": "code",
   "execution_count": 5,
   "metadata": {
    "colab": {
     "base_uri": "https://localhost:8080/",
     "height": 173
    },
    "colab_type": "code",
    "id": "vyv_mANPH91L",
    "outputId": "2f810e5a-2b81-48fe-f8c6-e9baa2c719c2",
    "slideshow": {
     "slide_type": "subslide"
    }
   },
   "outputs": [
    {
     "data": {
      "text/html": [
       "<div>\n",
       "<style scoped>\n",
       "    .dataframe tbody tr th:only-of-type {\n",
       "        vertical-align: middle;\n",
       "    }\n",
       "\n",
       "    .dataframe tbody tr th {\n",
       "        vertical-align: top;\n",
       "    }\n",
       "\n",
       "    .dataframe thead th {\n",
       "        text-align: right;\n",
       "    }\n",
       "</style>\n",
       "<table border=\"1\" class=\"dataframe\">\n",
       "  <thead>\n",
       "    <tr style=\"text-align: right;\">\n",
       "      <th></th>\n",
       "      <th>Product</th>\n",
       "      <th>Price</th>\n",
       "    </tr>\n",
       "    <tr>\n",
       "      <th>No</th>\n",
       "      <th></th>\n",
       "      <th></th>\n",
       "    </tr>\n",
       "  </thead>\n",
       "  <tbody>\n",
       "    <tr>\n",
       "      <th>1</th>\n",
       "      <td>Apple</td>\n",
       "      <td>10</td>\n",
       "    </tr>\n",
       "    <tr>\n",
       "      <th>2</th>\n",
       "      <td>Banana</td>\n",
       "      <td>15</td>\n",
       "    </tr>\n",
       "    <tr>\n",
       "      <th>3</th>\n",
       "      <td>Cherry</td>\n",
       "      <td>20</td>\n",
       "    </tr>\n",
       "  </tbody>\n",
       "</table>\n",
       "</div>"
      ],
      "text/plain": [
       "   Product  Price\n",
       "No               \n",
       "1    Apple     10\n",
       "2   Banana     15\n",
       "3   Cherry     20"
      ]
     },
     "execution_count": 5,
     "metadata": {},
     "output_type": "execute_result"
    }
   ],
   "source": [
    "df2.index.name = 'No'\n",
    "df2"
   ]
  },
  {
   "cell_type": "markdown",
   "metadata": {
    "colab_type": "text",
    "id": "szMJEN2mKyWg",
    "slideshow": {
     "slide_type": "subslide"
    }
   },
   "source": [
    "**Câu hỏi** : Làm thế nào để xoá tên của `index`?"
   ]
  },
  {
   "cell_type": "markdown",
   "metadata": {
    "colab_type": "text",
    "id": "KX3RRSyOLAhn",
    "slideshow": {
     "slide_type": "slide"
    }
   },
   "source": [
    "## Đặt một cột làm index"
   ]
  },
  {
   "cell_type": "markdown",
   "metadata": {
    "colab_type": "text",
    "id": "Ay7tqVNuM81Y",
    "slideshow": {
     "slide_type": "subslide"
    }
   },
   "source": [
    "Đôi khi, thay vì sử dụng cột tự sinh ra khi tạo `DataFrame`, người ta muốn sử dụng một (hoặc nhiều cột) làm `index`. Để thực hiện việc này, người ta dùng phương thức `.set_index()` như sau :\n",
    "```\n",
    "<tên_DataFrame>.set_index(<tên_cột_làm_index>)\n",
    "```"
   ]
  },
  {
   "cell_type": "markdown",
   "metadata": {
    "colab_type": "text",
    "id": "9ShaStJVP57F",
    "slideshow": {
     "slide_type": "subslide"
    }
   },
   "source": [
    "Bạn hoàn toàn có thể truyền vào danh sách những cột trở thành `index`. Tuy nhiên, chúng ta sẽ không bàn đến trong môn học này.\n",
    "\n",
    "Nếu muốn tìm hiểu thêm, bạn có thể đọc về `pandas.MultiIndex` tại [đây](https://jakevdp.github.io/PythonDataScienceHandbook/03.05-hierarchical-indexing.html)."
   ]
  },
  {
   "cell_type": "code",
   "execution_count": 6,
   "metadata": {
    "colab": {
     "base_uri": "https://localhost:8080/",
     "height": 235
    },
    "colab_type": "code",
    "id": "Q7tQRB3sKvUz",
    "outputId": "4f00d84d-bc18-4de1-c1d9-987f9c364141",
    "slideshow": {
     "slide_type": "subslide"
    }
   },
   "outputs": [
    {
     "data": {
      "text/html": [
       "<div>\n",
       "<style scoped>\n",
       "    .dataframe tbody tr th:only-of-type {\n",
       "        vertical-align: middle;\n",
       "    }\n",
       "\n",
       "    .dataframe tbody tr th {\n",
       "        vertical-align: top;\n",
       "    }\n",
       "\n",
       "    .dataframe thead th {\n",
       "        text-align: right;\n",
       "    }\n",
       "</style>\n",
       "<table border=\"1\" class=\"dataframe\">\n",
       "  <thead>\n",
       "    <tr style=\"text-align: right;\">\n",
       "      <th></th>\n",
       "      <th>Product</th>\n",
       "      <th>Quantity</th>\n",
       "    </tr>\n",
       "    <tr>\n",
       "      <th>Date</th>\n",
       "      <th></th>\n",
       "      <th></th>\n",
       "    </tr>\n",
       "  </thead>\n",
       "  <tbody>\n",
       "    <tr>\n",
       "      <th>2019-10-17</th>\n",
       "      <td>Cherry</td>\n",
       "      <td>38</td>\n",
       "    </tr>\n",
       "    <tr>\n",
       "      <th>2020-01-13</th>\n",
       "      <td>Cherry</td>\n",
       "      <td>47</td>\n",
       "    </tr>\n",
       "    <tr>\n",
       "      <th>2019-09-27</th>\n",
       "      <td>Banana</td>\n",
       "      <td>30</td>\n",
       "    </tr>\n",
       "    <tr>\n",
       "      <th>2019-11-24</th>\n",
       "      <td>Apple</td>\n",
       "      <td>74</td>\n",
       "    </tr>\n",
       "    <tr>\n",
       "      <th>2019-11-07</th>\n",
       "      <td>Banana</td>\n",
       "      <td>48</td>\n",
       "    </tr>\n",
       "  </tbody>\n",
       "</table>\n",
       "</div>"
      ],
      "text/plain": [
       "           Product  Quantity\n",
       "Date                        \n",
       "2019-10-17  Cherry        38\n",
       "2020-01-13  Cherry        47\n",
       "2019-09-27  Banana        30\n",
       "2019-11-24   Apple        74\n",
       "2019-11-07  Banana        48"
      ]
     },
     "execution_count": 6,
     "metadata": {},
     "output_type": "execute_result"
    }
   ],
   "source": [
    "df3 = df1.set_index('Date')\n",
    "df3.head()"
   ]
  },
  {
   "cell_type": "markdown",
   "metadata": {
    "colab_type": "text",
    "id": "uH4wMQ5iYqYs",
    "slideshow": {
     "slide_type": "slide"
    }
   },
   "source": [
    "# Đặt lại `index`\n",
    "Đây là quá trình đánh số lại `index`, được thực hiện thông qua phương thức `.reset_index()` như sau :\n",
    "```\n",
    "<tên_DataFrame>.reset_index()\n",
    "```\n",
    "Nếu không muốn giữ lại `index` cũ, bạn thêm vào tham số `drop = True`."
   ]
  },
  {
   "cell_type": "code",
   "execution_count": 8,
   "metadata": {
    "colab": {
     "base_uri": "https://localhost:8080/",
     "height": 419
    },
    "colab_type": "code",
    "id": "g6lMnBX2ZnLR",
    "outputId": "cd44d0d8-6afd-448d-eab1-dc96da57712f",
    "slideshow": {
     "slide_type": "subslide"
    }
   },
   "outputs": [
    {
     "data": {
      "text/html": [
       "<div>\n",
       "<style scoped>\n",
       "    .dataframe tbody tr th:only-of-type {\n",
       "        vertical-align: middle;\n",
       "    }\n",
       "\n",
       "    .dataframe tbody tr th {\n",
       "        vertical-align: top;\n",
       "    }\n",
       "\n",
       "    .dataframe thead th {\n",
       "        text-align: right;\n",
       "    }\n",
       "</style>\n",
       "<table border=\"1\" class=\"dataframe\">\n",
       "  <thead>\n",
       "    <tr style=\"text-align: right;\">\n",
       "      <th></th>\n",
       "      <th>Date</th>\n",
       "      <th>Product</th>\n",
       "      <th>Quantity</th>\n",
       "    </tr>\n",
       "  </thead>\n",
       "  <tbody>\n",
       "    <tr>\n",
       "      <th>0</th>\n",
       "      <td>2019-10-17</td>\n",
       "      <td>Cherry</td>\n",
       "      <td>38</td>\n",
       "    </tr>\n",
       "    <tr>\n",
       "      <th>1</th>\n",
       "      <td>2020-01-13</td>\n",
       "      <td>Cherry</td>\n",
       "      <td>47</td>\n",
       "    </tr>\n",
       "    <tr>\n",
       "      <th>2</th>\n",
       "      <td>2019-09-27</td>\n",
       "      <td>Banana</td>\n",
       "      <td>30</td>\n",
       "    </tr>\n",
       "    <tr>\n",
       "      <th>3</th>\n",
       "      <td>2019-11-24</td>\n",
       "      <td>Apple</td>\n",
       "      <td>74</td>\n",
       "    </tr>\n",
       "    <tr>\n",
       "      <th>4</th>\n",
       "      <td>2019-11-07</td>\n",
       "      <td>Banana</td>\n",
       "      <td>48</td>\n",
       "    </tr>\n",
       "    <tr>\n",
       "      <th>5</th>\n",
       "      <td>2019-09-23</td>\n",
       "      <td>Cherry</td>\n",
       "      <td>39</td>\n",
       "    </tr>\n",
       "    <tr>\n",
       "      <th>6</th>\n",
       "      <td>2020-02-15</td>\n",
       "      <td>Cherry</td>\n",
       "      <td>69</td>\n",
       "    </tr>\n",
       "    <tr>\n",
       "      <th>7</th>\n",
       "      <td>2020-02-08</td>\n",
       "      <td>Banana</td>\n",
       "      <td>72</td>\n",
       "    </tr>\n",
       "    <tr>\n",
       "      <th>8</th>\n",
       "      <td>2019-11-14</td>\n",
       "      <td>Cherry</td>\n",
       "      <td>38</td>\n",
       "    </tr>\n",
       "    <tr>\n",
       "      <th>9</th>\n",
       "      <td>2019-10-10</td>\n",
       "      <td>Cherry</td>\n",
       "      <td>5</td>\n",
       "    </tr>\n",
       "    <tr>\n",
       "      <th>10</th>\n",
       "      <td>2020-02-28</td>\n",
       "      <td>Apple</td>\n",
       "      <td>59</td>\n",
       "    </tr>\n",
       "    <tr>\n",
       "      <th>11</th>\n",
       "      <td>2019-10-31</td>\n",
       "      <td>Banana</td>\n",
       "      <td>91</td>\n",
       "    </tr>\n",
       "    <tr>\n",
       "      <th>12</th>\n",
       "      <td>2020-01-17</td>\n",
       "      <td>Banana</td>\n",
       "      <td>59</td>\n",
       "    </tr>\n",
       "    <tr>\n",
       "      <th>13</th>\n",
       "      <td>2019-10-12</td>\n",
       "      <td>Cherry</td>\n",
       "      <td>42</td>\n",
       "    </tr>\n",
       "    <tr>\n",
       "      <th>14</th>\n",
       "      <td>2019-12-04</td>\n",
       "      <td>Banana</td>\n",
       "      <td>42</td>\n",
       "    </tr>\n",
       "    <tr>\n",
       "      <th>15</th>\n",
       "      <td>2019-11-05</td>\n",
       "      <td>Banana</td>\n",
       "      <td>23</td>\n",
       "    </tr>\n",
       "    <tr>\n",
       "      <th>16</th>\n",
       "      <td>2019-09-10</td>\n",
       "      <td>Banana</td>\n",
       "      <td>86</td>\n",
       "    </tr>\n",
       "    <tr>\n",
       "      <th>17</th>\n",
       "      <td>2019-10-09</td>\n",
       "      <td>Banana</td>\n",
       "      <td>11</td>\n",
       "    </tr>\n",
       "    <tr>\n",
       "      <th>18</th>\n",
       "      <td>2019-09-13</td>\n",
       "      <td>Cherry</td>\n",
       "      <td>74</td>\n",
       "    </tr>\n",
       "    <tr>\n",
       "      <th>19</th>\n",
       "      <td>2019-10-19</td>\n",
       "      <td>Apple</td>\n",
       "      <td>14</td>\n",
       "    </tr>\n",
       "    <tr>\n",
       "      <th>20</th>\n",
       "      <td>2020-01-20</td>\n",
       "      <td>Cherry</td>\n",
       "      <td>83</td>\n",
       "    </tr>\n",
       "    <tr>\n",
       "      <th>21</th>\n",
       "      <td>2019-11-16</td>\n",
       "      <td>Banana</td>\n",
       "      <td>18</td>\n",
       "    </tr>\n",
       "    <tr>\n",
       "      <th>22</th>\n",
       "      <td>2020-01-08</td>\n",
       "      <td>Banana</td>\n",
       "      <td>41</td>\n",
       "    </tr>\n",
       "    <tr>\n",
       "      <th>23</th>\n",
       "      <td>2019-11-25</td>\n",
       "      <td>Cherry</td>\n",
       "      <td>33</td>\n",
       "    </tr>\n",
       "    <tr>\n",
       "      <th>24</th>\n",
       "      <td>2019-12-04</td>\n",
       "      <td>Cherry</td>\n",
       "      <td>1</td>\n",
       "    </tr>\n",
       "    <tr>\n",
       "      <th>25</th>\n",
       "      <td>2020-02-13</td>\n",
       "      <td>Cherry</td>\n",
       "      <td>0</td>\n",
       "    </tr>\n",
       "    <tr>\n",
       "      <th>26</th>\n",
       "      <td>2020-01-24</td>\n",
       "      <td>Apple</td>\n",
       "      <td>80</td>\n",
       "    </tr>\n",
       "    <tr>\n",
       "      <th>27</th>\n",
       "      <td>2020-01-28</td>\n",
       "      <td>Banana</td>\n",
       "      <td>57</td>\n",
       "    </tr>\n",
       "    <tr>\n",
       "      <th>28</th>\n",
       "      <td>2019-09-28</td>\n",
       "      <td>Apple</td>\n",
       "      <td>27</td>\n",
       "    </tr>\n",
       "    <tr>\n",
       "      <th>29</th>\n",
       "      <td>2019-09-26</td>\n",
       "      <td>Apple</td>\n",
       "      <td>38</td>\n",
       "    </tr>\n",
       "    <tr>\n",
       "      <th>...</th>\n",
       "      <td>...</td>\n",
       "      <td>...</td>\n",
       "      <td>...</td>\n",
       "    </tr>\n",
       "    <tr>\n",
       "      <th>70</th>\n",
       "      <td>2020-03-01</td>\n",
       "      <td>Cherry</td>\n",
       "      <td>22</td>\n",
       "    </tr>\n",
       "    <tr>\n",
       "      <th>71</th>\n",
       "      <td>2019-12-31</td>\n",
       "      <td>Cherry</td>\n",
       "      <td>26</td>\n",
       "    </tr>\n",
       "    <tr>\n",
       "      <th>72</th>\n",
       "      <td>2020-01-29</td>\n",
       "      <td>Banana</td>\n",
       "      <td>20</td>\n",
       "    </tr>\n",
       "    <tr>\n",
       "      <th>73</th>\n",
       "      <td>2019-08-27</td>\n",
       "      <td>Cherry</td>\n",
       "      <td>60</td>\n",
       "    </tr>\n",
       "    <tr>\n",
       "      <th>74</th>\n",
       "      <td>2020-01-20</td>\n",
       "      <td>Banana</td>\n",
       "      <td>13</td>\n",
       "    </tr>\n",
       "    <tr>\n",
       "      <th>75</th>\n",
       "      <td>2019-09-08</td>\n",
       "      <td>Cherry</td>\n",
       "      <td>0</td>\n",
       "    </tr>\n",
       "    <tr>\n",
       "      <th>76</th>\n",
       "      <td>2020-02-24</td>\n",
       "      <td>Banana</td>\n",
       "      <td>56</td>\n",
       "    </tr>\n",
       "    <tr>\n",
       "      <th>77</th>\n",
       "      <td>2019-09-27</td>\n",
       "      <td>Cherry</td>\n",
       "      <td>46</td>\n",
       "    </tr>\n",
       "    <tr>\n",
       "      <th>78</th>\n",
       "      <td>2019-11-09</td>\n",
       "      <td>Banana</td>\n",
       "      <td>1</td>\n",
       "    </tr>\n",
       "    <tr>\n",
       "      <th>79</th>\n",
       "      <td>2019-09-18</td>\n",
       "      <td>Banana</td>\n",
       "      <td>45</td>\n",
       "    </tr>\n",
       "    <tr>\n",
       "      <th>80</th>\n",
       "      <td>2019-10-06</td>\n",
       "      <td>Banana</td>\n",
       "      <td>53</td>\n",
       "    </tr>\n",
       "    <tr>\n",
       "      <th>81</th>\n",
       "      <td>2019-10-18</td>\n",
       "      <td>Cherry</td>\n",
       "      <td>72</td>\n",
       "    </tr>\n",
       "    <tr>\n",
       "      <th>82</th>\n",
       "      <td>2019-08-28</td>\n",
       "      <td>Cherry</td>\n",
       "      <td>96</td>\n",
       "    </tr>\n",
       "    <tr>\n",
       "      <th>83</th>\n",
       "      <td>2019-10-23</td>\n",
       "      <td>Cherry</td>\n",
       "      <td>31</td>\n",
       "    </tr>\n",
       "    <tr>\n",
       "      <th>84</th>\n",
       "      <td>2019-11-29</td>\n",
       "      <td>Cherry</td>\n",
       "      <td>93</td>\n",
       "    </tr>\n",
       "    <tr>\n",
       "      <th>85</th>\n",
       "      <td>2019-11-27</td>\n",
       "      <td>Apple</td>\n",
       "      <td>77</td>\n",
       "    </tr>\n",
       "    <tr>\n",
       "      <th>86</th>\n",
       "      <td>2020-02-15</td>\n",
       "      <td>Banana</td>\n",
       "      <td>63</td>\n",
       "    </tr>\n",
       "    <tr>\n",
       "      <th>87</th>\n",
       "      <td>2019-09-24</td>\n",
       "      <td>Banana</td>\n",
       "      <td>95</td>\n",
       "    </tr>\n",
       "    <tr>\n",
       "      <th>88</th>\n",
       "      <td>2019-11-22</td>\n",
       "      <td>Cherry</td>\n",
       "      <td>87</td>\n",
       "    </tr>\n",
       "    <tr>\n",
       "      <th>89</th>\n",
       "      <td>2019-09-26</td>\n",
       "      <td>Cherry</td>\n",
       "      <td>28</td>\n",
       "    </tr>\n",
       "    <tr>\n",
       "      <th>90</th>\n",
       "      <td>2020-01-09</td>\n",
       "      <td>Cherry</td>\n",
       "      <td>69</td>\n",
       "    </tr>\n",
       "    <tr>\n",
       "      <th>91</th>\n",
       "      <td>2020-02-23</td>\n",
       "      <td>Cherry</td>\n",
       "      <td>53</td>\n",
       "    </tr>\n",
       "    <tr>\n",
       "      <th>92</th>\n",
       "      <td>2020-01-10</td>\n",
       "      <td>Banana</td>\n",
       "      <td>31</td>\n",
       "    </tr>\n",
       "    <tr>\n",
       "      <th>93</th>\n",
       "      <td>2019-09-01</td>\n",
       "      <td>Apple</td>\n",
       "      <td>61</td>\n",
       "    </tr>\n",
       "    <tr>\n",
       "      <th>94</th>\n",
       "      <td>2019-11-12</td>\n",
       "      <td>Banana</td>\n",
       "      <td>21</td>\n",
       "    </tr>\n",
       "    <tr>\n",
       "      <th>95</th>\n",
       "      <td>2019-10-25</td>\n",
       "      <td>Banana</td>\n",
       "      <td>87</td>\n",
       "    </tr>\n",
       "    <tr>\n",
       "      <th>96</th>\n",
       "      <td>2019-09-20</td>\n",
       "      <td>Cherry</td>\n",
       "      <td>20</td>\n",
       "    </tr>\n",
       "    <tr>\n",
       "      <th>97</th>\n",
       "      <td>2019-10-31</td>\n",
       "      <td>Cherry</td>\n",
       "      <td>95</td>\n",
       "    </tr>\n",
       "    <tr>\n",
       "      <th>98</th>\n",
       "      <td>2019-12-26</td>\n",
       "      <td>Cherry</td>\n",
       "      <td>78</td>\n",
       "    </tr>\n",
       "    <tr>\n",
       "      <th>99</th>\n",
       "      <td>2019-09-14</td>\n",
       "      <td>Banana</td>\n",
       "      <td>20</td>\n",
       "    </tr>\n",
       "  </tbody>\n",
       "</table>\n",
       "<p>100 rows × 3 columns</p>\n",
       "</div>"
      ],
      "text/plain": [
       "         Date Product  Quantity\n",
       "0  2019-10-17  Cherry        38\n",
       "1  2020-01-13  Cherry        47\n",
       "2  2019-09-27  Banana        30\n",
       "3  2019-11-24   Apple        74\n",
       "4  2019-11-07  Banana        48\n",
       "5  2019-09-23  Cherry        39\n",
       "6  2020-02-15  Cherry        69\n",
       "7  2020-02-08  Banana        72\n",
       "8  2019-11-14  Cherry        38\n",
       "9  2019-10-10  Cherry         5\n",
       "10 2020-02-28   Apple        59\n",
       "11 2019-10-31  Banana        91\n",
       "12 2020-01-17  Banana        59\n",
       "13 2019-10-12  Cherry        42\n",
       "14 2019-12-04  Banana        42\n",
       "15 2019-11-05  Banana        23\n",
       "16 2019-09-10  Banana        86\n",
       "17 2019-10-09  Banana        11\n",
       "18 2019-09-13  Cherry        74\n",
       "19 2019-10-19   Apple        14\n",
       "20 2020-01-20  Cherry        83\n",
       "21 2019-11-16  Banana        18\n",
       "22 2020-01-08  Banana        41\n",
       "23 2019-11-25  Cherry        33\n",
       "24 2019-12-04  Cherry         1\n",
       "25 2020-02-13  Cherry         0\n",
       "26 2020-01-24   Apple        80\n",
       "27 2020-01-28  Banana        57\n",
       "28 2019-09-28   Apple        27\n",
       "29 2019-09-26   Apple        38\n",
       "..        ...     ...       ...\n",
       "70 2020-03-01  Cherry        22\n",
       "71 2019-12-31  Cherry        26\n",
       "72 2020-01-29  Banana        20\n",
       "73 2019-08-27  Cherry        60\n",
       "74 2020-01-20  Banana        13\n",
       "75 2019-09-08  Cherry         0\n",
       "76 2020-02-24  Banana        56\n",
       "77 2019-09-27  Cherry        46\n",
       "78 2019-11-09  Banana         1\n",
       "79 2019-09-18  Banana        45\n",
       "80 2019-10-06  Banana        53\n",
       "81 2019-10-18  Cherry        72\n",
       "82 2019-08-28  Cherry        96\n",
       "83 2019-10-23  Cherry        31\n",
       "84 2019-11-29  Cherry        93\n",
       "85 2019-11-27   Apple        77\n",
       "86 2020-02-15  Banana        63\n",
       "87 2019-09-24  Banana        95\n",
       "88 2019-11-22  Cherry        87\n",
       "89 2019-09-26  Cherry        28\n",
       "90 2020-01-09  Cherry        69\n",
       "91 2020-02-23  Cherry        53\n",
       "92 2020-01-10  Banana        31\n",
       "93 2019-09-01   Apple        61\n",
       "94 2019-11-12  Banana        21\n",
       "95 2019-10-25  Banana        87\n",
       "96 2019-09-20  Cherry        20\n",
       "97 2019-10-31  Cherry        95\n",
       "98 2019-12-26  Cherry        78\n",
       "99 2019-09-14  Banana        20\n",
       "\n",
       "[100 rows x 3 columns]"
      ]
     },
     "execution_count": 8,
     "metadata": {},
     "output_type": "execute_result"
    }
   ],
   "source": [
    "df3.reset_index()"
   ]
  },
  {
   "cell_type": "markdown",
   "metadata": {
    "colab_type": "text",
    "id": "TtWsPUnBQhaX",
    "slideshow": {
     "slide_type": "slide"
    }
   },
   "source": [
    "## Sắp xếp lại `index`\n",
    "Để sắp xếp lại thứ tự của `index`, ta dùng phương thức `.sort_index()` như sau :\n",
    "```\n",
    "<tên_DataFrame>.sort_index()\n",
    "```\n",
    "Khi đó, `index` sẽ được sắp xếp lại theo thứ tự tăng dần. Nếu muốn sắp xếp theo thứ tự giảm dần, bạn dùng tham số `ascending = False`."
   ]
  },
  {
   "cell_type": "code",
   "execution_count": 10,
   "metadata": {
    "colab": {
     "base_uri": "https://localhost:8080/",
     "height": 450
    },
    "colab_type": "code",
    "id": "keOuQYFuSwH_",
    "outputId": "cda3f1e1-f52f-4aa3-a731-ab0129c645ae",
    "slideshow": {
     "slide_type": "subslide"
    }
   },
   "outputs": [
    {
     "data": {
      "text/html": [
       "<div>\n",
       "<style scoped>\n",
       "    .dataframe tbody tr th:only-of-type {\n",
       "        vertical-align: middle;\n",
       "    }\n",
       "\n",
       "    .dataframe tbody tr th {\n",
       "        vertical-align: top;\n",
       "    }\n",
       "\n",
       "    .dataframe thead th {\n",
       "        text-align: right;\n",
       "    }\n",
       "</style>\n",
       "<table border=\"1\" class=\"dataframe\">\n",
       "  <thead>\n",
       "    <tr style=\"text-align: right;\">\n",
       "      <th></th>\n",
       "      <th>Product</th>\n",
       "      <th>Quantity</th>\n",
       "    </tr>\n",
       "    <tr>\n",
       "      <th>Date</th>\n",
       "      <th></th>\n",
       "      <th></th>\n",
       "    </tr>\n",
       "  </thead>\n",
       "  <tbody>\n",
       "    <tr>\n",
       "      <th>2020-03-01</th>\n",
       "      <td>Cherry</td>\n",
       "      <td>22</td>\n",
       "    </tr>\n",
       "    <tr>\n",
       "      <th>2020-02-28</th>\n",
       "      <td>Apple</td>\n",
       "      <td>59</td>\n",
       "    </tr>\n",
       "    <tr>\n",
       "      <th>2020-02-24</th>\n",
       "      <td>Banana</td>\n",
       "      <td>56</td>\n",
       "    </tr>\n",
       "    <tr>\n",
       "      <th>2020-02-23</th>\n",
       "      <td>Cherry</td>\n",
       "      <td>53</td>\n",
       "    </tr>\n",
       "    <tr>\n",
       "      <th>2020-02-15</th>\n",
       "      <td>Cherry</td>\n",
       "      <td>69</td>\n",
       "    </tr>\n",
       "    <tr>\n",
       "      <th>2020-02-15</th>\n",
       "      <td>Banana</td>\n",
       "      <td>63</td>\n",
       "    </tr>\n",
       "    <tr>\n",
       "      <th>2020-02-13</th>\n",
       "      <td>Cherry</td>\n",
       "      <td>0</td>\n",
       "    </tr>\n",
       "    <tr>\n",
       "      <th>2020-02-08</th>\n",
       "      <td>Apple</td>\n",
       "      <td>28</td>\n",
       "    </tr>\n",
       "    <tr>\n",
       "      <th>2020-02-08</th>\n",
       "      <td>Banana</td>\n",
       "      <td>72</td>\n",
       "    </tr>\n",
       "    <tr>\n",
       "      <th>2020-02-02</th>\n",
       "      <td>Apple</td>\n",
       "      <td>32</td>\n",
       "    </tr>\n",
       "    <tr>\n",
       "      <th>2020-02-01</th>\n",
       "      <td>Banana</td>\n",
       "      <td>98</td>\n",
       "    </tr>\n",
       "    <tr>\n",
       "      <th>2020-01-31</th>\n",
       "      <td>Banana</td>\n",
       "      <td>2</td>\n",
       "    </tr>\n",
       "    <tr>\n",
       "      <th>2020-01-29</th>\n",
       "      <td>Banana</td>\n",
       "      <td>20</td>\n",
       "    </tr>\n",
       "    <tr>\n",
       "      <th>2020-01-28</th>\n",
       "      <td>Banana</td>\n",
       "      <td>57</td>\n",
       "    </tr>\n",
       "    <tr>\n",
       "      <th>2020-01-24</th>\n",
       "      <td>Apple</td>\n",
       "      <td>80</td>\n",
       "    </tr>\n",
       "    <tr>\n",
       "      <th>2020-01-20</th>\n",
       "      <td>Banana</td>\n",
       "      <td>13</td>\n",
       "    </tr>\n",
       "    <tr>\n",
       "      <th>2020-01-20</th>\n",
       "      <td>Cherry</td>\n",
       "      <td>83</td>\n",
       "    </tr>\n",
       "    <tr>\n",
       "      <th>2020-01-19</th>\n",
       "      <td>Banana</td>\n",
       "      <td>87</td>\n",
       "    </tr>\n",
       "    <tr>\n",
       "      <th>2020-01-17</th>\n",
       "      <td>Banana</td>\n",
       "      <td>59</td>\n",
       "    </tr>\n",
       "    <tr>\n",
       "      <th>2020-01-13</th>\n",
       "      <td>Cherry</td>\n",
       "      <td>47</td>\n",
       "    </tr>\n",
       "    <tr>\n",
       "      <th>2020-01-10</th>\n",
       "      <td>Banana</td>\n",
       "      <td>31</td>\n",
       "    </tr>\n",
       "    <tr>\n",
       "      <th>2020-01-10</th>\n",
       "      <td>Cherry</td>\n",
       "      <td>36</td>\n",
       "    </tr>\n",
       "    <tr>\n",
       "      <th>2020-01-09</th>\n",
       "      <td>Cherry</td>\n",
       "      <td>69</td>\n",
       "    </tr>\n",
       "    <tr>\n",
       "      <th>2020-01-08</th>\n",
       "      <td>Banana</td>\n",
       "      <td>41</td>\n",
       "    </tr>\n",
       "    <tr>\n",
       "      <th>2020-01-07</th>\n",
       "      <td>Apple</td>\n",
       "      <td>64</td>\n",
       "    </tr>\n",
       "    <tr>\n",
       "      <th>2020-01-06</th>\n",
       "      <td>Cherry</td>\n",
       "      <td>27</td>\n",
       "    </tr>\n",
       "    <tr>\n",
       "      <th>2020-01-03</th>\n",
       "      <td>Cherry</td>\n",
       "      <td>72</td>\n",
       "    </tr>\n",
       "    <tr>\n",
       "      <th>2019-12-31</th>\n",
       "      <td>Cherry</td>\n",
       "      <td>26</td>\n",
       "    </tr>\n",
       "    <tr>\n",
       "      <th>2019-12-30</th>\n",
       "      <td>Apple</td>\n",
       "      <td>88</td>\n",
       "    </tr>\n",
       "    <tr>\n",
       "      <th>2019-12-28</th>\n",
       "      <td>Banana</td>\n",
       "      <td>83</td>\n",
       "    </tr>\n",
       "    <tr>\n",
       "      <th>...</th>\n",
       "      <td>...</td>\n",
       "      <td>...</td>\n",
       "    </tr>\n",
       "    <tr>\n",
       "      <th>2019-10-09</th>\n",
       "      <td>Banana</td>\n",
       "      <td>11</td>\n",
       "    </tr>\n",
       "    <tr>\n",
       "      <th>2019-10-08</th>\n",
       "      <td>Banana</td>\n",
       "      <td>64</td>\n",
       "    </tr>\n",
       "    <tr>\n",
       "      <th>2019-10-07</th>\n",
       "      <td>Banana</td>\n",
       "      <td>36</td>\n",
       "    </tr>\n",
       "    <tr>\n",
       "      <th>2019-10-07</th>\n",
       "      <td>Banana</td>\n",
       "      <td>23</td>\n",
       "    </tr>\n",
       "    <tr>\n",
       "      <th>2019-10-07</th>\n",
       "      <td>Banana</td>\n",
       "      <td>41</td>\n",
       "    </tr>\n",
       "    <tr>\n",
       "      <th>2019-10-07</th>\n",
       "      <td>Apple</td>\n",
       "      <td>13</td>\n",
       "    </tr>\n",
       "    <tr>\n",
       "      <th>2019-10-06</th>\n",
       "      <td>Banana</td>\n",
       "      <td>53</td>\n",
       "    </tr>\n",
       "    <tr>\n",
       "      <th>2019-10-05</th>\n",
       "      <td>Apple</td>\n",
       "      <td>38</td>\n",
       "    </tr>\n",
       "    <tr>\n",
       "      <th>2019-10-05</th>\n",
       "      <td>Cherry</td>\n",
       "      <td>34</td>\n",
       "    </tr>\n",
       "    <tr>\n",
       "      <th>2019-09-28</th>\n",
       "      <td>Apple</td>\n",
       "      <td>27</td>\n",
       "    </tr>\n",
       "    <tr>\n",
       "      <th>2019-09-27</th>\n",
       "      <td>Cherry</td>\n",
       "      <td>46</td>\n",
       "    </tr>\n",
       "    <tr>\n",
       "      <th>2019-09-27</th>\n",
       "      <td>Banana</td>\n",
       "      <td>30</td>\n",
       "    </tr>\n",
       "    <tr>\n",
       "      <th>2019-09-26</th>\n",
       "      <td>Apple</td>\n",
       "      <td>38</td>\n",
       "    </tr>\n",
       "    <tr>\n",
       "      <th>2019-09-26</th>\n",
       "      <td>Cherry</td>\n",
       "      <td>28</td>\n",
       "    </tr>\n",
       "    <tr>\n",
       "      <th>2019-09-25</th>\n",
       "      <td>Apple</td>\n",
       "      <td>33</td>\n",
       "    </tr>\n",
       "    <tr>\n",
       "      <th>2019-09-25</th>\n",
       "      <td>Banana</td>\n",
       "      <td>10</td>\n",
       "    </tr>\n",
       "    <tr>\n",
       "      <th>2019-09-24</th>\n",
       "      <td>Banana</td>\n",
       "      <td>95</td>\n",
       "    </tr>\n",
       "    <tr>\n",
       "      <th>2019-09-23</th>\n",
       "      <td>Cherry</td>\n",
       "      <td>39</td>\n",
       "    </tr>\n",
       "    <tr>\n",
       "      <th>2019-09-20</th>\n",
       "      <td>Cherry</td>\n",
       "      <td>20</td>\n",
       "    </tr>\n",
       "    <tr>\n",
       "      <th>2019-09-18</th>\n",
       "      <td>Banana</td>\n",
       "      <td>45</td>\n",
       "    </tr>\n",
       "    <tr>\n",
       "      <th>2019-09-14</th>\n",
       "      <td>Banana</td>\n",
       "      <td>20</td>\n",
       "    </tr>\n",
       "    <tr>\n",
       "      <th>2019-09-13</th>\n",
       "      <td>Cherry</td>\n",
       "      <td>74</td>\n",
       "    </tr>\n",
       "    <tr>\n",
       "      <th>2019-09-11</th>\n",
       "      <td>Apple</td>\n",
       "      <td>93</td>\n",
       "    </tr>\n",
       "    <tr>\n",
       "      <th>2019-09-10</th>\n",
       "      <td>Banana</td>\n",
       "      <td>86</td>\n",
       "    </tr>\n",
       "    <tr>\n",
       "      <th>2019-09-08</th>\n",
       "      <td>Cherry</td>\n",
       "      <td>0</td>\n",
       "    </tr>\n",
       "    <tr>\n",
       "      <th>2019-09-01</th>\n",
       "      <td>Apple</td>\n",
       "      <td>61</td>\n",
       "    </tr>\n",
       "    <tr>\n",
       "      <th>2019-08-28</th>\n",
       "      <td>Cherry</td>\n",
       "      <td>96</td>\n",
       "    </tr>\n",
       "    <tr>\n",
       "      <th>2019-08-27</th>\n",
       "      <td>Cherry</td>\n",
       "      <td>60</td>\n",
       "    </tr>\n",
       "    <tr>\n",
       "      <th>2019-08-21</th>\n",
       "      <td>Apple</td>\n",
       "      <td>85</td>\n",
       "    </tr>\n",
       "    <tr>\n",
       "      <th>2019-08-19</th>\n",
       "      <td>Apple</td>\n",
       "      <td>26</td>\n",
       "    </tr>\n",
       "  </tbody>\n",
       "</table>\n",
       "<p>100 rows × 2 columns</p>\n",
       "</div>"
      ],
      "text/plain": [
       "           Product  Quantity\n",
       "Date                        \n",
       "2020-03-01  Cherry        22\n",
       "2020-02-28   Apple        59\n",
       "2020-02-24  Banana        56\n",
       "2020-02-23  Cherry        53\n",
       "2020-02-15  Cherry        69\n",
       "2020-02-15  Banana        63\n",
       "2020-02-13  Cherry         0\n",
       "2020-02-08   Apple        28\n",
       "2020-02-08  Banana        72\n",
       "2020-02-02   Apple        32\n",
       "2020-02-01  Banana        98\n",
       "2020-01-31  Banana         2\n",
       "2020-01-29  Banana        20\n",
       "2020-01-28  Banana        57\n",
       "2020-01-24   Apple        80\n",
       "2020-01-20  Banana        13\n",
       "2020-01-20  Cherry        83\n",
       "2020-01-19  Banana        87\n",
       "2020-01-17  Banana        59\n",
       "2020-01-13  Cherry        47\n",
       "2020-01-10  Banana        31\n",
       "2020-01-10  Cherry        36\n",
       "2020-01-09  Cherry        69\n",
       "2020-01-08  Banana        41\n",
       "2020-01-07   Apple        64\n",
       "2020-01-06  Cherry        27\n",
       "2020-01-03  Cherry        72\n",
       "2019-12-31  Cherry        26\n",
       "2019-12-30   Apple        88\n",
       "2019-12-28  Banana        83\n",
       "...            ...       ...\n",
       "2019-10-09  Banana        11\n",
       "2019-10-08  Banana        64\n",
       "2019-10-07  Banana        36\n",
       "2019-10-07  Banana        23\n",
       "2019-10-07  Banana        41\n",
       "2019-10-07   Apple        13\n",
       "2019-10-06  Banana        53\n",
       "2019-10-05   Apple        38\n",
       "2019-10-05  Cherry        34\n",
       "2019-09-28   Apple        27\n",
       "2019-09-27  Cherry        46\n",
       "2019-09-27  Banana        30\n",
       "2019-09-26   Apple        38\n",
       "2019-09-26  Cherry        28\n",
       "2019-09-25   Apple        33\n",
       "2019-09-25  Banana        10\n",
       "2019-09-24  Banana        95\n",
       "2019-09-23  Cherry        39\n",
       "2019-09-20  Cherry        20\n",
       "2019-09-18  Banana        45\n",
       "2019-09-14  Banana        20\n",
       "2019-09-13  Cherry        74\n",
       "2019-09-11   Apple        93\n",
       "2019-09-10  Banana        86\n",
       "2019-09-08  Cherry         0\n",
       "2019-09-01   Apple        61\n",
       "2019-08-28  Cherry        96\n",
       "2019-08-27  Cherry        60\n",
       "2019-08-21   Apple        85\n",
       "2019-08-19   Apple        26\n",
       "\n",
       "[100 rows x 2 columns]"
      ]
     },
     "execution_count": 10,
     "metadata": {},
     "output_type": "execute_result"
    }
   ],
   "source": [
    "df3.sort_index(ascending = False)"
   ]
  },
  {
   "cell_type": "markdown",
   "metadata": {
    "colab_type": "text",
    "id": "OuOTEweRaikz",
    "slideshow": {
     "slide_type": "slide"
    }
   },
   "source": [
    "# Biến đổi `DataFrame` bằng `.reindex()`\n",
    "Phương thức `.reindex()` có cú pháp như sau :\n",
    "```\n",
    "<tên_DataFrame>.reindex(index = <danh_sách_tên_dòng>, columns = <danh_sách_tên_cột>)\n",
    "```"
   ]
  },
  {
   "cell_type": "markdown",
   "metadata": {
    "colab_type": "text",
    "id": "aACmMxUycOyB",
    "slideshow": {
     "slide_type": "subslide"
    }
   },
   "source": [
    "Phương thức `.reindex()` sẽ trả về một `DataFrame` mới có các đặc điểm sau :\n",
    "- Tên dòng theo thứ tự được chỉ ra trong `danh_sách_tên_dòng`.\n",
    "- Tên cột theo thứ tự được chỉ ra trong `danh_sách_tên_cột`.\n",
    "- Giá trị tại một ô là giá trị tương ứng của nó trong `DataFrame` gốc, sẽ dùng `NaN`, ... nếu không có giá trị tương ứng."
   ]
  },
  {
   "cell_type": "code",
   "execution_count": 0,
   "metadata": {
    "colab": {
     "base_uri": "https://localhost:8080/",
     "height": 142
    },
    "colab_type": "code",
    "id": "CbpNyS9GXcuv",
    "outputId": "fa95c0ab-bd20-4487-ced4-6c99d68ea65d",
    "slideshow": {
     "slide_type": "subslide"
    }
   },
   "outputs": [
    {
     "data": {
      "text/html": [
       "<div>\n",
       "<style scoped>\n",
       "    .dataframe tbody tr th:only-of-type {\n",
       "        vertical-align: middle;\n",
       "    }\n",
       "\n",
       "    .dataframe tbody tr th {\n",
       "        vertical-align: top;\n",
       "    }\n",
       "\n",
       "    .dataframe thead th {\n",
       "        text-align: right;\n",
       "    }\n",
       "</style>\n",
       "<table border=\"1\" class=\"dataframe\">\n",
       "  <thead>\n",
       "    <tr style=\"text-align: right;\">\n",
       "      <th></th>\n",
       "      <th>Price</th>\n",
       "      <th>Product</th>\n",
       "    </tr>\n",
       "  </thead>\n",
       "  <tbody>\n",
       "    <tr>\n",
       "      <th>2</th>\n",
       "      <td>15</td>\n",
       "      <td>Banana</td>\n",
       "    </tr>\n",
       "    <tr>\n",
       "      <th>1</th>\n",
       "      <td>10</td>\n",
       "      <td>Apple</td>\n",
       "    </tr>\n",
       "    <tr>\n",
       "      <th>3</th>\n",
       "      <td>20</td>\n",
       "      <td>Cherry</td>\n",
       "    </tr>\n",
       "  </tbody>\n",
       "</table>\n",
       "</div>"
      ],
      "text/plain": [
       "   Price Product\n",
       "2     15  Banana\n",
       "1     10   Apple\n",
       "3     20  Cherry"
      ]
     },
     "execution_count": 56,
     "metadata": {
      "tags": []
     },
     "output_type": "execute_result"
    }
   ],
   "source": [
    "df2.reindex(index = [2, 1, 3], columns = ['Price', 'Product'])"
   ]
  },
  {
   "cell_type": "code",
   "execution_count": 0,
   "metadata": {
    "colab": {
     "base_uri": "https://localhost:8080/",
     "height": 142
    },
    "colab_type": "code",
    "id": "z6KMtXBsddGg",
    "outputId": "e3b18d42-fb33-4591-ced8-f9e08f9b9659",
    "slideshow": {
     "slide_type": "subslide"
    }
   },
   "outputs": [
    {
     "data": {
      "text/html": [
       "<div>\n",
       "<style scoped>\n",
       "    .dataframe tbody tr th:only-of-type {\n",
       "        vertical-align: middle;\n",
       "    }\n",
       "\n",
       "    .dataframe tbody tr th {\n",
       "        vertical-align: top;\n",
       "    }\n",
       "\n",
       "    .dataframe thead th {\n",
       "        text-align: right;\n",
       "    }\n",
       "</style>\n",
       "<table border=\"1\" class=\"dataframe\">\n",
       "  <thead>\n",
       "    <tr style=\"text-align: right;\">\n",
       "      <th></th>\n",
       "      <th>Date</th>\n",
       "      <th>Price</th>\n",
       "      <th>Product</th>\n",
       "    </tr>\n",
       "  </thead>\n",
       "  <tbody>\n",
       "    <tr>\n",
       "      <th>1</th>\n",
       "      <td>NaN</td>\n",
       "      <td>10</td>\n",
       "      <td>Apple</td>\n",
       "    </tr>\n",
       "    <tr>\n",
       "      <th>2</th>\n",
       "      <td>NaN</td>\n",
       "      <td>15</td>\n",
       "      <td>Banana</td>\n",
       "    </tr>\n",
       "    <tr>\n",
       "      <th>3</th>\n",
       "      <td>NaN</td>\n",
       "      <td>20</td>\n",
       "      <td>Cherry</td>\n",
       "    </tr>\n",
       "  </tbody>\n",
       "</table>\n",
       "</div>"
      ],
      "text/plain": [
       "   Date  Price Product\n",
       "1   NaN     10   Apple\n",
       "2   NaN     15  Banana\n",
       "3   NaN     20  Cherry"
      ]
     },
     "execution_count": 57,
     "metadata": {
      "tags": []
     },
     "output_type": "execute_result"
    }
   ],
   "source": [
    "df2.reindex(columns = ['Date', 'Price', 'Product'])"
   ]
  },
  {
   "cell_type": "markdown",
   "metadata": {
    "colab_type": "text",
    "id": "g94lQDDE4lrQ",
    "slideshow": {
     "slide_type": "slide"
    }
   },
   "source": [
    "# Kết hợp `DataFrame` : `concat`"
   ]
  },
  {
   "cell_type": "markdown",
   "metadata": {
    "colab_type": "text",
    "id": "tURPuAxp6DCn",
    "slideshow": {
     "slide_type": "subslide"
    }
   },
   "source": [
    "Như đã nói sơ lược trong phần trước, bạn có thể dùng `pd.concat()` để kết hợp hai hay nhiều `DataFrame` theo cú pháp sau :\n",
    "```\n",
    "pd.concat(<danh_sách_DataFrame>)\n",
    "```\n",
    "Trong phần này, chúng ta sẽ tìm hiểu thêm về một số tham số của `pd.concat()`."
   ]
  },
  {
   "cell_type": "markdown",
   "metadata": {
    "colab_type": "text",
    "id": "ly--4I9m8lIw",
    "slideshow": {
     "slide_type": "slide"
    }
   },
   "source": [
    "## Tham số `ignore_index`\n",
    "Có hai giá trị là `True` và `False`, trong đó :\n",
    "- `True` sẽ bỏ qua tất cả `index` của các `DataFrame` và sinh ra một `index` mới. Thường dùng khi `index` không mang nhiều ý nghĩa.\n",
    "- `False` sẽ kết hợp `index` của các `DataFrame` để tạo thành `index` mới.\n",
    "\n",
    "Giá trị mặc định của `ignore_index` là `False`."
   ]
  },
  {
   "cell_type": "code",
   "execution_count": 11,
   "metadata": {
    "colab": {},
    "colab_type": "code",
    "id": "-Xup8YPLd4sV",
    "slideshow": {
     "slide_type": "subslide"
    }
   },
   "outputs": [],
   "source": [
    "a = pd.DataFrame([1, 2, 3], columns = ['A'])\n",
    "b = pd.DataFrame([4, 5, 6], columns = ['A'])"
   ]
  },
  {
   "cell_type": "code",
   "execution_count": 12,
   "metadata": {
    "colab": {
     "base_uri": "https://localhost:8080/",
     "height": 235
    },
    "colab_type": "code",
    "id": "oj0RiHPk91_c",
    "outputId": "16e6e116-c73c-41c4-b867-7ac858eff9c1",
    "slideshow": {
     "slide_type": "subslide"
    }
   },
   "outputs": [
    {
     "data": {
      "text/html": [
       "<div>\n",
       "<style scoped>\n",
       "    .dataframe tbody tr th:only-of-type {\n",
       "        vertical-align: middle;\n",
       "    }\n",
       "\n",
       "    .dataframe tbody tr th {\n",
       "        vertical-align: top;\n",
       "    }\n",
       "\n",
       "    .dataframe thead th {\n",
       "        text-align: right;\n",
       "    }\n",
       "</style>\n",
       "<table border=\"1\" class=\"dataframe\">\n",
       "  <thead>\n",
       "    <tr style=\"text-align: right;\">\n",
       "      <th></th>\n",
       "      <th>A</th>\n",
       "    </tr>\n",
       "  </thead>\n",
       "  <tbody>\n",
       "    <tr>\n",
       "      <th>0</th>\n",
       "      <td>1</td>\n",
       "    </tr>\n",
       "    <tr>\n",
       "      <th>1</th>\n",
       "      <td>2</td>\n",
       "    </tr>\n",
       "    <tr>\n",
       "      <th>2</th>\n",
       "      <td>3</td>\n",
       "    </tr>\n",
       "    <tr>\n",
       "      <th>3</th>\n",
       "      <td>4</td>\n",
       "    </tr>\n",
       "    <tr>\n",
       "      <th>4</th>\n",
       "      <td>5</td>\n",
       "    </tr>\n",
       "    <tr>\n",
       "      <th>5</th>\n",
       "      <td>6</td>\n",
       "    </tr>\n",
       "  </tbody>\n",
       "</table>\n",
       "</div>"
      ],
      "text/plain": [
       "   A\n",
       "0  1\n",
       "1  2\n",
       "2  3\n",
       "3  4\n",
       "4  5\n",
       "5  6"
      ]
     },
     "execution_count": 12,
     "metadata": {},
     "output_type": "execute_result"
    }
   ],
   "source": [
    "pd.concat([a, b], ignore_index = True)"
   ]
  },
  {
   "cell_type": "markdown",
   "metadata": {
    "colab_type": "text",
    "id": "iiDXXZYE-TfI",
    "slideshow": {
     "slide_type": "slide"
    }
   },
   "source": [
    "## Tham số `axis`\n",
    "Có 2 giá trị là `'index'` và `'columns'`, trong đó :\n",
    "- `'index'` sẽ nối `DataFrame` theo chiều dọc.\n",
    "- `'columns'` sẽ nối `DataFrame` theo chiều ngang.\n",
    "\n",
    "Giá trị mặc định của `axis` là `'index'`."
   ]
  },
  {
   "cell_type": "code",
   "execution_count": 0,
   "metadata": {
    "colab": {
     "base_uri": "https://localhost:8080/",
     "height": 142
    },
    "colab_type": "code",
    "id": "lAhpLtTX-CZ2",
    "outputId": "daf94988-c31a-40f4-97c8-004fe4c02d81",
    "slideshow": {
     "slide_type": "subslide"
    }
   },
   "outputs": [
    {
     "data": {
      "text/html": [
       "<div>\n",
       "<style scoped>\n",
       "    .dataframe tbody tr th:only-of-type {\n",
       "        vertical-align: middle;\n",
       "    }\n",
       "\n",
       "    .dataframe tbody tr th {\n",
       "        vertical-align: top;\n",
       "    }\n",
       "\n",
       "    .dataframe thead th {\n",
       "        text-align: right;\n",
       "    }\n",
       "</style>\n",
       "<table border=\"1\" class=\"dataframe\">\n",
       "  <thead>\n",
       "    <tr style=\"text-align: right;\">\n",
       "      <th></th>\n",
       "      <th>A</th>\n",
       "      <th>A</th>\n",
       "    </tr>\n",
       "  </thead>\n",
       "  <tbody>\n",
       "    <tr>\n",
       "      <th>0</th>\n",
       "      <td>1</td>\n",
       "      <td>4</td>\n",
       "    </tr>\n",
       "    <tr>\n",
       "      <th>1</th>\n",
       "      <td>2</td>\n",
       "      <td>5</td>\n",
       "    </tr>\n",
       "    <tr>\n",
       "      <th>2</th>\n",
       "      <td>3</td>\n",
       "      <td>6</td>\n",
       "    </tr>\n",
       "  </tbody>\n",
       "</table>\n",
       "</div>"
      ],
      "text/plain": [
       "   A  A\n",
       "0  1  4\n",
       "1  2  5\n",
       "2  3  6"
      ]
     },
     "execution_count": 7,
     "metadata": {
      "tags": []
     },
     "output_type": "execute_result"
    }
   ],
   "source": [
    "pd.concat([a, b], axis = 'columns')"
   ]
  },
  {
   "cell_type": "markdown",
   "metadata": {
    "colab_type": "text",
    "id": "LdiShr-rANQQ",
    "slideshow": {
     "slide_type": "slide"
    }
   },
   "source": [
    "## Tham số `join`\n",
    "Có 2 giá trị là `'outer'` và `'inner'`, trong đó :\n",
    "- `'outer'` : lấy tất cả cột (khi `axis = 'index'`) hoặc dòng (khi `axis = 'columns'`).\n",
    "- `'inner'` : chỉ lấy phần cột chung hoặc dòng chung.\n",
    "\n",
    "Giá trị mặc định của `join` là `'outer'`.\n"
   ]
  },
  {
   "cell_type": "code",
   "execution_count": 0,
   "metadata": {
    "colab": {},
    "colab_type": "code",
    "id": "NdclF6dvABFA",
    "slideshow": {
     "slide_type": "subslide"
    }
   },
   "outputs": [],
   "source": [
    "c = pd.DataFrame([['1', '2'], ['3', '4']], columns = ['A', 'B'])\n",
    "d = pd.DataFrame([['5', '6'], ['7', '8']], columns = ['B', 'C'], index = [1, 2])"
   ]
  },
  {
   "cell_type": "code",
   "execution_count": 0,
   "metadata": {
    "colab": {
     "base_uri": "https://localhost:8080/",
     "height": 173
    },
    "colab_type": "code",
    "id": "Z_sZt6xjB6M_",
    "outputId": "f6d80a55-2e56-4e5f-ce98-64f3dcd46e4a",
    "slideshow": {
     "slide_type": "subslide"
    }
   },
   "outputs": [
    {
     "data": {
      "text/html": [
       "<div>\n",
       "<style scoped>\n",
       "    .dataframe tbody tr th:only-of-type {\n",
       "        vertical-align: middle;\n",
       "    }\n",
       "\n",
       "    .dataframe tbody tr th {\n",
       "        vertical-align: top;\n",
       "    }\n",
       "\n",
       "    .dataframe thead th {\n",
       "        text-align: right;\n",
       "    }\n",
       "</style>\n",
       "<table border=\"1\" class=\"dataframe\">\n",
       "  <thead>\n",
       "    <tr style=\"text-align: right;\">\n",
       "      <th></th>\n",
       "      <th>B</th>\n",
       "    </tr>\n",
       "  </thead>\n",
       "  <tbody>\n",
       "    <tr>\n",
       "      <th>0</th>\n",
       "      <td>2</td>\n",
       "    </tr>\n",
       "    <tr>\n",
       "      <th>1</th>\n",
       "      <td>4</td>\n",
       "    </tr>\n",
       "    <tr>\n",
       "      <th>1</th>\n",
       "      <td>5</td>\n",
       "    </tr>\n",
       "    <tr>\n",
       "      <th>2</th>\n",
       "      <td>7</td>\n",
       "    </tr>\n",
       "  </tbody>\n",
       "</table>\n",
       "</div>"
      ],
      "text/plain": [
       "   B\n",
       "0  2\n",
       "1  4\n",
       "1  5\n",
       "2  7"
      ]
     },
     "execution_count": 15,
     "metadata": {
      "tags": []
     },
     "output_type": "execute_result"
    }
   ],
   "source": [
    "pd.concat([c, d], join = 'inner')"
   ]
  },
  {
   "cell_type": "code",
   "execution_count": 0,
   "metadata": {
    "colab": {
     "base_uri": "https://localhost:8080/",
     "height": 80
    },
    "colab_type": "code",
    "id": "yms0ecqOCBSh",
    "outputId": "13fa54db-64a8-45d3-abcb-44a53566eeb7",
    "slideshow": {
     "slide_type": "subslide"
    }
   },
   "outputs": [
    {
     "data": {
      "text/html": [
       "<div>\n",
       "<style scoped>\n",
       "    .dataframe tbody tr th:only-of-type {\n",
       "        vertical-align: middle;\n",
       "    }\n",
       "\n",
       "    .dataframe tbody tr th {\n",
       "        vertical-align: top;\n",
       "    }\n",
       "\n",
       "    .dataframe thead th {\n",
       "        text-align: right;\n",
       "    }\n",
       "</style>\n",
       "<table border=\"1\" class=\"dataframe\">\n",
       "  <thead>\n",
       "    <tr style=\"text-align: right;\">\n",
       "      <th></th>\n",
       "      <th>A</th>\n",
       "      <th>B</th>\n",
       "      <th>B</th>\n",
       "      <th>C</th>\n",
       "    </tr>\n",
       "  </thead>\n",
       "  <tbody>\n",
       "    <tr>\n",
       "      <th>1</th>\n",
       "      <td>3</td>\n",
       "      <td>4</td>\n",
       "      <td>5</td>\n",
       "      <td>6</td>\n",
       "    </tr>\n",
       "  </tbody>\n",
       "</table>\n",
       "</div>"
      ],
      "text/plain": [
       "   A  B  B  C\n",
       "1  3  4  5  6"
      ]
     },
     "execution_count": 13,
     "metadata": {
      "tags": []
     },
     "output_type": "execute_result"
    }
   ],
   "source": [
    "pd.concat([c, d], axis = 'columns', join = 'inner')"
   ]
  },
  {
   "cell_type": "markdown",
   "metadata": {
    "colab_type": "text",
    "id": "JJ1VekQZDHii",
    "slideshow": {
     "slide_type": "slide"
    }
   },
   "source": [
    "# Kết hợp `DataFrame` : `merge`"
   ]
  },
  {
   "cell_type": "markdown",
   "metadata": {
    "colab_type": "text",
    "id": "ShSR6PzjJMuf",
    "slideshow": {
     "slide_type": "subslide"
    }
   },
   "source": [
    "Cùng xem xét vấn đề sau : bạn muốn tính giá trị của các hàng hóa đã bán ra, nhưng thông tin về hóa đơn nằm ở `df1` còn thông tin về hàng hóa lại nằm ở `df2`. Bạn phải giải quyết vấn đề này thế nào?"
   ]
  },
  {
   "cell_type": "markdown",
   "metadata": {
    "colab_type": "text",
    "id": "7l57Jm_HLsTo",
    "slideshow": {
     "slide_type": "subslide"
    }
   },
   "source": [
    "Một hướng giải quyết là bạn thêm 1 cột mới vào `df1` với điều kiện nếu `Product` là `'Apple'` thì giá trị tương ứng này là `10`, nếu `Product` là `'Banana'` thì giá trị tương ứng là `15`."
   ]
  },
  {
   "cell_type": "markdown",
   "metadata": {
    "colab_type": "text",
    "id": "ULVEjO_OEedc",
    "slideshow": {
     "slide_type": "subslide"
    }
   },
   "source": [
    "Khác với `concat` là dạng kết nối 2 hay nhiều `DataFrame` theo hình thức **dán** các `DataFrame` lại với nhau thì `merge` là hình thức kết nối 2 `DataFrame` lại dựa trên đặc điểm chung nào đó giữa 2 `DataFrame` đó."
   ]
  },
  {
   "cell_type": "code",
   "execution_count": 0,
   "metadata": {
    "colab": {
     "base_uri": "https://localhost:8080/",
     "height": 419
    },
    "colab_type": "code",
    "id": "-uqoyhpkC7dP",
    "outputId": "83a6b724-1d18-423e-d53d-b91e61f9d4b0",
    "slideshow": {
     "slide_type": "subslide"
    }
   },
   "outputs": [
    {
     "data": {
      "text/html": [
       "<div>\n",
       "<style scoped>\n",
       "    .dataframe tbody tr th:only-of-type {\n",
       "        vertical-align: middle;\n",
       "    }\n",
       "\n",
       "    .dataframe tbody tr th {\n",
       "        vertical-align: top;\n",
       "    }\n",
       "\n",
       "    .dataframe thead th {\n",
       "        text-align: right;\n",
       "    }\n",
       "</style>\n",
       "<table border=\"1\" class=\"dataframe\">\n",
       "  <thead>\n",
       "    <tr style=\"text-align: right;\">\n",
       "      <th></th>\n",
       "      <th>Date</th>\n",
       "      <th>Product</th>\n",
       "      <th>Quantity</th>\n",
       "      <th>Price</th>\n",
       "    </tr>\n",
       "  </thead>\n",
       "  <tbody>\n",
       "    <tr>\n",
       "      <th>0</th>\n",
       "      <td>2019-08-22</td>\n",
       "      <td>Apple</td>\n",
       "      <td>73</td>\n",
       "      <td>10</td>\n",
       "    </tr>\n",
       "    <tr>\n",
       "      <th>1</th>\n",
       "      <td>2019-12-05</td>\n",
       "      <td>Apple</td>\n",
       "      <td>39</td>\n",
       "      <td>10</td>\n",
       "    </tr>\n",
       "    <tr>\n",
       "      <th>2</th>\n",
       "      <td>2019-11-19</td>\n",
       "      <td>Apple</td>\n",
       "      <td>0</td>\n",
       "      <td>10</td>\n",
       "    </tr>\n",
       "    <tr>\n",
       "      <th>3</th>\n",
       "      <td>2020-02-27</td>\n",
       "      <td>Apple</td>\n",
       "      <td>56</td>\n",
       "      <td>10</td>\n",
       "    </tr>\n",
       "    <tr>\n",
       "      <th>4</th>\n",
       "      <td>2020-02-01</td>\n",
       "      <td>Apple</td>\n",
       "      <td>0</td>\n",
       "      <td>10</td>\n",
       "    </tr>\n",
       "    <tr>\n",
       "      <th>...</th>\n",
       "      <td>...</td>\n",
       "      <td>...</td>\n",
       "      <td>...</td>\n",
       "      <td>...</td>\n",
       "    </tr>\n",
       "    <tr>\n",
       "      <th>95</th>\n",
       "      <td>2020-01-29</td>\n",
       "      <td>Cherry</td>\n",
       "      <td>16</td>\n",
       "      <td>20</td>\n",
       "    </tr>\n",
       "    <tr>\n",
       "      <th>96</th>\n",
       "      <td>2019-09-19</td>\n",
       "      <td>Cherry</td>\n",
       "      <td>98</td>\n",
       "      <td>20</td>\n",
       "    </tr>\n",
       "    <tr>\n",
       "      <th>97</th>\n",
       "      <td>2020-01-20</td>\n",
       "      <td>Cherry</td>\n",
       "      <td>25</td>\n",
       "      <td>20</td>\n",
       "    </tr>\n",
       "    <tr>\n",
       "      <th>98</th>\n",
       "      <td>2019-08-22</td>\n",
       "      <td>Cherry</td>\n",
       "      <td>79</td>\n",
       "      <td>20</td>\n",
       "    </tr>\n",
       "    <tr>\n",
       "      <th>99</th>\n",
       "      <td>2019-11-06</td>\n",
       "      <td>Cherry</td>\n",
       "      <td>82</td>\n",
       "      <td>20</td>\n",
       "    </tr>\n",
       "  </tbody>\n",
       "</table>\n",
       "<p>100 rows × 4 columns</p>\n",
       "</div>"
      ],
      "text/plain": [
       "         Date Product  Quantity  Price\n",
       "0  2019-08-22   Apple        73     10\n",
       "1  2019-12-05   Apple        39     10\n",
       "2  2019-11-19   Apple         0     10\n",
       "3  2020-02-27   Apple        56     10\n",
       "4  2020-02-01   Apple         0     10\n",
       "..        ...     ...       ...    ...\n",
       "95 2020-01-29  Cherry        16     20\n",
       "96 2019-09-19  Cherry        98     20\n",
       "97 2020-01-20  Cherry        25     20\n",
       "98 2019-08-22  Cherry        79     20\n",
       "99 2019-11-06  Cherry        82     20\n",
       "\n",
       "[100 rows x 4 columns]"
      ]
     },
     "execution_count": 17,
     "metadata": {
      "tags": []
     },
     "output_type": "execute_result"
    }
   ],
   "source": [
    "pd.merge(df1, df2)"
   ]
  },
  {
   "cell_type": "markdown",
   "metadata": {
    "colab_type": "text",
    "id": "Y_mJkLnsInSt",
    "slideshow": {
     "slide_type": "slide"
    }
   },
   "source": [
    "Cú pháp của `pd.merge()` như sau :\n",
    "```\n",
    "pd.merge(<DataFrame_trái>, <DataFrame_phải>)\n",
    "```"
   ]
  },
  {
   "cell_type": "markdown",
   "metadata": {
    "colab": {},
    "colab_type": "code",
    "id": "abdg-6MUIU5G"
   },
   "source": [
    "## Một số tham số của `pd.merge`\n",
    "Tham số `on` dùng để chỉ ra cột điều kiện để `merge`. Mặc định sẽ dùng tất cả các cột giống tên.\n",
    "\n",
    "Tham số `how` dùng để chỉ ra cách thức `merge`, bao gồm 4 giá trị :\n",
    "- `'inner'` : chỉ lấy các giá trị có trong cả hai bên trái, phải của `merge`.\n",
    "- `'outer'` : lấy tất cả giá trị trong cả hai bên của `merge`.\n",
    "- `'left'` : lấy tất cả giá trị bên trái.\n",
    "- `'right'` : lấy tất cả giá trị bên phải."
   ]
  },
  {
   "cell_type": "markdown",
   "metadata": {},
   "source": []
  },
  {
   "cell_type": "code",
   "execution_count": null,
   "metadata": {},
   "outputs": [],
   "source": []
  }
 ],
 "metadata": {
  "celltoolbar": "Slideshow",
  "colab": {
   "name": "Combining Dataframe",
   "provenance": []
  },
  "kernelspec": {
   "display_name": "Python 3",
   "language": "python",
   "name": "python3"
  },
  "language_info": {
   "codemirror_mode": {
    "name": "ipython",
    "version": 3
   },
   "file_extension": ".py",
   "mimetype": "text/x-python",
   "name": "python",
   "nbconvert_exporter": "python",
   "pygments_lexer": "ipython3",
   "version": "3.7.2"
  }
 },
 "nbformat": 4,
 "nbformat_minor": 1
}
