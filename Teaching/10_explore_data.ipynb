{
 "cells": [
  {
   "cell_type": "markdown",
   "metadata": {
    "colab_type": "text",
    "id": "DmjUBLNrvR4t",
    "slideshow": {
     "slide_type": "slide"
    }
   },
   "source": [
    "# Giới thiệu\n",
    "\n",
    "Trong bài này, chúng ta học về cách tổng hợp thông tin từ `DataFrame`.\n",
    "\n",
    "Về dữ liệu, chúng ta sẽ sử dụng lại dữ liệu về các tướng trong Liên Minh.\n"
   ]
  },
  {
   "cell_type": "code",
   "execution_count": 1,
   "metadata": {
    "colab": {
     "base_uri": "https://localhost:8080/",
     "height": 204
    },
    "colab_type": "code",
    "id": "7ntb9kUjfPl4",
    "outputId": "a7ebfd0d-5829-4fc2-de37-a3a2fff08ad8",
    "slideshow": {
     "slide_type": "subslide"
    }
   },
   "outputs": [
    {
     "data": {
      "text/html": [
       "<div>\n",
       "<style scoped>\n",
       "    .dataframe tbody tr th:only-of-type {\n",
       "        vertical-align: middle;\n",
       "    }\n",
       "\n",
       "    .dataframe tbody tr th {\n",
       "        vertical-align: top;\n",
       "    }\n",
       "\n",
       "    .dataframe thead th {\n",
       "        text-align: right;\n",
       "    }\n",
       "</style>\n",
       "<table border=\"1\" class=\"dataframe\">\n",
       "  <thead>\n",
       "    <tr style=\"text-align: right;\">\n",
       "      <th></th>\n",
       "      <th>champion</th>\n",
       "      <th>title</th>\n",
       "      <th>release_date</th>\n",
       "      <th>attack_at_lv1</th>\n",
       "      <th>attack_at_lv18</th>\n",
       "      <th>health_at_lv1</th>\n",
       "      <th>health_at_lv18</th>\n",
       "      <th>primary</th>\n",
       "    </tr>\n",
       "  </thead>\n",
       "  <tbody>\n",
       "    <tr>\n",
       "      <th>0</th>\n",
       "      <td>Aatrox</td>\n",
       "      <td>the Darkin Blade</td>\n",
       "      <td>2013-06-13</td>\n",
       "      <td>60.0000</td>\n",
       "      <td>145.0</td>\n",
       "      <td>580.00</td>\n",
       "      <td>2110.0</td>\n",
       "      <td>Juggernaut</td>\n",
       "    </tr>\n",
       "    <tr>\n",
       "      <th>1</th>\n",
       "      <td>Ahri</td>\n",
       "      <td>the Nine-Tailed Fox</td>\n",
       "      <td>2011-12-14</td>\n",
       "      <td>53.0400</td>\n",
       "      <td>104.0</td>\n",
       "      <td>526.00</td>\n",
       "      <td>2090.0</td>\n",
       "      <td>Burst</td>\n",
       "    </tr>\n",
       "    <tr>\n",
       "      <th>2</th>\n",
       "      <td>Akali</td>\n",
       "      <td>the Rogue Assassin</td>\n",
       "      <td>2010-05-11</td>\n",
       "      <td>62.4000</td>\n",
       "      <td>118.5</td>\n",
       "      <td>575.00</td>\n",
       "      <td>2190.0</td>\n",
       "      <td>Assassin</td>\n",
       "    </tr>\n",
       "    <tr>\n",
       "      <th>3</th>\n",
       "      <td>Alistar</td>\n",
       "      <td>the Minotaur</td>\n",
       "      <td>2009-02-21</td>\n",
       "      <td>61.1116</td>\n",
       "      <td>122.7</td>\n",
       "      <td>573.36</td>\n",
       "      <td>2375.4</td>\n",
       "      <td>Vanguard</td>\n",
       "    </tr>\n",
       "    <tr>\n",
       "      <th>4</th>\n",
       "      <td>Amumu</td>\n",
       "      <td>the Sad Mummy</td>\n",
       "      <td>2009-06-26</td>\n",
       "      <td>53.3800</td>\n",
       "      <td>118.0</td>\n",
       "      <td>613.12</td>\n",
       "      <td>2041.1</td>\n",
       "      <td>Vanguard</td>\n",
       "    </tr>\n",
       "  </tbody>\n",
       "</table>\n",
       "</div>"
      ],
      "text/plain": [
       "  champion                title release_date  attack_at_lv1  attack_at_lv18  \\\n",
       "0   Aatrox     the Darkin Blade   2013-06-13        60.0000           145.0   \n",
       "1     Ahri  the Nine-Tailed Fox   2011-12-14        53.0400           104.0   \n",
       "2    Akali   the Rogue Assassin   2010-05-11        62.4000           118.5   \n",
       "3  Alistar         the Minotaur   2009-02-21        61.1116           122.7   \n",
       "4    Amumu        the Sad Mummy   2009-06-26        53.3800           118.0   \n",
       "\n",
       "   health_at_lv1  health_at_lv18     primary  \n",
       "0         580.00          2110.0  Juggernaut  \n",
       "1         526.00          2090.0       Burst  \n",
       "2         575.00          2190.0    Assassin  \n",
       "3         573.36          2375.4    Vanguard  \n",
       "4         613.12          2041.1    Vanguard  "
      ]
     },
     "execution_count": 1,
     "metadata": {},
     "output_type": "execute_result"
    }
   ],
   "source": [
    "import pandas as pd\n",
    "\n",
    "data = pd.read_csv('https://raw.githubusercontent.com/Levytan/MIS.2019/master/Data/lol_champions.csv', sep = ';', decimal = ',')\n",
    "data = data.assign(release_date = pd.to_datetime(data.release_date))\n",
    "\n",
    "data.head()"
   ]
  },
  {
   "cell_type": "markdown",
   "metadata": {
    "colab_type": "text",
    "id": "VnLbI0c8wf7i",
    "slideshow": {
     "slide_type": "slide"
    }
   },
   "source": [
    "# Tổng hợp thông tin căn bản"
   ]
  },
  {
   "cell_type": "markdown",
   "metadata": {
    "colab_type": "text",
    "id": "vwfY4QM5KYkq",
    "slideshow": {
     "slide_type": "slide"
    }
   },
   "source": [
    "## Dùng phương thức có sẵn"
   ]
  },
  {
   "cell_type": "markdown",
   "metadata": {
    "colab_type": "text",
    "id": "YFgy7STYwjca",
    "slideshow": {
     "slide_type": "subslide"
    }
   },
   "source": [
    "Như đã học trong `Series`, chúng ta có một số phương thức tổng hợp thông tin như :\n",
    "- `.mean()`, `.median()` : trả về giá trị trung bình, trung vị.\n",
    "- `.min()`, `.max()` : trả về giá trị lớn nhất, nhỏ nhất.\n",
    "- `.std()`, `.var()` : trả về độ lệch chuẩn, phương sai.\n",
    "- `.sum()`, `.prod()` : trả về tổng, tích các phần tử.\n",
    "- `.describe()` : trả về thống kê mô tả."
   ]
  },
  {
   "cell_type": "code",
   "execution_count": 0,
   "metadata": {
    "colab": {
     "base_uri": "https://localhost:8080/",
     "height": 170
    },
    "colab_type": "code",
    "id": "kNusRNHhwStj",
    "outputId": "0790bf9c-9f9b-40df-964e-0e3b3c4ac2eb",
    "slideshow": {
     "slide_type": "subslide"
    }
   },
   "outputs": [
    {
     "data": {
      "text/plain": [
       "count    3.0\n",
       "mean     2.0\n",
       "std      1.0\n",
       "min      1.0\n",
       "25%      1.5\n",
       "50%      2.0\n",
       "75%      2.5\n",
       "max      3.0\n",
       "dtype: float64"
      ]
     },
     "execution_count": 7,
     "metadata": {
      "tags": []
     },
     "output_type": "execute_result"
    }
   ],
   "source": [
    "s = pd.Series([1, 2, 3])\n",
    "\n",
    "s.describe()"
   ]
  },
  {
   "cell_type": "markdown",
   "metadata": {
    "colab_type": "text",
    "id": "xA5KWNSCx95m",
    "slideshow": {
     "slide_type": "slide"
    }
   },
   "source": [
    "**Câu hỏi** : Nếu trong `Series` có giá trị `NaN`, các phương thức trên sẽ hoạt động như thế nào?"
   ]
  },
  {
   "cell_type": "markdown",
   "metadata": {
    "colab_type": "text",
    "id": "qZ8XuEn4yKjG",
    "slideshow": {
     "slide_type": "slide"
    }
   },
   "source": [
    "Đối với `DataFrame`, chúng ta cũng có những phương thức tương tự. \n",
    "\n",
    "Mặc định, các phương thức trên sẽ tổng hợp thông tin theo cột."
   ]
  },
  {
   "cell_type": "code",
   "execution_count": 0,
   "metadata": {
    "colab": {
     "base_uri": "https://localhost:8080/",
     "height": 102
    },
    "colab_type": "code",
    "id": "ampY16hYxvCT",
    "outputId": "7b4ad962-a309-4901-fd20-852819d2cdf7",
    "slideshow": {
     "slide_type": "subslide"
    }
   },
   "outputs": [
    {
     "data": {
      "text/plain": [
       "attack_at_lv1       59.351257\n",
       "attack_at_lv18     114.291781\n",
       "health_at_lv1      556.412603\n",
       "health_at_lv18    2059.282877\n",
       "dtype: float64"
      ]
     },
     "execution_count": 8,
     "metadata": {
      "tags": []
     },
     "output_type": "execute_result"
    }
   ],
   "source": [
    "data.mean()"
   ]
  },
  {
   "cell_type": "code",
   "execution_count": 2,
   "metadata": {
    "colab": {
     "base_uri": "https://localhost:8080/",
     "height": 170
    },
    "colab_type": "code",
    "id": "fo80K-CVyhgm",
    "outputId": "cea11eab-f171-4ac8-9e3a-91d671109fe9",
    "slideshow": {
     "slide_type": "subslide"
    }
   },
   "outputs": [
    {
     "data": {
      "text/plain": [
       "attack_at_lv1       70.00\n",
       "attack_at_lv18     153.00\n",
       "health_at_lv1      625.64\n",
       "health_at_lv18    2466.00\n",
       "dtype: float64"
      ]
     },
     "execution_count": 2,
     "metadata": {},
     "output_type": "execute_result"
    }
   ],
   "source": [
    "data.max(numeric_only = True)"
   ]
  },
  {
   "cell_type": "code",
   "execution_count": 0,
   "metadata": {
    "colab": {
     "base_uri": "https://localhost:8080/",
     "height": 297
    },
    "colab_type": "code",
    "id": "FL4paO39yoHQ",
    "outputId": "3c37a3ca-c7f0-4e31-b5f3-fa13c0f3879b",
    "slideshow": {
     "slide_type": "subslide"
    }
   },
   "outputs": [
    {
     "data": {
      "text/html": [
       "<div>\n",
       "<style scoped>\n",
       "    .dataframe tbody tr th:only-of-type {\n",
       "        vertical-align: middle;\n",
       "    }\n",
       "\n",
       "    .dataframe tbody tr th {\n",
       "        vertical-align: top;\n",
       "    }\n",
       "\n",
       "    .dataframe thead th {\n",
       "        text-align: right;\n",
       "    }\n",
       "</style>\n",
       "<table border=\"1\" class=\"dataframe\">\n",
       "  <thead>\n",
       "    <tr style=\"text-align: right;\">\n",
       "      <th></th>\n",
       "      <th>attack_at_lv1</th>\n",
       "      <th>attack_at_lv18</th>\n",
       "      <th>health_at_lv1</th>\n",
       "      <th>health_at_lv18</th>\n",
       "    </tr>\n",
       "  </thead>\n",
       "  <tbody>\n",
       "    <tr>\n",
       "      <th>count</th>\n",
       "      <td>146.000000</td>\n",
       "      <td>146.000000</td>\n",
       "      <td>146.000000</td>\n",
       "      <td>146.000000</td>\n",
       "    </tr>\n",
       "    <tr>\n",
       "      <th>mean</th>\n",
       "      <td>59.351257</td>\n",
       "      <td>114.291781</td>\n",
       "      <td>556.412603</td>\n",
       "      <td>2059.282877</td>\n",
       "    </tr>\n",
       "    <tr>\n",
       "      <th>std</th>\n",
       "      <td>6.204104</td>\n",
       "      <td>14.653974</td>\n",
       "      <td>35.273908</td>\n",
       "      <td>135.510481</td>\n",
       "    </tr>\n",
       "    <tr>\n",
       "      <th>min</th>\n",
       "      <td>40.368000</td>\n",
       "      <td>50.000000</td>\n",
       "      <td>400.000000</td>\n",
       "      <td>1420.000000</td>\n",
       "    </tr>\n",
       "    <tr>\n",
       "      <th>25%</th>\n",
       "      <td>54.953425</td>\n",
       "      <td>105.850000</td>\n",
       "      <td>533.100000</td>\n",
       "      <td>2013.500000</td>\n",
       "    </tr>\n",
       "    <tr>\n",
       "      <th>50%</th>\n",
       "      <td>60.000000</td>\n",
       "      <td>114.250000</td>\n",
       "      <td>563.240000</td>\n",
       "      <td>2055.100000</td>\n",
       "    </tr>\n",
       "    <tr>\n",
       "      <th>75%</th>\n",
       "      <td>64.000000</td>\n",
       "      <td>121.725000</td>\n",
       "      <td>582.180000</td>\n",
       "      <td>2123.000000</td>\n",
       "    </tr>\n",
       "    <tr>\n",
       "      <th>max</th>\n",
       "      <td>70.000000</td>\n",
       "      <td>153.000000</td>\n",
       "      <td>625.640000</td>\n",
       "      <td>2466.000000</td>\n",
       "    </tr>\n",
       "  </tbody>\n",
       "</table>\n",
       "</div>"
      ],
      "text/plain": [
       "       attack_at_lv1  attack_at_lv18  health_at_lv1  health_at_lv18\n",
       "count     146.000000      146.000000     146.000000      146.000000\n",
       "mean       59.351257      114.291781     556.412603     2059.282877\n",
       "std         6.204104       14.653974      35.273908      135.510481\n",
       "min        40.368000       50.000000     400.000000     1420.000000\n",
       "25%        54.953425      105.850000     533.100000     2013.500000\n",
       "50%        60.000000      114.250000     563.240000     2055.100000\n",
       "75%        64.000000      121.725000     582.180000     2123.000000\n",
       "max        70.000000      153.000000     625.640000     2466.000000"
      ]
     },
     "execution_count": 10,
     "metadata": {
      "tags": []
     },
     "output_type": "execute_result"
    }
   ],
   "source": [
    "data.describe()"
   ]
  },
  {
   "cell_type": "markdown",
   "metadata": {
    "colab_type": "text",
    "id": "4m57SDtT1qaY",
    "slideshow": {
     "slide_type": "slide"
    }
   },
   "source": [
    "Ngoài ra, bạn có thể tổng hợp thông tin theo dòng bằng cách chỉ ra `axis = 'columns'` trong các phương thức trên."
   ]
  },
  {
   "cell_type": "code",
   "execution_count": 0,
   "metadata": {
    "colab": {
     "base_uri": "https://localhost:8080/",
     "height": 111
    },
    "colab_type": "code",
    "id": "eNUbnX5BznH7",
    "outputId": "f4fe4521-4ed5-483e-dc6b-a3de9c1efc89",
    "slideshow": {
     "slide_type": "subslide"
    }
   },
   "outputs": [
    {
     "data": {
      "text/html": [
       "<div>\n",
       "<style scoped>\n",
       "    .dataframe tbody tr th:only-of-type {\n",
       "        vertical-align: middle;\n",
       "    }\n",
       "\n",
       "    .dataframe tbody tr th {\n",
       "        vertical-align: top;\n",
       "    }\n",
       "\n",
       "    .dataframe thead th {\n",
       "        text-align: right;\n",
       "    }\n",
       "</style>\n",
       "<table border=\"1\" class=\"dataframe\">\n",
       "  <thead>\n",
       "    <tr style=\"text-align: right;\">\n",
       "      <th></th>\n",
       "      <th>A</th>\n",
       "      <th>B</th>\n",
       "      <th>C</th>\n",
       "    </tr>\n",
       "  </thead>\n",
       "  <tbody>\n",
       "    <tr>\n",
       "      <th>0</th>\n",
       "      <td>1</td>\n",
       "      <td>2</td>\n",
       "      <td>3</td>\n",
       "    </tr>\n",
       "    <tr>\n",
       "      <th>1</th>\n",
       "      <td>4</td>\n",
       "      <td>5</td>\n",
       "      <td>6</td>\n",
       "    </tr>\n",
       "  </tbody>\n",
       "</table>\n",
       "</div>"
      ],
      "text/plain": [
       "   A  B  C\n",
       "0  1  2  3\n",
       "1  4  5  6"
      ]
     },
     "execution_count": 13,
     "metadata": {
      "tags": []
     },
     "output_type": "execute_result"
    }
   ],
   "source": [
    "df = pd.DataFrame([\n",
    "    [1, 2, 3],\n",
    "    [4, 5, 6]\n",
    "], columns = list('ABC'))\n",
    "\n",
    "df"
   ]
  },
  {
   "cell_type": "code",
   "execution_count": 0,
   "metadata": {
    "colab": {
     "base_uri": "https://localhost:8080/",
     "height": 68
    },
    "colab_type": "code",
    "id": "vyWGLnIm2jts",
    "outputId": "2488e871-d050-43fd-fc8f-d03129dc477a",
    "slideshow": {
     "slide_type": "subslide"
    }
   },
   "outputs": [
    {
     "data": {
      "text/plain": [
       "0    3\n",
       "1    6\n",
       "dtype: int64"
      ]
     },
     "execution_count": 14,
     "metadata": {
      "tags": []
     },
     "output_type": "execute_result"
    }
   ],
   "source": [
    "df.max(axis = 'columns')"
   ]
  },
  {
   "cell_type": "code",
   "execution_count": 0,
   "metadata": {
    "colab": {
     "base_uri": "https://localhost:8080/",
     "height": 68
    },
    "colab_type": "code",
    "id": "ctG8BK712suv",
    "outputId": "b6792fb8-6e55-4aeb-f32f-1c4460f818d8",
    "slideshow": {
     "slide_type": "subslide"
    }
   },
   "outputs": [
    {
     "data": {
      "text/plain": [
       "0    2.0\n",
       "1    5.0\n",
       "dtype: float64"
      ]
     },
     "execution_count": 15,
     "metadata": {
      "tags": []
     },
     "output_type": "execute_result"
    }
   ],
   "source": [
    "df.mean(axis = 'columns')"
   ]
  },
  {
   "cell_type": "markdown",
   "metadata": {
    "colab_type": "text",
    "id": "pWjDvOo1Khbj",
    "slideshow": {
     "slide_type": "slide"
    }
   },
   "source": [
    "## Dùng các hàm tổng hợp tự định nghĩa\n",
    "Ngoài cách dùng các phương thức có sẵn, bạn có thể dùng các hàm tổng hợp thông tin do chính bạn tự định nghĩa bằng cách dùng phương thức `.apply()` bằng cú pháp :\n",
    "```\n",
    "<tên_DataFrame>.apply(<hàm_định_nghĩa>)\n",
    "```\n"
   ]
  },
  {
   "cell_type": "code",
   "execution_count": 5,
   "metadata": {
    "colab": {
     "base_uri": "https://localhost:8080/",
     "height": 221
    },
    "colab_type": "code",
    "id": "GQdl5KxoLmEB",
    "outputId": "252608e6-cb91-47e3-aac5-09658aaa4217",
    "slideshow": {
     "slide_type": "subslide"
    }
   },
   "outputs": [
    {
     "data": {
      "text/plain": [
       "0      2013\n",
       "1      2011\n",
       "2      2010\n",
       "3      2009\n",
       "4      2009\n",
       "5      2009\n",
       "6      2009\n",
       "7      2009\n",
       "8      2016\n",
       "9      2014\n",
       "10     2015\n",
       "11     2009\n",
       "12     2011\n",
       "13     2014\n",
       "14     2011\n",
       "15     2016\n",
       "16     2010\n",
       "17     2009\n",
       "18     2009\n",
       "19     2012\n",
       "20     2012\n",
       "21     2009\n",
       "22     2012\n",
       "23     2015\n",
       "24     2012\n",
       "25     2009\n",
       "26     2010\n",
       "27     2009\n",
       "28     2012\n",
       "29     2011\n",
       "       ... \n",
       "116    2013\n",
       "117    2009\n",
       "118    2010\n",
       "119    2009\n",
       "120    2009\n",
       "121    2009\n",
       "122    2009\n",
       "123    2010\n",
       "124    2012\n",
       "125    2011\n",
       "126    2009\n",
       "127    2014\n",
       "128    2012\n",
       "129    2011\n",
       "130    2010\n",
       "131    2011\n",
       "132    2009\n",
       "133    2011\n",
       "134    2017\n",
       "135    2011\n",
       "136    2010\n",
       "137    2013\n",
       "138    2011\n",
       "139    2019\n",
       "140    2013\n",
       "141    2012\n",
       "142    2012\n",
       "143    2009\n",
       "144    2017\n",
       "145    2012\n",
       "Name: release_date, Length: 146, dtype: int64"
      ]
     },
     "execution_count": 5,
     "metadata": {},
     "output_type": "execute_result"
    }
   ],
   "source": [
    "def get_year(x):\n",
    "    return x.year\n",
    "\n",
    "data.release_date.apply(get_year)"
   ]
  },
  {
   "cell_type": "markdown",
   "metadata": {
    "colab_type": "text",
    "id": "Rbmk_5Jm3JY3",
    "slideshow": {
     "slide_type": "slide"
    }
   },
   "source": [
    "Các phương pháp tổng hợp thông tin trên cho thấy cái nhìn tổng quát về dữ liệu. \n",
    "\n",
    "Tuy nhiên, bao nhiêu đó là chưa đủ nếu bạn muốn tổng hợp thông tin về từng phân loại tướng. Vì vậy, chúng ta cùng tìm hiểu đến các phương pháp tổng hợp nâng cao."
   ]
  },
  {
   "cell_type": "markdown",
   "metadata": {
    "colab_type": "text",
    "id": "HPN0tg9F22LP",
    "slideshow": {
     "slide_type": "slide"
    }
   },
   "source": [
    "# Tổng hợp thông tin nâng cao : Gom nhóm (Group by)"
   ]
  },
  {
   "cell_type": "markdown",
   "metadata": {
    "colab_type": "text",
    "id": "Bghi7Jtz4LH7",
    "slideshow": {
     "slide_type": "subslide"
    }
   },
   "source": [
    "Bạn có thể hiểu Group by là một quá trình gồm 3 bước : tách ra (split) - tính toán (apply) - tập hợp lại (combine)."
   ]
  },
  {
   "cell_type": "markdown",
   "metadata": {
    "colab_type": "text",
    "id": "hOSeYT365FRB",
    "slideshow": {
     "slide_type": "subslide"
    }
   },
   "source": [
    "Dưới đây là minh họa cho Group by (trong đó việc tính toán là tính tổng)\n",
    "\n",
    "![Fig 1](https://jakevdp.github.io/PythonDataScienceHandbook/figures/03.08-split-apply-combine.png)"
   ]
  },
  {
   "cell_type": "markdown",
   "metadata": {
    "colab_type": "text",
    "id": "tY6eAAJF5Za-",
    "slideshow": {
     "slide_type": "slide"
    }
   },
   "source": [
    "## Split"
   ]
  },
  {
   "cell_type": "markdown",
   "metadata": {
    "colab_type": "text",
    "id": "NzBLLibn6NU0",
    "slideshow": {
     "slide_type": "subslide"
    }
   },
   "source": [
    "Tách dữ liệu là hành động chia `DataFrame` thành nhiều `DataFrame` khác dựa trên giá trị của `cột_tách`. Để tách dữ liệu, ban dùng cú pháp sau :\n",
    "```\n",
    "<tên_DataFrame>.groupby(<cột_tách>)\n",
    "```"
   ]
  },
  {
   "cell_type": "code",
   "execution_count": 0,
   "metadata": {
    "colab": {
     "base_uri": "https://localhost:8080/",
     "height": 34
    },
    "colab_type": "code",
    "id": "2at5nu5b2z1z",
    "outputId": "54baf223-362c-4968-c89e-670d311cc39c",
    "slideshow": {
     "slide_type": "subslide"
    }
   },
   "outputs": [
    {
     "data": {
      "text/plain": [
       "<pandas.core.groupby.generic.DataFrameGroupBy object at 0x7f6fc3538eb8>"
      ]
     },
     "execution_count": 19,
     "metadata": {
      "tags": []
     },
     "output_type": "execute_result"
    }
   ],
   "source": [
    "# tách data theo primary\n",
    "data.groupby('primary')"
   ]
  },
  {
   "cell_type": "markdown",
   "metadata": {
    "colab_type": "text",
    "id": "MBtWFmU77E4k",
    "slideshow": {
     "slide_type": "subslide"
    }
   },
   "source": [
    "Chú ý, kết quả trả về không phải là một danh sách các `DataFrame` được tách ra từ `DataFrame` gốc mà là một đối tượng `GroupBy`. Bạn có thể lặp qua đối tượng `GroupBy` giống như ví dụ sau"
   ]
  },
  {
   "cell_type": "code",
   "execution_count": 0,
   "metadata": {
    "colab": {
     "base_uri": "https://localhost:8080/",
     "height": 238
    },
    "colab_type": "code",
    "id": "Kh06d3pZ7C7e",
    "outputId": "a9c074eb-0dac-4883-8fe6-736f6283ef1f",
    "slideshow": {
     "slide_type": "subslide"
    }
   },
   "outputs": [
    {
     "name": "stdout",
     "output_type": "stream",
     "text": [
      "Phân loại Artillery có 4 tướng.\n",
      "Phân loại Assassin có 15 tướng.\n",
      "Phân loại Battlemage có 11 tướng.\n",
      "Phân loại Burst có 14 tướng.\n",
      "Phân loại Catcher có 7 tướng.\n",
      "Phân loại Diver có 16 tướng.\n",
      "Phân loại Enchanter có 7 tướng.\n",
      "Phân loại Juggernaut có 13 tướng.\n",
      "Phân loại Marksman có 20 tướng.\n",
      "Phân loại Skirmisher có 7 tướng.\n",
      "Phân loại Specialist có 14 tướng.\n",
      "Phân loại Vanguard có 13 tướng.\n",
      "Phân loại Warden có 5 tướng.\n"
     ]
    }
   ],
   "source": [
    "for primary, df in data.groupby('primary') :\n",
    "    print(f'Phân loại {primary} có {df.shape[0]} tướng.')"
   ]
  },
  {
   "cell_type": "markdown",
   "metadata": {
    "colab_type": "text",
    "id": "CUwCmYzW8x93",
    "slideshow": {
     "slide_type": "slide"
    }
   },
   "source": [
    "## Apply"
   ]
  },
  {
   "cell_type": "markdown",
   "metadata": {
    "colab_type": "text",
    "id": "NNPEjSUk81fi",
    "slideshow": {
     "slide_type": "subslide"
    }
   },
   "source": [
    "Khi đã có đối tượng `GroupBy`, bạn có thể gọi ra các phương thức tổng hợp cơ bản ở trên."
   ]
  },
  {
   "cell_type": "code",
   "execution_count": 0,
   "metadata": {
    "colab": {
     "base_uri": "https://localhost:8080/",
     "height": 272
    },
    "colab_type": "code",
    "id": "fdAsz0X58pv9",
    "outputId": "48de2e3b-3e8c-4b9d-cea3-9ffe68165d71",
    "slideshow": {
     "slide_type": "subslide"
    }
   },
   "outputs": [
    {
     "data": {
      "text/plain": [
       "primary\n",
       "Artillery     560.00\n",
       "Assassin      602.00\n",
       "Battlemage    589.00\n",
       "Burst         585.00\n",
       "Catcher       585.00\n",
       "Diver         601.28\n",
       "Enchanter     575.00\n",
       "Juggernaut    620.00\n",
       "Marksman      582.00\n",
       "Skirmisher    625.64\n",
       "Specialist    610.00\n",
       "Vanguard      615.00\n",
       "Warden        600.00\n",
       "Name: health_at_lv1, dtype: float64"
      ]
     },
     "execution_count": 21,
     "metadata": {
      "tags": []
     },
     "output_type": "execute_result"
    }
   ],
   "source": [
    "# in ra lượng máu nhiều nhất ở cấp 1 của từng phân loại\n",
    "data.groupby('primary')['health_at_lv1'].max()"
   ]
  },
  {
   "cell_type": "code",
   "execution_count": 0,
   "metadata": {
    "colab": {
     "base_uri": "https://localhost:8080/",
     "height": 272
    },
    "colab_type": "code",
    "id": "bS_2M12P9r9Q",
    "outputId": "6269523d-0da8-4987-e392-21f239159e14",
    "slideshow": {
     "slide_type": "subslide"
    }
   },
   "outputs": [
    {
     "data": {
      "text/plain": [
       "primary\n",
       "Artillery     2074.000000\n",
       "Assassin      2114.386667\n",
       "Battlemage    2061.136364\n",
       "Burst         2081.478571\n",
       "Catcher       2078.442857\n",
       "Diver         2045.993750\n",
       "Enchanter     1805.957143\n",
       "Juggernaut    2159.584615\n",
       "Marksman      2024.550000\n",
       "Skirmisher    2077.071429\n",
       "Specialist    1968.757143\n",
       "Vanguard      2107.376923\n",
       "Warden        2168.000000\n",
       "Name: health_at_lv18, dtype: float64"
      ]
     },
     "execution_count": 22,
     "metadata": {
      "tags": []
     },
     "output_type": "execute_result"
    }
   ],
   "source": [
    "# in ra lượng máu trung bình ở cấp 18 của từng phân loại\n",
    "data.groupby('primary')['health_at_lv18'].mean()"
   ]
  }
 ],
 "metadata": {
  "celltoolbar": "Slideshow",
  "colab": {
   "name": "Explore Data",
   "provenance": []
  },
  "kernelspec": {
   "display_name": "Python 3",
   "language": "python",
   "name": "python3"
  },
  "language_info": {
   "codemirror_mode": {
    "name": "ipython",
    "version": 3
   },
   "file_extension": ".py",
   "mimetype": "text/x-python",
   "name": "python",
   "nbconvert_exporter": "python",
   "pygments_lexer": "ipython3",
   "version": "3.7.2"
  }
 },
 "nbformat": 4,
 "nbformat_minor": 1
}
