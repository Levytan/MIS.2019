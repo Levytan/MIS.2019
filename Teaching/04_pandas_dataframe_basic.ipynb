{
  "nbformat": 4,
  "nbformat_minor": 0,
  "metadata": {
    "colab": {
      "name": "DataFrame",
      "provenance": []
    },
    "kernelspec": {
      "name": "python3",
      "display_name": "Python 3"
    }
  },
  "cells": [
    {
      "cell_type": "markdown",
      "metadata": {
        "id": "HMlkY7HiYfSK",
        "colab_type": "text"
      },
      "source": [
        "# Giới thiệu"
      ]
    },
    {
      "cell_type": "markdown",
      "metadata": {
        "id": "8mFYX9Ena2sJ",
        "colab_type": "text"
      },
      "source": [
        "`pandas.DataFrame` (gọi tắt là `DataFrame`) là một mảng hai chiều có gắn nhãn."
      ]
    },
    {
      "cell_type": "markdown",
      "metadata": {
        "id": "4zvGH3GEbTlq",
        "colab_type": "text"
      },
      "source": [
        "`DataFrame` có một số đặc điểm sau :\n",
        "- `DataFrame` là một mảng hai chiều\n",
        "- `DataFrame` có thể xem như là nhiều `Series` có chung label (index) được ghép kế tiếp nhau\n",
        "- Dữ liệu trong một cột là đồng nhất.\n",
        "- Tuy nhiên, hai cột khác nhau có thể có kiểu dữ liệu khác nhau.\n",
        "- Có thể thay đổi kích thước `DataFrame` bằng cách thêm bớt dòng cột."
      ]
    },
    {
      "cell_type": "markdown",
      "metadata": {
        "id": "9jNfPqyOdUJ-",
        "colab_type": "text"
      },
      "source": [
        "Ví dụ một `DataFrame` "
      ]
    },
    {
      "cell_type": "code",
      "metadata": {
        "id": "594faXxxWP4R",
        "colab_type": "code",
        "outputId": "d4d82cf9-9f21-4afd-da5d-02b4ac0dc2ad",
        "colab": {
          "base_uri": "https://localhost:8080/",
          "height": 142
        }
      },
      "source": [
        "import pandas as pd\n",
        "\n",
        "pd.DataFrame({'Product' : ['Apple', 'Banana', 'Cherry'], 'Quantity' : [12, 34, 56], 'Price' : [10, 5, 8]})"
      ],
      "execution_count": 1,
      "outputs": [
        {
          "output_type": "execute_result",
          "data": {
            "text/html": [
              "<div>\n",
              "<style scoped>\n",
              "    .dataframe tbody tr th:only-of-type {\n",
              "        vertical-align: middle;\n",
              "    }\n",
              "\n",
              "    .dataframe tbody tr th {\n",
              "        vertical-align: top;\n",
              "    }\n",
              "\n",
              "    .dataframe thead th {\n",
              "        text-align: right;\n",
              "    }\n",
              "</style>\n",
              "<table border=\"1\" class=\"dataframe\">\n",
              "  <thead>\n",
              "    <tr style=\"text-align: right;\">\n",
              "      <th></th>\n",
              "      <th>Product</th>\n",
              "      <th>Quantity</th>\n",
              "      <th>Price</th>\n",
              "    </tr>\n",
              "  </thead>\n",
              "  <tbody>\n",
              "    <tr>\n",
              "      <th>0</th>\n",
              "      <td>Apple</td>\n",
              "      <td>12</td>\n",
              "      <td>10</td>\n",
              "    </tr>\n",
              "    <tr>\n",
              "      <th>1</th>\n",
              "      <td>Banana</td>\n",
              "      <td>34</td>\n",
              "      <td>5</td>\n",
              "    </tr>\n",
              "    <tr>\n",
              "      <th>2</th>\n",
              "      <td>Cherry</td>\n",
              "      <td>56</td>\n",
              "      <td>8</td>\n",
              "    </tr>\n",
              "  </tbody>\n",
              "</table>\n",
              "</div>"
            ],
            "text/plain": [
              "  Product  Quantity  Price\n",
              "0   Apple        12     10\n",
              "1  Banana        34      5\n",
              "2  Cherry        56      8"
            ]
          },
          "metadata": {
            "tags": []
          },
          "execution_count": 1
        }
      ]
    },
    {
      "cell_type": "markdown",
      "metadata": {
        "id": "MUuyeLAge1We",
        "colab_type": "text"
      },
      "source": [
        "# Cách khởi tạo `DataFrame`"
      ]
    },
    {
      "cell_type": "markdown",
      "metadata": {
        "id": "WWeC64Eufwsh",
        "colab_type": "text"
      },
      "source": [
        "Để khởi tạo một `DataFrame`, bạn có thể dùng cú pháp sau :\n",
        "```\n",
        "pandas.DataFrame(data, index, columns)\n",
        "```\n",
        "Trong đó :\n",
        "- `data` : dữ liệu truyền vào, có thể bỏ trống\n",
        "- `index` : label của từng dòng, có thể bỏ trống\n",
        "- `columns` : label của từng cột, có thể bỏ trống\n",
        "\n",
        "Ngoài ra, còn 2 tham số khác nữa là `dtype` và `copy`. Tuy nhiên, chúng ta sẽ không dùng nó trong bài học này."
      ]
    },
    {
      "cell_type": "markdown",
      "metadata": {
        "id": "FH_H9XDvhBx9",
        "colab_type": "text"
      },
      "source": [
        "Cùng phân tích một số ví dụ để hiểu rõ hơn về cách tạo `DataFrame`"
      ]
    },
    {
      "cell_type": "markdown",
      "metadata": {
        "id": "3UMDWJYMhez5",
        "colab_type": "text"
      },
      "source": [
        "Tạo `DataFrame` từ một list"
      ]
    },
    {
      "cell_type": "code",
      "metadata": {
        "id": "oUEMszLQdlrL",
        "colab_type": "code",
        "outputId": "4640ee67-6b56-4b66-a6f7-3488f34c637d",
        "colab": {
          "base_uri": "https://localhost:8080/",
          "height": 204
        }
      },
      "source": [
        "# list\n",
        "l = [0, 1, 2, 3, 5]\n",
        "# DataFrame từ list\n",
        "pd.DataFrame(data = l) # pd.DataFrame(l)"
      ],
      "execution_count": 0,
      "outputs": [
        {
          "output_type": "execute_result",
          "data": {
            "text/html": [
              "<div>\n",
              "<style scoped>\n",
              "    .dataframe tbody tr th:only-of-type {\n",
              "        vertical-align: middle;\n",
              "    }\n",
              "\n",
              "    .dataframe tbody tr th {\n",
              "        vertical-align: top;\n",
              "    }\n",
              "\n",
              "    .dataframe thead th {\n",
              "        text-align: right;\n",
              "    }\n",
              "</style>\n",
              "<table border=\"1\" class=\"dataframe\">\n",
              "  <thead>\n",
              "    <tr style=\"text-align: right;\">\n",
              "      <th></th>\n",
              "      <th>0</th>\n",
              "    </tr>\n",
              "  </thead>\n",
              "  <tbody>\n",
              "    <tr>\n",
              "      <th>0</th>\n",
              "      <td>0</td>\n",
              "    </tr>\n",
              "    <tr>\n",
              "      <th>1</th>\n",
              "      <td>1</td>\n",
              "    </tr>\n",
              "    <tr>\n",
              "      <th>2</th>\n",
              "      <td>2</td>\n",
              "    </tr>\n",
              "    <tr>\n",
              "      <th>3</th>\n",
              "      <td>3</td>\n",
              "    </tr>\n",
              "    <tr>\n",
              "      <th>4</th>\n",
              "      <td>5</td>\n",
              "    </tr>\n",
              "  </tbody>\n",
              "</table>\n",
              "</div>"
            ],
            "text/plain": [
              "   0\n",
              "0  0\n",
              "1  1\n",
              "2  2\n",
              "3  3\n",
              "4  5"
            ]
          },
          "metadata": {
            "tags": []
          },
          "execution_count": 5
        }
      ]
    },
    {
      "cell_type": "markdown",
      "metadata": {
        "id": "ttG-W6gViF05",
        "colab_type": "text"
      },
      "source": [
        "Tạo `DataFrame` từ `list` của `list`"
      ]
    },
    {
      "cell_type": "code",
      "metadata": {
        "id": "qD9chrq0fvtd",
        "colab_type": "code",
        "outputId": "0252ba7e-89dd-4a18-b9ea-273a6b00a1b8",
        "colab": {
          "base_uri": "https://localhost:8080/",
          "height": 142
        }
      },
      "source": [
        "# list của list\n",
        "ll = [\n",
        "  ['Apple', 100], \n",
        "  ['Banana', 25], \n",
        "  ['Cherry', 36]\n",
        "]\n",
        "# tạo DataFrame\n",
        "pd.DataFrame(ll)"
      ],
      "execution_count": 0,
      "outputs": [
        {
          "output_type": "execute_result",
          "data": {
            "text/html": [
              "<div>\n",
              "<style scoped>\n",
              "    .dataframe tbody tr th:only-of-type {\n",
              "        vertical-align: middle;\n",
              "    }\n",
              "\n",
              "    .dataframe tbody tr th {\n",
              "        vertical-align: top;\n",
              "    }\n",
              "\n",
              "    .dataframe thead th {\n",
              "        text-align: right;\n",
              "    }\n",
              "</style>\n",
              "<table border=\"1\" class=\"dataframe\">\n",
              "  <thead>\n",
              "    <tr style=\"text-align: right;\">\n",
              "      <th></th>\n",
              "      <th>0</th>\n",
              "      <th>1</th>\n",
              "    </tr>\n",
              "  </thead>\n",
              "  <tbody>\n",
              "    <tr>\n",
              "      <th>0</th>\n",
              "      <td>Apple</td>\n",
              "      <td>100</td>\n",
              "    </tr>\n",
              "    <tr>\n",
              "      <th>1</th>\n",
              "      <td>Banana</td>\n",
              "      <td>25</td>\n",
              "    </tr>\n",
              "    <tr>\n",
              "      <th>2</th>\n",
              "      <td>Cherry</td>\n",
              "      <td>36</td>\n",
              "    </tr>\n",
              "  </tbody>\n",
              "</table>\n",
              "</div>"
            ],
            "text/plain": [
              "        0    1\n",
              "0   Apple  100\n",
              "1  Banana   25\n",
              "2  Cherry   36"
            ]
          },
          "metadata": {
            "tags": []
          },
          "execution_count": 27
        }
      ]
    },
    {
      "cell_type": "code",
      "metadata": {
        "id": "6vxSnsJC5q5j",
        "colab_type": "code",
        "outputId": "ad710a6e-d2b5-4910-acb9-c054ae51c329",
        "colab": {
          "base_uri": "https://localhost:8080/",
          "height": 142
        }
      },
      "source": [
        "# tạo DataFrame, có chỉ ra index và columns\n",
        "pd.DataFrame(ll, index = ['a', 'b', 'c'], columns = ['Product', 'Quantity'])"
      ],
      "execution_count": 0,
      "outputs": [
        {
          "output_type": "execute_result",
          "data": {
            "text/html": [
              "<div>\n",
              "<style scoped>\n",
              "    .dataframe tbody tr th:only-of-type {\n",
              "        vertical-align: middle;\n",
              "    }\n",
              "\n",
              "    .dataframe tbody tr th {\n",
              "        vertical-align: top;\n",
              "    }\n",
              "\n",
              "    .dataframe thead th {\n",
              "        text-align: right;\n",
              "    }\n",
              "</style>\n",
              "<table border=\"1\" class=\"dataframe\">\n",
              "  <thead>\n",
              "    <tr style=\"text-align: right;\">\n",
              "      <th></th>\n",
              "      <th>Product</th>\n",
              "      <th>Quantity</th>\n",
              "    </tr>\n",
              "  </thead>\n",
              "  <tbody>\n",
              "    <tr>\n",
              "      <th>a</th>\n",
              "      <td>Apple</td>\n",
              "      <td>100</td>\n",
              "    </tr>\n",
              "    <tr>\n",
              "      <th>b</th>\n",
              "      <td>Banana</td>\n",
              "      <td>25</td>\n",
              "    </tr>\n",
              "    <tr>\n",
              "      <th>c</th>\n",
              "      <td>Cherry</td>\n",
              "      <td>36</td>\n",
              "    </tr>\n",
              "  </tbody>\n",
              "</table>\n",
              "</div>"
            ],
            "text/plain": [
              "  Product  Quantity\n",
              "a   Apple       100\n",
              "b  Banana        25\n",
              "c  Cherry        36"
            ]
          },
          "metadata": {
            "tags": []
          },
          "execution_count": 21
        }
      ]
    },
    {
      "cell_type": "markdown",
      "metadata": {
        "id": "Yi_jWLjXizc5",
        "colab_type": "text"
      },
      "source": [
        "**Câu hỏi** : Nếu các `list` con trong `ll` có độ dài khác nhau thì có thể tạo được `DataFrame` từ `ll` hay không?"
      ]
    },
    {
      "cell_type": "markdown",
      "metadata": {
        "id": "43mjSTEf3tHU",
        "colab_type": "text"
      },
      "source": [
        "Tạo `DataFrame` từ `dictionary`"
      ]
    },
    {
      "cell_type": "code",
      "metadata": {
        "id": "g45G4MAkjMQb",
        "colab_type": "code",
        "outputId": "6369a4f1-24bd-4d8d-8b0b-99384b44ad4a",
        "colab": {
          "base_uri": "https://localhost:8080/",
          "height": 111
        }
      },
      "source": [
        "# tạo dictionary\n",
        "d1 = {\n",
        "    'col1' : ['Apple', 'Banana'], \n",
        "    'col2' : [1, 2], \n",
        "    'col3' : ['2019-10-02', '2019-11-01']\n",
        "}\n",
        "# tạo DataFrame\n",
        "pd.DataFrame(d1)"
      ],
      "execution_count": 0,
      "outputs": [
        {
          "output_type": "execute_result",
          "data": {
            "text/html": [
              "<div>\n",
              "<style scoped>\n",
              "    .dataframe tbody tr th:only-of-type {\n",
              "        vertical-align: middle;\n",
              "    }\n",
              "\n",
              "    .dataframe tbody tr th {\n",
              "        vertical-align: top;\n",
              "    }\n",
              "\n",
              "    .dataframe thead th {\n",
              "        text-align: right;\n",
              "    }\n",
              "</style>\n",
              "<table border=\"1\" class=\"dataframe\">\n",
              "  <thead>\n",
              "    <tr style=\"text-align: right;\">\n",
              "      <th></th>\n",
              "      <th>col1</th>\n",
              "      <th>col2</th>\n",
              "      <th>col3</th>\n",
              "    </tr>\n",
              "  </thead>\n",
              "  <tbody>\n",
              "    <tr>\n",
              "      <th>0</th>\n",
              "      <td>Apple</td>\n",
              "      <td>1</td>\n",
              "      <td>2019-10-02</td>\n",
              "    </tr>\n",
              "    <tr>\n",
              "      <th>1</th>\n",
              "      <td>Banana</td>\n",
              "      <td>2</td>\n",
              "      <td>2019-11-01</td>\n",
              "    </tr>\n",
              "  </tbody>\n",
              "</table>\n",
              "</div>"
            ],
            "text/plain": [
              "     col1  col2        col3\n",
              "0   Apple     1  2019-10-02\n",
              "1  Banana     2  2019-11-01"
            ]
          },
          "metadata": {
            "tags": []
          },
          "execution_count": 26
        }
      ]
    },
    {
      "cell_type": "markdown",
      "metadata": {
        "id": "36HFJRMs_6Ng",
        "colab_type": "text"
      },
      "source": [
        "**Câu hỏi**: Nếu độ dài các `list` khác nhau thì có thể tạo được `DataFrame` từ `d1` hay không?"
      ]
    },
    {
      "cell_type": "markdown",
      "metadata": {
        "id": "UdkrFIDJA6Xc",
        "colab_type": "text"
      },
      "source": [
        "Tạo `DataFrame` từ `list` các `dictionary`"
      ]
    },
    {
      "cell_type": "code",
      "metadata": {
        "id": "kPgPP3rK4j2x",
        "colab_type": "code",
        "outputId": "1555e58d-3106-434f-8502-09bcd1b5bec2",
        "colab": {
          "base_uri": "https://localhost:8080/",
          "height": 111
        }
      },
      "source": [
        "# tạo list mà mỗi phần tử là một dictionary\n",
        "ld = [\n",
        "      {'Date' : '2019-10-01', 'Ticker' : 'AAA', 'Close' : 100},\n",
        "      {'Date' : '2019-10-01', 'Ticker' : 'BBB', 'Close' : 200}\n",
        "]\n",
        "# tạo DataFrame\n",
        "pd.DataFrame(ld)"
      ],
      "execution_count": 0,
      "outputs": [
        {
          "output_type": "execute_result",
          "data": {
            "text/html": [
              "<div>\n",
              "<style scoped>\n",
              "    .dataframe tbody tr th:only-of-type {\n",
              "        vertical-align: middle;\n",
              "    }\n",
              "\n",
              "    .dataframe tbody tr th {\n",
              "        vertical-align: top;\n",
              "    }\n",
              "\n",
              "    .dataframe thead th {\n",
              "        text-align: right;\n",
              "    }\n",
              "</style>\n",
              "<table border=\"1\" class=\"dataframe\">\n",
              "  <thead>\n",
              "    <tr style=\"text-align: right;\">\n",
              "      <th></th>\n",
              "      <th>Date</th>\n",
              "      <th>Ticker</th>\n",
              "      <th>Close</th>\n",
              "    </tr>\n",
              "  </thead>\n",
              "  <tbody>\n",
              "    <tr>\n",
              "      <th>0</th>\n",
              "      <td>2019-10-01</td>\n",
              "      <td>AAA</td>\n",
              "      <td>100</td>\n",
              "    </tr>\n",
              "    <tr>\n",
              "      <th>1</th>\n",
              "      <td>2019-10-01</td>\n",
              "      <td>BBB</td>\n",
              "      <td>200</td>\n",
              "    </tr>\n",
              "  </tbody>\n",
              "</table>\n",
              "</div>"
            ],
            "text/plain": [
              "         Date Ticker  Close\n",
              "0  2019-10-01    AAA    100\n",
              "1  2019-10-01    BBB    200"
            ]
          },
          "metadata": {
            "tags": []
          },
          "execution_count": 28
        }
      ]
    },
    {
      "cell_type": "markdown",
      "metadata": {
        "id": "RqNlnN2XCduf",
        "colab_type": "text"
      },
      "source": [
        "**Câu hỏi** : Trong trường hợp `ld` ở trên, nếu `dictionary` thứ 2 là\n",
        "```\n",
        "{'Date' : '2019-10-01', 'Ticker' : 'BBB', 'Open': 205, 'Close' : 200}\n",
        "```\n",
        "thì có tạo được `DataFrame` từ `d2` hay không?"
      ]
    },
    {
      "cell_type": "markdown",
      "metadata": {
        "id": "0Mo-AnrwXz7b",
        "colab_type": "text"
      },
      "source": [
        "**Bài tập** : Tạo một `DataFrame` rỗng?"
      ]
    },
    {
      "cell_type": "markdown",
      "metadata": {
        "id": "Iir7dYKpEmG-",
        "colab_type": "text"
      },
      "source": [
        "# Các thao tác với `DataFrame`"
      ]
    },
    {
      "cell_type": "markdown",
      "metadata": {
        "id": "oiWXKWT2Gaj8",
        "colab_type": "text"
      },
      "source": [
        "Trong phần này, chúng ta sẽ sử dụng `DataFrame` mẫu sau"
      ]
    },
    {
      "cell_type": "code",
      "metadata": {
        "id": "xVxMEyXcGn-k",
        "colab_type": "code",
        "outputId": "9e7446e1-a7f8-437f-8c42-1497851eaf2f",
        "colab": {
          "base_uri": "https://localhost:8080/",
          "height": 359
        }
      },
      "source": [
        "import numpy as np\n",
        "\n",
        "d2 = {\n",
        "    'col1' : pd.date_range(start = '2019-11-20', periods = 10, freq = 'D'),\n",
        "    'col2' : np.random.choice(['Apple', 'Banana', 'Cherry'], size = 10),\n",
        "    'col3' : np.random.randint(100, size = 10)\n",
        "}\n",
        "df = pd.DataFrame(d2, index = list('abcdefghij'))\n",
        "df"
      ],
      "execution_count": 2,
      "outputs": [
        {
          "output_type": "execute_result",
          "data": {
            "text/html": [
              "<div>\n",
              "<style scoped>\n",
              "    .dataframe tbody tr th:only-of-type {\n",
              "        vertical-align: middle;\n",
              "    }\n",
              "\n",
              "    .dataframe tbody tr th {\n",
              "        vertical-align: top;\n",
              "    }\n",
              "\n",
              "    .dataframe thead th {\n",
              "        text-align: right;\n",
              "    }\n",
              "</style>\n",
              "<table border=\"1\" class=\"dataframe\">\n",
              "  <thead>\n",
              "    <tr style=\"text-align: right;\">\n",
              "      <th></th>\n",
              "      <th>col1</th>\n",
              "      <th>col2</th>\n",
              "      <th>col3</th>\n",
              "    </tr>\n",
              "  </thead>\n",
              "  <tbody>\n",
              "    <tr>\n",
              "      <th>a</th>\n",
              "      <td>2019-11-20</td>\n",
              "      <td>Apple</td>\n",
              "      <td>87</td>\n",
              "    </tr>\n",
              "    <tr>\n",
              "      <th>b</th>\n",
              "      <td>2019-11-21</td>\n",
              "      <td>Apple</td>\n",
              "      <td>58</td>\n",
              "    </tr>\n",
              "    <tr>\n",
              "      <th>c</th>\n",
              "      <td>2019-11-22</td>\n",
              "      <td>Cherry</td>\n",
              "      <td>71</td>\n",
              "    </tr>\n",
              "    <tr>\n",
              "      <th>d</th>\n",
              "      <td>2019-11-23</td>\n",
              "      <td>Banana</td>\n",
              "      <td>60</td>\n",
              "    </tr>\n",
              "    <tr>\n",
              "      <th>e</th>\n",
              "      <td>2019-11-24</td>\n",
              "      <td>Banana</td>\n",
              "      <td>52</td>\n",
              "    </tr>\n",
              "    <tr>\n",
              "      <th>f</th>\n",
              "      <td>2019-11-25</td>\n",
              "      <td>Banana</td>\n",
              "      <td>4</td>\n",
              "    </tr>\n",
              "    <tr>\n",
              "      <th>g</th>\n",
              "      <td>2019-11-26</td>\n",
              "      <td>Banana</td>\n",
              "      <td>78</td>\n",
              "    </tr>\n",
              "    <tr>\n",
              "      <th>h</th>\n",
              "      <td>2019-11-27</td>\n",
              "      <td>Apple</td>\n",
              "      <td>77</td>\n",
              "    </tr>\n",
              "    <tr>\n",
              "      <th>i</th>\n",
              "      <td>2019-11-28</td>\n",
              "      <td>Cherry</td>\n",
              "      <td>9</td>\n",
              "    </tr>\n",
              "    <tr>\n",
              "      <th>j</th>\n",
              "      <td>2019-11-29</td>\n",
              "      <td>Banana</td>\n",
              "      <td>33</td>\n",
              "    </tr>\n",
              "  </tbody>\n",
              "</table>\n",
              "</div>"
            ],
            "text/plain": [
              "        col1    col2  col3\n",
              "a 2019-11-20   Apple    87\n",
              "b 2019-11-21   Apple    58\n",
              "c 2019-11-22  Cherry    71\n",
              "d 2019-11-23  Banana    60\n",
              "e 2019-11-24  Banana    52\n",
              "f 2019-11-25  Banana     4\n",
              "g 2019-11-26  Banana    78\n",
              "h 2019-11-27   Apple    77\n",
              "i 2019-11-28  Cherry     9\n",
              "j 2019-11-29  Banana    33"
            ]
          },
          "metadata": {
            "tags": []
          },
          "execution_count": 2
        }
      ]
    },
    {
      "cell_type": "markdown",
      "metadata": {
        "id": "IDEJxdDeYA-y",
        "colab_type": "text"
      },
      "source": [
        "## Xem một số thông tin cơ bản của một `DataFrame` :\n",
        " "
      ]
    },
    {
      "cell_type": "markdown",
      "metadata": {
        "id": "1s397hs1YT93",
        "colab_type": "text"
      },
      "source": [
        "Bạn có thể xem một số thông tin cơ bản của `DataFrame` thông qua những thuộc tính sau :\n",
        "- `.size` : trả về số lượng phần tử của `DataFrame`\n",
        "- `.shape` : trả về kích thước của `DataFrame` với định dạng (dòng, cột)\n",
        "- `.ndim` : trả về số chiều của `DataFrame`. Vì `DataFrame` là mảng 2 chiều, nên kết quả trả về luôn là 2\n",
        "- `.empty` : trả về `True` nếu `DataFrame` là rỗng\n",
        "- `.dtypes` : trả về kiểu dữ liệu của từng cột\n",
        "- `.columns` : trả về danh sách các cột của `DataFrame`\n",
        "- `.index` : trả về label các dòng của `DataFrame`\n",
        "- `.axes` : trả về label của dòng và cột của `DataFrame`"
      ]
    },
    {
      "cell_type": "markdown",
      "metadata": {
        "id": "40tc_ogDasoa",
        "colab_type": "text"
      },
      "source": [
        "**Câu hỏi** : Giả sử một `DataFrame` được tạo như sau \n",
        "```\n",
        "df1 = pd.DataFrame(columns = ['x', 'y', 'z'])\n",
        "```\n",
        "Vậy, `df1` có rỗng hay không?"
      ]
    },
    {
      "cell_type": "markdown",
      "metadata": {
        "id": "0lV80zj85CB2",
        "colab_type": "text"
      },
      "source": [
        "## Đổi tên dòng và cột"
      ]
    },
    {
      "cell_type": "markdown",
      "metadata": {
        "id": "bxmMYvh-6HjQ",
        "colab_type": "text"
      },
      "source": [
        "Để đổi tên dòng và cột, ta có thể dùng phương thức `.rename()` như sau :\n",
        "```\n",
        "<tên_DataFrame>.rename(index = <tên_dòng_mới>, columns = <tên_cột_mới>)\n",
        "```\n",
        "Trong đó, `tên_dòng_mới` và `tên_cột_mới` là `dictionary` với cấu trúc\n",
        "```\n",
        "{<tên_cũ_1> : <tên_mới_1>, <tên_cũ_2> : <tên_mới_2>, ...}\n",
        "```"
      ]
    },
    {
      "cell_type": "code",
      "metadata": {
        "id": "qR0MwUyQ7rHd",
        "colab_type": "code",
        "colab": {
          "base_uri": "https://localhost:8080/",
          "height": 359
        },
        "outputId": "b8675b7e-10eb-409e-ec68-0c2c6c6328cb"
      },
      "source": [
        "# đổi tên cột `col1` thành `Date`\n",
        "df.rename(columns = {'col1' : 'Date'})"
      ],
      "execution_count": 3,
      "outputs": [
        {
          "output_type": "execute_result",
          "data": {
            "text/html": [
              "<div>\n",
              "<style scoped>\n",
              "    .dataframe tbody tr th:only-of-type {\n",
              "        vertical-align: middle;\n",
              "    }\n",
              "\n",
              "    .dataframe tbody tr th {\n",
              "        vertical-align: top;\n",
              "    }\n",
              "\n",
              "    .dataframe thead th {\n",
              "        text-align: right;\n",
              "    }\n",
              "</style>\n",
              "<table border=\"1\" class=\"dataframe\">\n",
              "  <thead>\n",
              "    <tr style=\"text-align: right;\">\n",
              "      <th></th>\n",
              "      <th>Date</th>\n",
              "      <th>col2</th>\n",
              "      <th>col3</th>\n",
              "    </tr>\n",
              "  </thead>\n",
              "  <tbody>\n",
              "    <tr>\n",
              "      <th>a</th>\n",
              "      <td>2019-11-20</td>\n",
              "      <td>Apple</td>\n",
              "      <td>87</td>\n",
              "    </tr>\n",
              "    <tr>\n",
              "      <th>b</th>\n",
              "      <td>2019-11-21</td>\n",
              "      <td>Apple</td>\n",
              "      <td>58</td>\n",
              "    </tr>\n",
              "    <tr>\n",
              "      <th>c</th>\n",
              "      <td>2019-11-22</td>\n",
              "      <td>Cherry</td>\n",
              "      <td>71</td>\n",
              "    </tr>\n",
              "    <tr>\n",
              "      <th>d</th>\n",
              "      <td>2019-11-23</td>\n",
              "      <td>Banana</td>\n",
              "      <td>60</td>\n",
              "    </tr>\n",
              "    <tr>\n",
              "      <th>e</th>\n",
              "      <td>2019-11-24</td>\n",
              "      <td>Banana</td>\n",
              "      <td>52</td>\n",
              "    </tr>\n",
              "    <tr>\n",
              "      <th>f</th>\n",
              "      <td>2019-11-25</td>\n",
              "      <td>Banana</td>\n",
              "      <td>4</td>\n",
              "    </tr>\n",
              "    <tr>\n",
              "      <th>g</th>\n",
              "      <td>2019-11-26</td>\n",
              "      <td>Banana</td>\n",
              "      <td>78</td>\n",
              "    </tr>\n",
              "    <tr>\n",
              "      <th>h</th>\n",
              "      <td>2019-11-27</td>\n",
              "      <td>Apple</td>\n",
              "      <td>77</td>\n",
              "    </tr>\n",
              "    <tr>\n",
              "      <th>i</th>\n",
              "      <td>2019-11-28</td>\n",
              "      <td>Cherry</td>\n",
              "      <td>9</td>\n",
              "    </tr>\n",
              "    <tr>\n",
              "      <th>j</th>\n",
              "      <td>2019-11-29</td>\n",
              "      <td>Banana</td>\n",
              "      <td>33</td>\n",
              "    </tr>\n",
              "  </tbody>\n",
              "</table>\n",
              "</div>"
            ],
            "text/plain": [
              "        Date    col2  col3\n",
              "a 2019-11-20   Apple    87\n",
              "b 2019-11-21   Apple    58\n",
              "c 2019-11-22  Cherry    71\n",
              "d 2019-11-23  Banana    60\n",
              "e 2019-11-24  Banana    52\n",
              "f 2019-11-25  Banana     4\n",
              "g 2019-11-26  Banana    78\n",
              "h 2019-11-27   Apple    77\n",
              "i 2019-11-28  Cherry     9\n",
              "j 2019-11-29  Banana    33"
            ]
          },
          "metadata": {
            "tags": []
          },
          "execution_count": 3
        }
      ]
    },
    {
      "cell_type": "markdown",
      "metadata": {
        "id": "EIqZUKaS7qUr",
        "colab_type": "text"
      },
      "source": [
        "Lưu ý :\n",
        "- `.rename()` sẽ trả về một `DataFrame` mới, không làm thay đổi `DataFrame` gốc. Nếu muốn thay đổi trực tiếp trên `DataFrame` gốc, thêm tham số `inplace = True`.\n",
        "- Có thể bỏ qua `index` nếu chỉ đổi tên cột và bỏ qua `columns` nếu chỉ đổi tên dòng.\n"
      ]
    },
    {
      "cell_type": "markdown",
      "metadata": {
        "id": "JD8tOXQu_a0V",
        "colab_type": "text"
      },
      "source": [
        "Ngoài ra, bạn có thể đổi tên *nhanh* toàn bộ cột theo cách sau :\n",
        "```\n",
        "<tên_DataFrame>.columns = <danh_sách_tên_cột_mới>\n",
        "```\n",
        "Cách này cũng đổi trực tiếp tên cột trong `DataFrame`.\n",
        "\n",
        "Tương tự bạn có thể đổi tên *nhanh* toàn bộ dòng theo cách sau :\n",
        "```\n",
        "<tên_DataFrame>.index = <danh_sách_tên_dòng_mới>\n",
        "```"
      ]
    },
    {
      "cell_type": "code",
      "metadata": {
        "id": "IrL0pa_nAkbm",
        "colab_type": "code",
        "colab": {
          "base_uri": "https://localhost:8080/",
          "height": 359
        },
        "outputId": "f9d68cd5-0e2f-41cc-a869-f0d22e823307"
      },
      "source": [
        "# tạo bản deep copy của df\n",
        "df2 = df.copy()\n",
        "# đổi tên toàn bộ cột của df2\n",
        "df2.columns = ['Date', 'Product', 'Quantity']\n",
        "df2"
      ],
      "execution_count": 4,
      "outputs": [
        {
          "output_type": "execute_result",
          "data": {
            "text/html": [
              "<div>\n",
              "<style scoped>\n",
              "    .dataframe tbody tr th:only-of-type {\n",
              "        vertical-align: middle;\n",
              "    }\n",
              "\n",
              "    .dataframe tbody tr th {\n",
              "        vertical-align: top;\n",
              "    }\n",
              "\n",
              "    .dataframe thead th {\n",
              "        text-align: right;\n",
              "    }\n",
              "</style>\n",
              "<table border=\"1\" class=\"dataframe\">\n",
              "  <thead>\n",
              "    <tr style=\"text-align: right;\">\n",
              "      <th></th>\n",
              "      <th>Date</th>\n",
              "      <th>Product</th>\n",
              "      <th>Quantity</th>\n",
              "    </tr>\n",
              "  </thead>\n",
              "  <tbody>\n",
              "    <tr>\n",
              "      <th>a</th>\n",
              "      <td>2019-11-20</td>\n",
              "      <td>Apple</td>\n",
              "      <td>87</td>\n",
              "    </tr>\n",
              "    <tr>\n",
              "      <th>b</th>\n",
              "      <td>2019-11-21</td>\n",
              "      <td>Apple</td>\n",
              "      <td>58</td>\n",
              "    </tr>\n",
              "    <tr>\n",
              "      <th>c</th>\n",
              "      <td>2019-11-22</td>\n",
              "      <td>Cherry</td>\n",
              "      <td>71</td>\n",
              "    </tr>\n",
              "    <tr>\n",
              "      <th>d</th>\n",
              "      <td>2019-11-23</td>\n",
              "      <td>Banana</td>\n",
              "      <td>60</td>\n",
              "    </tr>\n",
              "    <tr>\n",
              "      <th>e</th>\n",
              "      <td>2019-11-24</td>\n",
              "      <td>Banana</td>\n",
              "      <td>52</td>\n",
              "    </tr>\n",
              "    <tr>\n",
              "      <th>f</th>\n",
              "      <td>2019-11-25</td>\n",
              "      <td>Banana</td>\n",
              "      <td>4</td>\n",
              "    </tr>\n",
              "    <tr>\n",
              "      <th>g</th>\n",
              "      <td>2019-11-26</td>\n",
              "      <td>Banana</td>\n",
              "      <td>78</td>\n",
              "    </tr>\n",
              "    <tr>\n",
              "      <th>h</th>\n",
              "      <td>2019-11-27</td>\n",
              "      <td>Apple</td>\n",
              "      <td>77</td>\n",
              "    </tr>\n",
              "    <tr>\n",
              "      <th>i</th>\n",
              "      <td>2019-11-28</td>\n",
              "      <td>Cherry</td>\n",
              "      <td>9</td>\n",
              "    </tr>\n",
              "    <tr>\n",
              "      <th>j</th>\n",
              "      <td>2019-11-29</td>\n",
              "      <td>Banana</td>\n",
              "      <td>33</td>\n",
              "    </tr>\n",
              "  </tbody>\n",
              "</table>\n",
              "</div>"
            ],
            "text/plain": [
              "        Date Product  Quantity\n",
              "a 2019-11-20   Apple        87\n",
              "b 2019-11-21   Apple        58\n",
              "c 2019-11-22  Cherry        71\n",
              "d 2019-11-23  Banana        60\n",
              "e 2019-11-24  Banana        52\n",
              "f 2019-11-25  Banana         4\n",
              "g 2019-11-26  Banana        78\n",
              "h 2019-11-27   Apple        77\n",
              "i 2019-11-28  Cherry         9\n",
              "j 2019-11-29  Banana        33"
            ]
          },
          "metadata": {
            "tags": []
          },
          "execution_count": 4
        }
      ]
    },
    {
      "cell_type": "markdown",
      "metadata": {
        "id": "c4J5abauEsuq",
        "colab_type": "text"
      },
      "source": [
        "## Trích xuất dữ liệu theo cột"
      ]
    },
    {
      "cell_type": "markdown",
      "metadata": {
        "id": "aNUJLKssE0cu",
        "colab_type": "text"
      },
      "source": [
        "Để lấy dữ liệu từ 1 cột, ta có thể thực hiện theo 2 cách :\n",
        "1. `<tên_DataFrame>.<tên_cột>`, hoặc\n",
        "2. `<tên_DataFrame>[<tên_cột>]`\n",
        "\n",
        "Lưu ý là bạn chỉ có thể dùng cách 1 khi mà tên cột **không** chứa khoảng trắng."
      ]
    },
    {
      "cell_type": "markdown",
      "metadata": {
        "id": "GMFnFOiHGS74",
        "colab_type": "text"
      },
      "source": [
        "Ví dụ :"
      ]
    },
    {
      "cell_type": "code",
      "metadata": {
        "id": "v2mIB6nMCSqH",
        "colab_type": "code",
        "outputId": "10813c74-093f-464b-9390-c00a2a00140c",
        "colab": {
          "base_uri": "https://localhost:8080/",
          "height": 204
        }
      },
      "source": [
        "# lấy dữ liệu từ cột có tên 'col1'\n",
        "df['col1'] # df.col1"
      ],
      "execution_count": 0,
      "outputs": [
        {
          "output_type": "execute_result",
          "data": {
            "text/plain": [
              "a   2019-11-20\n",
              "b   2019-11-21\n",
              "c   2019-11-22\n",
              "d   2019-11-23\n",
              "e   2019-11-24\n",
              "f   2019-11-25\n",
              "g   2019-11-26\n",
              "h   2019-11-27\n",
              "i   2019-11-28\n",
              "j   2019-11-29\n",
              "Name: col1, dtype: datetime64[ns]"
            ]
          },
          "metadata": {
            "tags": []
          },
          "execution_count": 62
        }
      ]
    },
    {
      "cell_type": "markdown",
      "metadata": {
        "id": "c7kg36pVJRuv",
        "colab_type": "text"
      },
      "source": [
        "**Câu hỏi** : Kiểu dữ liệu của `df['col1']` trong ví dụ trên là gì?"
      ]
    },
    {
      "cell_type": "markdown",
      "metadata": {
        "id": "8w_1ctnTIQdq",
        "colab_type": "text"
      },
      "source": [
        "Để lấy dữ liệu từ nhiều cột, ta thực hiện như sau\n",
        "```\n",
        "<tên_DataFrame>[<danh_sách_tên_cột>]\n",
        "```"
      ]
    },
    {
      "cell_type": "markdown",
      "metadata": {
        "id": "WCNjAsq7IiWG",
        "colab_type": "text"
      },
      "source": [
        "Ví dụ :"
      ]
    },
    {
      "cell_type": "code",
      "metadata": {
        "id": "UtN-qEFkIGjH",
        "colab_type": "code",
        "outputId": "bd299db8-454a-4945-aa3a-60bab0165dfc",
        "colab": {
          "base_uri": "https://localhost:8080/",
          "height": 359
        }
      },
      "source": [
        "# lấy dữ liệu từ hai cột 'col1' và 'col2'\n",
        "df[['col1', 'col2']]"
      ],
      "execution_count": 0,
      "outputs": [
        {
          "output_type": "execute_result",
          "data": {
            "text/html": [
              "<div>\n",
              "<style scoped>\n",
              "    .dataframe tbody tr th:only-of-type {\n",
              "        vertical-align: middle;\n",
              "    }\n",
              "\n",
              "    .dataframe tbody tr th {\n",
              "        vertical-align: top;\n",
              "    }\n",
              "\n",
              "    .dataframe thead th {\n",
              "        text-align: right;\n",
              "    }\n",
              "</style>\n",
              "<table border=\"1\" class=\"dataframe\">\n",
              "  <thead>\n",
              "    <tr style=\"text-align: right;\">\n",
              "      <th></th>\n",
              "      <th>col1</th>\n",
              "      <th>col2</th>\n",
              "    </tr>\n",
              "  </thead>\n",
              "  <tbody>\n",
              "    <tr>\n",
              "      <th>a</th>\n",
              "      <td>2019-11-20</td>\n",
              "      <td>Banana</td>\n",
              "    </tr>\n",
              "    <tr>\n",
              "      <th>b</th>\n",
              "      <td>2019-11-21</td>\n",
              "      <td>Apple</td>\n",
              "    </tr>\n",
              "    <tr>\n",
              "      <th>c</th>\n",
              "      <td>2019-11-22</td>\n",
              "      <td>Cherry</td>\n",
              "    </tr>\n",
              "    <tr>\n",
              "      <th>d</th>\n",
              "      <td>2019-11-23</td>\n",
              "      <td>Banana</td>\n",
              "    </tr>\n",
              "    <tr>\n",
              "      <th>e</th>\n",
              "      <td>2019-11-24</td>\n",
              "      <td>Banana</td>\n",
              "    </tr>\n",
              "    <tr>\n",
              "      <th>f</th>\n",
              "      <td>2019-11-25</td>\n",
              "      <td>Apple</td>\n",
              "    </tr>\n",
              "    <tr>\n",
              "      <th>g</th>\n",
              "      <td>2019-11-26</td>\n",
              "      <td>Cherry</td>\n",
              "    </tr>\n",
              "    <tr>\n",
              "      <th>h</th>\n",
              "      <td>2019-11-27</td>\n",
              "      <td>Banana</td>\n",
              "    </tr>\n",
              "    <tr>\n",
              "      <th>i</th>\n",
              "      <td>2019-11-28</td>\n",
              "      <td>Apple</td>\n",
              "    </tr>\n",
              "    <tr>\n",
              "      <th>j</th>\n",
              "      <td>2019-11-29</td>\n",
              "      <td>Cherry</td>\n",
              "    </tr>\n",
              "  </tbody>\n",
              "</table>\n",
              "</div>"
            ],
            "text/plain": [
              "        col1    col2\n",
              "a 2019-11-20  Banana\n",
              "b 2019-11-21   Apple\n",
              "c 2019-11-22  Cherry\n",
              "d 2019-11-23  Banana\n",
              "e 2019-11-24  Banana\n",
              "f 2019-11-25   Apple\n",
              "g 2019-11-26  Cherry\n",
              "h 2019-11-27  Banana\n",
              "i 2019-11-28   Apple\n",
              "j 2019-11-29  Cherry"
            ]
          },
          "metadata": {
            "tags": []
          },
          "execution_count": 63
        }
      ]
    },
    {
      "cell_type": "markdown",
      "metadata": {
        "id": "lpjOuErKIz0n",
        "colab_type": "text"
      },
      "source": [
        "**Câu hỏi** : Phân biệt `df['col1']` và `df[['col1']]`."
      ]
    },
    {
      "cell_type": "markdown",
      "metadata": {
        "id": "I2ysKtlzJ0tJ",
        "colab_type": "text"
      },
      "source": [
        "## Trích xuất dữ liệu theo dòng"
      ]
    },
    {
      "cell_type": "markdown",
      "metadata": {
        "id": "7Dnp_osvJ8rt",
        "colab_type": "text"
      },
      "source": [
        "Giống như `Series`, bạn có thể trích xuất dữ liệu từ một (hoặc nhiều) dòng thông qua label hoặc số thứ tự của dòng.\n",
        "\n",
        "Tuy nhiên, bạn lại không thể dùng \n",
        "```\n",
        "<tên_DataFrame>[<label_dòng_cần lấy>]\n",
        "```\n",
        "vì đây là cách dùng để trích xuất cột."
      ]
    },
    {
      "cell_type": "code",
      "metadata": {
        "id": "HYxNZ1lNIu2e",
        "colab_type": "code",
        "outputId": "367859c2-c291-4aee-e1aa-56f9c4c92208",
        "colab": {
          "base_uri": "https://localhost:8080/",
          "height": 697
        }
      },
      "source": [
        "# Thử gọi dòng có label là 'a'\n",
        "df['a']"
      ],
      "execution_count": 0,
      "outputs": [
        {
          "output_type": "error",
          "ename": "KeyError",
          "evalue": "ignored",
          "traceback": [
            "\u001b[0;31m---------------------------------------------------------------------------\u001b[0m",
            "\u001b[0;31mKeyError\u001b[0m                                  Traceback (most recent call last)",
            "\u001b[0;32m/usr/local/lib/python3.6/dist-packages/pandas/core/indexes/base.py\u001b[0m in \u001b[0;36mget_loc\u001b[0;34m(self, key, method, tolerance)\u001b[0m\n\u001b[1;32m   2896\u001b[0m             \u001b[0;32mtry\u001b[0m\u001b[0;34m:\u001b[0m\u001b[0;34m\u001b[0m\u001b[0;34m\u001b[0m\u001b[0m\n\u001b[0;32m-> 2897\u001b[0;31m                 \u001b[0;32mreturn\u001b[0m \u001b[0mself\u001b[0m\u001b[0;34m.\u001b[0m\u001b[0m_engine\u001b[0m\u001b[0;34m.\u001b[0m\u001b[0mget_loc\u001b[0m\u001b[0;34m(\u001b[0m\u001b[0mkey\u001b[0m\u001b[0;34m)\u001b[0m\u001b[0;34m\u001b[0m\u001b[0;34m\u001b[0m\u001b[0m\n\u001b[0m\u001b[1;32m   2898\u001b[0m             \u001b[0;32mexcept\u001b[0m \u001b[0mKeyError\u001b[0m\u001b[0;34m:\u001b[0m\u001b[0;34m\u001b[0m\u001b[0;34m\u001b[0m\u001b[0m\n",
            "\u001b[0;32mpandas/_libs/index.pyx\u001b[0m in \u001b[0;36mpandas._libs.index.IndexEngine.get_loc\u001b[0;34m()\u001b[0m\n",
            "\u001b[0;32mpandas/_libs/index.pyx\u001b[0m in \u001b[0;36mpandas._libs.index.IndexEngine.get_loc\u001b[0;34m()\u001b[0m\n",
            "\u001b[0;32mpandas/_libs/hashtable_class_helper.pxi\u001b[0m in \u001b[0;36mpandas._libs.hashtable.PyObjectHashTable.get_item\u001b[0;34m()\u001b[0m\n",
            "\u001b[0;32mpandas/_libs/hashtable_class_helper.pxi\u001b[0m in \u001b[0;36mpandas._libs.hashtable.PyObjectHashTable.get_item\u001b[0;34m()\u001b[0m\n",
            "\u001b[0;31mKeyError\u001b[0m: 'a'",
            "\nDuring handling of the above exception, another exception occurred:\n",
            "\u001b[0;31mKeyError\u001b[0m                                  Traceback (most recent call last)",
            "\u001b[0;32m<ipython-input-40-0030cc624053>\u001b[0m in \u001b[0;36m<module>\u001b[0;34m()\u001b[0m\n\u001b[0;32m----> 1\u001b[0;31m \u001b[0mdf\u001b[0m\u001b[0;34m[\u001b[0m\u001b[0;34m'a'\u001b[0m\u001b[0;34m]\u001b[0m\u001b[0;34m\u001b[0m\u001b[0;34m\u001b[0m\u001b[0m\n\u001b[0m",
            "\u001b[0;32m/usr/local/lib/python3.6/dist-packages/pandas/core/frame.py\u001b[0m in \u001b[0;36m__getitem__\u001b[0;34m(self, key)\u001b[0m\n\u001b[1;32m   2993\u001b[0m             \u001b[0;32mif\u001b[0m \u001b[0mself\u001b[0m\u001b[0;34m.\u001b[0m\u001b[0mcolumns\u001b[0m\u001b[0;34m.\u001b[0m\u001b[0mnlevels\u001b[0m \u001b[0;34m>\u001b[0m \u001b[0;36m1\u001b[0m\u001b[0;34m:\u001b[0m\u001b[0;34m\u001b[0m\u001b[0;34m\u001b[0m\u001b[0m\n\u001b[1;32m   2994\u001b[0m                 \u001b[0;32mreturn\u001b[0m \u001b[0mself\u001b[0m\u001b[0;34m.\u001b[0m\u001b[0m_getitem_multilevel\u001b[0m\u001b[0;34m(\u001b[0m\u001b[0mkey\u001b[0m\u001b[0;34m)\u001b[0m\u001b[0;34m\u001b[0m\u001b[0;34m\u001b[0m\u001b[0m\n\u001b[0;32m-> 2995\u001b[0;31m             \u001b[0mindexer\u001b[0m \u001b[0;34m=\u001b[0m \u001b[0mself\u001b[0m\u001b[0;34m.\u001b[0m\u001b[0mcolumns\u001b[0m\u001b[0;34m.\u001b[0m\u001b[0mget_loc\u001b[0m\u001b[0;34m(\u001b[0m\u001b[0mkey\u001b[0m\u001b[0;34m)\u001b[0m\u001b[0;34m\u001b[0m\u001b[0;34m\u001b[0m\u001b[0m\n\u001b[0m\u001b[1;32m   2996\u001b[0m             \u001b[0;32mif\u001b[0m \u001b[0mis_integer\u001b[0m\u001b[0;34m(\u001b[0m\u001b[0mindexer\u001b[0m\u001b[0;34m)\u001b[0m\u001b[0;34m:\u001b[0m\u001b[0;34m\u001b[0m\u001b[0;34m\u001b[0m\u001b[0m\n\u001b[1;32m   2997\u001b[0m                 \u001b[0mindexer\u001b[0m \u001b[0;34m=\u001b[0m \u001b[0;34m[\u001b[0m\u001b[0mindexer\u001b[0m\u001b[0;34m]\u001b[0m\u001b[0;34m\u001b[0m\u001b[0;34m\u001b[0m\u001b[0m\n",
            "\u001b[0;32m/usr/local/lib/python3.6/dist-packages/pandas/core/indexes/base.py\u001b[0m in \u001b[0;36mget_loc\u001b[0;34m(self, key, method, tolerance)\u001b[0m\n\u001b[1;32m   2897\u001b[0m                 \u001b[0;32mreturn\u001b[0m \u001b[0mself\u001b[0m\u001b[0;34m.\u001b[0m\u001b[0m_engine\u001b[0m\u001b[0;34m.\u001b[0m\u001b[0mget_loc\u001b[0m\u001b[0;34m(\u001b[0m\u001b[0mkey\u001b[0m\u001b[0;34m)\u001b[0m\u001b[0;34m\u001b[0m\u001b[0;34m\u001b[0m\u001b[0m\n\u001b[1;32m   2898\u001b[0m             \u001b[0;32mexcept\u001b[0m \u001b[0mKeyError\u001b[0m\u001b[0;34m:\u001b[0m\u001b[0;34m\u001b[0m\u001b[0;34m\u001b[0m\u001b[0m\n\u001b[0;32m-> 2899\u001b[0;31m                 \u001b[0;32mreturn\u001b[0m \u001b[0mself\u001b[0m\u001b[0;34m.\u001b[0m\u001b[0m_engine\u001b[0m\u001b[0;34m.\u001b[0m\u001b[0mget_loc\u001b[0m\u001b[0;34m(\u001b[0m\u001b[0mself\u001b[0m\u001b[0;34m.\u001b[0m\u001b[0m_maybe_cast_indexer\u001b[0m\u001b[0;34m(\u001b[0m\u001b[0mkey\u001b[0m\u001b[0;34m)\u001b[0m\u001b[0;34m)\u001b[0m\u001b[0;34m\u001b[0m\u001b[0;34m\u001b[0m\u001b[0m\n\u001b[0m\u001b[1;32m   2900\u001b[0m         \u001b[0mindexer\u001b[0m \u001b[0;34m=\u001b[0m \u001b[0mself\u001b[0m\u001b[0;34m.\u001b[0m\u001b[0mget_indexer\u001b[0m\u001b[0;34m(\u001b[0m\u001b[0;34m[\u001b[0m\u001b[0mkey\u001b[0m\u001b[0;34m]\u001b[0m\u001b[0;34m,\u001b[0m \u001b[0mmethod\u001b[0m\u001b[0;34m=\u001b[0m\u001b[0mmethod\u001b[0m\u001b[0;34m,\u001b[0m \u001b[0mtolerance\u001b[0m\u001b[0;34m=\u001b[0m\u001b[0mtolerance\u001b[0m\u001b[0;34m)\u001b[0m\u001b[0;34m\u001b[0m\u001b[0;34m\u001b[0m\u001b[0m\n\u001b[1;32m   2901\u001b[0m         \u001b[0;32mif\u001b[0m \u001b[0mindexer\u001b[0m\u001b[0;34m.\u001b[0m\u001b[0mndim\u001b[0m \u001b[0;34m>\u001b[0m \u001b[0;36m1\u001b[0m \u001b[0;32mor\u001b[0m \u001b[0mindexer\u001b[0m\u001b[0;34m.\u001b[0m\u001b[0msize\u001b[0m \u001b[0;34m>\u001b[0m \u001b[0;36m1\u001b[0m\u001b[0;34m:\u001b[0m\u001b[0;34m\u001b[0m\u001b[0;34m\u001b[0m\u001b[0m\n",
            "\u001b[0;32mpandas/_libs/index.pyx\u001b[0m in \u001b[0;36mpandas._libs.index.IndexEngine.get_loc\u001b[0;34m()\u001b[0m\n",
            "\u001b[0;32mpandas/_libs/index.pyx\u001b[0m in \u001b[0;36mpandas._libs.index.IndexEngine.get_loc\u001b[0;34m()\u001b[0m\n",
            "\u001b[0;32mpandas/_libs/hashtable_class_helper.pxi\u001b[0m in \u001b[0;36mpandas._libs.hashtable.PyObjectHashTable.get_item\u001b[0;34m()\u001b[0m\n",
            "\u001b[0;32mpandas/_libs/hashtable_class_helper.pxi\u001b[0m in \u001b[0;36mpandas._libs.hashtable.PyObjectHashTable.get_item\u001b[0;34m()\u001b[0m\n",
            "\u001b[0;31mKeyError\u001b[0m: 'a'"
          ]
        }
      ]
    },
    {
      "cell_type": "markdown",
      "metadata": {
        "id": "k0MdLWtwMnPx",
        "colab_type": "text"
      },
      "source": [
        "Vậy phải làm sao để có thể lấy dữ liệu theo dòng?"
      ]
    },
    {
      "cell_type": "markdown",
      "metadata": {
        "id": "Ntbtz2kvM1O1",
        "colab_type": "text"
      },
      "source": [
        "Câu trả lời chính là dùng 2 đối tượng phái sinh từ `DataFrame` gốc ban đầu :\n",
        "- `.loc` sẽ giúp bạn lấy dòng theo label\n",
        "- `.iloc` sẽ giúp bạn lấy dòng theo số thứ tự "
      ]
    },
    {
      "cell_type": "code",
      "metadata": {
        "id": "qOWu80LCK0hj",
        "colab_type": "code",
        "outputId": "91b07834-a116-478d-b31f-1f4381796b57",
        "colab": {
          "base_uri": "https://localhost:8080/",
          "height": 85
        }
      },
      "source": [
        "# Gọi dòng có label là 'a' bằng .loc\n",
        "df.loc['a']"
      ],
      "execution_count": 0,
      "outputs": [
        {
          "output_type": "execute_result",
          "data": {
            "text/plain": [
              "col1    2019-11-20 00:00:00\n",
              "col2                 Banana\n",
              "col3                     12\n",
              "Name: a, dtype: object"
            ]
          },
          "metadata": {
            "tags": []
          },
          "execution_count": 64
        }
      ]
    },
    {
      "cell_type": "code",
      "metadata": {
        "id": "e-BGsrUENY82",
        "colab_type": "code",
        "outputId": "3f81e7c2-e250-43c3-ba3a-04283908d3a2",
        "colab": {
          "base_uri": "https://localhost:8080/",
          "height": 85
        }
      },
      "source": [
        "# Gọi dòng có số thứ tự 2 bằng .iloc\n",
        "df.iloc[2]"
      ],
      "execution_count": 0,
      "outputs": [
        {
          "output_type": "execute_result",
          "data": {
            "text/plain": [
              "col1    2019-11-22 00:00:00\n",
              "col2                 Cherry\n",
              "col3                     57\n",
              "Name: c, dtype: object"
            ]
          },
          "metadata": {
            "tags": []
          },
          "execution_count": 65
        }
      ]
    },
    {
      "cell_type": "markdown",
      "metadata": {
        "id": "-Vag8naVOI2V",
        "colab_type": "text"
      },
      "source": [
        "**Bài tập** : Lấy hai dòng có label là `'a'` và `'c'` từ `df`."
      ]
    },
    {
      "cell_type": "markdown",
      "metadata": {
        "id": "UZ0xdviaOmcf",
        "colab_type": "text"
      },
      "source": [
        "## Trích xuất theo cả dòng và cột"
      ]
    },
    {
      "cell_type": "markdown",
      "metadata": {
        "id": "gVrTjX3YOrpv",
        "colab_type": "text"
      },
      "source": [
        "Ngoài việc giúp bạn có thể lấy dòng theo label, `.loc` còn thể giúp bạn lấy thêm những cột mong muốn (bằng label) theo cú pháp sau\n",
        "```\n",
        "<tên_DataFrame>.loc[<dòng_cần_lấy>, <cột_cần_lấy>]\n",
        "```\n",
        "Tương tự, `.iloc` sẽ giúp bạn lấy dòng và cột theo số thứ tự"
      ]
    },
    {
      "cell_type": "code",
      "metadata": {
        "id": "VvwyZknnNvPt",
        "colab_type": "code",
        "outputId": "7db26d18-3ed6-4b4b-98c8-0294823da08e",
        "colab": {
          "base_uri": "https://localhost:8080/",
          "height": 111
        }
      },
      "source": [
        "# Lấy dòng có label 'a' và 'c', cột có label là 'col2' và 'col3'\n",
        "df.loc[['a', 'c'], ['col2', 'col3']]"
      ],
      "execution_count": 0,
      "outputs": [
        {
          "output_type": "execute_result",
          "data": {
            "text/html": [
              "<div>\n",
              "<style scoped>\n",
              "    .dataframe tbody tr th:only-of-type {\n",
              "        vertical-align: middle;\n",
              "    }\n",
              "\n",
              "    .dataframe tbody tr th {\n",
              "        vertical-align: top;\n",
              "    }\n",
              "\n",
              "    .dataframe thead th {\n",
              "        text-align: right;\n",
              "    }\n",
              "</style>\n",
              "<table border=\"1\" class=\"dataframe\">\n",
              "  <thead>\n",
              "    <tr style=\"text-align: right;\">\n",
              "      <th></th>\n",
              "      <th>col2</th>\n",
              "      <th>col3</th>\n",
              "    </tr>\n",
              "  </thead>\n",
              "  <tbody>\n",
              "    <tr>\n",
              "      <th>a</th>\n",
              "      <td>Banana</td>\n",
              "      <td>12</td>\n",
              "    </tr>\n",
              "    <tr>\n",
              "      <th>c</th>\n",
              "      <td>Cherry</td>\n",
              "      <td>57</td>\n",
              "    </tr>\n",
              "  </tbody>\n",
              "</table>\n",
              "</div>"
            ],
            "text/plain": [
              "     col2  col3\n",
              "a  Banana    12\n",
              "c  Cherry    57"
            ]
          },
          "metadata": {
            "tags": []
          },
          "execution_count": 66
        }
      ]
    },
    {
      "cell_type": "markdown",
      "metadata": {
        "id": "1QDTpwWgQPQP",
        "colab_type": "text"
      },
      "source": [
        "## Trích xuất theo điều kiện (Lọc)"
      ]
    },
    {
      "cell_type": "markdown",
      "metadata": {
        "id": "hPqAqyaXRAyq",
        "colab_type": "text"
      },
      "source": [
        "Ngoài ra, `DataFrame` còn cho phép bạn lấy dữ liệu theo một điều kiện nào đó theo cú pháp\n",
        "```\n",
        "<tên_DataFrame>[điều_kiện]\n",
        "```\n",
        "`điều_kiện` ở đây có thể là điều kiện đơn hoặc điều kiện ghép (tức là được ghép từ các điều kiện đơn)"
      ]
    },
    {
      "cell_type": "markdown",
      "metadata": {
        "id": "yQAUm6nHR9B-",
        "colab_type": "text"
      },
      "source": [
        "Ví dụ lọc theo điều kiện đơn"
      ]
    },
    {
      "cell_type": "code",
      "metadata": {
        "id": "Kt6GTEBTQbSf",
        "colab_type": "code",
        "outputId": "84e2c392-12ed-41d3-98ab-3563fd197846",
        "colab": {
          "base_uri": "https://localhost:8080/",
          "height": 142
        }
      },
      "source": [
        "# Lọc từ df những dòng có cột 'col2' là 'Apple'\n",
        "df[df.col2 == 'Apple']"
      ],
      "execution_count": 0,
      "outputs": [
        {
          "output_type": "execute_result",
          "data": {
            "text/html": [
              "<div>\n",
              "<style scoped>\n",
              "    .dataframe tbody tr th:only-of-type {\n",
              "        vertical-align: middle;\n",
              "    }\n",
              "\n",
              "    .dataframe tbody tr th {\n",
              "        vertical-align: top;\n",
              "    }\n",
              "\n",
              "    .dataframe thead th {\n",
              "        text-align: right;\n",
              "    }\n",
              "</style>\n",
              "<table border=\"1\" class=\"dataframe\">\n",
              "  <thead>\n",
              "    <tr style=\"text-align: right;\">\n",
              "      <th></th>\n",
              "      <th>col1</th>\n",
              "      <th>col2</th>\n",
              "      <th>col3</th>\n",
              "    </tr>\n",
              "  </thead>\n",
              "  <tbody>\n",
              "    <tr>\n",
              "      <th>b</th>\n",
              "      <td>2019-11-21</td>\n",
              "      <td>Apple</td>\n",
              "      <td>33</td>\n",
              "    </tr>\n",
              "    <tr>\n",
              "      <th>f</th>\n",
              "      <td>2019-11-25</td>\n",
              "      <td>Apple</td>\n",
              "      <td>84</td>\n",
              "    </tr>\n",
              "    <tr>\n",
              "      <th>i</th>\n",
              "      <td>2019-11-28</td>\n",
              "      <td>Apple</td>\n",
              "      <td>55</td>\n",
              "    </tr>\n",
              "  </tbody>\n",
              "</table>\n",
              "</div>"
            ],
            "text/plain": [
              "        col1   col2  col3\n",
              "b 2019-11-21  Apple    33\n",
              "f 2019-11-25  Apple    84\n",
              "i 2019-11-28  Apple    55"
            ]
          },
          "metadata": {
            "tags": []
          },
          "execution_count": 67
        }
      ]
    },
    {
      "cell_type": "markdown",
      "metadata": {
        "id": "5BuLxe8jTJAR",
        "colab_type": "text"
      },
      "source": [
        "Để ghép nhiều điều kiện lại với nhau bạn có thể dùng toán tử `&` cho phép toán `and` và `|` cho phép toán hoặc.\n",
        "\n",
        "Một điểm cần lưu ý khi ghép, các điều kiện đơn phải nằm trong dấu `()`. Ví dụ :\n",
        "```\n",
        "(điều_kiện_1) & (điều_kiện_2) | (điều_kiện_3)\n",
        "```\n"
      ]
    },
    {
      "cell_type": "markdown",
      "metadata": {
        "id": "E5FGBQ7yUBEx",
        "colab_type": "text"
      },
      "source": [
        "**Bài tập** : Lấy những dòng có `'col2'` là `'Banana'` và `'col3'` > 50"
      ]
    },
    {
      "cell_type": "code",
      "metadata": {
        "id": "35262PJjSU9_",
        "colab_type": "code",
        "colab": {}
      },
      "source": [
        ""
      ],
      "execution_count": 0,
      "outputs": []
    }
  ]
}