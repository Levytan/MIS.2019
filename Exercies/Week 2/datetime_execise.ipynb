{
  "nbformat": 4,
  "nbformat_minor": 0,
  "metadata": {
    "colab": {
      "name": "datetime_execise",
      "provenance": []
    },
    "kernelspec": {
      "name": "python3",
      "display_name": "Python 3"
    }
  },
  "cells": [
    {
      "cell_type": "code",
      "metadata": {
        "id": "9eRavlFBaExy",
        "colab_type": "code",
        "colab": {}
      },
      "source": [
        "# import tại đây"
      ],
      "execution_count": 0,
      "outputs": []
    },
    {
      "cell_type": "markdown",
      "metadata": {
        "id": "_gZ76s2SbZ7f",
        "colab_type": "text"
      },
      "source": [
        "**Câu 1** : Lấy thời gian hiện tại và lưu vào biến `now`."
      ]
    },
    {
      "cell_type": "code",
      "metadata": {
        "id": "uzgEPpsNSrzS",
        "colab_type": "code",
        "colab": {}
      },
      "source": [
        ""
      ],
      "execution_count": 0,
      "outputs": []
    },
    {
      "cell_type": "markdown",
      "metadata": {
        "id": "YI2cSrIUewzx",
        "colab_type": "text"
      },
      "source": [
        "**Câu 2** : In ra chuỗi ngày tháng từ `now` có cấu trúc giống với các chuỗi ngày tháng sau :\n",
        "- `Monday 17/06/19, 05:12 PM`.\n",
        "- `Mon Apr 15, 2019 5:12 PM`.\n",
        "- `15/04/2019 18:06:15`.\n",
        "- `Ngày 21 tháng 11 năm 2019`."
      ]
    },
    {
      "cell_type": "code",
      "metadata": {
        "id": "Fc7C4tRXhysa",
        "colab_type": "code",
        "colab": {}
      },
      "source": [
        ""
      ],
      "execution_count": 0,
      "outputs": []
    },
    {
      "cell_type": "markdown",
      "metadata": {
        "id": "cH2E7gxUiCDb",
        "colab_type": "text"
      },
      "source": [
        "**Câu 3** : Dùng `pandas.date_range()` để tạo ra `DatetimeIndex` theo các yêu cầu sau :\n",
        "- Bắt đầu từ `2019/11/21`, kết thúc tại `2019/11/22`, bao gồm 12 phần tử.\n",
        "- Bắt đầu từ `2019/11/21`, kết thúc tại `2019/11/22`, mỗi phần tử cách nhau 3 tiếng.\n",
        "- Các ngày thứ tư của quý 3 năm 2019. (*Gợi ý* : dùng `freq = 'W-WED'`)"
      ]
    },
    {
      "cell_type": "code",
      "metadata": {
        "id": "Y4EzT2WVkp8B",
        "colab_type": "code",
        "colab": {}
      },
      "source": [
        ""
      ],
      "execution_count": 0,
      "outputs": []
    }
  ]
}